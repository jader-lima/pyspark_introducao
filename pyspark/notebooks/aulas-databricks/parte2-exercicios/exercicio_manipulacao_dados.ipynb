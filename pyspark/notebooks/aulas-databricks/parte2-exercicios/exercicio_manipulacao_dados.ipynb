{
 "cells": [
  {
   "cell_type": "code",
   "execution_count": 0,
   "metadata": {
    "application/vnd.databricks.v1+cell": {
     "cellMetadata": {
      "byteLimit": 2048000,
      "rowLimit": 10000
     },
     "inputWidgets": {},
     "nuid": "3b636833-cf7b-4db1-8f46-06d5bb56e6b8",
     "showTitle": false,
     "title": ""
    }
   },
   "outputs": [],
   "source": [
    "\n",
    "import pyspark\n",
    "from pyspark.sql import SparkSession, Row\n",
    "from pyspark.sql.types import StructType,StructField, StringType\n",
    "import pyspark.sql.functions as f\n"
   ]
  },
  {
   "cell_type": "code",
   "execution_count": 0,
   "metadata": {
    "application/vnd.databricks.v1+cell": {
     "cellMetadata": {},
     "inputWidgets": {},
     "nuid": "25a2179a-ede1-463b-ac80-a3cec7876f4f",
     "showTitle": false,
     "title": ""
    }
   },
   "outputs": [],
   "source": [
    "spark = SparkSession.builder.appName('spark_copy_data').getOrCreate()"
   ]
  },
  {
   "cell_type": "markdown",
   "metadata": {
    "application/vnd.databricks.v1+cell": {
     "cellMetadata": {},
     "inputWidgets": {},
     "nuid": "c726fa85-6ff8-43e7-9b81-2e0ecf74cf4e",
     "showTitle": false,
     "title": ""
    }
   },
   "source": [
    "<h3>Organização dos dados</h3> <br>\n",
    "Em '/FileStore/transient' organizamos os dados de entrada do datalake, para melhor organização é comum organizamos um diretório principal e <br> \n",
    "dentro dele os demais diretórios de assuntos relacionados <br>\n",
    "Abaixo temos um exemplo de como organizamos os dados de uma empresa, onde o diretório principal é o departments e dentro temos sua composição   : <br>\n",
    "<h5>departments </h5>\n",
    "\n",
    "* countries\n",
    "* dependents\n",
    "* departments\n",
    "* employees\n",
    "* jobs\n",
    "* locations\n",
    "* regions\n"
   ]
  },
  {
   "cell_type": "code",
   "execution_count": 0,
   "metadata": {
    "application/vnd.databricks.v1+cell": {
     "cellMetadata": {
      "byteLimit": 2048000,
      "rowLimit": 10000
     },
     "inputWidgets": {},
     "nuid": "cc0347f1-da3b-4e46-b6bc-5873166f4dcb",
     "showTitle": false,
     "title": ""
    }
   },
   "outputs": [
    {
     "output_type": "stream",
     "name": "stdout",
     "output_type": "stream",
     "text": [
      "Out[7]: [FileInfo(path='dbfs:/FileStore/transient/departments/countries/', name='countries/', size=0, modificationTime=0),\n FileInfo(path='dbfs:/FileStore/transient/departments/departments/', name='departments/', size=0, modificationTime=0),\n FileInfo(path='dbfs:/FileStore/transient/departments/dependents/', name='dependents/', size=0, modificationTime=0),\n FileInfo(path='dbfs:/FileStore/transient/departments/employees/', name='employees/', size=0, modificationTime=0),\n FileInfo(path='dbfs:/FileStore/transient/departments/jobs/', name='jobs/', size=0, modificationTime=0),\n FileInfo(path='dbfs:/FileStore/transient/departments/locations/', name='locations/', size=0, modificationTime=0),\n FileInfo(path='dbfs:/FileStore/transient/departments/regions/', name='regions/', size=0, modificationTime=0)]"
     ]
    }
   ],
   "source": [
    "path_countries = '/FileStore/transient/departments/'\n",
    "dbutils.fs.ls('dbfs:' + path_countries)"
   ]
  },
  {
   "cell_type": "markdown",
   "metadata": {
    "application/vnd.databricks.v1+cell": {
     "cellMetadata": {},
     "inputWidgets": {},
     "nuid": "fb07f809-180a-4c15-ad17-74d5443ea4f3",
     "showTitle": false,
     "title": ""
    }
   },
   "source": [
    "<h3>Leitura dos dados </h3> <br>\n",
    "Faça a leitura de todos os arquivos csv de transient/departments em dataframes spark <br> \n",
    "Cada dataframe deve ter um nome que identifique o o tipo de dado , exemplo : um dataframe contendo as ruas de um bairro pode ser chamado de df_street ou df_rua<br>\n",
    "Utize o metodo read da Spark Session - para fazer a leitura dos dataframes com os nomes abaixo   : <br>\n",
    "Será necessário informar as opções <h5>header, sep, quote e inferSchema </h5> para a leitura correta dos dados\n",
    "<h5>departments </h5>\n",
    "\n",
    "* df_countries\n",
    "* df_dependents\n",
    "* df_departments\n",
    "* df_employees\n",
    "* df_jobs\n",
    "* df_locations\n",
    "* df_ regions"
   ]
  },
  {
   "cell_type": "code",
   "execution_count": 0,
   "metadata": {
    "application/vnd.databricks.v1+cell": {
     "cellMetadata": {
      "byteLimit": 2048000,
      "rowLimit": 10000
     },
     "inputWidgets": {},
     "nuid": "5e248c55-eccd-44cc-9467-233c3005f5d7",
     "showTitle": false,
     "title": ""
    }
   },
   "outputs": [],
   "source": [
    "def read_csv_to_dataframe(path : str, header : bool, sep: str, quote: str, inferschema: bool):\n",
    "    return spark.read.format(\"csv\")\\\n",
    "            .option(\"header\", header)\\\n",
    "            .option(\"sep\", sep)\\\n",
    "            .option(\"quote\",quote)\\\n",
    "            .option(\"inferSchema\",inferschema)\\\n",
    "            .load(path)"
   ]
  },
  {
   "cell_type": "code",
   "execution_count": 0,
   "metadata": {
    "application/vnd.databricks.v1+cell": {
     "cellMetadata": {
      "byteLimit": 2048000,
      "rowLimit": 10000
     },
     "inputWidgets": {},
     "nuid": "f44fe218-ddd9-45dd-910b-cb027024a479",
     "showTitle": false,
     "title": ""
    }
   },
   "outputs": [],
   "source": [
    "path_countries = '/FileStore/transient/departments/countries/'\n",
    "\n",
    "df_countries = spark.read.format(\"csv\")\\\n",
    "            .option(\"header\", True)\\\n",
    "            .option(\"sep\", \",\")\\\n",
    "            .option(\"quote\",\"'\")\\\n",
    "            .option(\"inferSchema\",True)\\\n",
    "            .load(path_countries)"
   ]
  },
  {
   "cell_type": "code",
   "execution_count": 0,
   "metadata": {
    "application/vnd.databricks.v1+cell": {
     "cellMetadata": {
      "byteLimit": 2048000,
      "rowLimit": 10000
     },
     "inputWidgets": {},
     "nuid": "5287094a-a598-489b-a160-bddee52c149e",
     "showTitle": false,
     "title": ""
    }
   },
   "outputs": [],
   "source": [
    "path_departments = '/FileStore/transient/departments/departments/'\n",
    "\n",
    "df_departments = spark.read.format(\"csv\")\\\n",
    "            .option(\"header\", True)\\\n",
    "            .option(\"sep\", \",\")\\\n",
    "            .option(\"quote\",\"'\")\\\n",
    "            .option(\"inferSchema\",True)\\\n",
    "            .load(path_departments)"
   ]
  },
  {
   "cell_type": "code",
   "execution_count": 0,
   "metadata": {
    "application/vnd.databricks.v1+cell": {
     "cellMetadata": {},
     "inputWidgets": {},
     "nuid": "7f6c5427-6be2-4648-8ac3-2bc7408df318",
     "showTitle": false,
     "title": ""
    }
   },
   "outputs": [],
   "source": [
    "path_countries = '/FileStore/transient/departments/countries/'\n",
    "\n",
    "df_countries = spark.read.format(\"csv\")\\\n",
    "            .option(\"header\", True)\\\n",
    "            .option(\"sep\", \",\")\\\n",
    "            .option(\"quote\",\"'\")\\\n",
    "            .option(\"inferSchema\",True)\\\n",
    "            .load(path_countries)"
   ]
  },
  {
   "cell_type": "code",
   "execution_count": 0,
   "metadata": {
    "application/vnd.databricks.v1+cell": {
     "cellMetadata": {
      "byteLimit": 2048000,
      "rowLimit": 10000
     },
     "inputWidgets": {},
     "nuid": "c97b8e96-814e-407b-bc46-c954975eea7b",
     "showTitle": false,
     "title": ""
    }
   },
   "outputs": [],
   "source": [
    "path_dependents = '/FileStore/transient/departments/dependents/'\n",
    "\n",
    "df_dependents = spark.read.format(\"csv\")\\\n",
    "            .option(\"header\", True)\\\n",
    "            .option(\"sep\", \",\")\\\n",
    "            .option(\"quote\",\"'\")\\\n",
    "            .option(\"inferSchema\",True)\\\n",
    "            .load(path_dependents)"
   ]
  },
  {
   "cell_type": "code",
   "execution_count": 0,
   "metadata": {
    "application/vnd.databricks.v1+cell": {
     "cellMetadata": {
      "byteLimit": 2048000,
      "rowLimit": 10000
     },
     "inputWidgets": {},
     "nuid": "59d5240f-0740-49ae-8cb8-283824eabfb5",
     "showTitle": false,
     "title": ""
    }
   },
   "outputs": [],
   "source": [
    "path_employees = '/FileStore/transient/departments/employees/'\n",
    "\n",
    "df_employees = spark.read.format(\"csv\")\\\n",
    "            .option(\"header\", True)\\\n",
    "            .option(\"sep\", \",\")\\\n",
    "            .option(\"quote\",\"'\")\\\n",
    "            .option(\"inferSchema\",True)\\\n",
    "            .load(path_employees)"
   ]
  },
  {
   "cell_type": "code",
   "execution_count": 0,
   "metadata": {
    "application/vnd.databricks.v1+cell": {
     "cellMetadata": {
      "byteLimit": 2048000,
      "rowLimit": 10000
     },
     "inputWidgets": {},
     "nuid": "f9abff8d-8a3c-47ae-ba0d-94d59b7c3cef",
     "showTitle": false,
     "title": ""
    }
   },
   "outputs": [],
   "source": [
    "path_jobs = '/FileStore/transient/departments/jobs/'\n",
    "\n",
    "df_jobs = spark.read.format(\"csv\")\\\n",
    "            .option(\"header\", True)\\\n",
    "            .option(\"sep\", \",\")\\\n",
    "            .option(\"quote\",\"'\")\\\n",
    "            .option(\"inferSchema\",True)\\\n",
    "            .load(path_jobs)"
   ]
  },
  {
   "cell_type": "code",
   "execution_count": 0,
   "metadata": {
    "application/vnd.databricks.v1+cell": {
     "cellMetadata": {
      "byteLimit": 2048000,
      "rowLimit": 10000
     },
     "inputWidgets": {},
     "nuid": "552d311b-b18a-42e5-86f8-9a5664f01f37",
     "showTitle": false,
     "title": ""
    }
   },
   "outputs": [],
   "source": [
    "path_locations = '/FileStore/transient/departments/locations/'\n",
    "\n",
    "df_locations = spark.read.format(\"csv\")\\\n",
    "            .option(\"header\", True)\\\n",
    "            .option(\"sep\", \",\")\\\n",
    "            .option(\"quote\",\"'\")\\\n",
    "            .option(\"inferSchema\",True)\\\n",
    "            .load(path_locations)"
   ]
  },
  {
   "cell_type": "code",
   "execution_count": 0,
   "metadata": {
    "application/vnd.databricks.v1+cell": {
     "cellMetadata": {
      "byteLimit": 2048000,
      "rowLimit": 10000
     },
     "inputWidgets": {},
     "nuid": "3e39274c-60e1-4bee-80d3-c9284777301e",
     "showTitle": false,
     "title": ""
    }
   },
   "outputs": [],
   "source": [
    "path_regions = '/FileStore/transient/departments/regions/'\n",
    "\n",
    "df_regions = spark.read.format(\"csv\")\\\n",
    "            .option(\"header\", True)\\\n",
    "            .option(\"sep\", \",\")\\\n",
    "            .option(\"quote\",\"'\")\\\n",
    "            .option(\"inferSchema\",True)\\\n",
    "            .load(path_regions)"
   ]
  },
  {
   "cell_type": "code",
   "execution_count": 0,
   "metadata": {
    "application/vnd.databricks.v1+cell": {
     "cellMetadata": {
      "byteLimit": 2048000,
      "rowLimit": 10000
     },
     "inputWidgets": {},
     "nuid": "01385efd-5242-406b-b4ae-dd929bbf777f",
     "showTitle": false,
     "title": ""
    }
   },
   "outputs": [
    {
     "output_type": "display_data",
     "data": {
      "text/html": [
       "<style scoped>\n",
       "  .table-result-container {\n",
       "    max-height: 300px;\n",
       "    overflow: auto;\n",
       "  }\n",
       "  table, th, td {\n",
       "    border: 1px solid black;\n",
       "    border-collapse: collapse;\n",
       "  }\n",
       "  th, td {\n",
       "    padding: 5px;\n",
       "  }\n",
       "  th {\n",
       "    text-align: left;\n",
       "  }\n",
       "</style><div class='table-result-container'><table class='table-result'><thead style='background-color: white'><tr><th>region_id</th><th>region_name</th></tr></thead><tbody><tr><td>1</td><td>Europe</td></tr><tr><td>2</td><td>Americas</td></tr><tr><td>3</td><td>Asia</td></tr><tr><td>4</td><td>Middle East and Africa</td></tr></tbody></table></div>"
      ]
     },
     "metadata": {
      "application/vnd.databricks.v1+output": {
       "addedWidgets": {},
       "aggData": [],
       "aggError": "",
       "aggOverflow": false,
       "aggSchema": [],
       "aggSeriesLimitReached": false,
       "aggType": "",
       "arguments": {},
       "columnCustomDisplayInfos": {},
       "data": [
        [
         1,
         "Europe"
        ],
        [
         2,
         "Americas"
        ],
        [
         3,
         "Asia"
        ],
        [
         4,
         "Middle East and Africa"
        ]
       ],
       "datasetInfos": [],
       "dbfsResultPath": null,
       "isJsonSchema": true,
       "metadata": {},
       "overflow": false,
       "plotOptions": {
        "customPlotOptions": {},
        "displayType": "table",
        "pivotAggregation": null,
        "pivotColumns": null,
        "xColumns": null,
        "yColumns": null
       },
       "removedWidgets": [],
       "schema": [
        {
         "metadata": "{}",
         "name": "region_id",
         "type": "\"integer\""
        },
        {
         "metadata": "{}",
         "name": "region_name",
         "type": "\"string\""
        }
       ],
       "type": "table"
      }
     },
     "output_type": "display_data"
    }
   ],
   "source": [
    "df_regions.select('*').display()"
   ]
  },
  {
   "cell_type": "code",
   "execution_count": 0,
   "metadata": {
    "application/vnd.databricks.v1+cell": {
     "cellMetadata": {
      "byteLimit": 2048000,
      "rowLimit": 10000
     },
     "inputWidgets": {},
     "nuid": "86e0a661-1216-41a5-9721-46aa30ec4155",
     "showTitle": false,
     "title": ""
    }
   },
   "outputs": [
    {
     "output_type": "display_data",
     "data": {
      "text/html": [
       "<style scoped>\n",
       "  .table-result-container {\n",
       "    max-height: 300px;\n",
       "    overflow: auto;\n",
       "  }\n",
       "  table, th, td {\n",
       "    border: 1px solid black;\n",
       "    border-collapse: collapse;\n",
       "  }\n",
       "  th, td {\n",
       "    padding: 5px;\n",
       "  }\n",
       "  th {\n",
       "    text-align: left;\n",
       "  }\n",
       "</style><div class='table-result-container'><table class='table-result'><thead style='background-color: white'><tr><th>employee_id</th><th>first_name</th><th>last_name</th><th>email</th><th>phone_number</th><th>hire_date</th><th>job_id</th><th>salary</th><th>manager_id</th><th>department_id</th></tr></thead><tbody><tr><td>100</td><td>Steven</td><td>King</td><td>steven.king@sqltutorial.org</td><td>515.123.4567</td><td>1987-06-17</td><td>4</td><td>24000.0</td><td>NULL</td><td>9</td></tr><tr><td>101</td><td>Neena</td><td>Kochhar</td><td>neena.kochhar@sqltutorial.org</td><td>515.123.4568</td><td>1989-09-21</td><td>5</td><td>17000.0</td><td>100</td><td>9</td></tr><tr><td>102</td><td>Lex</td><td>De Haan</td><td>lex.de haan@sqltutorial.org</td><td>515.123.4569</td><td>1993-01-13</td><td>5</td><td>17000.0</td><td>100</td><td>9</td></tr><tr><td>103</td><td>Alexander</td><td>Hunold</td><td>alexander.hunold@sqltutorial.org</td><td>590.423.4567</td><td>1990-01-03</td><td>9</td><td>9000.0</td><td>102</td><td>6</td></tr><tr><td>104</td><td>Bruce</td><td>Ernst</td><td>bruce.ernst@sqltutorial.org</td><td>590.423.4568</td><td>1991-05-21</td><td>9</td><td>6000.0</td><td>103</td><td>6</td></tr><tr><td>105</td><td>David</td><td>Austin</td><td>david.austin@sqltutorial.org</td><td>590.423.4569</td><td>1997-06-25</td><td>9</td><td>4800.0</td><td>103</td><td>6</td></tr><tr><td>106</td><td>Valli</td><td>Pataballa</td><td>valli.pataballa@sqltutorial.org</td><td>590.423.4560</td><td>1998-02-05</td><td>9</td><td>4800.0</td><td>103</td><td>6</td></tr><tr><td>107</td><td>Diana</td><td>Lorentz</td><td>diana.lorentz@sqltutorial.org</td><td>590.423.5567</td><td>1999-02-07</td><td>9</td><td>4200.0</td><td>103</td><td>6</td></tr><tr><td>108</td><td>Nancy</td><td>Greenberg</td><td>nancy.greenberg@sqltutorial.org</td><td>515.124.4569</td><td>1994-08-17</td><td>7</td><td>12000.0</td><td>101</td><td>10</td></tr><tr><td>109</td><td>Daniel</td><td>Faviet</td><td>daniel.faviet@sqltutorial.org</td><td>515.124.4169</td><td>1994-08-16</td><td>6</td><td>9000.0</td><td>108</td><td>10</td></tr><tr><td>110</td><td>John</td><td>Chen</td><td>john.chen@sqltutorial.org</td><td>515.124.4269</td><td>1997-09-28</td><td>6</td><td>8200.0</td><td>108</td><td>10</td></tr><tr><td>111</td><td>Ismael</td><td>Sciarra</td><td>ismael.sciarra@sqltutorial.org</td><td>515.124.4369</td><td>1997-09-30</td><td>6</td><td>7700.0</td><td>108</td><td>10</td></tr><tr><td>112</td><td>Jose Manuel</td><td>Urman</td><td>jose manuel.urman@sqltutorial.org</td><td>515.124.4469</td><td>1998-03-07</td><td>6</td><td>7800.0</td><td>108</td><td>10</td></tr><tr><td>113</td><td>Luis</td><td>Popp</td><td>luis.popp@sqltutorial.org</td><td>515.124.4567</td><td>1999-12-07</td><td>6</td><td>6900.0</td><td>108</td><td>10</td></tr><tr><td>114</td><td>Den</td><td>Raphaely</td><td>den.raphaely@sqltutorial.org</td><td>515.127.4561</td><td>1994-12-07</td><td>14</td><td>11000.0</td><td>100</td><td>3</td></tr><tr><td>115</td><td>Alexander</td><td>Khoo</td><td>alexander.khoo@sqltutorial.org</td><td>515.127.4562</td><td>1995-05-18</td><td>13</td><td>3100.0</td><td>114</td><td>3</td></tr><tr><td>116</td><td>Shelli</td><td>Baida</td><td>shelli.baida@sqltutorial.org</td><td>515.127.4563</td><td>1997-12-24</td><td>13</td><td>2900.0</td><td>114</td><td>3</td></tr><tr><td>117</td><td>Sigal</td><td>Tobias</td><td>sigal.tobias@sqltutorial.org</td><td>515.127.4564</td><td>1997-07-24</td><td>13</td><td>2800.0</td><td>114</td><td>3</td></tr><tr><td>118</td><td>Guy</td><td>Himuro</td><td>guy.himuro@sqltutorial.org</td><td>515.127.4565</td><td>1998-11-15</td><td>13</td><td>2600.0</td><td>114</td><td>3</td></tr><tr><td>119</td><td>Karen</td><td>Colmenares</td><td>karen.colmenares@sqltutorial.org</td><td>515.127.4566</td><td>1999-08-10</td><td>13</td><td>2500.0</td><td>114</td><td>3</td></tr><tr><td>120</td><td>Matthew</td><td>Weiss</td><td>matthew.weiss@sqltutorial.org</td><td>650.123.1234</td><td>1996-07-18</td><td>19</td><td>8000.0</td><td>100</td><td>5</td></tr><tr><td>121</td><td>Adam</td><td>Fripp</td><td>adam.fripp@sqltutorial.org</td><td>650.123.2234</td><td>1997-04-10</td><td>19</td><td>8200.0</td><td>100</td><td>5</td></tr><tr><td>122</td><td>Payam</td><td>Kaufling</td><td>payam.kaufling@sqltutorial.org</td><td>650.123.3234</td><td>1995-05-01</td><td>19</td><td>7900.0</td><td>100</td><td>5</td></tr><tr><td>123</td><td>Shanta</td><td>Vollman</td><td>shanta.vollman@sqltutorial.org</td><td>650.123.4234</td><td>1997-10-10</td><td>19</td><td>6500.0</td><td>100</td><td>5</td></tr><tr><td>126</td><td>Irene</td><td>Mikkilineni</td><td>irene.mikkilineni@sqltutorial.org</td><td>650.124.1224</td><td>1998-09-28</td><td>18</td><td>2700.0</td><td>120</td><td>5</td></tr><tr><td>145</td><td>John</td><td>Russell</td><td>john.russell@sqltutorial.org</td><td>NULL</td><td>1996-10-01</td><td>15</td><td>14000.0</td><td>100</td><td>8</td></tr><tr><td>146</td><td>Karen</td><td>Partners</td><td>karen.partners@sqltutorial.org</td><td>NULL</td><td>1997-01-05</td><td>15</td><td>13500.0</td><td>100</td><td>8</td></tr><tr><td>176</td><td>Jonathon</td><td>Taylor</td><td>jonathon.taylor@sqltutorial.org</td><td>NULL</td><td>1998-03-24</td><td>16</td><td>8600.0</td><td>100</td><td>8</td></tr><tr><td>177</td><td>Jack</td><td>Livingston</td><td>jack.livingston@sqltutorial.org</td><td>NULL</td><td>1998-04-23</td><td>16</td><td>8400.0</td><td>100</td><td>8</td></tr><tr><td>178</td><td>Kimberely</td><td>Grant</td><td>kimberely.grant@sqltutorial.org</td><td>NULL</td><td>1999-05-24</td><td>16</td><td>7000.0</td><td>100</td><td>8</td></tr><tr><td>179</td><td>Charles</td><td>Johnson</td><td>charles.johnson@sqltutorial.org</td><td>NULL</td><td>2000-01-04</td><td>16</td><td>6200.0</td><td>100</td><td>8</td></tr><tr><td>192</td><td>Sarah</td><td>Bell</td><td>sarah.bell@sqltutorial.org</td><td>650.501.1876</td><td>1996-02-04</td><td>17</td><td>4000.0</td><td>123</td><td>5</td></tr><tr><td>193</td><td>Britney</td><td>Everett</td><td>britney.everett@sqltutorial.org</td><td>650.501.2876</td><td>1997-03-03</td><td>17</td><td>3900.0</td><td>123</td><td>5</td></tr><tr><td>200</td><td>Jennifer</td><td>Whalen</td><td>jennifer.whalen@sqltutorial.org</td><td>515.123.4444</td><td>1987-09-17</td><td>3</td><td>4400.0</td><td>101</td><td>1</td></tr><tr><td>201</td><td>Michael</td><td>Hartstein</td><td>michael.hartstein@sqltutorial.org</td><td>515.123.5555</td><td>1996-02-17</td><td>10</td><td>13000.0</td><td>100</td><td>2</td></tr><tr><td>202</td><td>Pat</td><td>Fay</td><td>pat.fay@sqltutorial.org</td><td>603.123.6666</td><td>1997-08-17</td><td>11</td><td>6000.0</td><td>201</td><td>2</td></tr><tr><td>203</td><td>Susan</td><td>Mavris</td><td>susan.mavris@sqltutorial.org</td><td>515.123.7777</td><td>1994-06-07</td><td>8</td><td>6500.0</td><td>101</td><td>4</td></tr><tr><td>204</td><td>Hermann</td><td>Baer</td><td>hermann.baer@sqltutorial.org</td><td>515.123.8888</td><td>1994-06-07</td><td>12</td><td>10000.0</td><td>101</td><td>7</td></tr><tr><td>205</td><td>Shelley</td><td>Higgins</td><td>shelley.higgins@sqltutorial.org</td><td>515.123.8080</td><td>1994-06-07</td><td>2</td><td>12000.0</td><td>101</td><td>11</td></tr><tr><td>206</td><td>William</td><td>Gietz</td><td>william.gietz@sqltutorial.org</td><td>515.123.8181</td><td>1994-06-07</td><td>1</td><td>8300.0</td><td>205</td><td>11</td></tr></tbody></table></div>"
      ]
     },
     "metadata": {
      "application/vnd.databricks.v1+output": {
       "addedWidgets": {},
       "aggData": [],
       "aggError": "",
       "aggOverflow": false,
       "aggSchema": [],
       "aggSeriesLimitReached": false,
       "aggType": "",
       "arguments": {},
       "columnCustomDisplayInfos": {},
       "data": [
        [
         100,
         "Steven",
         "King",
         "steven.king@sqltutorial.org",
         "515.123.4567",
         "1987-06-17",
         4,
         24000.0,
         "NULL",
         9
        ],
        [
         101,
         "Neena",
         "Kochhar",
         "neena.kochhar@sqltutorial.org",
         "515.123.4568",
         "1989-09-21",
         5,
         17000.0,
         "100",
         9
        ],
        [
         102,
         "Lex",
         "De Haan",
         "lex.de haan@sqltutorial.org",
         "515.123.4569",
         "1993-01-13",
         5,
         17000.0,
         "100",
         9
        ],
        [
         103,
         "Alexander",
         "Hunold",
         "alexander.hunold@sqltutorial.org",
         "590.423.4567",
         "1990-01-03",
         9,
         9000.0,
         "102",
         6
        ],
        [
         104,
         "Bruce",
         "Ernst",
         "bruce.ernst@sqltutorial.org",
         "590.423.4568",
         "1991-05-21",
         9,
         6000.0,
         "103",
         6
        ],
        [
         105,
         "David",
         "Austin",
         "david.austin@sqltutorial.org",
         "590.423.4569",
         "1997-06-25",
         9,
         4800.0,
         "103",
         6
        ],
        [
         106,
         "Valli",
         "Pataballa",
         "valli.pataballa@sqltutorial.org",
         "590.423.4560",
         "1998-02-05",
         9,
         4800.0,
         "103",
         6
        ],
        [
         107,
         "Diana",
         "Lorentz",
         "diana.lorentz@sqltutorial.org",
         "590.423.5567",
         "1999-02-07",
         9,
         4200.0,
         "103",
         6
        ],
        [
         108,
         "Nancy",
         "Greenberg",
         "nancy.greenberg@sqltutorial.org",
         "515.124.4569",
         "1994-08-17",
         7,
         12000.0,
         "101",
         10
        ],
        [
         109,
         "Daniel",
         "Faviet",
         "daniel.faviet@sqltutorial.org",
         "515.124.4169",
         "1994-08-16",
         6,
         9000.0,
         "108",
         10
        ],
        [
         110,
         "John",
         "Chen",
         "john.chen@sqltutorial.org",
         "515.124.4269",
         "1997-09-28",
         6,
         8200.0,
         "108",
         10
        ],
        [
         111,
         "Ismael",
         "Sciarra",
         "ismael.sciarra@sqltutorial.org",
         "515.124.4369",
         "1997-09-30",
         6,
         7700.0,
         "108",
         10
        ],
        [
         112,
         "Jose Manuel",
         "Urman",
         "jose manuel.urman@sqltutorial.org",
         "515.124.4469",
         "1998-03-07",
         6,
         7800.0,
         "108",
         10
        ],
        [
         113,
         "Luis",
         "Popp",
         "luis.popp@sqltutorial.org",
         "515.124.4567",
         "1999-12-07",
         6,
         6900.0,
         "108",
         10
        ],
        [
         114,
         "Den",
         "Raphaely",
         "den.raphaely@sqltutorial.org",
         "515.127.4561",
         "1994-12-07",
         14,
         11000.0,
         "100",
         3
        ],
        [
         115,
         "Alexander",
         "Khoo",
         "alexander.khoo@sqltutorial.org",
         "515.127.4562",
         "1995-05-18",
         13,
         3100.0,
         "114",
         3
        ],
        [
         116,
         "Shelli",
         "Baida",
         "shelli.baida@sqltutorial.org",
         "515.127.4563",
         "1997-12-24",
         13,
         2900.0,
         "114",
         3
        ],
        [
         117,
         "Sigal",
         "Tobias",
         "sigal.tobias@sqltutorial.org",
         "515.127.4564",
         "1997-07-24",
         13,
         2800.0,
         "114",
         3
        ],
        [
         118,
         "Guy",
         "Himuro",
         "guy.himuro@sqltutorial.org",
         "515.127.4565",
         "1998-11-15",
         13,
         2600.0,
         "114",
         3
        ],
        [
         119,
         "Karen",
         "Colmenares",
         "karen.colmenares@sqltutorial.org",
         "515.127.4566",
         "1999-08-10",
         13,
         2500.0,
         "114",
         3
        ],
        [
         120,
         "Matthew",
         "Weiss",
         "matthew.weiss@sqltutorial.org",
         "650.123.1234",
         "1996-07-18",
         19,
         8000.0,
         "100",
         5
        ],
        [
         121,
         "Adam",
         "Fripp",
         "adam.fripp@sqltutorial.org",
         "650.123.2234",
         "1997-04-10",
         19,
         8200.0,
         "100",
         5
        ],
        [
         122,
         "Payam",
         "Kaufling",
         "payam.kaufling@sqltutorial.org",
         "650.123.3234",
         "1995-05-01",
         19,
         7900.0,
         "100",
         5
        ],
        [
         123,
         "Shanta",
         "Vollman",
         "shanta.vollman@sqltutorial.org",
         "650.123.4234",
         "1997-10-10",
         19,
         6500.0,
         "100",
         5
        ],
        [
         126,
         "Irene",
         "Mikkilineni",
         "irene.mikkilineni@sqltutorial.org",
         "650.124.1224",
         "1998-09-28",
         18,
         2700.0,
         "120",
         5
        ],
        [
         145,
         "John",
         "Russell",
         "john.russell@sqltutorial.org",
         "NULL",
         "1996-10-01",
         15,
         14000.0,
         "100",
         8
        ],
        [
         146,
         "Karen",
         "Partners",
         "karen.partners@sqltutorial.org",
         "NULL",
         "1997-01-05",
         15,
         13500.0,
         "100",
         8
        ],
        [
         176,
         "Jonathon",
         "Taylor",
         "jonathon.taylor@sqltutorial.org",
         "NULL",
         "1998-03-24",
         16,
         8600.0,
         "100",
         8
        ],
        [
         177,
         "Jack",
         "Livingston",
         "jack.livingston@sqltutorial.org",
         "NULL",
         "1998-04-23",
         16,
         8400.0,
         "100",
         8
        ],
        [
         178,
         "Kimberely",
         "Grant",
         "kimberely.grant@sqltutorial.org",
         "NULL",
         "1999-05-24",
         16,
         7000.0,
         "100",
         8
        ],
        [
         179,
         "Charles",
         "Johnson",
         "charles.johnson@sqltutorial.org",
         "NULL",
         "2000-01-04",
         16,
         6200.0,
         "100",
         8
        ],
        [
         192,
         "Sarah",
         "Bell",
         "sarah.bell@sqltutorial.org",
         "650.501.1876",
         "1996-02-04",
         17,
         4000.0,
         "123",
         5
        ],
        [
         193,
         "Britney",
         "Everett",
         "britney.everett@sqltutorial.org",
         "650.501.2876",
         "1997-03-03",
         17,
         3900.0,
         "123",
         5
        ],
        [
         200,
         "Jennifer",
         "Whalen",
         "jennifer.whalen@sqltutorial.org",
         "515.123.4444",
         "1987-09-17",
         3,
         4400.0,
         "101",
         1
        ],
        [
         201,
         "Michael",
         "Hartstein",
         "michael.hartstein@sqltutorial.org",
         "515.123.5555",
         "1996-02-17",
         10,
         13000.0,
         "100",
         2
        ],
        [
         202,
         "Pat",
         "Fay",
         "pat.fay@sqltutorial.org",
         "603.123.6666",
         "1997-08-17",
         11,
         6000.0,
         "201",
         2
        ],
        [
         203,
         "Susan",
         "Mavris",
         "susan.mavris@sqltutorial.org",
         "515.123.7777",
         "1994-06-07",
         8,
         6500.0,
         "101",
         4
        ],
        [
         204,
         "Hermann",
         "Baer",
         "hermann.baer@sqltutorial.org",
         "515.123.8888",
         "1994-06-07",
         12,
         10000.0,
         "101",
         7
        ],
        [
         205,
         "Shelley",
         "Higgins",
         "shelley.higgins@sqltutorial.org",
         "515.123.8080",
         "1994-06-07",
         2,
         12000.0,
         "101",
         11
        ],
        [
         206,
         "William",
         "Gietz",
         "william.gietz@sqltutorial.org",
         "515.123.8181",
         "1994-06-07",
         1,
         8300.0,
         "205",
         11
        ]
       ],
       "datasetInfos": [],
       "dbfsResultPath": null,
       "isJsonSchema": true,
       "metadata": {},
       "overflow": false,
       "plotOptions": {
        "customPlotOptions": {},
        "displayType": "table",
        "pivotAggregation": null,
        "pivotColumns": null,
        "xColumns": null,
        "yColumns": null
       },
       "removedWidgets": [],
       "schema": [
        {
         "metadata": "{}",
         "name": "employee_id",
         "type": "\"integer\""
        },
        {
         "metadata": "{}",
         "name": "first_name",
         "type": "\"string\""
        },
        {
         "metadata": "{}",
         "name": "last_name",
         "type": "\"string\""
        },
        {
         "metadata": "{}",
         "name": "email",
         "type": "\"string\""
        },
        {
         "metadata": "{}",
         "name": "phone_number",
         "type": "\"string\""
        },
        {
         "metadata": "{\"__detected_date_formats\":\"yyyy-M-d\"}",
         "name": "hire_date",
         "type": "\"date\""
        },
        {
         "metadata": "{}",
         "name": "job_id",
         "type": "\"integer\""
        },
        {
         "metadata": "{}",
         "name": "salary",
         "type": "\"double\""
        },
        {
         "metadata": "{}",
         "name": "manager_id",
         "type": "\"string\""
        },
        {
         "metadata": "{}",
         "name": "department_id",
         "type": "\"integer\""
        }
       ],
       "type": "table"
      }
     },
     "output_type": "display_data"
    }
   ],
   "source": [
    "df_employees.display()"
   ]
  },
  {
   "cell_type": "markdown",
   "metadata": {
    "application/vnd.databricks.v1+cell": {
     "cellMetadata": {},
     "inputWidgets": {},
     "nuid": "f4a70766-6343-42b0-beb0-924e7f224eb7",
     "showTitle": false,
     "title": ""
    }
   },
   "source": [
    "<h3>Renomeando as colunas</h3> <br>\n",
    "Crie um novo dataframe chamado df_empregados, utilizando como base o df_employees <br> \n",
    "Para renomear cada coluna, utilize o método pyspark withColumnRenamed ('nome_antigo', 'nome_novo')<br>\n",
    "Os métodos do spark dataframe **columns** e **printSchema** são uteis para listar o nome das colunas . \n",
    "<h5>df_empregados </h5>\n",
    "\n",
    "* id_empregado\n",
    "* primeiro_nome\n",
    "* ultimo_nome\"\n",
    "* email\n",
    "* numero_telefone\n",
    "* data_contratacao\n",
    "* id_ocupacao\n",
    "* salario\n",
    "* id_gerente\n",
    "* id_departamento"
   ]
  },
  {
   "cell_type": "markdown",
   "metadata": {
    "application/vnd.databricks.v1+cell": {
     "cellMetadata": {},
     "inputWidgets": {},
     "nuid": "570a8c2b-eb69-4ec3-9b90-40b70a3c69be",
     "showTitle": false,
     "title": ""
    }
   },
   "source": [
    "<h3>Criando novas colunas</h3> <br>\n",
    "Utilizando o df_empregados, crie novas colunas seguindo as regras para cada nova coluna . \n",
    "Para criar uma coluna, utilize o método pyspark withColumn ('nome_coluna', valor nova coluna)<br>\n",
    "O valor da nova coluna pode ser um valor estático utilizando a função lit('valor') ou derivado de outra coluna existente . \n",
    "<h5>df_empregados </h5>\n",
    "\n",
    "* coluna nome - primeiro_nome e ultimo nome juntos\n",
    "* coluna ano_contratacao - ano da contratação , da coluna data_contratacao\n",
    "* coluna mes_contratacao - mês da contratação , da coluna data_contratacao\n",
    "* coluna dia_contratacao - dia da contratação , da coluna data_contratacao\n",
    "* coluna desconto_inss - 11% da coluna salário \n",
    "\n",
    "<h5>alíquotas do INSS</h5> <br>\n",
    "salário  de até 1412,00 até 7,5 % <br>\n",
    "salário de 1412,01 até 2666,68 9 % <br> \n",
    "salário de 2666,69 até 4000,03 12 % <br>\n",
    "salário acima de  4000,04  14 % <br>\n"
   ]
  },
  {
   "cell_type": "markdown",
   "metadata": {
    "application/vnd.databricks.v1+cell": {
     "cellMetadata": {},
     "inputWidgets": {},
     "nuid": "6b3feb42-3559-4794-b740-9f803f9416fc",
     "showTitle": false,
     "title": ""
    }
   },
   "source": [
    "#### filtro </br>\n",
    "Filtro as linhas onde o ano_contratacao seja igual a 1991"
   ]
  },
  {
   "cell_type": "code",
   "execution_count": 0,
   "metadata": {
    "application/vnd.databricks.v1+cell": {
     "cellMetadata": {},
     "inputWidgets": {},
     "nuid": "063222ae-f02f-4715-81ca-86e46b9af2f6",
     "showTitle": false,
     "title": ""
    }
   },
   "outputs": [],
   "source": []
  },
  {
   "cell_type": "markdown",
   "metadata": {
    "application/vnd.databricks.v1+cell": {
     "cellMetadata": {},
     "inputWidgets": {},
     "nuid": "cf841759-75c4-403e-b5db-1cba068e0cf6",
     "showTitle": false,
     "title": ""
    }
   },
   "source": [
    "#### filtro </br>\n",
    "Filtro as linhas onde o ano_contratacao seja igual a 1993 e o id_ocupação seja 6"
   ]
  },
  {
   "cell_type": "code",
   "execution_count": 0,
   "metadata": {
    "application/vnd.databricks.v1+cell": {
     "cellMetadata": {
      "byteLimit": 2048000,
      "rowLimit": 10000
     },
     "inputWidgets": {},
     "nuid": "d4bb9255-704f-4ae6-9ceb-b1d8e16dcee6",
     "showTitle": false,
     "title": ""
    }
   },
   "outputs": [
    {
     "output_type": "display_data",
     "data": {
      "text/html": [
       "<style scoped>\n",
       "  .table-result-container {\n",
       "    max-height: 300px;\n",
       "    overflow: auto;\n",
       "  }\n",
       "  table, th, td {\n",
       "    border: 1px solid black;\n",
       "    border-collapse: collapse;\n",
       "  }\n",
       "  th, td {\n",
       "    padding: 5px;\n",
       "  }\n",
       "  th {\n",
       "    text-align: left;\n",
       "  }\n",
       "</style><div class='table-result-container'><table class='table-result'><thead style='background-color: white'><tr><th>id_empregado</th><th>primeiro_nome</th><th>ultimo_nome</th><th>email</th><th>numero_telefone</th><th>data_contratacao</th><th>id_ocupacao</th><th>salario</th><th>id_gerente</th><th>id_departamento</th><th>nome</th><th>ano_contratacao</th><th>mes_contratacao</th><th>dia_contratacao</th><th>desconto_inss</th></tr></thead><tbody><tr><td>109</td><td>Daniel</td><td>Faviet</td><td>daniel.faviet@sqltutorial.org</td><td>515.124.4169</td><td>1994-08-16</td><td>6</td><td>9000.0</td><td>108</td><td>10</td><td>Daniel Faviet</td><td>1994</td><td>08</td><td>16</td><td>1260.0000000000002</td></tr><tr><td>110</td><td>John</td><td>Chen</td><td>john.chen@sqltutorial.org</td><td>515.124.4269</td><td>1997-09-28</td><td>6</td><td>8200.0</td><td>108</td><td>10</td><td>John Chen</td><td>1997</td><td>09</td><td>28</td><td>1148.0</td></tr><tr><td>111</td><td>Ismael</td><td>Sciarra</td><td>ismael.sciarra@sqltutorial.org</td><td>515.124.4369</td><td>1997-09-30</td><td>6</td><td>7700.0</td><td>108</td><td>10</td><td>Ismael Sciarra</td><td>1997</td><td>09</td><td>30</td><td>1078.0</td></tr><tr><td>112</td><td>Jose Manuel</td><td>Urman</td><td>jose manuel.urman@sqltutorial.org</td><td>515.124.4469</td><td>1998-03-07</td><td>6</td><td>7800.0</td><td>108</td><td>10</td><td>Jose Manuel Urman</td><td>1998</td><td>03</td><td>07</td><td>1092.0</td></tr><tr><td>113</td><td>Luis</td><td>Popp</td><td>luis.popp@sqltutorial.org</td><td>515.124.4567</td><td>1999-12-07</td><td>6</td><td>6900.0</td><td>108</td><td>10</td><td>Luis Popp</td><td>1999</td><td>12</td><td>07</td><td>966.0000000000001</td></tr></tbody></table></div>"
      ]
     },
     "metadata": {
      "application/vnd.databricks.v1+output": {
       "addedWidgets": {},
       "aggData": [],
       "aggError": "",
       "aggOverflow": false,
       "aggSchema": [],
       "aggSeriesLimitReached": false,
       "aggType": "",
       "arguments": {},
       "columnCustomDisplayInfos": {},
       "data": [
        [
         109,
         "Daniel",
         "Faviet",
         "daniel.faviet@sqltutorial.org",
         "515.124.4169",
         "1994-08-16",
         6,
         9000.0,
         "108",
         10,
         "Daniel Faviet",
         "1994",
         "08",
         "16",
         1260.0000000000002
        ],
        [
         110,
         "John",
         "Chen",
         "john.chen@sqltutorial.org",
         "515.124.4269",
         "1997-09-28",
         6,
         8200.0,
         "108",
         10,
         "John Chen",
         "1997",
         "09",
         "28",
         1148.0
        ],
        [
         111,
         "Ismael",
         "Sciarra",
         "ismael.sciarra@sqltutorial.org",
         "515.124.4369",
         "1997-09-30",
         6,
         7700.0,
         "108",
         10,
         "Ismael Sciarra",
         "1997",
         "09",
         "30",
         1078.0
        ],
        [
         112,
         "Jose Manuel",
         "Urman",
         "jose manuel.urman@sqltutorial.org",
         "515.124.4469",
         "1998-03-07",
         6,
         7800.0,
         "108",
         10,
         "Jose Manuel Urman",
         "1998",
         "03",
         "07",
         1092.0
        ],
        [
         113,
         "Luis",
         "Popp",
         "luis.popp@sqltutorial.org",
         "515.124.4567",
         "1999-12-07",
         6,
         6900.0,
         "108",
         10,
         "Luis Popp",
         "1999",
         "12",
         "07",
         966.0000000000001
        ]
       ],
       "datasetInfos": [],
       "dbfsResultPath": null,
       "isJsonSchema": true,
       "metadata": {},
       "overflow": false,
       "plotOptions": {
        "customPlotOptions": {},
        "displayType": "table",
        "pivotAggregation": null,
        "pivotColumns": null,
        "xColumns": null,
        "yColumns": null
       },
       "removedWidgets": [],
       "schema": [
        {
         "metadata": "{}",
         "name": "id_empregado",
         "type": "\"integer\""
        },
        {
         "metadata": "{}",
         "name": "primeiro_nome",
         "type": "\"string\""
        },
        {
         "metadata": "{}",
         "name": "ultimo_nome",
         "type": "\"string\""
        },
        {
         "metadata": "{}",
         "name": "email",
         "type": "\"string\""
        },
        {
         "metadata": "{}",
         "name": "numero_telefone",
         "type": "\"string\""
        },
        {
         "metadata": "{\"__detected_date_formats\":\"yyyy-M-d\"}",
         "name": "data_contratacao",
         "type": "\"date\""
        },
        {
         "metadata": "{}",
         "name": "id_ocupacao",
         "type": "\"integer\""
        },
        {
         "metadata": "{}",
         "name": "salario",
         "type": "\"double\""
        },
        {
         "metadata": "{}",
         "name": "id_gerente",
         "type": "\"string\""
        },
        {
         "metadata": "{}",
         "name": "id_departamento",
         "type": "\"integer\""
        },
        {
         "metadata": "{}",
         "name": "nome",
         "type": "\"string\""
        },
        {
         "metadata": "{}",
         "name": "ano_contratacao",
         "type": "\"string\""
        },
        {
         "metadata": "{}",
         "name": "mes_contratacao",
         "type": "\"string\""
        },
        {
         "metadata": "{}",
         "name": "dia_contratacao",
         "type": "\"string\""
        },
        {
         "metadata": "{}",
         "name": "desconto_inss",
         "type": "\"double\""
        }
       ],
       "type": "table"
      }
     },
     "output_type": "display_data"
    }
   ],
   "source": []
  },
  {
   "cell_type": "markdown",
   "metadata": {
    "application/vnd.databricks.v1+cell": {
     "cellMetadata": {},
     "inputWidgets": {},
     "nuid": "9777eede-17cf-4f8d-ab6e-9e642286dc62",
     "showTitle": false,
     "title": ""
    }
   },
   "source": [
    "#### filtro </br>\n",
    "Filtro as linhas onde o ano_contratacao seja igual a 1993, 1994 e 1995"
   ]
  },
  {
   "cell_type": "code",
   "execution_count": 0,
   "metadata": {
    "application/vnd.databricks.v1+cell": {
     "cellMetadata": {
      "byteLimit": 2048000,
      "rowLimit": 10000
     },
     "inputWidgets": {},
     "nuid": "a04794e8-c3db-4683-a92a-2eca8a8a95ea",
     "showTitle": false,
     "title": ""
    }
   },
   "outputs": [
    {
     "output_type": "display_data",
     "data": {
      "text/html": [
       "<style scoped>\n",
       "  .table-result-container {\n",
       "    max-height: 300px;\n",
       "    overflow: auto;\n",
       "  }\n",
       "  table, th, td {\n",
       "    border: 1px solid black;\n",
       "    border-collapse: collapse;\n",
       "  }\n",
       "  th, td {\n",
       "    padding: 5px;\n",
       "  }\n",
       "  th {\n",
       "    text-align: left;\n",
       "  }\n",
       "</style><div class='table-result-container'><table class='table-result'><thead style='background-color: white'><tr><th>id_empregado</th><th>primeiro_nome</th><th>ultimo_nome</th><th>email</th><th>numero_telefone</th><th>data_contratacao</th><th>id_ocupacao</th><th>salario</th><th>id_gerente</th><th>id_departamento</th><th>nome</th><th>ano_contratacao</th><th>mes_contratacao</th><th>dia_contratacao</th><th>desconto_inss</th></tr></thead><tbody><tr><td>102</td><td>Lex</td><td>De Haan</td><td>lex.de haan@sqltutorial.org</td><td>515.123.4569</td><td>1993-01-13</td><td>5</td><td>17000.0</td><td>100</td><td>9</td><td>Lex De Haan</td><td>1993</td><td>01</td><td>13</td><td>2380.0</td></tr><tr><td>108</td><td>Nancy</td><td>Greenberg</td><td>nancy.greenberg@sqltutorial.org</td><td>515.124.4569</td><td>1994-08-17</td><td>7</td><td>12000.0</td><td>101</td><td>10</td><td>Nancy Greenberg</td><td>1994</td><td>08</td><td>17</td><td>1680.0000000000002</td></tr><tr><td>109</td><td>Daniel</td><td>Faviet</td><td>daniel.faviet@sqltutorial.org</td><td>515.124.4169</td><td>1994-08-16</td><td>6</td><td>9000.0</td><td>108</td><td>10</td><td>Daniel Faviet</td><td>1994</td><td>08</td><td>16</td><td>1260.0000000000002</td></tr><tr><td>114</td><td>Den</td><td>Raphaely</td><td>den.raphaely@sqltutorial.org</td><td>515.127.4561</td><td>1994-12-07</td><td>14</td><td>11000.0</td><td>100</td><td>3</td><td>Den Raphaely</td><td>1994</td><td>12</td><td>07</td><td>1540.0000000000002</td></tr><tr><td>115</td><td>Alexander</td><td>Khoo</td><td>alexander.khoo@sqltutorial.org</td><td>515.127.4562</td><td>1995-05-18</td><td>13</td><td>3100.0</td><td>114</td><td>3</td><td>Alexander Khoo</td><td>1995</td><td>05</td><td>18</td><td>434.00000000000006</td></tr><tr><td>122</td><td>Payam</td><td>Kaufling</td><td>payam.kaufling@sqltutorial.org</td><td>650.123.3234</td><td>1995-05-01</td><td>19</td><td>7900.0</td><td>100</td><td>5</td><td>Payam Kaufling</td><td>1995</td><td>05</td><td>01</td><td>1106.0</td></tr><tr><td>203</td><td>Susan</td><td>Mavris</td><td>susan.mavris@sqltutorial.org</td><td>515.123.7777</td><td>1994-06-07</td><td>8</td><td>6500.0</td><td>101</td><td>4</td><td>Susan Mavris</td><td>1994</td><td>06</td><td>07</td><td>910.0000000000001</td></tr><tr><td>204</td><td>Hermann</td><td>Baer</td><td>hermann.baer@sqltutorial.org</td><td>515.123.8888</td><td>1994-06-07</td><td>12</td><td>10000.0</td><td>101</td><td>7</td><td>Hermann Baer</td><td>1994</td><td>06</td><td>07</td><td>1400.0000000000002</td></tr><tr><td>205</td><td>Shelley</td><td>Higgins</td><td>shelley.higgins@sqltutorial.org</td><td>515.123.8080</td><td>1994-06-07</td><td>2</td><td>12000.0</td><td>101</td><td>11</td><td>Shelley Higgins</td><td>1994</td><td>06</td><td>07</td><td>1680.0000000000002</td></tr><tr><td>206</td><td>William</td><td>Gietz</td><td>william.gietz@sqltutorial.org</td><td>515.123.8181</td><td>1994-06-07</td><td>1</td><td>8300.0</td><td>205</td><td>11</td><td>William Gietz</td><td>1994</td><td>06</td><td>07</td><td>1162.0</td></tr></tbody></table></div>"
      ]
     },
     "metadata": {
      "application/vnd.databricks.v1+output": {
       "addedWidgets": {},
       "aggData": [],
       "aggError": "",
       "aggOverflow": false,
       "aggSchema": [],
       "aggSeriesLimitReached": false,
       "aggType": "",
       "arguments": {},
       "columnCustomDisplayInfos": {},
       "data": [
        [
         102,
         "Lex",
         "De Haan",
         "lex.de haan@sqltutorial.org",
         "515.123.4569",
         "1993-01-13",
         5,
         17000.0,
         "100",
         9,
         "Lex De Haan",
         "1993",
         "01",
         "13",
         2380.0
        ],
        [
         108,
         "Nancy",
         "Greenberg",
         "nancy.greenberg@sqltutorial.org",
         "515.124.4569",
         "1994-08-17",
         7,
         12000.0,
         "101",
         10,
         "Nancy Greenberg",
         "1994",
         "08",
         "17",
         1680.0000000000002
        ],
        [
         109,
         "Daniel",
         "Faviet",
         "daniel.faviet@sqltutorial.org",
         "515.124.4169",
         "1994-08-16",
         6,
         9000.0,
         "108",
         10,
         "Daniel Faviet",
         "1994",
         "08",
         "16",
         1260.0000000000002
        ],
        [
         114,
         "Den",
         "Raphaely",
         "den.raphaely@sqltutorial.org",
         "515.127.4561",
         "1994-12-07",
         14,
         11000.0,
         "100",
         3,
         "Den Raphaely",
         "1994",
         "12",
         "07",
         1540.0000000000002
        ],
        [
         115,
         "Alexander",
         "Khoo",
         "alexander.khoo@sqltutorial.org",
         "515.127.4562",
         "1995-05-18",
         13,
         3100.0,
         "114",
         3,
         "Alexander Khoo",
         "1995",
         "05",
         "18",
         434.00000000000006
        ],
        [
         122,
         "Payam",
         "Kaufling",
         "payam.kaufling@sqltutorial.org",
         "650.123.3234",
         "1995-05-01",
         19,
         7900.0,
         "100",
         5,
         "Payam Kaufling",
         "1995",
         "05",
         "01",
         1106.0
        ],
        [
         203,
         "Susan",
         "Mavris",
         "susan.mavris@sqltutorial.org",
         "515.123.7777",
         "1994-06-07",
         8,
         6500.0,
         "101",
         4,
         "Susan Mavris",
         "1994",
         "06",
         "07",
         910.0000000000001
        ],
        [
         204,
         "Hermann",
         "Baer",
         "hermann.baer@sqltutorial.org",
         "515.123.8888",
         "1994-06-07",
         12,
         10000.0,
         "101",
         7,
         "Hermann Baer",
         "1994",
         "06",
         "07",
         1400.0000000000002
        ],
        [
         205,
         "Shelley",
         "Higgins",
         "shelley.higgins@sqltutorial.org",
         "515.123.8080",
         "1994-06-07",
         2,
         12000.0,
         "101",
         11,
         "Shelley Higgins",
         "1994",
         "06",
         "07",
         1680.0000000000002
        ],
        [
         206,
         "William",
         "Gietz",
         "william.gietz@sqltutorial.org",
         "515.123.8181",
         "1994-06-07",
         1,
         8300.0,
         "205",
         11,
         "William Gietz",
         "1994",
         "06",
         "07",
         1162.0
        ]
       ],
       "datasetInfos": [],
       "dbfsResultPath": null,
       "isJsonSchema": true,
       "metadata": {},
       "overflow": false,
       "plotOptions": {
        "customPlotOptions": {},
        "displayType": "table",
        "pivotAggregation": null,
        "pivotColumns": null,
        "xColumns": null,
        "yColumns": null
       },
       "removedWidgets": [],
       "schema": [
        {
         "metadata": "{}",
         "name": "id_empregado",
         "type": "\"integer\""
        },
        {
         "metadata": "{}",
         "name": "primeiro_nome",
         "type": "\"string\""
        },
        {
         "metadata": "{}",
         "name": "ultimo_nome",
         "type": "\"string\""
        },
        {
         "metadata": "{}",
         "name": "email",
         "type": "\"string\""
        },
        {
         "metadata": "{}",
         "name": "numero_telefone",
         "type": "\"string\""
        },
        {
         "metadata": "{\"__detected_date_formats\":\"yyyy-M-d\"}",
         "name": "data_contratacao",
         "type": "\"date\""
        },
        {
         "metadata": "{}",
         "name": "id_ocupacao",
         "type": "\"integer\""
        },
        {
         "metadata": "{}",
         "name": "salario",
         "type": "\"double\""
        },
        {
         "metadata": "{}",
         "name": "id_gerente",
         "type": "\"string\""
        },
        {
         "metadata": "{}",
         "name": "id_departamento",
         "type": "\"integer\""
        },
        {
         "metadata": "{}",
         "name": "nome",
         "type": "\"string\""
        },
        {
         "metadata": "{}",
         "name": "ano_contratacao",
         "type": "\"string\""
        },
        {
         "metadata": "{}",
         "name": "mes_contratacao",
         "type": "\"string\""
        },
        {
         "metadata": "{}",
         "name": "dia_contratacao",
         "type": "\"string\""
        },
        {
         "metadata": "{}",
         "name": "desconto_inss",
         "type": "\"double\""
        }
       ],
       "type": "table"
      }
     },
     "output_type": "display_data"
    }
   ],
   "source": [
    "\n",
    "   "
   ]
  },
  {
   "cell_type": "markdown",
   "metadata": {
    "application/vnd.databricks.v1+cell": {
     "cellMetadata": {},
     "inputWidgets": {},
     "nuid": "1931805d-d0bb-4195-847e-116035f48b97",
     "showTitle": false,
     "title": ""
    }
   },
   "source": [
    "#### filtro </br>\n",
    "Filtro as linhas onde parte do nome tenha 'lex' , utilize função like "
   ]
  },
  {
   "cell_type": "code",
   "execution_count": 0,
   "metadata": {
    "application/vnd.databricks.v1+cell": {
     "cellMetadata": {
      "byteLimit": 2048000,
      "rowLimit": 10000
     },
     "inputWidgets": {},
     "nuid": "878e856f-079e-47ef-b169-ef321d722d34",
     "showTitle": false,
     "title": ""
    }
   },
   "outputs": [
    {
     "output_type": "display_data",
     "data": {
      "text/html": [
       "<style scoped>\n",
       "  .table-result-container {\n",
       "    max-height: 300px;\n",
       "    overflow: auto;\n",
       "  }\n",
       "  table, th, td {\n",
       "    border: 1px solid black;\n",
       "    border-collapse: collapse;\n",
       "  }\n",
       "  th, td {\n",
       "    padding: 5px;\n",
       "  }\n",
       "  th {\n",
       "    text-align: left;\n",
       "  }\n",
       "</style><div class='table-result-container'><table class='table-result'><thead style='background-color: white'><tr><th>id_empregado</th><th>primeiro_nome</th><th>ultimo_nome</th><th>email</th><th>numero_telefone</th><th>data_contratacao</th><th>id_ocupacao</th><th>salario</th><th>id_gerente</th><th>id_departamento</th><th>nome</th><th>ano_contratacao</th><th>mes_contratacao</th><th>dia_contratacao</th><th>desconto_inss</th></tr></thead><tbody><tr><td>102</td><td>Lex</td><td>De Haan</td><td>lex.de haan@sqltutorial.org</td><td>515.123.4569</td><td>1993-01-13</td><td>5</td><td>17000.0</td><td>100</td><td>9</td><td>Lex De Haan</td><td>1993</td><td>01</td><td>13</td><td>2380.0</td></tr><tr><td>103</td><td>Alexander</td><td>Hunold</td><td>alexander.hunold@sqltutorial.org</td><td>590.423.4567</td><td>1990-01-03</td><td>9</td><td>9000.0</td><td>102</td><td>6</td><td>Alexander Hunold</td><td>1990</td><td>01</td><td>03</td><td>1260.0000000000002</td></tr><tr><td>115</td><td>Alexander</td><td>Khoo</td><td>alexander.khoo@sqltutorial.org</td><td>515.127.4562</td><td>1995-05-18</td><td>13</td><td>3100.0</td><td>114</td><td>3</td><td>Alexander Khoo</td><td>1995</td><td>05</td><td>18</td><td>434.00000000000006</td></tr></tbody></table></div>"
      ]
     },
     "metadata": {
      "application/vnd.databricks.v1+output": {
       "addedWidgets": {},
       "aggData": [],
       "aggError": "",
       "aggOverflow": false,
       "aggSchema": [],
       "aggSeriesLimitReached": false,
       "aggType": "",
       "arguments": {},
       "columnCustomDisplayInfos": {},
       "data": [
        [
         102,
         "Lex",
         "De Haan",
         "lex.de haan@sqltutorial.org",
         "515.123.4569",
         "1993-01-13",
         5,
         17000.0,
         "100",
         9,
         "Lex De Haan",
         "1993",
         "01",
         "13",
         2380.0
        ],
        [
         103,
         "Alexander",
         "Hunold",
         "alexander.hunold@sqltutorial.org",
         "590.423.4567",
         "1990-01-03",
         9,
         9000.0,
         "102",
         6,
         "Alexander Hunold",
         "1990",
         "01",
         "03",
         1260.0000000000002
        ],
        [
         115,
         "Alexander",
         "Khoo",
         "alexander.khoo@sqltutorial.org",
         "515.127.4562",
         "1995-05-18",
         13,
         3100.0,
         "114",
         3,
         "Alexander Khoo",
         "1995",
         "05",
         "18",
         434.00000000000006
        ]
       ],
       "datasetInfos": [],
       "dbfsResultPath": null,
       "isJsonSchema": true,
       "metadata": {},
       "overflow": false,
       "plotOptions": {
        "customPlotOptions": {},
        "displayType": "table",
        "pivotAggregation": null,
        "pivotColumns": null,
        "xColumns": null,
        "yColumns": null
       },
       "removedWidgets": [],
       "schema": [
        {
         "metadata": "{}",
         "name": "id_empregado",
         "type": "\"integer\""
        },
        {
         "metadata": "{}",
         "name": "primeiro_nome",
         "type": "\"string\""
        },
        {
         "metadata": "{}",
         "name": "ultimo_nome",
         "type": "\"string\""
        },
        {
         "metadata": "{}",
         "name": "email",
         "type": "\"string\""
        },
        {
         "metadata": "{}",
         "name": "numero_telefone",
         "type": "\"string\""
        },
        {
         "metadata": "{\"__detected_date_formats\":\"yyyy-M-d\"}",
         "name": "data_contratacao",
         "type": "\"date\""
        },
        {
         "metadata": "{}",
         "name": "id_ocupacao",
         "type": "\"integer\""
        },
        {
         "metadata": "{}",
         "name": "salario",
         "type": "\"double\""
        },
        {
         "metadata": "{}",
         "name": "id_gerente",
         "type": "\"string\""
        },
        {
         "metadata": "{}",
         "name": "id_departamento",
         "type": "\"integer\""
        },
        {
         "metadata": "{}",
         "name": "nome",
         "type": "\"string\""
        },
        {
         "metadata": "{}",
         "name": "ano_contratacao",
         "type": "\"string\""
        },
        {
         "metadata": "{}",
         "name": "mes_contratacao",
         "type": "\"string\""
        },
        {
         "metadata": "{}",
         "name": "dia_contratacao",
         "type": "\"string\""
        },
        {
         "metadata": "{}",
         "name": "desconto_inss",
         "type": "\"double\""
        }
       ],
       "type": "table"
      }
     },
     "output_type": "display_data"
    }
   ],
   "source": [
    "df_empregados.filter(f.lower('nome').like('%lex%') ).display()"
   ]
  },
  {
   "cell_type": "markdown",
   "metadata": {
    "application/vnd.databricks.v1+cell": {
     "cellMetadata": {},
     "inputWidgets": {},
     "nuid": "47a5894e-e8c7-4c7f-ba7b-ff79f610fc55",
     "showTitle": false,
     "title": ""
    }
   },
   "source": [
    "#### filtro </br>\n",
    "Filtro as linhas onde o id_gerente seja nullo"
   ]
  },
  {
   "cell_type": "code",
   "execution_count": 0,
   "metadata": {
    "application/vnd.databricks.v1+cell": {
     "cellMetadata": {
      "byteLimit": 2048000,
      "rowLimit": 10000
     },
     "inputWidgets": {},
     "nuid": "db9525fc-a867-4726-b846-1a18ac035846",
     "showTitle": false,
     "title": ""
    }
   },
   "outputs": [
    {
     "output_type": "display_data",
     "data": {
      "text/html": [
       "<style scoped>\n",
       "  .table-result-container {\n",
       "    max-height: 300px;\n",
       "    overflow: auto;\n",
       "  }\n",
       "  table, th, td {\n",
       "    border: 1px solid black;\n",
       "    border-collapse: collapse;\n",
       "  }\n",
       "  th, td {\n",
       "    padding: 5px;\n",
       "  }\n",
       "  th {\n",
       "    text-align: left;\n",
       "  }\n",
       "</style><div class='table-result-container'><table class='table-result'><thead style='background-color: white'><tr><th>id_empregado</th><th>primeiro_nome</th><th>ultimo_nome</th><th>email</th><th>numero_telefone</th><th>data_contratacao</th><th>id_ocupacao</th><th>salario</th><th>id_gerente</th><th>id_departamento</th><th>nome</th><th>ano_contratacao</th><th>mes_contratacao</th><th>dia_contratacao</th><th>desconto_inss</th></tr></thead><tbody></tbody></table></div>"
      ]
     },
     "metadata": {
      "application/vnd.databricks.v1+output": {
       "addedWidgets": {},
       "aggData": [],
       "aggError": "",
       "aggOverflow": false,
       "aggSchema": [],
       "aggSeriesLimitReached": false,
       "aggType": "",
       "arguments": {},
       "columnCustomDisplayInfos": {},
       "data": [],
       "datasetInfos": [],
       "dbfsResultPath": null,
       "isJsonSchema": true,
       "metadata": {},
       "overflow": false,
       "plotOptions": {
        "customPlotOptions": {},
        "displayType": "table",
        "pivotAggregation": null,
        "pivotColumns": null,
        "xColumns": null,
        "yColumns": null
       },
       "removedWidgets": [],
       "schema": [
        {
         "metadata": "{}",
         "name": "id_empregado",
         "type": "\"integer\""
        },
        {
         "metadata": "{}",
         "name": "primeiro_nome",
         "type": "\"string\""
        },
        {
         "metadata": "{}",
         "name": "ultimo_nome",
         "type": "\"string\""
        },
        {
         "metadata": "{}",
         "name": "email",
         "type": "\"string\""
        },
        {
         "metadata": "{}",
         "name": "numero_telefone",
         "type": "\"string\""
        },
        {
         "metadata": "{\"__detected_date_formats\":\"yyyy-M-d\"}",
         "name": "data_contratacao",
         "type": "\"date\""
        },
        {
         "metadata": "{}",
         "name": "id_ocupacao",
         "type": "\"integer\""
        },
        {
         "metadata": "{}",
         "name": "salario",
         "type": "\"double\""
        },
        {
         "metadata": "{}",
         "name": "id_gerente",
         "type": "\"string\""
        },
        {
         "metadata": "{}",
         "name": "id_departamento",
         "type": "\"integer\""
        },
        {
         "metadata": "{}",
         "name": "nome",
         "type": "\"string\""
        },
        {
         "metadata": "{}",
         "name": "ano_contratacao",
         "type": "\"string\""
        },
        {
         "metadata": "{}",
         "name": "mes_contratacao",
         "type": "\"string\""
        },
        {
         "metadata": "{}",
         "name": "dia_contratacao",
         "type": "\"string\""
        },
        {
         "metadata": "{}",
         "name": "desconto_inss",
         "type": "\"double\""
        }
       ],
       "type": "table"
      }
     },
     "output_type": "display_data"
    }
   ],
   "source": []
  },
  {
   "cell_type": "markdown",
   "metadata": {
    "application/vnd.databricks.v1+cell": {
     "cellMetadata": {},
     "inputWidgets": {},
     "nuid": "ac51a76e-ab7d-4972-92a8-9c2f983f0654",
     "showTitle": false,
     "title": ""
    }
   },
   "source": [
    "#### filtro </br>\n",
    "Filtro as linhas onde o id_gerente seja diferente de nulo"
   ]
  },
  {
   "cell_type": "code",
   "execution_count": 0,
   "metadata": {
    "application/vnd.databricks.v1+cell": {
     "cellMetadata": {
      "byteLimit": 2048000,
      "rowLimit": 10000
     },
     "inputWidgets": {},
     "nuid": "9aa5f81a-5500-459e-82c7-ee1f93d53c60",
     "showTitle": false,
     "title": ""
    }
   },
   "outputs": [
    {
     "output_type": "display_data",
     "data": {
      "text/html": [
       "<style scoped>\n",
       "  .table-result-container {\n",
       "    max-height: 300px;\n",
       "    overflow: auto;\n",
       "  }\n",
       "  table, th, td {\n",
       "    border: 1px solid black;\n",
       "    border-collapse: collapse;\n",
       "  }\n",
       "  th, td {\n",
       "    padding: 5px;\n",
       "  }\n",
       "  th {\n",
       "    text-align: left;\n",
       "  }\n",
       "</style><div class='table-result-container'><table class='table-result'><thead style='background-color: white'><tr><th>id_empregado</th><th>primeiro_nome</th><th>ultimo_nome</th><th>email</th><th>numero_telefone</th><th>data_contratacao</th><th>id_ocupacao</th><th>salario</th><th>id_gerente</th><th>id_departamento</th><th>nome</th><th>ano_contratacao</th><th>mes_contratacao</th><th>dia_contratacao</th><th>desconto_inss</th></tr></thead><tbody><tr><td>100</td><td>Steven</td><td>King</td><td>steven.king@sqltutorial.org</td><td>515.123.4567</td><td>1987-06-17</td><td>4</td><td>24000.0</td><td>NULL</td><td>9</td><td>Steven King</td><td>1987</td><td>06</td><td>17</td><td>3360.0000000000005</td></tr><tr><td>101</td><td>Neena</td><td>Kochhar</td><td>neena.kochhar@sqltutorial.org</td><td>515.123.4568</td><td>1989-09-21</td><td>5</td><td>17000.0</td><td>100</td><td>9</td><td>Neena Kochhar</td><td>1989</td><td>09</td><td>21</td><td>2380.0</td></tr><tr><td>102</td><td>Lex</td><td>De Haan</td><td>lex.de haan@sqltutorial.org</td><td>515.123.4569</td><td>1993-01-13</td><td>5</td><td>17000.0</td><td>100</td><td>9</td><td>Lex De Haan</td><td>1993</td><td>01</td><td>13</td><td>2380.0</td></tr><tr><td>103</td><td>Alexander</td><td>Hunold</td><td>alexander.hunold@sqltutorial.org</td><td>590.423.4567</td><td>1990-01-03</td><td>9</td><td>9000.0</td><td>102</td><td>6</td><td>Alexander Hunold</td><td>1990</td><td>01</td><td>03</td><td>1260.0000000000002</td></tr><tr><td>104</td><td>Bruce</td><td>Ernst</td><td>bruce.ernst@sqltutorial.org</td><td>590.423.4568</td><td>1991-05-21</td><td>9</td><td>6000.0</td><td>103</td><td>6</td><td>Bruce Ernst</td><td>1991</td><td>05</td><td>21</td><td>840.0000000000001</td></tr><tr><td>105</td><td>David</td><td>Austin</td><td>david.austin@sqltutorial.org</td><td>590.423.4569</td><td>1997-06-25</td><td>9</td><td>4800.0</td><td>103</td><td>6</td><td>David Austin</td><td>1997</td><td>06</td><td>25</td><td>672.0000000000001</td></tr><tr><td>106</td><td>Valli</td><td>Pataballa</td><td>valli.pataballa@sqltutorial.org</td><td>590.423.4560</td><td>1998-02-05</td><td>9</td><td>4800.0</td><td>103</td><td>6</td><td>Valli Pataballa</td><td>1998</td><td>02</td><td>05</td><td>672.0000000000001</td></tr><tr><td>107</td><td>Diana</td><td>Lorentz</td><td>diana.lorentz@sqltutorial.org</td><td>590.423.5567</td><td>1999-02-07</td><td>9</td><td>4200.0</td><td>103</td><td>6</td><td>Diana Lorentz</td><td>1999</td><td>02</td><td>07</td><td>588.0</td></tr><tr><td>108</td><td>Nancy</td><td>Greenberg</td><td>nancy.greenberg@sqltutorial.org</td><td>515.124.4569</td><td>1994-08-17</td><td>7</td><td>12000.0</td><td>101</td><td>10</td><td>Nancy Greenberg</td><td>1994</td><td>08</td><td>17</td><td>1680.0000000000002</td></tr><tr><td>109</td><td>Daniel</td><td>Faviet</td><td>daniel.faviet@sqltutorial.org</td><td>515.124.4169</td><td>1994-08-16</td><td>6</td><td>9000.0</td><td>108</td><td>10</td><td>Daniel Faviet</td><td>1994</td><td>08</td><td>16</td><td>1260.0000000000002</td></tr><tr><td>110</td><td>John</td><td>Chen</td><td>john.chen@sqltutorial.org</td><td>515.124.4269</td><td>1997-09-28</td><td>6</td><td>8200.0</td><td>108</td><td>10</td><td>John Chen</td><td>1997</td><td>09</td><td>28</td><td>1148.0</td></tr><tr><td>111</td><td>Ismael</td><td>Sciarra</td><td>ismael.sciarra@sqltutorial.org</td><td>515.124.4369</td><td>1997-09-30</td><td>6</td><td>7700.0</td><td>108</td><td>10</td><td>Ismael Sciarra</td><td>1997</td><td>09</td><td>30</td><td>1078.0</td></tr><tr><td>112</td><td>Jose Manuel</td><td>Urman</td><td>jose manuel.urman@sqltutorial.org</td><td>515.124.4469</td><td>1998-03-07</td><td>6</td><td>7800.0</td><td>108</td><td>10</td><td>Jose Manuel Urman</td><td>1998</td><td>03</td><td>07</td><td>1092.0</td></tr><tr><td>113</td><td>Luis</td><td>Popp</td><td>luis.popp@sqltutorial.org</td><td>515.124.4567</td><td>1999-12-07</td><td>6</td><td>6900.0</td><td>108</td><td>10</td><td>Luis Popp</td><td>1999</td><td>12</td><td>07</td><td>966.0000000000001</td></tr><tr><td>114</td><td>Den</td><td>Raphaely</td><td>den.raphaely@sqltutorial.org</td><td>515.127.4561</td><td>1994-12-07</td><td>14</td><td>11000.0</td><td>100</td><td>3</td><td>Den Raphaely</td><td>1994</td><td>12</td><td>07</td><td>1540.0000000000002</td></tr><tr><td>115</td><td>Alexander</td><td>Khoo</td><td>alexander.khoo@sqltutorial.org</td><td>515.127.4562</td><td>1995-05-18</td><td>13</td><td>3100.0</td><td>114</td><td>3</td><td>Alexander Khoo</td><td>1995</td><td>05</td><td>18</td><td>434.00000000000006</td></tr><tr><td>116</td><td>Shelli</td><td>Baida</td><td>shelli.baida@sqltutorial.org</td><td>515.127.4563</td><td>1997-12-24</td><td>13</td><td>2900.0</td><td>114</td><td>3</td><td>Shelli Baida</td><td>1997</td><td>12</td><td>24</td><td>406.00000000000006</td></tr><tr><td>117</td><td>Sigal</td><td>Tobias</td><td>sigal.tobias@sqltutorial.org</td><td>515.127.4564</td><td>1997-07-24</td><td>13</td><td>2800.0</td><td>114</td><td>3</td><td>Sigal Tobias</td><td>1997</td><td>07</td><td>24</td><td>392.00000000000006</td></tr><tr><td>118</td><td>Guy</td><td>Himuro</td><td>guy.himuro@sqltutorial.org</td><td>515.127.4565</td><td>1998-11-15</td><td>13</td><td>2600.0</td><td>114</td><td>3</td><td>Guy Himuro</td><td>1998</td><td>11</td><td>15</td><td>364.00000000000006</td></tr><tr><td>119</td><td>Karen</td><td>Colmenares</td><td>karen.colmenares@sqltutorial.org</td><td>515.127.4566</td><td>1999-08-10</td><td>13</td><td>2500.0</td><td>114</td><td>3</td><td>Karen Colmenares</td><td>1999</td><td>08</td><td>10</td><td>350.00000000000006</td></tr><tr><td>120</td><td>Matthew</td><td>Weiss</td><td>matthew.weiss@sqltutorial.org</td><td>650.123.1234</td><td>1996-07-18</td><td>19</td><td>8000.0</td><td>100</td><td>5</td><td>Matthew Weiss</td><td>1996</td><td>07</td><td>18</td><td>1120.0</td></tr><tr><td>121</td><td>Adam</td><td>Fripp</td><td>adam.fripp@sqltutorial.org</td><td>650.123.2234</td><td>1997-04-10</td><td>19</td><td>8200.0</td><td>100</td><td>5</td><td>Adam Fripp</td><td>1997</td><td>04</td><td>10</td><td>1148.0</td></tr><tr><td>122</td><td>Payam</td><td>Kaufling</td><td>payam.kaufling@sqltutorial.org</td><td>650.123.3234</td><td>1995-05-01</td><td>19</td><td>7900.0</td><td>100</td><td>5</td><td>Payam Kaufling</td><td>1995</td><td>05</td><td>01</td><td>1106.0</td></tr><tr><td>123</td><td>Shanta</td><td>Vollman</td><td>shanta.vollman@sqltutorial.org</td><td>650.123.4234</td><td>1997-10-10</td><td>19</td><td>6500.0</td><td>100</td><td>5</td><td>Shanta Vollman</td><td>1997</td><td>10</td><td>10</td><td>910.0000000000001</td></tr><tr><td>126</td><td>Irene</td><td>Mikkilineni</td><td>irene.mikkilineni@sqltutorial.org</td><td>650.124.1224</td><td>1998-09-28</td><td>18</td><td>2700.0</td><td>120</td><td>5</td><td>Irene Mikkilineni</td><td>1998</td><td>09</td><td>28</td><td>378.00000000000006</td></tr><tr><td>145</td><td>John</td><td>Russell</td><td>john.russell@sqltutorial.org</td><td>NULL</td><td>1996-10-01</td><td>15</td><td>14000.0</td><td>100</td><td>8</td><td>John Russell</td><td>1996</td><td>10</td><td>01</td><td>1960.0000000000002</td></tr><tr><td>146</td><td>Karen</td><td>Partners</td><td>karen.partners@sqltutorial.org</td><td>NULL</td><td>1997-01-05</td><td>15</td><td>13500.0</td><td>100</td><td>8</td><td>Karen Partners</td><td>1997</td><td>01</td><td>05</td><td>1890.0000000000002</td></tr><tr><td>176</td><td>Jonathon</td><td>Taylor</td><td>jonathon.taylor@sqltutorial.org</td><td>NULL</td><td>1998-03-24</td><td>16</td><td>8600.0</td><td>100</td><td>8</td><td>Jonathon Taylor</td><td>1998</td><td>03</td><td>24</td><td>1204.0000000000002</td></tr><tr><td>177</td><td>Jack</td><td>Livingston</td><td>jack.livingston@sqltutorial.org</td><td>NULL</td><td>1998-04-23</td><td>16</td><td>8400.0</td><td>100</td><td>8</td><td>Jack Livingston</td><td>1998</td><td>04</td><td>23</td><td>1176.0</td></tr><tr><td>178</td><td>Kimberely</td><td>Grant</td><td>kimberely.grant@sqltutorial.org</td><td>NULL</td><td>1999-05-24</td><td>16</td><td>7000.0</td><td>100</td><td>8</td><td>Kimberely Grant</td><td>1999</td><td>05</td><td>24</td><td>980.0000000000001</td></tr><tr><td>179</td><td>Charles</td><td>Johnson</td><td>charles.johnson@sqltutorial.org</td><td>NULL</td><td>2000-01-04</td><td>16</td><td>6200.0</td><td>100</td><td>8</td><td>Charles Johnson</td><td>2000</td><td>01</td><td>04</td><td>868.0000000000001</td></tr><tr><td>192</td><td>Sarah</td><td>Bell</td><td>sarah.bell@sqltutorial.org</td><td>650.501.1876</td><td>1996-02-04</td><td>17</td><td>4000.0</td><td>123</td><td>5</td><td>Sarah Bell</td><td>1996</td><td>02</td><td>04</td><td>560.0</td></tr><tr><td>193</td><td>Britney</td><td>Everett</td><td>britney.everett@sqltutorial.org</td><td>650.501.2876</td><td>1997-03-03</td><td>17</td><td>3900.0</td><td>123</td><td>5</td><td>Britney Everett</td><td>1997</td><td>03</td><td>03</td><td>546.0</td></tr><tr><td>200</td><td>Jennifer</td><td>Whalen</td><td>jennifer.whalen@sqltutorial.org</td><td>515.123.4444</td><td>1987-09-17</td><td>3</td><td>4400.0</td><td>101</td><td>1</td><td>Jennifer Whalen</td><td>1987</td><td>09</td><td>17</td><td>616.0000000000001</td></tr><tr><td>201</td><td>Michael</td><td>Hartstein</td><td>michael.hartstein@sqltutorial.org</td><td>515.123.5555</td><td>1996-02-17</td><td>10</td><td>13000.0</td><td>100</td><td>2</td><td>Michael Hartstein</td><td>1996</td><td>02</td><td>17</td><td>1820.0000000000002</td></tr><tr><td>202</td><td>Pat</td><td>Fay</td><td>pat.fay@sqltutorial.org</td><td>603.123.6666</td><td>1997-08-17</td><td>11</td><td>6000.0</td><td>201</td><td>2</td><td>Pat Fay</td><td>1997</td><td>08</td><td>17</td><td>840.0000000000001</td></tr><tr><td>203</td><td>Susan</td><td>Mavris</td><td>susan.mavris@sqltutorial.org</td><td>515.123.7777</td><td>1994-06-07</td><td>8</td><td>6500.0</td><td>101</td><td>4</td><td>Susan Mavris</td><td>1994</td><td>06</td><td>07</td><td>910.0000000000001</td></tr><tr><td>204</td><td>Hermann</td><td>Baer</td><td>hermann.baer@sqltutorial.org</td><td>515.123.8888</td><td>1994-06-07</td><td>12</td><td>10000.0</td><td>101</td><td>7</td><td>Hermann Baer</td><td>1994</td><td>06</td><td>07</td><td>1400.0000000000002</td></tr><tr><td>205</td><td>Shelley</td><td>Higgins</td><td>shelley.higgins@sqltutorial.org</td><td>515.123.8080</td><td>1994-06-07</td><td>2</td><td>12000.0</td><td>101</td><td>11</td><td>Shelley Higgins</td><td>1994</td><td>06</td><td>07</td><td>1680.0000000000002</td></tr><tr><td>206</td><td>William</td><td>Gietz</td><td>william.gietz@sqltutorial.org</td><td>515.123.8181</td><td>1994-06-07</td><td>1</td><td>8300.0</td><td>205</td><td>11</td><td>William Gietz</td><td>1994</td><td>06</td><td>07</td><td>1162.0</td></tr></tbody></table></div>"
      ]
     },
     "metadata": {
      "application/vnd.databricks.v1+output": {
       "addedWidgets": {},
       "aggData": [],
       "aggError": "",
       "aggOverflow": false,
       "aggSchema": [],
       "aggSeriesLimitReached": false,
       "aggType": "",
       "arguments": {},
       "columnCustomDisplayInfos": {},
       "data": [
        [
         100,
         "Steven",
         "King",
         "steven.king@sqltutorial.org",
         "515.123.4567",
         "1987-06-17",
         4,
         24000.0,
         "NULL",
         9,
         "Steven King",
         "1987",
         "06",
         "17",
         3360.0000000000005
        ],
        [
         101,
         "Neena",
         "Kochhar",
         "neena.kochhar@sqltutorial.org",
         "515.123.4568",
         "1989-09-21",
         5,
         17000.0,
         "100",
         9,
         "Neena Kochhar",
         "1989",
         "09",
         "21",
         2380.0
        ],
        [
         102,
         "Lex",
         "De Haan",
         "lex.de haan@sqltutorial.org",
         "515.123.4569",
         "1993-01-13",
         5,
         17000.0,
         "100",
         9,
         "Lex De Haan",
         "1993",
         "01",
         "13",
         2380.0
        ],
        [
         103,
         "Alexander",
         "Hunold",
         "alexander.hunold@sqltutorial.org",
         "590.423.4567",
         "1990-01-03",
         9,
         9000.0,
         "102",
         6,
         "Alexander Hunold",
         "1990",
         "01",
         "03",
         1260.0000000000002
        ],
        [
         104,
         "Bruce",
         "Ernst",
         "bruce.ernst@sqltutorial.org",
         "590.423.4568",
         "1991-05-21",
         9,
         6000.0,
         "103",
         6,
         "Bruce Ernst",
         "1991",
         "05",
         "21",
         840.0000000000001
        ],
        [
         105,
         "David",
         "Austin",
         "david.austin@sqltutorial.org",
         "590.423.4569",
         "1997-06-25",
         9,
         4800.0,
         "103",
         6,
         "David Austin",
         "1997",
         "06",
         "25",
         672.0000000000001
        ],
        [
         106,
         "Valli",
         "Pataballa",
         "valli.pataballa@sqltutorial.org",
         "590.423.4560",
         "1998-02-05",
         9,
         4800.0,
         "103",
         6,
         "Valli Pataballa",
         "1998",
         "02",
         "05",
         672.0000000000001
        ],
        [
         107,
         "Diana",
         "Lorentz",
         "diana.lorentz@sqltutorial.org",
         "590.423.5567",
         "1999-02-07",
         9,
         4200.0,
         "103",
         6,
         "Diana Lorentz",
         "1999",
         "02",
         "07",
         588.0
        ],
        [
         108,
         "Nancy",
         "Greenberg",
         "nancy.greenberg@sqltutorial.org",
         "515.124.4569",
         "1994-08-17",
         7,
         12000.0,
         "101",
         10,
         "Nancy Greenberg",
         "1994",
         "08",
         "17",
         1680.0000000000002
        ],
        [
         109,
         "Daniel",
         "Faviet",
         "daniel.faviet@sqltutorial.org",
         "515.124.4169",
         "1994-08-16",
         6,
         9000.0,
         "108",
         10,
         "Daniel Faviet",
         "1994",
         "08",
         "16",
         1260.0000000000002
        ],
        [
         110,
         "John",
         "Chen",
         "john.chen@sqltutorial.org",
         "515.124.4269",
         "1997-09-28",
         6,
         8200.0,
         "108",
         10,
         "John Chen",
         "1997",
         "09",
         "28",
         1148.0
        ],
        [
         111,
         "Ismael",
         "Sciarra",
         "ismael.sciarra@sqltutorial.org",
         "515.124.4369",
         "1997-09-30",
         6,
         7700.0,
         "108",
         10,
         "Ismael Sciarra",
         "1997",
         "09",
         "30",
         1078.0
        ],
        [
         112,
         "Jose Manuel",
         "Urman",
         "jose manuel.urman@sqltutorial.org",
         "515.124.4469",
         "1998-03-07",
         6,
         7800.0,
         "108",
         10,
         "Jose Manuel Urman",
         "1998",
         "03",
         "07",
         1092.0
        ],
        [
         113,
         "Luis",
         "Popp",
         "luis.popp@sqltutorial.org",
         "515.124.4567",
         "1999-12-07",
         6,
         6900.0,
         "108",
         10,
         "Luis Popp",
         "1999",
         "12",
         "07",
         966.0000000000001
        ],
        [
         114,
         "Den",
         "Raphaely",
         "den.raphaely@sqltutorial.org",
         "515.127.4561",
         "1994-12-07",
         14,
         11000.0,
         "100",
         3,
         "Den Raphaely",
         "1994",
         "12",
         "07",
         1540.0000000000002
        ],
        [
         115,
         "Alexander",
         "Khoo",
         "alexander.khoo@sqltutorial.org",
         "515.127.4562",
         "1995-05-18",
         13,
         3100.0,
         "114",
         3,
         "Alexander Khoo",
         "1995",
         "05",
         "18",
         434.00000000000006
        ],
        [
         116,
         "Shelli",
         "Baida",
         "shelli.baida@sqltutorial.org",
         "515.127.4563",
         "1997-12-24",
         13,
         2900.0,
         "114",
         3,
         "Shelli Baida",
         "1997",
         "12",
         "24",
         406.00000000000006
        ],
        [
         117,
         "Sigal",
         "Tobias",
         "sigal.tobias@sqltutorial.org",
         "515.127.4564",
         "1997-07-24",
         13,
         2800.0,
         "114",
         3,
         "Sigal Tobias",
         "1997",
         "07",
         "24",
         392.00000000000006
        ],
        [
         118,
         "Guy",
         "Himuro",
         "guy.himuro@sqltutorial.org",
         "515.127.4565",
         "1998-11-15",
         13,
         2600.0,
         "114",
         3,
         "Guy Himuro",
         "1998",
         "11",
         "15",
         364.00000000000006
        ],
        [
         119,
         "Karen",
         "Colmenares",
         "karen.colmenares@sqltutorial.org",
         "515.127.4566",
         "1999-08-10",
         13,
         2500.0,
         "114",
         3,
         "Karen Colmenares",
         "1999",
         "08",
         "10",
         350.00000000000006
        ],
        [
         120,
         "Matthew",
         "Weiss",
         "matthew.weiss@sqltutorial.org",
         "650.123.1234",
         "1996-07-18",
         19,
         8000.0,
         "100",
         5,
         "Matthew Weiss",
         "1996",
         "07",
         "18",
         1120.0
        ],
        [
         121,
         "Adam",
         "Fripp",
         "adam.fripp@sqltutorial.org",
         "650.123.2234",
         "1997-04-10",
         19,
         8200.0,
         "100",
         5,
         "Adam Fripp",
         "1997",
         "04",
         "10",
         1148.0
        ],
        [
         122,
         "Payam",
         "Kaufling",
         "payam.kaufling@sqltutorial.org",
         "650.123.3234",
         "1995-05-01",
         19,
         7900.0,
         "100",
         5,
         "Payam Kaufling",
         "1995",
         "05",
         "01",
         1106.0
        ],
        [
         123,
         "Shanta",
         "Vollman",
         "shanta.vollman@sqltutorial.org",
         "650.123.4234",
         "1997-10-10",
         19,
         6500.0,
         "100",
         5,
         "Shanta Vollman",
         "1997",
         "10",
         "10",
         910.0000000000001
        ],
        [
         126,
         "Irene",
         "Mikkilineni",
         "irene.mikkilineni@sqltutorial.org",
         "650.124.1224",
         "1998-09-28",
         18,
         2700.0,
         "120",
         5,
         "Irene Mikkilineni",
         "1998",
         "09",
         "28",
         378.00000000000006
        ],
        [
         145,
         "John",
         "Russell",
         "john.russell@sqltutorial.org",
         "NULL",
         "1996-10-01",
         15,
         14000.0,
         "100",
         8,
         "John Russell",
         "1996",
         "10",
         "01",
         1960.0000000000002
        ],
        [
         146,
         "Karen",
         "Partners",
         "karen.partners@sqltutorial.org",
         "NULL",
         "1997-01-05",
         15,
         13500.0,
         "100",
         8,
         "Karen Partners",
         "1997",
         "01",
         "05",
         1890.0000000000002
        ],
        [
         176,
         "Jonathon",
         "Taylor",
         "jonathon.taylor@sqltutorial.org",
         "NULL",
         "1998-03-24",
         16,
         8600.0,
         "100",
         8,
         "Jonathon Taylor",
         "1998",
         "03",
         "24",
         1204.0000000000002
        ],
        [
         177,
         "Jack",
         "Livingston",
         "jack.livingston@sqltutorial.org",
         "NULL",
         "1998-04-23",
         16,
         8400.0,
         "100",
         8,
         "Jack Livingston",
         "1998",
         "04",
         "23",
         1176.0
        ],
        [
         178,
         "Kimberely",
         "Grant",
         "kimberely.grant@sqltutorial.org",
         "NULL",
         "1999-05-24",
         16,
         7000.0,
         "100",
         8,
         "Kimberely Grant",
         "1999",
         "05",
         "24",
         980.0000000000001
        ],
        [
         179,
         "Charles",
         "Johnson",
         "charles.johnson@sqltutorial.org",
         "NULL",
         "2000-01-04",
         16,
         6200.0,
         "100",
         8,
         "Charles Johnson",
         "2000",
         "01",
         "04",
         868.0000000000001
        ],
        [
         192,
         "Sarah",
         "Bell",
         "sarah.bell@sqltutorial.org",
         "650.501.1876",
         "1996-02-04",
         17,
         4000.0,
         "123",
         5,
         "Sarah Bell",
         "1996",
         "02",
         "04",
         560.0
        ],
        [
         193,
         "Britney",
         "Everett",
         "britney.everett@sqltutorial.org",
         "650.501.2876",
         "1997-03-03",
         17,
         3900.0,
         "123",
         5,
         "Britney Everett",
         "1997",
         "03",
         "03",
         546.0
        ],
        [
         200,
         "Jennifer",
         "Whalen",
         "jennifer.whalen@sqltutorial.org",
         "515.123.4444",
         "1987-09-17",
         3,
         4400.0,
         "101",
         1,
         "Jennifer Whalen",
         "1987",
         "09",
         "17",
         616.0000000000001
        ],
        [
         201,
         "Michael",
         "Hartstein",
         "michael.hartstein@sqltutorial.org",
         "515.123.5555",
         "1996-02-17",
         10,
         13000.0,
         "100",
         2,
         "Michael Hartstein",
         "1996",
         "02",
         "17",
         1820.0000000000002
        ],
        [
         202,
         "Pat",
         "Fay",
         "pat.fay@sqltutorial.org",
         "603.123.6666",
         "1997-08-17",
         11,
         6000.0,
         "201",
         2,
         "Pat Fay",
         "1997",
         "08",
         "17",
         840.0000000000001
        ],
        [
         203,
         "Susan",
         "Mavris",
         "susan.mavris@sqltutorial.org",
         "515.123.7777",
         "1994-06-07",
         8,
         6500.0,
         "101",
         4,
         "Susan Mavris",
         "1994",
         "06",
         "07",
         910.0000000000001
        ],
        [
         204,
         "Hermann",
         "Baer",
         "hermann.baer@sqltutorial.org",
         "515.123.8888",
         "1994-06-07",
         12,
         10000.0,
         "101",
         7,
         "Hermann Baer",
         "1994",
         "06",
         "07",
         1400.0000000000002
        ],
        [
         205,
         "Shelley",
         "Higgins",
         "shelley.higgins@sqltutorial.org",
         "515.123.8080",
         "1994-06-07",
         2,
         12000.0,
         "101",
         11,
         "Shelley Higgins",
         "1994",
         "06",
         "07",
         1680.0000000000002
        ],
        [
         206,
         "William",
         "Gietz",
         "william.gietz@sqltutorial.org",
         "515.123.8181",
         "1994-06-07",
         1,
         8300.0,
         "205",
         11,
         "William Gietz",
         "1994",
         "06",
         "07",
         1162.0
        ]
       ],
       "datasetInfos": [],
       "dbfsResultPath": null,
       "isJsonSchema": true,
       "metadata": {},
       "overflow": false,
       "plotOptions": {
        "customPlotOptions": {},
        "displayType": "table",
        "pivotAggregation": null,
        "pivotColumns": null,
        "xColumns": null,
        "yColumns": null
       },
       "removedWidgets": [],
       "schema": [
        {
         "metadata": "{}",
         "name": "id_empregado",
         "type": "\"integer\""
        },
        {
         "metadata": "{}",
         "name": "primeiro_nome",
         "type": "\"string\""
        },
        {
         "metadata": "{}",
         "name": "ultimo_nome",
         "type": "\"string\""
        },
        {
         "metadata": "{}",
         "name": "email",
         "type": "\"string\""
        },
        {
         "metadata": "{}",
         "name": "numero_telefone",
         "type": "\"string\""
        },
        {
         "metadata": "{\"__detected_date_formats\":\"yyyy-M-d\"}",
         "name": "data_contratacao",
         "type": "\"date\""
        },
        {
         "metadata": "{}",
         "name": "id_ocupacao",
         "type": "\"integer\""
        },
        {
         "metadata": "{}",
         "name": "salario",
         "type": "\"double\""
        },
        {
         "metadata": "{}",
         "name": "id_gerente",
         "type": "\"string\""
        },
        {
         "metadata": "{}",
         "name": "id_departamento",
         "type": "\"integer\""
        },
        {
         "metadata": "{}",
         "name": "nome",
         "type": "\"string\""
        },
        {
         "metadata": "{}",
         "name": "ano_contratacao",
         "type": "\"string\""
        },
        {
         "metadata": "{}",
         "name": "mes_contratacao",
         "type": "\"string\""
        },
        {
         "metadata": "{}",
         "name": "dia_contratacao",
         "type": "\"string\""
        },
        {
         "metadata": "{}",
         "name": "desconto_inss",
         "type": "\"double\""
        }
       ],
       "type": "table"
      }
     },
     "output_type": "display_data"
    }
   ],
   "source": []
  },
  {
   "cell_type": "code",
   "execution_count": 0,
   "metadata": {
    "application/vnd.databricks.v1+cell": {
     "cellMetadata": {},
     "inputWidgets": {},
     "nuid": "ac112874-dd7a-4ff1-952b-dd2db4712ce2",
     "showTitle": false,
     "title": ""
    }
   },
   "outputs": [],
   "source": []
  }
 ],
 "metadata": {
  "application/vnd.databricks.v1+notebook": {
   "dashboards": [],
   "language": "python",
   "notebookMetadata": {
    "mostRecentlyExecutedCommandWithImplicitDF": {
     "commandId": 3026352784048582,
     "dataframes": [
      "_sqldf"
     ]
    },
    "pythonIndentUnit": 4
   },
   "notebookName": "exercicio_manipulacao_dados",
   "widgets": {}
  }
 },
 "nbformat": 4,
 "nbformat_minor": 0
}
