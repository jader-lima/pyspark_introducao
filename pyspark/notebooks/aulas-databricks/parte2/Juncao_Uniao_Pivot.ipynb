{
 "cells": [
  {
   "cell_type": "code",
   "execution_count": 0,
   "metadata": {
    "application/vnd.databricks.v1+cell": {
     "cellMetadata": {
      "byteLimit": 2048000,
      "rowLimit": 10000
     },
     "inputWidgets": {},
     "nuid": "c237d547-14c2-4b02-8bbd-b3e92627ef3a",
     "showTitle": false,
     "title": ""
    }
   },
   "outputs": [],
   "source": [
    "from pyspark.sql import SparkSession\n",
    "from pyspark.sql.functions import col\n",
    "from pyspark.sql.types import StructType,StructField, StringType, IntegerType, FloatType\n",
    "import pyspark.sql.functions as F"
   ]
  },
  {
   "cell_type": "code",
   "execution_count": 0,
   "metadata": {
    "application/vnd.databricks.v1+cell": {
     "cellMetadata": {
      "byteLimit": 2048000,
      "rowLimit": 10000
     },
     "inputWidgets": {},
     "nuid": "7525f103-1008-4729-aaf7-9ae2214081ec",
     "showTitle": false,
     "title": ""
    }
   },
   "outputs": [],
   "source": [
    "\n",
    "spark = SparkSession.builder \\\n",
    "    .master('local[*]') \\\n",
    "    .appName(\"Iniciando com Spark\") \\\n",
    "    .getOrCreate()"
   ]
  },
  {
   "cell_type": "markdown",
   "metadata": {
    "application/vnd.databricks.v1+cell": {
     "cellMetadata": {
      "byteLimit": 2048000,
      "rowLimit": 10000
     },
     "inputWidgets": {},
     "nuid": "322ae8a8-c915-47f4-97c5-3cb33a1ada2a",
     "showTitle": false,
     "title": ""
    }
   },
   "source": [
    "### Lendo Csv"
   ]
  },
  {
   "cell_type": "code",
   "execution_count": 0,
   "metadata": {
    "application/vnd.databricks.v1+cell": {
     "cellMetadata": {
      "byteLimit": 2048000,
      "rowLimit": 10000
     },
     "inputWidgets": {},
     "nuid": "31687668-251c-428e-84c8-6ee3d09fb139",
     "showTitle": false,
     "title": ""
    }
   },
   "outputs": [],
   "source": [
    "path_countries = '/FileStore/transient/departments/countries'\n",
    "df_countries = spark.read.format('csv')\\\n",
    ".option(\"header\", True)\\\n",
    ".option(\"sep\", \",\")\\\n",
    ".option(\"quote\",\"\\'\")\\\n",
    ".option(\"inferSchema\",True)\\\n",
    ".load(path_countries)\n",
    "#transient\\csv\\olist"
   ]
  },
  {
   "cell_type": "code",
   "execution_count": 0,
   "metadata": {
    "application/vnd.databricks.v1+cell": {
     "cellMetadata": {
      "byteLimit": 2048000,
      "rowLimit": 10000
     },
     "inputWidgets": {},
     "nuid": "49aa575d-8cd1-4f12-92c3-e7a3c3952dbf",
     "showTitle": false,
     "title": ""
    }
   },
   "outputs": [],
   "source": [
    "path_regions = '/FileStore/transient/departments/regions'\n",
    "df_regions = spark.read.format('csv')\\\n",
    ".option(\"header\", True)\\\n",
    ".option(\"sep\", \",\")\\\n",
    ".option(\"quote\",\"\\'\")\\\n",
    ".option(\"inferSchema\",True)\\\n",
    ".load(path_regions)"
   ]
  },
  {
   "cell_type": "code",
   "execution_count": 0,
   "metadata": {
    "application/vnd.databricks.v1+cell": {
     "cellMetadata": {
      "byteLimit": 2048000,
      "rowLimit": 10000
     },
     "inputWidgets": {},
     "nuid": "17f7a625-2ac3-4a3e-9a98-0986026682e7",
     "showTitle": false,
     "title": ""
    }
   },
   "outputs": [],
   "source": [
    "path_jobs = '/FileStore/transient/departments/jobs'\n",
    "df_jobs = spark.read.format('csv')\\\n",
    ".option(\"header\", True)\\\n",
    ".option(\"sep\", \",\")\\\n",
    ".option(\"quote\",\"\\'\")\\\n",
    ".option(\"inferSchema\",True)\\\n",
    ".load(path_jobs)"
   ]
  },
  {
   "cell_type": "code",
   "execution_count": 0,
   "metadata": {
    "application/vnd.databricks.v1+cell": {
     "cellMetadata": {
      "byteLimit": 2048000,
      "rowLimit": 10000
     },
     "inputWidgets": {},
     "nuid": "f6967776-0d77-4a3c-b20e-90090d5c8205",
     "showTitle": false,
     "title": ""
    }
   },
   "outputs": [],
   "source": [
    "path_employees = '/FileStore/transient/departments/employees'\n",
    "df_employees = spark.read.format('csv')\\\n",
    ".option(\"header\", True)\\\n",
    ".option(\"sep\", \",\")\\\n",
    ".option(\"quote\",\"\\'\")\\\n",
    ".option(\"inferSchema\",True)\\\n",
    ".load(path_employees)"
   ]
  },
  {
   "cell_type": "code",
   "execution_count": 0,
   "metadata": {
    "application/vnd.databricks.v1+cell": {
     "cellMetadata": {
      "byteLimit": 2048000,
      "rowLimit": 10000
     },
     "inputWidgets": {},
     "nuid": "d9d1c09d-2380-4a73-9cc0-9adb3fee5f62",
     "showTitle": false,
     "title": ""
    }
   },
   "outputs": [],
   "source": []
  },
  {
   "cell_type": "code",
   "execution_count": 0,
   "metadata": {
    "application/vnd.databricks.v1+cell": {
     "cellMetadata": {
      "byteLimit": 2048000,
      "rowLimit": 10000
     },
     "inputWidgets": {},
     "nuid": "a6a1767b-fafd-4177-a5db-e8cd51268a05",
     "showTitle": false,
     "title": ""
    }
   },
   "outputs": [],
   "source": []
  },
  {
   "cell_type": "code",
   "execution_count": 0,
   "metadata": {
    "application/vnd.databricks.v1+cell": {
     "cellMetadata": {
      "byteLimit": 2048000,
      "rowLimit": 10000
     },
     "inputWidgets": {},
     "nuid": "c34e65db-e955-4076-8b0a-7e0281c3a551",
     "showTitle": false,
     "title": ""
    }
   },
   "outputs": [
    {
     "output_type": "display_data",
     "data": {
      "text/html": [
       "<style scoped>\n",
       "  .table-result-container {\n",
       "    max-height: 300px;\n",
       "    overflow: auto;\n",
       "  }\n",
       "  table, th, td {\n",
       "    border: 1px solid black;\n",
       "    border-collapse: collapse;\n",
       "  }\n",
       "  th, td {\n",
       "    padding: 5px;\n",
       "  }\n",
       "  th {\n",
       "    text-align: left;\n",
       "  }\n",
       "</style><div class='table-result-container'><table class='table-result'><thead style='background-color: white'><tr><th>country_id</th><th>country_name</th><th>region_id</th></tr></thead><tbody><tr><td>AR</td><td>Argentina</td><td>2</td></tr><tr><td>AU</td><td>Australia</td><td>3</td></tr><tr><td>BE</td><td>Belgium</td><td>1</td></tr><tr><td>BR</td><td>Brazil</td><td>2</td></tr><tr><td>CA</td><td>Canada</td><td>2</td></tr><tr><td>CH</td><td>Switzerland</td><td>1</td></tr><tr><td>CN</td><td>China</td><td>3</td></tr><tr><td>DE</td><td>Germany</td><td>1</td></tr><tr><td>DK</td><td>Denmark</td><td>1</td></tr><tr><td>EG</td><td>Egypt</td><td>4</td></tr><tr><td>FR</td><td>France</td><td>1</td></tr><tr><td>HK</td><td>HongKong</td><td>3</td></tr><tr><td>IL</td><td>Israel</td><td>4</td></tr><tr><td>IN</td><td>India</td><td>3</td></tr><tr><td>IT</td><td>Italy</td><td>1</td></tr><tr><td>JP</td><td>Japan</td><td>3</td></tr><tr><td>KW</td><td>Kuwait</td><td>4</td></tr><tr><td>MX</td><td>Mexico</td><td>2</td></tr><tr><td>NG</td><td>Nigeria</td><td>4</td></tr><tr><td>NL</td><td>Netherlands</td><td>1</td></tr><tr><td>SG</td><td>Singapore</td><td>3</td></tr><tr><td>UK</td><td>United Kingdom</td><td>1</td></tr><tr><td>US</td><td>United States of America</td><td>2</td></tr><tr><td>ZM</td><td>Zambia</td><td>4</td></tr><tr><td>ZW</td><td>Zimbabwe</td><td>4</td></tr></tbody></table></div>"
      ]
     },
     "metadata": {
      "application/vnd.databricks.v1+output": {
       "addedWidgets": {},
       "aggData": [],
       "aggError": "",
       "aggOverflow": false,
       "aggSchema": [],
       "aggSeriesLimitReached": false,
       "aggType": "",
       "arguments": {},
       "columnCustomDisplayInfos": {},
       "data": [
        [
         "AR",
         "Argentina",
         2
        ],
        [
         "AU",
         "Australia",
         3
        ],
        [
         "BE",
         "Belgium",
         1
        ],
        [
         "BR",
         "Brazil",
         2
        ],
        [
         "CA",
         "Canada",
         2
        ],
        [
         "CH",
         "Switzerland",
         1
        ],
        [
         "CN",
         "China",
         3
        ],
        [
         "DE",
         "Germany",
         1
        ],
        [
         "DK",
         "Denmark",
         1
        ],
        [
         "EG",
         "Egypt",
         4
        ],
        [
         "FR",
         "France",
         1
        ],
        [
         "HK",
         "HongKong",
         3
        ],
        [
         "IL",
         "Israel",
         4
        ],
        [
         "IN",
         "India",
         3
        ],
        [
         "IT",
         "Italy",
         1
        ],
        [
         "JP",
         "Japan",
         3
        ],
        [
         "KW",
         "Kuwait",
         4
        ],
        [
         "MX",
         "Mexico",
         2
        ],
        [
         "NG",
         "Nigeria",
         4
        ],
        [
         "NL",
         "Netherlands",
         1
        ],
        [
         "SG",
         "Singapore",
         3
        ],
        [
         "UK",
         "United Kingdom",
         1
        ],
        [
         "US",
         "United States of America",
         2
        ],
        [
         "ZM",
         "Zambia",
         4
        ],
        [
         "ZW",
         "Zimbabwe",
         4
        ]
       ],
       "datasetInfos": [],
       "dbfsResultPath": null,
       "isJsonSchema": true,
       "metadata": {},
       "overflow": false,
       "plotOptions": {
        "customPlotOptions": {},
        "displayType": "table",
        "pivotAggregation": null,
        "pivotColumns": null,
        "xColumns": null,
        "yColumns": null
       },
       "removedWidgets": [],
       "schema": [
        {
         "metadata": "{}",
         "name": "country_id",
         "type": "\"string\""
        },
        {
         "metadata": "{}",
         "name": "country_name",
         "type": "\"string\""
        },
        {
         "metadata": "{}",
         "name": "region_id",
         "type": "\"integer\""
        }
       ],
       "type": "table"
      }
     },
     "output_type": "display_data"
    }
   ],
   "source": [
    "df_countries.display()"
   ]
  },
  {
   "cell_type": "code",
   "execution_count": 0,
   "metadata": {
    "application/vnd.databricks.v1+cell": {
     "cellMetadata": {
      "byteLimit": 2048000,
      "rowLimit": 10000
     },
     "inputWidgets": {},
     "nuid": "c77e689a-0152-4971-b3bc-aa6fc6ab9cd3",
     "showTitle": false,
     "title": ""
    }
   },
   "outputs": [
    {
     "output_type": "display_data",
     "data": {
      "text/html": [
       "<style scoped>\n",
       "  .table-result-container {\n",
       "    max-height: 300px;\n",
       "    overflow: auto;\n",
       "  }\n",
       "  table, th, td {\n",
       "    border: 1px solid black;\n",
       "    border-collapse: collapse;\n",
       "  }\n",
       "  th, td {\n",
       "    padding: 5px;\n",
       "  }\n",
       "  th {\n",
       "    text-align: left;\n",
       "  }\n",
       "</style><div class='table-result-container'><table class='table-result'><thead style='background-color: white'><tr><th>region_id</th><th>region_name</th></tr></thead><tbody><tr><td>1</td><td>Europe</td></tr><tr><td>2</td><td>Americas</td></tr><tr><td>3</td><td>Asia</td></tr><tr><td>4</td><td>Middle East and Africa</td></tr></tbody></table></div>"
      ]
     },
     "metadata": {
      "application/vnd.databricks.v1+output": {
       "addedWidgets": {},
       "aggData": [],
       "aggError": "",
       "aggOverflow": false,
       "aggSchema": [],
       "aggSeriesLimitReached": false,
       "aggType": "",
       "arguments": {},
       "columnCustomDisplayInfos": {},
       "data": [
        [
         1,
         "Europe"
        ],
        [
         2,
         "Americas"
        ],
        [
         3,
         "Asia"
        ],
        [
         4,
         "Middle East and Africa"
        ]
       ],
       "datasetInfos": [],
       "dbfsResultPath": null,
       "isJsonSchema": true,
       "metadata": {},
       "overflow": false,
       "plotOptions": {
        "customPlotOptions": {},
        "displayType": "table",
        "pivotAggregation": null,
        "pivotColumns": null,
        "xColumns": null,
        "yColumns": null
       },
       "removedWidgets": [],
       "schema": [
        {
         "metadata": "{}",
         "name": "region_id",
         "type": "\"integer\""
        },
        {
         "metadata": "{}",
         "name": "region_name",
         "type": "\"string\""
        }
       ],
       "type": "table"
      }
     },
     "output_type": "display_data"
    }
   ],
   "source": [
    "df_regions.display()"
   ]
  },
  {
   "cell_type": "code",
   "execution_count": 0,
   "metadata": {
    "application/vnd.databricks.v1+cell": {
     "cellMetadata": {
      "byteLimit": 2048000,
      "rowLimit": 10000
     },
     "inputWidgets": {},
     "nuid": "eb94c424-2e2a-4d59-9b8a-4167117994af",
     "showTitle": false,
     "title": ""
    }
   },
   "outputs": [],
   "source": [
    "data = [(97,\"Terra Média\"),(98,\"Westeros\"),(98,\"Esteros\"),(100,\"Sistema Solar\")]\n",
    "\n",
    "\n",
    "schema = StructType([ \\\n",
    "    StructField(\"region_id\",IntegerType(),True), \\\n",
    "    StructField(\"region_name\",StringType(),True)\n",
    "  ])\n",
    "\n",
    "df_region2 = spark.createDataFrame(data=data,schema=schema)"
   ]
  },
  {
   "cell_type": "code",
   "execution_count": 0,
   "metadata": {
    "application/vnd.databricks.v1+cell": {
     "cellMetadata": {
      "byteLimit": 2048000,
      "rowLimit": 10000
     },
     "inputWidgets": {},
     "nuid": "cdd73395-70d2-4fa5-bb2b-fd64d79e50cf",
     "showTitle": false,
     "title": ""
    }
   },
   "outputs": [],
   "source": [
    "data = [(50,\"Valfenda\",91),(51,\"Kings Landing\",98),(51,\"Terra\",101)]\n",
    "\n",
    "#country_id|country_name|region_id\n",
    "schema = StructType([ \\\n",
    "    StructField(\"country_id\",IntegerType(),True), \\\n",
    "    StructField(\"country_name\",StringType(),True), \\\n",
    "    StructField(\"region_id\",IntegerType(),True),\n",
    "  ])\n",
    "\n",
    "df_countries2 = spark.createDataFrame(data=data,schema=schema)"
   ]
  },
  {
   "cell_type": "markdown",
   "metadata": {
    "application/vnd.databricks.v1+cell": {
     "cellMetadata": {
      "byteLimit": 2048000,
      "rowLimit": 10000
     },
     "inputWidgets": {},
     "nuid": "e0e34350-2600-468f-9c5d-1629987be761",
     "showTitle": false,
     "title": ""
    }
   },
   "source": [
    "### **Union** ###\n",
    "Podemos unir dataframes que tenham o mesmo schema, o efeito seria o mesmo de empilhar os dataframes <br>\n"
   ]
  },
  {
   "cell_type": "code",
   "execution_count": 0,
   "metadata": {
    "application/vnd.databricks.v1+cell": {
     "cellMetadata": {
      "byteLimit": 2048000,
      "rowLimit": 10000
     },
     "inputWidgets": {},
     "nuid": "cccd2193-f3e4-45f2-a416-016b83266f52",
     "showTitle": false,
     "title": ""
    }
   },
   "outputs": [],
   "source": [
    "df_regions3 = df_regions.union(df_region2)"
   ]
  },
  {
   "cell_type": "code",
   "execution_count": 0,
   "metadata": {
    "application/vnd.databricks.v1+cell": {
     "cellMetadata": {
      "byteLimit": 2048000,
      "rowLimit": 10000
     },
     "inputWidgets": {},
     "nuid": "8ac9d3a3-3787-4f01-8067-90fe9e799506",
     "showTitle": false,
     "title": ""
    }
   },
   "outputs": [
    {
     "output_type": "display_data",
     "data": {
      "text/html": [
       "<style scoped>\n",
       "  .table-result-container {\n",
       "    max-height: 300px;\n",
       "    overflow: auto;\n",
       "  }\n",
       "  table, th, td {\n",
       "    border: 1px solid black;\n",
       "    border-collapse: collapse;\n",
       "  }\n",
       "  th, td {\n",
       "    padding: 5px;\n",
       "  }\n",
       "  th {\n",
       "    text-align: left;\n",
       "  }\n",
       "</style><div class='table-result-container'><table class='table-result'><thead style='background-color: white'><tr><th>region_id</th><th>region_name</th></tr></thead><tbody><tr><td>1</td><td>Europe</td></tr><tr><td>2</td><td>Americas</td></tr><tr><td>3</td><td>Asia</td></tr><tr><td>4</td><td>Middle East and Africa</td></tr><tr><td>97</td><td>Terra Média</td></tr><tr><td>98</td><td>Westeros</td></tr><tr><td>98</td><td>Esteros</td></tr><tr><td>100</td><td>Sistema Solar</td></tr></tbody></table></div>"
      ]
     },
     "metadata": {
      "application/vnd.databricks.v1+output": {
       "addedWidgets": {},
       "aggData": [],
       "aggError": "",
       "aggOverflow": false,
       "aggSchema": [],
       "aggSeriesLimitReached": false,
       "aggType": "",
       "arguments": {},
       "columnCustomDisplayInfos": {},
       "data": [
        [
         1,
         "Europe"
        ],
        [
         2,
         "Americas"
        ],
        [
         3,
         "Asia"
        ],
        [
         4,
         "Middle East and Africa"
        ],
        [
         97,
         "Terra Média"
        ],
        [
         98,
         "Westeros"
        ],
        [
         98,
         "Esteros"
        ],
        [
         100,
         "Sistema Solar"
        ]
       ],
       "datasetInfos": [],
       "dbfsResultPath": null,
       "isJsonSchema": true,
       "metadata": {},
       "overflow": false,
       "plotOptions": {
        "customPlotOptions": {},
        "displayType": "table",
        "pivotAggregation": null,
        "pivotColumns": null,
        "xColumns": null,
        "yColumns": null
       },
       "removedWidgets": [],
       "schema": [
        {
         "metadata": "{}",
         "name": "region_id",
         "type": "\"integer\""
        },
        {
         "metadata": "{}",
         "name": "region_name",
         "type": "\"string\""
        }
       ],
       "type": "table"
      }
     },
     "output_type": "display_data"
    }
   ],
   "source": [
    "df_regions3.display()"
   ]
  },
  {
   "cell_type": "code",
   "execution_count": 0,
   "metadata": {
    "application/vnd.databricks.v1+cell": {
     "cellMetadata": {
      "byteLimit": 2048000,
      "rowLimit": 10000
     },
     "inputWidgets": {},
     "nuid": "36764c76-9204-4a3a-96b5-f894d5a4e5d8",
     "showTitle": false,
     "title": ""
    }
   },
   "outputs": [],
   "source": [
    "df_countries3 = df_countries.union(df_countries2)"
   ]
  },
  {
   "cell_type": "code",
   "execution_count": 0,
   "metadata": {
    "application/vnd.databricks.v1+cell": {
     "cellMetadata": {
      "byteLimit": 2048000,
      "rowLimit": 10000
     },
     "inputWidgets": {},
     "nuid": "3de6fc63-e6d5-401f-bd10-7f4ebce7be3a",
     "showTitle": false,
     "title": ""
    }
   },
   "outputs": [
    {
     "output_type": "display_data",
     "data": {
      "text/html": [
       "<style scoped>\n",
       "  .table-result-container {\n",
       "    max-height: 300px;\n",
       "    overflow: auto;\n",
       "  }\n",
       "  table, th, td {\n",
       "    border: 1px solid black;\n",
       "    border-collapse: collapse;\n",
       "  }\n",
       "  th, td {\n",
       "    padding: 5px;\n",
       "  }\n",
       "  th {\n",
       "    text-align: left;\n",
       "  }\n",
       "</style><div class='table-result-container'><table class='table-result'><thead style='background-color: white'><tr><th>country_id</th><th>country_name</th><th>region_id</th></tr></thead><tbody><tr><td>AR</td><td>Argentina</td><td>2</td></tr><tr><td>AU</td><td>Australia</td><td>3</td></tr><tr><td>BE</td><td>Belgium</td><td>1</td></tr><tr><td>BR</td><td>Brazil</td><td>2</td></tr><tr><td>CA</td><td>Canada</td><td>2</td></tr><tr><td>CH</td><td>Switzerland</td><td>1</td></tr><tr><td>CN</td><td>China</td><td>3</td></tr><tr><td>DE</td><td>Germany</td><td>1</td></tr><tr><td>DK</td><td>Denmark</td><td>1</td></tr><tr><td>EG</td><td>Egypt</td><td>4</td></tr><tr><td>FR</td><td>France</td><td>1</td></tr><tr><td>HK</td><td>HongKong</td><td>3</td></tr><tr><td>IL</td><td>Israel</td><td>4</td></tr><tr><td>IN</td><td>India</td><td>3</td></tr><tr><td>IT</td><td>Italy</td><td>1</td></tr><tr><td>JP</td><td>Japan</td><td>3</td></tr><tr><td>KW</td><td>Kuwait</td><td>4</td></tr><tr><td>MX</td><td>Mexico</td><td>2</td></tr><tr><td>NG</td><td>Nigeria</td><td>4</td></tr><tr><td>NL</td><td>Netherlands</td><td>1</td></tr><tr><td>SG</td><td>Singapore</td><td>3</td></tr><tr><td>UK</td><td>United Kingdom</td><td>1</td></tr><tr><td>US</td><td>United States of America</td><td>2</td></tr><tr><td>ZM</td><td>Zambia</td><td>4</td></tr><tr><td>ZW</td><td>Zimbabwe</td><td>4</td></tr><tr><td>50</td><td>Valfenda</td><td>91</td></tr><tr><td>51</td><td>Kings Landing</td><td>98</td></tr><tr><td>51</td><td>Terra</td><td>101</td></tr></tbody></table></div>"
      ]
     },
     "metadata": {
      "application/vnd.databricks.v1+output": {
       "addedWidgets": {},
       "aggData": [],
       "aggError": "",
       "aggOverflow": false,
       "aggSchema": [],
       "aggSeriesLimitReached": false,
       "aggType": "",
       "arguments": {},
       "columnCustomDisplayInfos": {},
       "data": [
        [
         "AR",
         "Argentina",
         2
        ],
        [
         "AU",
         "Australia",
         3
        ],
        [
         "BE",
         "Belgium",
         1
        ],
        [
         "BR",
         "Brazil",
         2
        ],
        [
         "CA",
         "Canada",
         2
        ],
        [
         "CH",
         "Switzerland",
         1
        ],
        [
         "CN",
         "China",
         3
        ],
        [
         "DE",
         "Germany",
         1
        ],
        [
         "DK",
         "Denmark",
         1
        ],
        [
         "EG",
         "Egypt",
         4
        ],
        [
         "FR",
         "France",
         1
        ],
        [
         "HK",
         "HongKong",
         3
        ],
        [
         "IL",
         "Israel",
         4
        ],
        [
         "IN",
         "India",
         3
        ],
        [
         "IT",
         "Italy",
         1
        ],
        [
         "JP",
         "Japan",
         3
        ],
        [
         "KW",
         "Kuwait",
         4
        ],
        [
         "MX",
         "Mexico",
         2
        ],
        [
         "NG",
         "Nigeria",
         4
        ],
        [
         "NL",
         "Netherlands",
         1
        ],
        [
         "SG",
         "Singapore",
         3
        ],
        [
         "UK",
         "United Kingdom",
         1
        ],
        [
         "US",
         "United States of America",
         2
        ],
        [
         "ZM",
         "Zambia",
         4
        ],
        [
         "ZW",
         "Zimbabwe",
         4
        ],
        [
         "50",
         "Valfenda",
         91
        ],
        [
         "51",
         "Kings Landing",
         98
        ],
        [
         "51",
         "Terra",
         101
        ]
       ],
       "datasetInfos": [],
       "dbfsResultPath": null,
       "isJsonSchema": true,
       "metadata": {},
       "overflow": false,
       "plotOptions": {
        "customPlotOptions": {},
        "displayType": "table",
        "pivotAggregation": null,
        "pivotColumns": null,
        "xColumns": null,
        "yColumns": null
       },
       "removedWidgets": [],
       "schema": [
        {
         "metadata": "{}",
         "name": "country_id",
         "type": "\"string\""
        },
        {
         "metadata": "{}",
         "name": "country_name",
         "type": "\"string\""
        },
        {
         "metadata": "{}",
         "name": "region_id",
         "type": "\"integer\""
        }
       ],
       "type": "table"
      }
     },
     "output_type": "display_data"
    }
   ],
   "source": [
    "df_countries3.display()"
   ]
  },
  {
   "cell_type": "markdown",
   "metadata": {
    "application/vnd.databricks.v1+cell": {
     "cellMetadata": {
      "byteLimit": 2048000,
      "rowLimit": 10000
     },
     "inputWidgets": {},
     "nuid": "b9936515-15fa-4e69-98e8-1983db2cda6d",
     "showTitle": false,
     "title": ""
    }
   },
   "source": [
    "### **Join** ###\n",
    "Outra possibilidade muito utilizada é a **junção** ou **join** entre dataframes, a junção necessita que os dataframes envolvidos tenham um campo em comum, semelhante a relação de chaves primarias e estrageiras do SQL tradicional<br>\n",
    "**Tipos de junções**;<br>\n",
    "• inner - Junção padrão, só realiza a junção se a mesma chave exista em todos os dataframes envolvidos ;<br>\n",
    "• left - Sempre retorna os elementos do dataframe da esquerda, os caso os elementos do dataframe da esquerda não sejam encontrados, as colunas desse dataframe ;<br>\n",
    "• full - ;<br>\n",
    "• anti - ;<br>"
   ]
  },
  {
   "cell_type": "code",
   "execution_count": 0,
   "metadata": {
    "application/vnd.databricks.v1+cell": {
     "cellMetadata": {
      "byteLimit": 2048000,
      "rowLimit": 10000
     },
     "inputWidgets": {},
     "nuid": "ef719f4d-7e12-41c1-b620-706efdaf39f3",
     "showTitle": false,
     "title": ""
    }
   },
   "outputs": [],
   "source": []
  },
  {
   "cell_type": "markdown",
   "metadata": {
    "application/vnd.databricks.v1+cell": {
     "cellMetadata": {
      "byteLimit": 2048000,
      "rowLimit": 10000
     },
     "inputWidgets": {},
     "nuid": "e52b3f94-6dc2-4937-9c47-0f674fcc2224",
     "showTitle": false,
     "title": ""
    }
   },
   "source": [
    "### **Inner Join** ###\n",
    "Outra possibilidade muito utilizada é a **junção** ou **join** entre dataframes, a junção necessita que os dataframes envolvidos tenham um campo em comum, semelhante a relação de chaves primarias e estrageiras do SQL tradicional<br>"
   ]
  },
  {
   "cell_type": "code",
   "execution_count": 0,
   "metadata": {
    "application/vnd.databricks.v1+cell": {
     "cellMetadata": {
      "byteLimit": 2048000,
      "rowLimit": 10000
     },
     "inputWidgets": {},
     "nuid": "6e34bea5-fe7a-4a7a-9056-0d69b9550c7c",
     "showTitle": false,
     "title": ""
    }
   },
   "outputs": [],
   "source": [
    "condicao = df_regions3.region_id == df_countries3.region_id\n",
    "df_join = df_regions3.join(df_countries3, condicao ,'inner')"
   ]
  },
  {
   "cell_type": "code",
   "execution_count": 0,
   "metadata": {
    "application/vnd.databricks.v1+cell": {
     "cellMetadata": {
      "byteLimit": 2048000,
      "rowLimit": 10000
     },
     "inputWidgets": {},
     "nuid": "2146a638-a0bb-4789-9870-640d4985a474",
     "showTitle": false,
     "title": ""
    },
    "scrolled": true
   },
   "outputs": [
    {
     "output_type": "display_data",
     "data": {
      "text/html": [
       "<style scoped>\n",
       "  .table-result-container {\n",
       "    max-height: 300px;\n",
       "    overflow: auto;\n",
       "  }\n",
       "  table, th, td {\n",
       "    border: 1px solid black;\n",
       "    border-collapse: collapse;\n",
       "  }\n",
       "  th, td {\n",
       "    padding: 5px;\n",
       "  }\n",
       "  th {\n",
       "    text-align: left;\n",
       "  }\n",
       "</style><div class='table-result-container'><table class='table-result'><thead style='background-color: white'><tr><th>region_id</th><th>region_name</th><th>country_id</th><th>country_name</th><th>region_id</th></tr></thead><tbody><tr><td>1</td><td>Europe</td><td>BE</td><td>Belgium</td><td>1</td></tr><tr><td>1</td><td>Europe</td><td>CH</td><td>Switzerland</td><td>1</td></tr><tr><td>1</td><td>Europe</td><td>DE</td><td>Germany</td><td>1</td></tr><tr><td>1</td><td>Europe</td><td>DK</td><td>Denmark</td><td>1</td></tr><tr><td>1</td><td>Europe</td><td>FR</td><td>France</td><td>1</td></tr><tr><td>1</td><td>Europe</td><td>IT</td><td>Italy</td><td>1</td></tr><tr><td>1</td><td>Europe</td><td>NL</td><td>Netherlands</td><td>1</td></tr><tr><td>1</td><td>Europe</td><td>UK</td><td>United Kingdom</td><td>1</td></tr><tr><td>2</td><td>Americas</td><td>AR</td><td>Argentina</td><td>2</td></tr><tr><td>2</td><td>Americas</td><td>BR</td><td>Brazil</td><td>2</td></tr><tr><td>2</td><td>Americas</td><td>CA</td><td>Canada</td><td>2</td></tr><tr><td>2</td><td>Americas</td><td>MX</td><td>Mexico</td><td>2</td></tr><tr><td>2</td><td>Americas</td><td>US</td><td>United States of America</td><td>2</td></tr><tr><td>3</td><td>Asia</td><td>AU</td><td>Australia</td><td>3</td></tr><tr><td>3</td><td>Asia</td><td>CN</td><td>China</td><td>3</td></tr><tr><td>3</td><td>Asia</td><td>HK</td><td>HongKong</td><td>3</td></tr><tr><td>3</td><td>Asia</td><td>IN</td><td>India</td><td>3</td></tr><tr><td>3</td><td>Asia</td><td>JP</td><td>Japan</td><td>3</td></tr><tr><td>3</td><td>Asia</td><td>SG</td><td>Singapore</td><td>3</td></tr><tr><td>4</td><td>Middle East and Africa</td><td>EG</td><td>Egypt</td><td>4</td></tr><tr><td>4</td><td>Middle East and Africa</td><td>IL</td><td>Israel</td><td>4</td></tr><tr><td>4</td><td>Middle East and Africa</td><td>KW</td><td>Kuwait</td><td>4</td></tr><tr><td>4</td><td>Middle East and Africa</td><td>NG</td><td>Nigeria</td><td>4</td></tr><tr><td>4</td><td>Middle East and Africa</td><td>ZM</td><td>Zambia</td><td>4</td></tr><tr><td>4</td><td>Middle East and Africa</td><td>ZW</td><td>Zimbabwe</td><td>4</td></tr><tr><td>98</td><td>Westeros</td><td>51</td><td>Kings Landing</td><td>98</td></tr><tr><td>98</td><td>Esteros</td><td>51</td><td>Kings Landing</td><td>98</td></tr></tbody></table></div>"
      ]
     },
     "metadata": {
      "application/vnd.databricks.v1+output": {
       "addedWidgets": {},
       "aggData": [],
       "aggError": "",
       "aggOverflow": false,
       "aggSchema": [],
       "aggSeriesLimitReached": false,
       "aggType": "",
       "arguments": {},
       "columnCustomDisplayInfos": {},
       "data": [
        [
         1,
         "Europe",
         "BE",
         "Belgium",
         1
        ],
        [
         1,
         "Europe",
         "CH",
         "Switzerland",
         1
        ],
        [
         1,
         "Europe",
         "DE",
         "Germany",
         1
        ],
        [
         1,
         "Europe",
         "DK",
         "Denmark",
         1
        ],
        [
         1,
         "Europe",
         "FR",
         "France",
         1
        ],
        [
         1,
         "Europe",
         "IT",
         "Italy",
         1
        ],
        [
         1,
         "Europe",
         "NL",
         "Netherlands",
         1
        ],
        [
         1,
         "Europe",
         "UK",
         "United Kingdom",
         1
        ],
        [
         2,
         "Americas",
         "AR",
         "Argentina",
         2
        ],
        [
         2,
         "Americas",
         "BR",
         "Brazil",
         2
        ],
        [
         2,
         "Americas",
         "CA",
         "Canada",
         2
        ],
        [
         2,
         "Americas",
         "MX",
         "Mexico",
         2
        ],
        [
         2,
         "Americas",
         "US",
         "United States of America",
         2
        ],
        [
         3,
         "Asia",
         "AU",
         "Australia",
         3
        ],
        [
         3,
         "Asia",
         "CN",
         "China",
         3
        ],
        [
         3,
         "Asia",
         "HK",
         "HongKong",
         3
        ],
        [
         3,
         "Asia",
         "IN",
         "India",
         3
        ],
        [
         3,
         "Asia",
         "JP",
         "Japan",
         3
        ],
        [
         3,
         "Asia",
         "SG",
         "Singapore",
         3
        ],
        [
         4,
         "Middle East and Africa",
         "EG",
         "Egypt",
         4
        ],
        [
         4,
         "Middle East and Africa",
         "IL",
         "Israel",
         4
        ],
        [
         4,
         "Middle East and Africa",
         "KW",
         "Kuwait",
         4
        ],
        [
         4,
         "Middle East and Africa",
         "NG",
         "Nigeria",
         4
        ],
        [
         4,
         "Middle East and Africa",
         "ZM",
         "Zambia",
         4
        ],
        [
         4,
         "Middle East and Africa",
         "ZW",
         "Zimbabwe",
         4
        ],
        [
         98,
         "Westeros",
         "51",
         "Kings Landing",
         98
        ],
        [
         98,
         "Esteros",
         "51",
         "Kings Landing",
         98
        ]
       ],
       "datasetInfos": [],
       "dbfsResultPath": null,
       "isJsonSchema": true,
       "metadata": {},
       "overflow": false,
       "plotOptions": {
        "customPlotOptions": {},
        "displayType": "table",
        "pivotAggregation": null,
        "pivotColumns": null,
        "xColumns": null,
        "yColumns": null
       },
       "removedWidgets": [],
       "schema": [
        {
         "metadata": "{}",
         "name": "region_id",
         "type": "\"integer\""
        },
        {
         "metadata": "{}",
         "name": "region_name",
         "type": "\"string\""
        },
        {
         "metadata": "{}",
         "name": "country_id",
         "type": "\"string\""
        },
        {
         "metadata": "{}",
         "name": "country_name",
         "type": "\"string\""
        },
        {
         "metadata": "{}",
         "name": "region_id",
         "type": "\"integer\""
        }
       ],
       "type": "table"
      }
     },
     "output_type": "display_data"
    }
   ],
   "source": [
    "df_join.display()"
   ]
  },
  {
   "cell_type": "markdown",
   "metadata": {
    "application/vnd.databricks.v1+cell": {
     "cellMetadata": {
      "byteLimit": 2048000,
      "rowLimit": 10000
     },
     "inputWidgets": {},
     "nuid": "7c8ea157-9782-4789-82bd-5d07ceffdf7c",
     "showTitle": false,
     "title": ""
    }
   },
   "source": [
    "### **Left Join** ###\n",
    "Sempre retorna os elementos do dataframe da esquerda, os caso os elementos do dataframe da direita não sejam encontrados, as colunas desse dataframe aparecem como nulas;<br>"
   ]
  },
  {
   "cell_type": "code",
   "execution_count": 0,
   "metadata": {
    "application/vnd.databricks.v1+cell": {
     "cellMetadata": {
      "byteLimit": 2048000,
      "rowLimit": 10000
     },
     "inputWidgets": {},
     "nuid": "8b5f7617-c9a5-43cd-ab4f-1b3e9e318fa5",
     "showTitle": false,
     "title": ""
    }
   },
   "outputs": [],
   "source": [
    "condicao = df_regions3.region_id == df_countries3.region_id\n",
    "df_join = df_regions3.join(df_countries3, condicao ,'left')"
   ]
  },
  {
   "cell_type": "code",
   "execution_count": 0,
   "metadata": {
    "application/vnd.databricks.v1+cell": {
     "cellMetadata": {
      "byteLimit": 2048000,
      "rowLimit": 10000
     },
     "inputWidgets": {},
     "nuid": "5d5a63d4-7d0f-4917-b577-cfd4fdfbd783",
     "showTitle": false,
     "title": ""
    }
   },
   "outputs": [
    {
     "output_type": "display_data",
     "data": {
      "text/html": [
       "<style scoped>\n",
       "  .table-result-container {\n",
       "    max-height: 300px;\n",
       "    overflow: auto;\n",
       "  }\n",
       "  table, th, td {\n",
       "    border: 1px solid black;\n",
       "    border-collapse: collapse;\n",
       "  }\n",
       "  th, td {\n",
       "    padding: 5px;\n",
       "  }\n",
       "  th {\n",
       "    text-align: left;\n",
       "  }\n",
       "</style><div class='table-result-container'><table class='table-result'><thead style='background-color: white'><tr><th>region_id</th><th>region_name</th><th>country_id</th><th>country_name</th><th>region_id</th></tr></thead><tbody><tr><td>1</td><td>Europe</td><td>UK</td><td>United Kingdom</td><td>1</td></tr><tr><td>1</td><td>Europe</td><td>NL</td><td>Netherlands</td><td>1</td></tr><tr><td>1</td><td>Europe</td><td>IT</td><td>Italy</td><td>1</td></tr><tr><td>1</td><td>Europe</td><td>FR</td><td>France</td><td>1</td></tr><tr><td>1</td><td>Europe</td><td>DK</td><td>Denmark</td><td>1</td></tr><tr><td>1</td><td>Europe</td><td>DE</td><td>Germany</td><td>1</td></tr><tr><td>1</td><td>Europe</td><td>CH</td><td>Switzerland</td><td>1</td></tr><tr><td>1</td><td>Europe</td><td>BE</td><td>Belgium</td><td>1</td></tr><tr><td>3</td><td>Asia</td><td>SG</td><td>Singapore</td><td>3</td></tr><tr><td>3</td><td>Asia</td><td>JP</td><td>Japan</td><td>3</td></tr><tr><td>3</td><td>Asia</td><td>IN</td><td>India</td><td>3</td></tr><tr><td>3</td><td>Asia</td><td>HK</td><td>HongKong</td><td>3</td></tr><tr><td>3</td><td>Asia</td><td>CN</td><td>China</td><td>3</td></tr><tr><td>3</td><td>Asia</td><td>AU</td><td>Australia</td><td>3</td></tr><tr><td>4</td><td>Middle East and Africa</td><td>ZW</td><td>Zimbabwe</td><td>4</td></tr><tr><td>4</td><td>Middle East and Africa</td><td>ZM</td><td>Zambia</td><td>4</td></tr><tr><td>4</td><td>Middle East and Africa</td><td>NG</td><td>Nigeria</td><td>4</td></tr><tr><td>4</td><td>Middle East and Africa</td><td>KW</td><td>Kuwait</td><td>4</td></tr><tr><td>4</td><td>Middle East and Africa</td><td>IL</td><td>Israel</td><td>4</td></tr><tr><td>4</td><td>Middle East and Africa</td><td>EG</td><td>Egypt</td><td>4</td></tr><tr><td>2</td><td>Americas</td><td>US</td><td>United States of America</td><td>2</td></tr><tr><td>2</td><td>Americas</td><td>MX</td><td>Mexico</td><td>2</td></tr><tr><td>2</td><td>Americas</td><td>CA</td><td>Canada</td><td>2</td></tr><tr><td>2</td><td>Americas</td><td>BR</td><td>Brazil</td><td>2</td></tr><tr><td>2</td><td>Americas</td><td>AR</td><td>Argentina</td><td>2</td></tr><tr><td>97</td><td>Terra Média</td><td>null</td><td>null</td><td>null</td></tr><tr><td>98</td><td>Westeros</td><td>51</td><td>Kings Landing</td><td>98</td></tr><tr><td>98</td><td>Esteros</td><td>51</td><td>Kings Landing</td><td>98</td></tr><tr><td>100</td><td>Sistema Solar</td><td>null</td><td>null</td><td>null</td></tr></tbody></table></div>"
      ]
     },
     "metadata": {
      "application/vnd.databricks.v1+output": {
       "addedWidgets": {},
       "aggData": [],
       "aggError": "",
       "aggOverflow": false,
       "aggSchema": [],
       "aggSeriesLimitReached": false,
       "aggType": "",
       "arguments": {},
       "columnCustomDisplayInfos": {},
       "data": [
        [
         1,
         "Europe",
         "UK",
         "United Kingdom",
         1
        ],
        [
         1,
         "Europe",
         "NL",
         "Netherlands",
         1
        ],
        [
         1,
         "Europe",
         "IT",
         "Italy",
         1
        ],
        [
         1,
         "Europe",
         "FR",
         "France",
         1
        ],
        [
         1,
         "Europe",
         "DK",
         "Denmark",
         1
        ],
        [
         1,
         "Europe",
         "DE",
         "Germany",
         1
        ],
        [
         1,
         "Europe",
         "CH",
         "Switzerland",
         1
        ],
        [
         1,
         "Europe",
         "BE",
         "Belgium",
         1
        ],
        [
         3,
         "Asia",
         "SG",
         "Singapore",
         3
        ],
        [
         3,
         "Asia",
         "JP",
         "Japan",
         3
        ],
        [
         3,
         "Asia",
         "IN",
         "India",
         3
        ],
        [
         3,
         "Asia",
         "HK",
         "HongKong",
         3
        ],
        [
         3,
         "Asia",
         "CN",
         "China",
         3
        ],
        [
         3,
         "Asia",
         "AU",
         "Australia",
         3
        ],
        [
         4,
         "Middle East and Africa",
         "ZW",
         "Zimbabwe",
         4
        ],
        [
         4,
         "Middle East and Africa",
         "ZM",
         "Zambia",
         4
        ],
        [
         4,
         "Middle East and Africa",
         "NG",
         "Nigeria",
         4
        ],
        [
         4,
         "Middle East and Africa",
         "KW",
         "Kuwait",
         4
        ],
        [
         4,
         "Middle East and Africa",
         "IL",
         "Israel",
         4
        ],
        [
         4,
         "Middle East and Africa",
         "EG",
         "Egypt",
         4
        ],
        [
         2,
         "Americas",
         "US",
         "United States of America",
         2
        ],
        [
         2,
         "Americas",
         "MX",
         "Mexico",
         2
        ],
        [
         2,
         "Americas",
         "CA",
         "Canada",
         2
        ],
        [
         2,
         "Americas",
         "BR",
         "Brazil",
         2
        ],
        [
         2,
         "Americas",
         "AR",
         "Argentina",
         2
        ],
        [
         97,
         "Terra Média",
         null,
         null,
         null
        ],
        [
         98,
         "Westeros",
         "51",
         "Kings Landing",
         98
        ],
        [
         98,
         "Esteros",
         "51",
         "Kings Landing",
         98
        ],
        [
         100,
         "Sistema Solar",
         null,
         null,
         null
        ]
       ],
       "datasetInfos": [],
       "dbfsResultPath": null,
       "isJsonSchema": true,
       "metadata": {},
       "overflow": false,
       "plotOptions": {
        "customPlotOptions": {},
        "displayType": "table",
        "pivotAggregation": null,
        "pivotColumns": null,
        "xColumns": null,
        "yColumns": null
       },
       "removedWidgets": [],
       "schema": [
        {
         "metadata": "{}",
         "name": "region_id",
         "type": "\"integer\""
        },
        {
         "metadata": "{}",
         "name": "region_name",
         "type": "\"string\""
        },
        {
         "metadata": "{}",
         "name": "country_id",
         "type": "\"string\""
        },
        {
         "metadata": "{}",
         "name": "country_name",
         "type": "\"string\""
        },
        {
         "metadata": "{}",
         "name": "region_id",
         "type": "\"integer\""
        }
       ],
       "type": "table"
      }
     },
     "output_type": "display_data"
    }
   ],
   "source": [
    "df_join.display()"
   ]
  },
  {
   "cell_type": "markdown",
   "metadata": {
    "application/vnd.databricks.v1+cell": {
     "cellMetadata": {
      "byteLimit": 2048000,
      "rowLimit": 10000
     },
     "inputWidgets": {},
     "nuid": "d956373a-2434-44c2-82de-2234e86266c5",
     "showTitle": false,
     "title": ""
    }
   },
   "source": [
    "### **Full Join** ###\n",
    "Sempre retorna os elementos do dataframe da esquerda, os caso os elementos do dataframe da direita não sejam encontrados, as colunas desse dataframe aparecem como nulas;<br>"
   ]
  },
  {
   "cell_type": "code",
   "execution_count": 0,
   "metadata": {
    "application/vnd.databricks.v1+cell": {
     "cellMetadata": {
      "byteLimit": 2048000,
      "rowLimit": 10000
     },
     "inputWidgets": {},
     "nuid": "a7aea3d8-a1e7-4cfa-b705-1ad4c9dafe52",
     "showTitle": false,
     "title": ""
    }
   },
   "outputs": [],
   "source": [
    "condicao = df_regions3.region_id == df_countries3.region_id\n",
    "df_join = df_regions3.join(df_countries3, condicao ,'full')"
   ]
  },
  {
   "cell_type": "code",
   "execution_count": 0,
   "metadata": {
    "application/vnd.databricks.v1+cell": {
     "cellMetadata": {
      "byteLimit": 2048000,
      "rowLimit": 10000
     },
     "inputWidgets": {},
     "nuid": "ec14beba-fe46-41fb-ae83-4bf301842a44",
     "showTitle": false,
     "title": ""
    }
   },
   "outputs": [
    {
     "output_type": "display_data",
     "data": {
      "text/html": [
       "<style scoped>\n",
       "  .table-result-container {\n",
       "    max-height: 300px;\n",
       "    overflow: auto;\n",
       "  }\n",
       "  table, th, td {\n",
       "    border: 1px solid black;\n",
       "    border-collapse: collapse;\n",
       "  }\n",
       "  th, td {\n",
       "    padding: 5px;\n",
       "  }\n",
       "  th {\n",
       "    text-align: left;\n",
       "  }\n",
       "</style><div class='table-result-container'><table class='table-result'><thead style='background-color: white'><tr><th>region_id</th><th>region_name</th><th>country_id</th><th>country_name</th><th>region_id</th></tr></thead><tbody><tr><td>1</td><td>Europe</td><td>BE</td><td>Belgium</td><td>1</td></tr><tr><td>1</td><td>Europe</td><td>CH</td><td>Switzerland</td><td>1</td></tr><tr><td>1</td><td>Europe</td><td>DE</td><td>Germany</td><td>1</td></tr><tr><td>1</td><td>Europe</td><td>DK</td><td>Denmark</td><td>1</td></tr><tr><td>1</td><td>Europe</td><td>FR</td><td>France</td><td>1</td></tr><tr><td>1</td><td>Europe</td><td>IT</td><td>Italy</td><td>1</td></tr><tr><td>1</td><td>Europe</td><td>NL</td><td>Netherlands</td><td>1</td></tr><tr><td>1</td><td>Europe</td><td>UK</td><td>United Kingdom</td><td>1</td></tr><tr><td>2</td><td>Americas</td><td>AR</td><td>Argentina</td><td>2</td></tr><tr><td>2</td><td>Americas</td><td>BR</td><td>Brazil</td><td>2</td></tr><tr><td>2</td><td>Americas</td><td>CA</td><td>Canada</td><td>2</td></tr><tr><td>2</td><td>Americas</td><td>MX</td><td>Mexico</td><td>2</td></tr><tr><td>2</td><td>Americas</td><td>US</td><td>United States of America</td><td>2</td></tr><tr><td>3</td><td>Asia</td><td>AU</td><td>Australia</td><td>3</td></tr><tr><td>3</td><td>Asia</td><td>CN</td><td>China</td><td>3</td></tr><tr><td>3</td><td>Asia</td><td>HK</td><td>HongKong</td><td>3</td></tr><tr><td>3</td><td>Asia</td><td>IN</td><td>India</td><td>3</td></tr><tr><td>3</td><td>Asia</td><td>JP</td><td>Japan</td><td>3</td></tr><tr><td>3</td><td>Asia</td><td>SG</td><td>Singapore</td><td>3</td></tr><tr><td>4</td><td>Middle East and Africa</td><td>EG</td><td>Egypt</td><td>4</td></tr><tr><td>4</td><td>Middle East and Africa</td><td>IL</td><td>Israel</td><td>4</td></tr><tr><td>4</td><td>Middle East and Africa</td><td>KW</td><td>Kuwait</td><td>4</td></tr><tr><td>4</td><td>Middle East and Africa</td><td>NG</td><td>Nigeria</td><td>4</td></tr><tr><td>4</td><td>Middle East and Africa</td><td>ZM</td><td>Zambia</td><td>4</td></tr><tr><td>4</td><td>Middle East and Africa</td><td>ZW</td><td>Zimbabwe</td><td>4</td></tr><tr><td>null</td><td>null</td><td>50</td><td>Valfenda</td><td>91</td></tr><tr><td>97</td><td>Terra Média</td><td>null</td><td>null</td><td>null</td></tr><tr><td>98</td><td>Westeros</td><td>51</td><td>Kings Landing</td><td>98</td></tr><tr><td>98</td><td>Esteros</td><td>51</td><td>Kings Landing</td><td>98</td></tr><tr><td>100</td><td>Sistema Solar</td><td>null</td><td>null</td><td>null</td></tr><tr><td>null</td><td>null</td><td>51</td><td>Terra</td><td>101</td></tr></tbody></table></div>"
      ]
     },
     "metadata": {
      "application/vnd.databricks.v1+output": {
       "addedWidgets": {},
       "aggData": [],
       "aggError": "",
       "aggOverflow": false,
       "aggSchema": [],
       "aggSeriesLimitReached": false,
       "aggType": "",
       "arguments": {},
       "columnCustomDisplayInfos": {},
       "data": [
        [
         1,
         "Europe",
         "BE",
         "Belgium",
         1
        ],
        [
         1,
         "Europe",
         "CH",
         "Switzerland",
         1
        ],
        [
         1,
         "Europe",
         "DE",
         "Germany",
         1
        ],
        [
         1,
         "Europe",
         "DK",
         "Denmark",
         1
        ],
        [
         1,
         "Europe",
         "FR",
         "France",
         1
        ],
        [
         1,
         "Europe",
         "IT",
         "Italy",
         1
        ],
        [
         1,
         "Europe",
         "NL",
         "Netherlands",
         1
        ],
        [
         1,
         "Europe",
         "UK",
         "United Kingdom",
         1
        ],
        [
         2,
         "Americas",
         "AR",
         "Argentina",
         2
        ],
        [
         2,
         "Americas",
         "BR",
         "Brazil",
         2
        ],
        [
         2,
         "Americas",
         "CA",
         "Canada",
         2
        ],
        [
         2,
         "Americas",
         "MX",
         "Mexico",
         2
        ],
        [
         2,
         "Americas",
         "US",
         "United States of America",
         2
        ],
        [
         3,
         "Asia",
         "AU",
         "Australia",
         3
        ],
        [
         3,
         "Asia",
         "CN",
         "China",
         3
        ],
        [
         3,
         "Asia",
         "HK",
         "HongKong",
         3
        ],
        [
         3,
         "Asia",
         "IN",
         "India",
         3
        ],
        [
         3,
         "Asia",
         "JP",
         "Japan",
         3
        ],
        [
         3,
         "Asia",
         "SG",
         "Singapore",
         3
        ],
        [
         4,
         "Middle East and Africa",
         "EG",
         "Egypt",
         4
        ],
        [
         4,
         "Middle East and Africa",
         "IL",
         "Israel",
         4
        ],
        [
         4,
         "Middle East and Africa",
         "KW",
         "Kuwait",
         4
        ],
        [
         4,
         "Middle East and Africa",
         "NG",
         "Nigeria",
         4
        ],
        [
         4,
         "Middle East and Africa",
         "ZM",
         "Zambia",
         4
        ],
        [
         4,
         "Middle East and Africa",
         "ZW",
         "Zimbabwe",
         4
        ],
        [
         null,
         null,
         "50",
         "Valfenda",
         91
        ],
        [
         97,
         "Terra Média",
         null,
         null,
         null
        ],
        [
         98,
         "Westeros",
         "51",
         "Kings Landing",
         98
        ],
        [
         98,
         "Esteros",
         "51",
         "Kings Landing",
         98
        ],
        [
         100,
         "Sistema Solar",
         null,
         null,
         null
        ],
        [
         null,
         null,
         "51",
         "Terra",
         101
        ]
       ],
       "datasetInfos": [],
       "dbfsResultPath": null,
       "isJsonSchema": true,
       "metadata": {},
       "overflow": false,
       "plotOptions": {
        "customPlotOptions": {},
        "displayType": "table",
        "pivotAggregation": null,
        "pivotColumns": null,
        "xColumns": null,
        "yColumns": null
       },
       "removedWidgets": [],
       "schema": [
        {
         "metadata": "{}",
         "name": "region_id",
         "type": "\"integer\""
        },
        {
         "metadata": "{}",
         "name": "region_name",
         "type": "\"string\""
        },
        {
         "metadata": "{}",
         "name": "country_id",
         "type": "\"string\""
        },
        {
         "metadata": "{}",
         "name": "country_name",
         "type": "\"string\""
        },
        {
         "metadata": "{}",
         "name": "region_id",
         "type": "\"integer\""
        }
       ],
       "type": "table"
      }
     },
     "output_type": "display_data"
    }
   ],
   "source": [
    "df_join.display()"
   ]
  },
  {
   "cell_type": "markdown",
   "metadata": {
    "application/vnd.databricks.v1+cell": {
     "cellMetadata": {
      "byteLimit": 2048000,
      "rowLimit": 10000
     },
     "inputWidgets": {},
     "nuid": "01a741e5-5539-457a-90dd-bdc973d8e4b4",
     "showTitle": false,
     "title": ""
    }
   },
   "source": [
    "### **Anti Join** ###\n",
    "Sempre retorna os elementos do dataframe da direita, quem não sejam encontrados no dataframe da esquerda;<br>"
   ]
  },
  {
   "cell_type": "code",
   "execution_count": 0,
   "metadata": {
    "application/vnd.databricks.v1+cell": {
     "cellMetadata": {
      "byteLimit": 2048000,
      "rowLimit": 10000
     },
     "inputWidgets": {},
     "nuid": "3a7c2470-9bbb-4240-8ff3-4baa52abf311",
     "showTitle": false,
     "title": ""
    }
   },
   "outputs": [],
   "source": [
    "condicao = df_regions3.region_id == df_countries.region_id\n",
    "df_join = df_regions3.join(df_countries, condicao ,'anti')"
   ]
  },
  {
   "cell_type": "code",
   "execution_count": 0,
   "metadata": {
    "application/vnd.databricks.v1+cell": {
     "cellMetadata": {
      "byteLimit": 2048000,
      "rowLimit": 10000
     },
     "inputWidgets": {},
     "nuid": "1df54379-0bf3-4e7b-9d45-de6be2e1cd76",
     "showTitle": false,
     "title": ""
    }
   },
   "outputs": [
    {
     "output_type": "display_data",
     "data": {
      "text/html": [
       "<style scoped>\n",
       "  .table-result-container {\n",
       "    max-height: 300px;\n",
       "    overflow: auto;\n",
       "  }\n",
       "  table, th, td {\n",
       "    border: 1px solid black;\n",
       "    border-collapse: collapse;\n",
       "  }\n",
       "  th, td {\n",
       "    padding: 5px;\n",
       "  }\n",
       "  th {\n",
       "    text-align: left;\n",
       "  }\n",
       "</style><div class='table-result-container'><table class='table-result'><thead style='background-color: white'><tr><th>region_id</th><th>region_name</th></tr></thead><tbody><tr><td>97</td><td>Terra Média</td></tr><tr><td>98</td><td>Westeros</td></tr><tr><td>98</td><td>Esteros</td></tr><tr><td>100</td><td>Sistema Solar</td></tr></tbody></table></div>"
      ]
     },
     "metadata": {
      "application/vnd.databricks.v1+output": {
       "addedWidgets": {},
       "aggData": [],
       "aggError": "",
       "aggOverflow": false,
       "aggSchema": [],
       "aggSeriesLimitReached": false,
       "aggType": "",
       "arguments": {},
       "columnCustomDisplayInfos": {},
       "data": [
        [
         97,
         "Terra Média"
        ],
        [
         98,
         "Westeros"
        ],
        [
         98,
         "Esteros"
        ],
        [
         100,
         "Sistema Solar"
        ]
       ],
       "datasetInfos": [],
       "dbfsResultPath": null,
       "isJsonSchema": true,
       "metadata": {},
       "overflow": false,
       "plotOptions": {
        "customPlotOptions": {},
        "displayType": "table",
        "pivotAggregation": null,
        "pivotColumns": null,
        "xColumns": null,
        "yColumns": null
       },
       "removedWidgets": [],
       "schema": [
        {
         "metadata": "{}",
         "name": "region_id",
         "type": "\"integer\""
        },
        {
         "metadata": "{}",
         "name": "region_name",
         "type": "\"string\""
        }
       ],
       "type": "table"
      }
     },
     "output_type": "display_data"
    }
   ],
   "source": [
    "df_join.display()"
   ]
  },
  {
   "cell_type": "markdown",
   "metadata": {
    "application/vnd.databricks.v1+cell": {
     "cellMetadata": {
      "byteLimit": 2048000,
      "rowLimit": 10000
     },
     "inputWidgets": {},
     "nuid": "ac87136e-8185-4c32-ad0e-bcae1e089050",
     "showTitle": false,
     "title": ""
    }
   },
   "source": [
    "### **Pivot** ###\n",
    "A função PySpark pivot() é usada para girar/transpor os dados de uma coluna para várias colunas do Dataframe e vice-versa usando unpivot().</br> \n",
    "Pivot() É uma agregação onde um dos valores das colunas do agrupamento é transposto em colunas individuais com dados distintos."
   ]
  },
  {
   "cell_type": "code",
   "execution_count": 0,
   "metadata": {
    "application/vnd.databricks.v1+cell": {
     "cellMetadata": {
      "byteLimit": 2048000,
      "rowLimit": 10000
     },
     "inputWidgets": {},
     "nuid": "a6e68a30-7a97-4f21-aa11-d377a83eefee",
     "showTitle": false,
     "title": ""
    }
   },
   "outputs": [],
   "source": [
    "data = [(1,\"Profit\",100.0),\n",
    "        (2,\"Profit\",100.0),\n",
    "        (3,\"Profit\",100.0),\n",
    "        (4,\"Profit\",100.0),\n",
    "        (5,\"Profit\",100.0),\n",
    "        (6,\"Profit\",100.0),\n",
    "        (7,\"Profit\",100.0),\n",
    "        (8,\"Profit\",100.0),\n",
    "        (9,\"Profit\",100.0),\n",
    "       (10,\"Profit\",100.0),\n",
    "       (11,\"Profit\",100.0),\n",
    "       (12,\"Profit\",100.0),\n",
    "         (1,\"Revenue\",500.0),\n",
    "        (2,\"Revenue\",500.0),\n",
    "        (3,\"Revenue\",500.0),\n",
    "        (4,\"Revenue\",500.0),\n",
    "        (5,\"Revenue\",555.0),\n",
    "        (6,\"Revenue\",777.0),\n",
    "        (7,\"Revenue\",800.0),\n",
    "        (8,\"Revenue\",900.0),\n",
    "        (9,\"Revenue\",1000.0),\n",
    "       (10,\"Revenue\",300.0),\n",
    "       (12,\"Revenue\",400.0)\n",
    "      ]\n",
    "\n",
    "#country_id|country_name|region_id\n",
    "schema = StructType([ \\\n",
    "    StructField(\"Month\",IntegerType(),True), \\\n",
    "    StructField(\"Indicator\",StringType(),True), \\\n",
    "    StructField(\"Amount\",FloatType(),True),\n",
    "  ])\n",
    "\n",
    "df_profit = spark.createDataFrame(data=data,schema=schema)"
   ]
  },
  {
   "cell_type": "code",
   "execution_count": 0,
   "metadata": {
    "application/vnd.databricks.v1+cell": {
     "cellMetadata": {
      "byteLimit": 2048000,
      "rowLimit": 10000
     },
     "inputWidgets": {},
     "nuid": "d13a9b66-efe8-4c1a-b002-c99602f7c5dc",
     "showTitle": false,
     "title": ""
    }
   },
   "outputs": [
    {
     "output_type": "display_data",
     "data": {
      "text/html": [
       "<style scoped>\n",
       "  .table-result-container {\n",
       "    max-height: 300px;\n",
       "    overflow: auto;\n",
       "  }\n",
       "  table, th, td {\n",
       "    border: 1px solid black;\n",
       "    border-collapse: collapse;\n",
       "  }\n",
       "  th, td {\n",
       "    padding: 5px;\n",
       "  }\n",
       "  th {\n",
       "    text-align: left;\n",
       "  }\n",
       "</style><div class='table-result-container'><table class='table-result'><thead style='background-color: white'><tr><th>Month</th><th>Indicator</th><th>Amount</th></tr></thead><tbody><tr><td>1</td><td>Profit</td><td>100.0</td></tr><tr><td>2</td><td>Profit</td><td>100.0</td></tr><tr><td>3</td><td>Profit</td><td>100.0</td></tr><tr><td>4</td><td>Profit</td><td>100.0</td></tr><tr><td>5</td><td>Profit</td><td>100.0</td></tr><tr><td>6</td><td>Profit</td><td>100.0</td></tr><tr><td>7</td><td>Profit</td><td>100.0</td></tr><tr><td>8</td><td>Profit</td><td>100.0</td></tr><tr><td>9</td><td>Profit</td><td>100.0</td></tr><tr><td>10</td><td>Profit</td><td>100.0</td></tr><tr><td>11</td><td>Profit</td><td>100.0</td></tr><tr><td>12</td><td>Profit</td><td>100.0</td></tr><tr><td>1</td><td>Revenue</td><td>500.0</td></tr><tr><td>2</td><td>Revenue</td><td>500.0</td></tr><tr><td>3</td><td>Revenue</td><td>500.0</td></tr><tr><td>4</td><td>Revenue</td><td>500.0</td></tr><tr><td>5</td><td>Revenue</td><td>555.0</td></tr><tr><td>6</td><td>Revenue</td><td>777.0</td></tr><tr><td>7</td><td>Revenue</td><td>800.0</td></tr><tr><td>8</td><td>Revenue</td><td>900.0</td></tr><tr><td>9</td><td>Revenue</td><td>1000.0</td></tr><tr><td>10</td><td>Revenue</td><td>300.0</td></tr><tr><td>12</td><td>Revenue</td><td>400.0</td></tr></tbody></table></div>"
      ]
     },
     "metadata": {
      "application/vnd.databricks.v1+output": {
       "addedWidgets": {},
       "aggData": [],
       "aggError": "",
       "aggOverflow": false,
       "aggSchema": [],
       "aggSeriesLimitReached": false,
       "aggType": "",
       "arguments": {},
       "columnCustomDisplayInfos": {},
       "data": [
        [
         1,
         "Profit",
         100.0
        ],
        [
         2,
         "Profit",
         100.0
        ],
        [
         3,
         "Profit",
         100.0
        ],
        [
         4,
         "Profit",
         100.0
        ],
        [
         5,
         "Profit",
         100.0
        ],
        [
         6,
         "Profit",
         100.0
        ],
        [
         7,
         "Profit",
         100.0
        ],
        [
         8,
         "Profit",
         100.0
        ],
        [
         9,
         "Profit",
         100.0
        ],
        [
         10,
         "Profit",
         100.0
        ],
        [
         11,
         "Profit",
         100.0
        ],
        [
         12,
         "Profit",
         100.0
        ],
        [
         1,
         "Revenue",
         500.0
        ],
        [
         2,
         "Revenue",
         500.0
        ],
        [
         3,
         "Revenue",
         500.0
        ],
        [
         4,
         "Revenue",
         500.0
        ],
        [
         5,
         "Revenue",
         555.0
        ],
        [
         6,
         "Revenue",
         777.0
        ],
        [
         7,
         "Revenue",
         800.0
        ],
        [
         8,
         "Revenue",
         900.0
        ],
        [
         9,
         "Revenue",
         1000.0
        ],
        [
         10,
         "Revenue",
         300.0
        ],
        [
         12,
         "Revenue",
         400.0
        ]
       ],
       "datasetInfos": [],
       "dbfsResultPath": null,
       "isJsonSchema": true,
       "metadata": {},
       "overflow": false,
       "plotOptions": {
        "customPlotOptions": {},
        "displayType": "table",
        "pivotAggregation": null,
        "pivotColumns": null,
        "xColumns": null,
        "yColumns": null
       },
       "removedWidgets": [],
       "schema": [
        {
         "metadata": "{}",
         "name": "Month",
         "type": "\"integer\""
        },
        {
         "metadata": "{}",
         "name": "Indicator",
         "type": "\"string\""
        },
        {
         "metadata": "{}",
         "name": "Amount",
         "type": "\"float\""
        }
       ],
       "type": "table"
      }
     },
     "output_type": "display_data"
    }
   ],
   "source": [
    "df_profit.display()"
   ]
  },
  {
   "cell_type": "code",
   "execution_count": 0,
   "metadata": {
    "application/vnd.databricks.v1+cell": {
     "cellMetadata": {
      "byteLimit": 2048000,
      "rowLimit": 10000
     },
     "inputWidgets": {},
     "nuid": "9402db1f-d56f-4131-a159-3f49bfec8101",
     "showTitle": false,
     "title": ""
    }
   },
   "outputs": [
    {
     "output_type": "stream",
     "name": "stdout",
     "output_type": "stream",
     "text": [
      "root\n |-- Indicator: string (nullable = true)\n |-- 1: double (nullable = true)\n |-- 2: double (nullable = true)\n |-- 3: double (nullable = true)\n |-- 4: double (nullable = true)\n |-- 5: double (nullable = true)\n |-- 6: double (nullable = true)\n |-- 7: double (nullable = true)\n |-- 8: double (nullable = true)\n |-- 9: double (nullable = true)\n |-- 10: double (nullable = true)\n |-- 11: double (nullable = true)\n |-- 12: double (nullable = true)\n\n"
     ]
    }
   ],
   "source": [
    "df_pivot = df_profit.groupBy(\"Indicator\").pivot(\"Month\").sum(\"Amount\")\n",
    "df_pivot.printSchema()\n"
   ]
  },
  {
   "cell_type": "code",
   "execution_count": 0,
   "metadata": {
    "application/vnd.databricks.v1+cell": {
     "cellMetadata": {
      "byteLimit": 2048000,
      "rowLimit": 10000
     },
     "inputWidgets": {},
     "nuid": "e5230a31-b938-4efa-a924-47cb6359990c",
     "showTitle": false,
     "title": ""
    }
   },
   "outputs": [
    {
     "output_type": "display_data",
     "data": {
      "text/html": [
       "<style scoped>\n",
       "  .table-result-container {\n",
       "    max-height: 300px;\n",
       "    overflow: auto;\n",
       "  }\n",
       "  table, th, td {\n",
       "    border: 1px solid black;\n",
       "    border-collapse: collapse;\n",
       "  }\n",
       "  th, td {\n",
       "    padding: 5px;\n",
       "  }\n",
       "  th {\n",
       "    text-align: left;\n",
       "  }\n",
       "</style><div class='table-result-container'><table class='table-result'><thead style='background-color: white'><tr><th>Indicator</th><th>1</th><th>2</th><th>3</th><th>4</th><th>5</th><th>6</th><th>7</th><th>8</th><th>9</th><th>10</th><th>11</th><th>12</th></tr></thead><tbody><tr><td>Profit</td><td>100.0</td><td>100.0</td><td>100.0</td><td>100.0</td><td>100.0</td><td>100.0</td><td>100.0</td><td>100.0</td><td>100.0</td><td>100.0</td><td>100.0</td><td>100.0</td></tr><tr><td>Revenue</td><td>500.0</td><td>500.0</td><td>500.0</td><td>500.0</td><td>555.0</td><td>777.0</td><td>800.0</td><td>900.0</td><td>1000.0</td><td>300.0</td><td>null</td><td>400.0</td></tr></tbody></table></div>"
      ]
     },
     "metadata": {
      "application/vnd.databricks.v1+output": {
       "addedWidgets": {},
       "aggData": [],
       "aggError": "",
       "aggOverflow": false,
       "aggSchema": [],
       "aggSeriesLimitReached": false,
       "aggType": "",
       "arguments": {},
       "columnCustomDisplayInfos": {},
       "data": [
        [
         "Profit",
         100.0,
         100.0,
         100.0,
         100.0,
         100.0,
         100.0,
         100.0,
         100.0,
         100.0,
         100.0,
         100.0,
         100.0
        ],
        [
         "Revenue",
         500.0,
         500.0,
         500.0,
         500.0,
         555.0,
         777.0,
         800.0,
         900.0,
         1000.0,
         300.0,
         null,
         400.0
        ]
       ],
       "datasetInfos": [],
       "dbfsResultPath": null,
       "isJsonSchema": true,
       "metadata": {},
       "overflow": false,
       "plotOptions": {
        "customPlotOptions": {},
        "displayType": "table",
        "pivotAggregation": null,
        "pivotColumns": null,
        "xColumns": null,
        "yColumns": null
       },
       "removedWidgets": [],
       "schema": [
        {
         "metadata": "{}",
         "name": "Indicator",
         "type": "\"string\""
        },
        {
         "metadata": "{}",
         "name": "1",
         "type": "\"double\""
        },
        {
         "metadata": "{}",
         "name": "2",
         "type": "\"double\""
        },
        {
         "metadata": "{}",
         "name": "3",
         "type": "\"double\""
        },
        {
         "metadata": "{}",
         "name": "4",
         "type": "\"double\""
        },
        {
         "metadata": "{}",
         "name": "5",
         "type": "\"double\""
        },
        {
         "metadata": "{}",
         "name": "6",
         "type": "\"double\""
        },
        {
         "metadata": "{}",
         "name": "7",
         "type": "\"double\""
        },
        {
         "metadata": "{}",
         "name": "8",
         "type": "\"double\""
        },
        {
         "metadata": "{}",
         "name": "9",
         "type": "\"double\""
        },
        {
         "metadata": "{}",
         "name": "10",
         "type": "\"double\""
        },
        {
         "metadata": "{}",
         "name": "11",
         "type": "\"double\""
        },
        {
         "metadata": "{}",
         "name": "12",
         "type": "\"double\""
        }
       ],
       "type": "table"
      }
     },
     "output_type": "display_data"
    }
   ],
   "source": [
    "df_pivot.display()"
   ]
  },
  {
   "cell_type": "code",
   "execution_count": 0,
   "metadata": {
    "application/vnd.databricks.v1+cell": {
     "cellMetadata": {
      "byteLimit": 2048000,
      "rowLimit": 10000
     },
     "inputWidgets": {},
     "nuid": "d251b953-6310-4484-90cc-b49c0c0801fb",
     "showTitle": false,
     "title": ""
    }
   },
   "outputs": [
    {
     "output_type": "stream",
     "name": "stdout",
     "output_type": "stream",
     "text": [
      "root\n |-- Indicator: string (nullable = true)\n |-- 1: double (nullable = true)\n |-- 2: double (nullable = true)\n |-- 3: double (nullable = true)\n |-- 4: double (nullable = true)\n |-- 5: double (nullable = true)\n |-- 6: double (nullable = true)\n |-- 7: double (nullable = true)\n |-- 8: double (nullable = true)\n |-- 9: double (nullable = true)\n |-- 10: double (nullable = true)\n |-- 11: double (nullable = true)\n |-- 12: double (nullable = true)\n\n"
     ]
    }
   ],
   "source": [
    "months = [1,2,3,4,5,6,7,8,9,10,11,12]\n",
    "df_pivot = df_profit.groupBy(\"Indicator\").pivot(\"Month\", months).sum(\"Amount\")\n",
    "df_pivot.printSchema()\n"
   ]
  },
  {
   "cell_type": "code",
   "execution_count": 0,
   "metadata": {
    "application/vnd.databricks.v1+cell": {
     "cellMetadata": {
      "byteLimit": 2048000,
      "rowLimit": 10000
     },
     "inputWidgets": {},
     "nuid": "9eeebbc3-18a6-467b-a70e-493b68ac8e03",
     "showTitle": false,
     "title": ""
    }
   },
   "outputs": [
    {
     "output_type": "display_data",
     "data": {
      "text/html": [
       "<style scoped>\n",
       "  .table-result-container {\n",
       "    max-height: 300px;\n",
       "    overflow: auto;\n",
       "  }\n",
       "  table, th, td {\n",
       "    border: 1px solid black;\n",
       "    border-collapse: collapse;\n",
       "  }\n",
       "  th, td {\n",
       "    padding: 5px;\n",
       "  }\n",
       "  th {\n",
       "    text-align: left;\n",
       "  }\n",
       "</style><div class='table-result-container'><table class='table-result'><thead style='background-color: white'><tr><th>Indicator</th><th>1</th><th>2</th><th>3</th><th>4</th><th>5</th><th>6</th><th>7</th><th>8</th><th>9</th><th>10</th><th>11</th><th>12</th></tr></thead><tbody><tr><td>Profit</td><td>100.0</td><td>100.0</td><td>100.0</td><td>100.0</td><td>100.0</td><td>100.0</td><td>100.0</td><td>100.0</td><td>100.0</td><td>100.0</td><td>100.0</td><td>100.0</td></tr><tr><td>Revenue</td><td>500.0</td><td>500.0</td><td>500.0</td><td>500.0</td><td>555.0</td><td>777.0</td><td>800.0</td><td>900.0</td><td>1000.0</td><td>300.0</td><td>null</td><td>400.0</td></tr></tbody></table></div>"
      ]
     },
     "metadata": {
      "application/vnd.databricks.v1+output": {
       "addedWidgets": {},
       "aggData": [],
       "aggError": "",
       "aggOverflow": false,
       "aggSchema": [],
       "aggSeriesLimitReached": false,
       "aggType": "",
       "arguments": {},
       "columnCustomDisplayInfos": {},
       "data": [
        [
         "Profit",
         100.0,
         100.0,
         100.0,
         100.0,
         100.0,
         100.0,
         100.0,
         100.0,
         100.0,
         100.0,
         100.0,
         100.0
        ],
        [
         "Revenue",
         500.0,
         500.0,
         500.0,
         500.0,
         555.0,
         777.0,
         800.0,
         900.0,
         1000.0,
         300.0,
         null,
         400.0
        ]
       ],
       "datasetInfos": [],
       "dbfsResultPath": null,
       "isJsonSchema": true,
       "metadata": {},
       "overflow": false,
       "plotOptions": {
        "customPlotOptions": {},
        "displayType": "table",
        "pivotAggregation": null,
        "pivotColumns": null,
        "xColumns": null,
        "yColumns": null
       },
       "removedWidgets": [],
       "schema": [
        {
         "metadata": "{}",
         "name": "Indicator",
         "type": "\"string\""
        },
        {
         "metadata": "{}",
         "name": "1",
         "type": "\"double\""
        },
        {
         "metadata": "{}",
         "name": "2",
         "type": "\"double\""
        },
        {
         "metadata": "{}",
         "name": "3",
         "type": "\"double\""
        },
        {
         "metadata": "{}",
         "name": "4",
         "type": "\"double\""
        },
        {
         "metadata": "{}",
         "name": "5",
         "type": "\"double\""
        },
        {
         "metadata": "{}",
         "name": "6",
         "type": "\"double\""
        },
        {
         "metadata": "{}",
         "name": "7",
         "type": "\"double\""
        },
        {
         "metadata": "{}",
         "name": "8",
         "type": "\"double\""
        },
        {
         "metadata": "{}",
         "name": "9",
         "type": "\"double\""
        },
        {
         "metadata": "{}",
         "name": "10",
         "type": "\"double\""
        },
        {
         "metadata": "{}",
         "name": "11",
         "type": "\"double\""
        },
        {
         "metadata": "{}",
         "name": "12",
         "type": "\"double\""
        }
       ],
       "type": "table"
      }
     },
     "output_type": "display_data"
    }
   ],
   "source": [
    "df_pivot.display()"
   ]
  },
  {
   "cell_type": "markdown",
   "metadata": {
    "application/vnd.databricks.v1+cell": {
     "cellMetadata": {
      "byteLimit": 2048000,
      "rowLimit": 10000
     },
     "inputWidgets": {},
     "nuid": "241801cd-b299-4c44-9b95-431fd42b104d",
     "showTitle": false,
     "title": ""
    }
   },
   "source": [
    "###UnPivot\n",
    "Unpivot é uma operação reversa que podemos conseguir girando os valores das colunas em valores das linhas. <br>\n",
    "Versões mais antigas do PySpark SQL não tem função unpivot, portanto, usará a função stack().<br>\n",
    "Nas versões mais modernas do Pyspark a funçao baixo realiza o Unpivot."
   ]
  },
  {
   "cell_type": "code",
   "execution_count": 0,
   "metadata": {
    "application/vnd.databricks.v1+cell": {
     "cellMetadata": {
      "byteLimit": 2048000,
      "rowLimit": 10000
     },
     "inputWidgets": {},
     "nuid": "2afa3a71-4cd5-4bb1-bc55-8d164ce8fccd",
     "showTitle": false,
     "title": ""
    }
   },
   "outputs": [
    {
     "output_type": "display_data",
     "data": {
      "text/html": [
       "<style scoped>\n",
       "  .table-result-container {\n",
       "    max-height: 300px;\n",
       "    overflow: auto;\n",
       "  }\n",
       "  table, th, td {\n",
       "    border: 1px solid black;\n",
       "    border-collapse: collapse;\n",
       "  }\n",
       "  th, td {\n",
       "    padding: 5px;\n",
       "  }\n",
       "  th {\n",
       "    text-align: left;\n",
       "  }\n",
       "</style><div class='table-result-container'><table class='table-result'><thead style='background-color: white'><tr><th>Indicator</th><th>Month</th><th>Amount</th></tr></thead><tbody><tr><td>Profit</td><td>1</td><td>100.0</td></tr><tr><td>Profit</td><td>2</td><td>100.0</td></tr><tr><td>Profit</td><td>3</td><td>100.0</td></tr><tr><td>Profit</td><td>4</td><td>100.0</td></tr><tr><td>Profit</td><td>5</td><td>100.0</td></tr><tr><td>Profit</td><td>6</td><td>100.0</td></tr><tr><td>Profit</td><td>7</td><td>100.0</td></tr><tr><td>Profit</td><td>8</td><td>100.0</td></tr><tr><td>Profit</td><td>9</td><td>100.0</td></tr><tr><td>Profit</td><td>10</td><td>100.0</td></tr><tr><td>Profit</td><td>11</td><td>100.0</td></tr><tr><td>Profit</td><td>12</td><td>100.0</td></tr><tr><td>Revenue</td><td>1</td><td>500.0</td></tr><tr><td>Revenue</td><td>2</td><td>500.0</td></tr><tr><td>Revenue</td><td>3</td><td>500.0</td></tr><tr><td>Revenue</td><td>4</td><td>500.0</td></tr><tr><td>Revenue</td><td>5</td><td>555.0</td></tr><tr><td>Revenue</td><td>6</td><td>777.0</td></tr><tr><td>Revenue</td><td>7</td><td>800.0</td></tr><tr><td>Revenue</td><td>8</td><td>900.0</td></tr><tr><td>Revenue</td><td>9</td><td>1000.0</td></tr><tr><td>Revenue</td><td>10</td><td>300.0</td></tr><tr><td>Revenue</td><td>11</td><td>null</td></tr><tr><td>Revenue</td><td>12</td><td>400.0</td></tr></tbody></table></div>"
      ]
     },
     "metadata": {
      "application/vnd.databricks.v1+output": {
       "addedWidgets": {},
       "aggData": [],
       "aggError": "",
       "aggOverflow": false,
       "aggSchema": [],
       "aggSeriesLimitReached": false,
       "aggType": "",
       "arguments": {},
       "columnCustomDisplayInfos": {},
       "data": [
        [
         "Profit",
         "1",
         100.0
        ],
        [
         "Profit",
         "2",
         100.0
        ],
        [
         "Profit",
         "3",
         100.0
        ],
        [
         "Profit",
         "4",
         100.0
        ],
        [
         "Profit",
         "5",
         100.0
        ],
        [
         "Profit",
         "6",
         100.0
        ],
        [
         "Profit",
         "7",
         100.0
        ],
        [
         "Profit",
         "8",
         100.0
        ],
        [
         "Profit",
         "9",
         100.0
        ],
        [
         "Profit",
         "10",
         100.0
        ],
        [
         "Profit",
         "11",
         100.0
        ],
        [
         "Profit",
         "12",
         100.0
        ],
        [
         "Revenue",
         "1",
         500.0
        ],
        [
         "Revenue",
         "2",
         500.0
        ],
        [
         "Revenue",
         "3",
         500.0
        ],
        [
         "Revenue",
         "4",
         500.0
        ],
        [
         "Revenue",
         "5",
         555.0
        ],
        [
         "Revenue",
         "6",
         777.0
        ],
        [
         "Revenue",
         "7",
         800.0
        ],
        [
         "Revenue",
         "8",
         900.0
        ],
        [
         "Revenue",
         "9",
         1000.0
        ],
        [
         "Revenue",
         "10",
         300.0
        ],
        [
         "Revenue",
         "11",
         null
        ],
        [
         "Revenue",
         "12",
         400.0
        ]
       ],
       "datasetInfos": [],
       "dbfsResultPath": null,
       "isJsonSchema": true,
       "metadata": {},
       "overflow": false,
       "plotOptions": {
        "customPlotOptions": {},
        "displayType": "table",
        "pivotAggregation": null,
        "pivotColumns": null,
        "xColumns": null,
        "yColumns": null
       },
       "removedWidgets": [],
       "schema": [
        {
         "metadata": "{}",
         "name": "Indicator",
         "type": "\"string\""
        },
        {
         "metadata": "{}",
         "name": "Month",
         "type": "\"string\""
        },
        {
         "metadata": "{}",
         "name": "Amount",
         "type": "\"double\""
        }
       ],
       "type": "table"
      }
     },
     "output_type": "display_data"
    }
   ],
   "source": [
    "from pyspark.sql.functions import expr\n",
    "unPivotDF = df_pivot.unpivot(['Indicator'], ['1','2','3','4','5','6','7','8','9','10','11','12'],\\\n",
    "                             'Month', 'Amount')\n",
    "\n",
    "unPivotDF.display()\n"
   ]
  },
  {
   "cell_type": "code",
   "execution_count": 0,
   "metadata": {
    "application/vnd.databricks.v1+cell": {
     "cellMetadata": {
      "byteLimit": 2048000,
      "rowLimit": 10000
     },
     "inputWidgets": {},
     "nuid": "41738ddc-c78d-4210-8468-d28fa11df660",
     "showTitle": false,
     "title": ""
    }
   },
   "outputs": [],
   "source": []
  },
  {
   "cell_type": "code",
   "execution_count": 0,
   "metadata": {
    "application/vnd.databricks.v1+cell": {
     "cellMetadata": {
      "byteLimit": 2048000,
      "rowLimit": 10000
     },
     "inputWidgets": {},
     "nuid": "58c90ea6-ed66-4f74-b894-9b367c9ac2d5",
     "showTitle": false,
     "title": ""
    }
   },
   "outputs": [],
   "source": []
  },
  {
   "cell_type": "code",
   "execution_count": 0,
   "metadata": {
    "application/vnd.databricks.v1+cell": {
     "cellMetadata": {
      "byteLimit": 2048000,
      "rowLimit": 10000
     },
     "inputWidgets": {},
     "nuid": "ff1ea384-47f5-4d5e-892d-dc245641f528",
     "showTitle": false,
     "title": ""
    }
   },
   "outputs": [],
   "source": []
  },
  {
   "cell_type": "code",
   "execution_count": 0,
   "metadata": {
    "application/vnd.databricks.v1+cell": {
     "cellMetadata": {
      "byteLimit": 2048000,
      "rowLimit": 10000
     },
     "inputWidgets": {},
     "nuid": "73cd16b0-ccbb-447b-906e-0d600513a28e",
     "showTitle": false,
     "title": ""
    }
   },
   "outputs": [],
   "source": []
  },
  {
   "cell_type": "code",
   "execution_count": 0,
   "metadata": {
    "application/vnd.databricks.v1+cell": {
     "cellMetadata": {
      "byteLimit": 2048000,
      "rowLimit": 10000
     },
     "inputWidgets": {},
     "nuid": "99be22fe-7fb9-46cd-80e4-a5031205667e",
     "showTitle": false,
     "title": ""
    }
   },
   "outputs": [],
   "source": []
  }
 ],
 "metadata": {
  "application/vnd.databricks.v1+notebook": {
   "dashboards": [],
   "language": "python",
   "notebookMetadata": {
    "pythonIndentUnit": 4
   },
   "notebookName": "Juncao_Uniao_Pivot",
   "widgets": {}
  },
  "kernelspec": {
   "display_name": "Python 3 (ipykernel)",
   "language": "python",
   "name": "python3"
  },
  "language_info": {
   "codemirror_mode": {
    "name": "ipython",
    "version": 3
   },
   "file_extension": ".py",
   "mimetype": "text/x-python",
   "name": "python",
   "nbconvert_exporter": "python",
   "pygments_lexer": "ipython3",
   "version": "3.11.6"
  }
 },
 "nbformat": 4,
 "nbformat_minor": 0
}
