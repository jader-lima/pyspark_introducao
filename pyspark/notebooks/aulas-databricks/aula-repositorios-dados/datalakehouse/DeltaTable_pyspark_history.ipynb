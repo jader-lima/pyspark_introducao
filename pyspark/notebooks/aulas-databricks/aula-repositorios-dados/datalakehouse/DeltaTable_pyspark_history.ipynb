{
 "cells": [
  {
   "cell_type": "code",
   "execution_count": 0,
   "metadata": {
    "application/vnd.databricks.v1+cell": {
     "cellMetadata": {
      "byteLimit": 2048000,
      "rowLimit": 10000
     },
     "inputWidgets": {},
     "nuid": "829ef612-5006-4711-9865-08e0f3f35ebf",
     "showTitle": false,
     "title": ""
    }
   },
   "outputs": [],
   "source": [
    "from pyspark.sql import SparkSession\n",
    "from pyspark.sql.functions import from_json, col, expr\n",
    "from pyspark.sql.types import StructType, StructField, StringType, LongType, DoubleType, IntegerType, ArrayType, DateType\n",
    "import sys\n",
    "import os\n",
    "from delta import DeltaTable\n",
    "from delta.tables import *\n",
    "\n",
    "\n",
    "from pyspark.sql import DataFrame\n",
    "from pyspark.sql.utils import AnalysisException\n",
    "import io\n",
    "import json"
   ]
  },
  {
   "cell_type": "code",
   "execution_count": 0,
   "metadata": {
    "application/vnd.databricks.v1+cell": {
     "cellMetadata": {
      "byteLimit": 2048000,
      "rowLimit": 10000
     },
     "inputWidgets": {},
     "nuid": "e42aa45c-cb15-436e-a1d4-6e6025d214b2",
     "showTitle": false,
     "title": ""
    }
   },
   "outputs": [],
   "source": [
    "def create_spark_session():\n",
    "    return SparkSession \\\n",
    "        .builder \\\n",
    "        .appName(\"File Streaming Demo\") \\\n",
    "        .master(\"local[3]\") \\\n",
    "        .config(\"spark.databricks.delta.retentionDurationCheck.enabled\", 'false')\\\n",
    "        .config(\"spark.databricks.delta.schema.autoMerge.enabled\", \"true\")\\\n",
    "        .config(\"spark.sql.catalog.spark_catalog\", \"org.apache.spark.sql.delta.catalog.DeltaCatalog\") \\\n",
    "        .enableHiveSupport()\\\n",
    "        .getOrCreate()"
   ]
  },
  {
   "cell_type": "code",
   "execution_count": 0,
   "metadata": {
    "application/vnd.databricks.v1+cell": {
     "cellMetadata": {
      "byteLimit": 2048000,
      "rowLimit": 10000
     },
     "inputWidgets": {},
     "nuid": "fdb4e5cf-f5ae-461d-b0fe-7b1f93afa9e7",
     "showTitle": false,
     "title": ""
    }
   },
   "outputs": [],
   "source": [
    "spark = create_spark_session()"
   ]
  },
  {
   "cell_type": "markdown",
   "metadata": {
    "application/vnd.databricks.v1+cell": {
     "cellMetadata": {},
     "inputWidgets": {},
     "nuid": "536b23b0-75b1-4069-af41-9d62e526b403",
     "showTitle": false,
     "title": ""
    }
   },
   "source": [
    "### History em Delta Tables <br>\n",
    "atravez do método **DeltaTable.forPath(spark, caminho_Delta_table)**\n",
    "\n",
    "**Importante** Uma DeltaTable não é um spark dataframe, então caso seja necessário utilizar operações e ações de um <br> \n",
    "spark dataframe existem duas formas :\n",
    "* Carregar os dados gravados no formato delta para um dataframe pyspark,utilizar o spark.read.format('delta').load(caminho_Delta_table) \n",
    "\n",
    "* Carregar uma DeltaTable com **DeltaTable.forPath(spark, caminho_Delta_table)** e usar o metodo **toDf()** , que retorna um dataframe spark de uma tabela delta"
   ]
  },
  {
   "cell_type": "code",
   "execution_count": 0,
   "metadata": {
    "application/vnd.databricks.v1+cell": {
     "cellMetadata": {
      "byteLimit": 2048000,
      "rowLimit": 10000
     },
     "inputWidgets": {},
     "nuid": "7a82f20f-7126-4d6d-adb7-16488c4040df",
     "showTitle": false,
     "title": ""
    }
   },
   "outputs": [],
   "source": [
    "location_tb = '/FileStore/bronze/aula_delta/products'\n",
    "dbutils.fs.rm(location_tb,True)"
   ]
  },
  {
   "cell_type": "code",
   "execution_count": 0,
   "metadata": {
    "application/vnd.databricks.v1+cell": {
     "cellMetadata": {
      "byteLimit": 2048000,
      "rowLimit": 10000
     },
     "inputWidgets": {},
     "nuid": "a2bc5d46-8309-410a-a710-c2e29990894e",
     "showTitle": false,
     "title": ""
    }
   },
   "outputs": [],
   "source": [
    "schema = StructType([ \n",
    "    StructField(\"product_id\",IntegerType(),True), \\\n",
    "    StructField(\"product_name\",StringType(),True),\n",
    "    StructField(\"product_category_name\",StringType(),True), \\\n",
    "    StructField(\"product_price\", DoubleType(), True),\n",
    "    StructField(\"status\",StringType(),True),\n",
    "  ])\n",
    "\n",
    "data_product = [(1,'perfurme magico','perfumaria',100.5,'Inative'),\n",
    "                (2,'replica vaso ming importado','artes',70.75,'Active'),\n",
    "                (3,'raquete de tenis nacional','esporte_lazer',365.00,'Active'),\n",
    "                (4,'mordedor','bebes',27.25,'Inative'),\n",
    "                (5,'televisor 46 polegadas 4k','utilidades_domesticas',2555.55,'Active'),\n",
    "                (6,'PS','utilidades_domesticas',2555.55,'Active')\n",
    "               ]\n",
    "\n",
    "\n",
    "df_products = spark.createDataFrame(data=data_product,schema=schema)\n"
   ]
  },
  {
   "cell_type": "code",
   "execution_count": 0,
   "metadata": {
    "application/vnd.databricks.v1+cell": {
     "cellMetadata": {
      "byteLimit": 2048000,
      "rowLimit": 10000
     },
     "inputWidgets": {},
     "nuid": "5394477f-7ef1-4753-8798-7c56213fa166",
     "showTitle": false,
     "title": ""
    }
   },
   "outputs": [],
   "source": [
    "\n",
    "location_tb = '/FileStore/bronze/aula_delta/products'\n",
    "merge_condition = \"tgt.product_id = src.product_id\"\n",
    "\n",
    "columns = [\n",
    "    StructField('product_id', IntegerType(), True),\n",
    "    StructField('product_name', StringType(), True),\n",
    "    StructField('product_category_name', StringType(), True),\n",
    "    StructField('product_price', DoubleType(), True),\n",
    "    StructField('status', StringType(), True)\n",
    "]\n",
    "\n",
    "if (DeltaTable.isDeltaTable(spark, location_tb)):\n",
    "    print('tabela delta existente')\n",
    "    deltaTable = DeltaTable.forPath(spark, location_tb)\n",
    "    deltaTable.alias('tgt') \\\n",
    "        .merge(\n",
    "            df_products.alias('src'),\n",
    "            merge_condition\n",
    "        ) \\\n",
    "        .whenMatchedUpdateAll() \\\n",
    "        .whenNotMatchedInsertAll() \\\n",
    "        .execute()\n",
    "else:\n",
    "    print('tabela delta inexistente')    \n",
    "    DeltaTable \\\n",
    "            .create(spark) \\\n",
    "            .addColumns(columns) \\\n",
    "            .location(location_tb) \\\n",
    "            .execute()\n",
    "    deltaTable = DeltaTable.forPath(spark, location_tb)\n",
    "    deltaTable.alias('tgt') \\\n",
    "        .merge(\n",
    "            df_products.alias('src'),\n",
    "            merge_condition\n",
    "        ) \\\n",
    "        .whenMatchedUpdateAll() \\\n",
    "        .whenNotMatchedInsertAll() \\\n",
    "        .execute()\n"
   ]
  },
  {
   "cell_type": "code",
   "execution_count": 0,
   "metadata": {
    "application/vnd.databricks.v1+cell": {
     "cellMetadata": {},
     "inputWidgets": {},
     "nuid": "1f65ca65-43e5-481f-b428-3e8c306b6bfd",
     "showTitle": false,
     "title": ""
    }
   },
   "outputs": [],
   "source": [
    "from delta import DeltaTable\n",
    "from delta.tables import *"
   ]
  },
  {
   "cell_type": "code",
   "execution_count": 0,
   "metadata": {
    "application/vnd.databricks.v1+cell": {
     "cellMetadata": {
      "byteLimit": 2048000,
      "rowLimit": 10000
     },
     "inputWidgets": {},
     "nuid": "5e88171c-cdd9-4820-a9b0-dc5e4b5c3b29",
     "showTitle": false,
     "title": ""
    }
   },
   "outputs": [],
   "source": [
    "\n",
    "location_tb = '/FileStore/bronze/aula_delta/products'\n",
    "deltaTable = DeltaTable.forPath(spark, location_tb)\n",
    "fullHistoryDF = deltaTable.history()\n",
    "fullHistoryDF.display()"
   ]
  },
  {
   "cell_type": "code",
   "execution_count": 0,
   "metadata": {
    "application/vnd.databricks.v1+cell": {
     "cellMetadata": {
      "byteLimit": 2048000,
      "rowLimit": 10000
     },
     "inputWidgets": {},
     "nuid": "c609c39a-dca7-4c2a-9ed9-16e78069d47f",
     "showTitle": false,
     "title": ""
    }
   },
   "outputs": [],
   "source": [
    "fullHistoryDF.select(\"version\", \"timestamp\", \"operation\", \"operationParameters\").display(10, False)\n"
   ]
  },
  {
   "cell_type": "markdown",
   "metadata": {
    "application/vnd.databricks.v1+cell": {
     "cellMetadata": {},
     "inputWidgets": {},
     "nuid": "3a906fd0-2755-4818-9beb-972a000ee3fc",
     "showTitle": false,
     "title": ""
    }
   },
   "source": [
    "### Descrição dos campos retornados pelo history ###\n",
    "\n",
    "Column|Type|Description\n",
    "------|----|-----------\n",
    "version|\tlong|\tTable version generated by the operation.\n",
    "timestamp|\ttimestamp|\tWhen this version was committed.\n",
    "userId|\tstring|\tID of the user that ran the operation.\n",
    "userName|\tstring|\tName of the user that ran the operation.\n",
    "operation|\tstring|\tName of the operation.\n",
    "operationParameters|\tmap|\tParameters of the operation (for example, predicates.)\n",
    "job|\tstruct|\tDetails of the job that ran the operation.\n",
    "notebook|\tstruct|\tDetails of notebook from which the operation was run.\n",
    "clusterId|\tstring|\tID of the cluster on which the operation ran.\n",
    "readVersion|\tlong|\tVersion of the table that was read to perform the write operation.\n",
    "isolationLevel|\tstring|\tIsolation level used for this operation.\n",
    "isBlindAppend|\tboolean|\tWhether this operation appended data.\n",
    "operationMetrics|\tmap|\tMetrics of the operation (for example, number of rows and files modified.)\n",
    "userMetadata|\tstring|\tUser-defined commit metadata if it was specified"
   ]
  },
  {
   "cell_type": "markdown",
   "metadata": {
    "application/vnd.databricks.v1+cell": {
     "cellMetadata": {},
     "inputWidgets": {},
     "nuid": "4736016e-6183-4c70-8631-f37f8f297288",
     "showTitle": false,
     "title": ""
    }
   },
   "source": [
    "### Versioning em Delta Tables <br>\n",
    "É possivel carregar um dataframe spark com uma versão especifica existente, somente adicionando a option <br>\n",
    "**option(\"versionAsOf\", numero_da_versao)** ,  no exemplo, basta substituir o numero_da_versão por qualquer número de versão existente."
   ]
  },
  {
   "cell_type": "code",
   "execution_count": 0,
   "metadata": {
    "application/vnd.databricks.v1+cell": {
     "cellMetadata": {
      "byteLimit": 2048000,
      "rowLimit": 10000
     },
     "inputWidgets": {},
     "nuid": "9ef0b2cb-eaa2-4840-972d-077cc453fb24",
     "showTitle": false,
     "title": ""
    }
   },
   "outputs": [],
   "source": [
    "location_tb = '/FileStore/bronze/aula_delta/products'\n",
    "df_products_v0 = spark.read.format('delta').option(\"versionAsOf\", 0).load(location_tb)"
   ]
  },
  {
   "cell_type": "code",
   "execution_count": 0,
   "metadata": {
    "application/vnd.databricks.v1+cell": {
     "cellMetadata": {
      "byteLimit": 2048000,
      "rowLimit": 10000
     },
     "inputWidgets": {},
     "nuid": "82da6864-e7e0-4542-98ec-b82f4cac173b",
     "showTitle": false,
     "title": ""
    }
   },
   "outputs": [],
   "source": [
    "df_products_v0.display()"
   ]
  },
  {
   "cell_type": "code",
   "execution_count": 0,
   "metadata": {
    "application/vnd.databricks.v1+cell": {
     "cellMetadata": {
      "byteLimit": 2048000,
      "rowLimit": 10000
     },
     "inputWidgets": {},
     "nuid": "e2a71bc3-4b4d-4773-bea4-e33b44d5cb76",
     "showTitle": false,
     "title": ""
    }
   },
   "outputs": [],
   "source": [
    "location_tb = '/FileStore/bronze/aula_delta/products'\n",
    "df_products_v1 = spark.read.format('delta').option(\"versionAsOf\", 1).load(location_tb)"
   ]
  },
  {
   "cell_type": "code",
   "execution_count": 0,
   "metadata": {
    "application/vnd.databricks.v1+cell": {
     "cellMetadata": {
      "byteLimit": 2048000,
      "rowLimit": 10000
     },
     "inputWidgets": {},
     "nuid": "ed08a217-6480-45dd-a4a4-b24fadf243b0",
     "showTitle": false,
     "title": ""
    }
   },
   "outputs": [],
   "source": [
    "df_products_v1.display()"
   ]
  },
  {
   "cell_type": "code",
   "execution_count": 0,
   "metadata": {
    "application/vnd.databricks.v1+cell": {
     "cellMetadata": {
      "byteLimit": 2048000,
      "rowLimit": 10000
     },
     "inputWidgets": {},
     "nuid": "68198058-4fa6-48b1-a03e-12d050722a65",
     "showTitle": false,
     "title": ""
    },
    "scrolled": true
   },
   "outputs": [],
   "source": [
    "spark.read.format(\"delta\").option(\"versionAsOf\", \"1\").load(location_tb).display()"
   ]
  },
  {
   "cell_type": "markdown",
   "metadata": {
    "application/vnd.databricks.v1+cell": {
     "cellMetadata": {},
     "inputWidgets": {},
     "nuid": "2a92a134-0533-418d-8093-db610e3d433f",
     "showTitle": false,
     "title": ""
    }
   },
   "source": [
    "### Restore de versions em Delta Tables <br>\n",
    "É possivel carregar um dataframe spark com uma versão especifica existente, somente adicionando a option <br>\n",
    "**option(\"versionAsOf\", numero_da_versao)** ,  no exemplo, basta substituir o numero_da_versão por qualquer número de versão existente."
   ]
  },
  {
   "cell_type": "code",
   "execution_count": 0,
   "metadata": {
    "application/vnd.databricks.v1+cell": {
     "cellMetadata": {
      "byteLimit": 2048000,
      "rowLimit": 10000
     },
     "inputWidgets": {},
     "nuid": "19af6e19-68f2-40f0-b915-f4e001c7fadb",
     "showTitle": false,
     "title": ""
    }
   },
   "outputs": [],
   "source": [
    "location_tb = '/FileStore/bronze/aula_delta/products'\n",
    "deltaTable = DeltaTable.forPath(spark, location_tb)\n"
   ]
  },
  {
   "cell_type": "markdown",
   "metadata": {
    "application/vnd.databricks.v1+cell": {
     "cellMetadata": {},
     "inputWidgets": {},
     "nuid": "17d1cf11-1762-4f85-ae1e-eadd667db5d9",
     "showTitle": false,
     "title": ""
    }
   },
   "source": [
    "No exemplo abaixo, utilizamos a versão 0, onde somente criamos a delta table sem dados, o comando show retorna somente o cabeçalho dos dados como esperado <br>\n",
    "**deltaTable.restoreToVersion(0)**"
   ]
  },
  {
   "cell_type": "code",
   "execution_count": 0,
   "metadata": {
    "application/vnd.databricks.v1+cell": {
     "cellMetadata": {
      "byteLimit": 2048000,
      "rowLimit": 10000
     },
     "inputWidgets": {},
     "nuid": "75071e22-88f9-435d-8f24-5b637fd3a2b4",
     "showTitle": false,
     "title": ""
    }
   },
   "outputs": [],
   "source": [
    "deltaTable.restoreToVersion(0)"
   ]
  },
  {
   "cell_type": "code",
   "execution_count": 0,
   "metadata": {
    "application/vnd.databricks.v1+cell": {
     "cellMetadata": {
      "byteLimit": 2048000,
      "rowLimit": 10000
     },
     "inputWidgets": {},
     "nuid": "aba89335-2492-4987-b38d-7c4c904e3c61",
     "showTitle": false,
     "title": ""
    }
   },
   "outputs": [],
   "source": [
    "df_from_delta = deltaTable.toDF()\n",
    "df_from_delta.display()"
   ]
  },
  {
   "cell_type": "markdown",
   "metadata": {
    "application/vnd.databricks.v1+cell": {
     "cellMetadata": {},
     "inputWidgets": {},
     "nuid": "435f1fdf-893b-4793-ae9a-0c1a7c7ad55f",
     "showTitle": false,
     "title": ""
    }
   },
   "source": [
    "Para demonstrar o a mudança dos dados, escolhemos a versão 1, onde o comando de **MERGE** foi realizado,  com isso uma nova <br> versão é criada com os dados da versão 1 , a versão criada é sempre mais atual. <br>\n",
    " **deltaTable.restoreToVersion(1)**"
   ]
  },
  {
   "cell_type": "code",
   "execution_count": 0,
   "metadata": {
    "application/vnd.databricks.v1+cell": {
     "cellMetadata": {
      "byteLimit": 2048000,
      "rowLimit": 10000
     },
     "inputWidgets": {},
     "nuid": "8e4bef36-75f4-4412-a171-0bef158373d2",
     "showTitle": false,
     "title": ""
    }
   },
   "outputs": [],
   "source": [
    "deltaTable.restoreToVersion(1)"
   ]
  },
  {
   "cell_type": "code",
   "execution_count": 0,
   "metadata": {
    "application/vnd.databricks.v1+cell": {
     "cellMetadata": {
      "byteLimit": 2048000,
      "rowLimit": 10000
     },
     "inputWidgets": {},
     "nuid": "65b3fa34-2b38-46b7-922d-66d6e64e1363",
     "showTitle": false,
     "title": ""
    }
   },
   "outputs": [],
   "source": [
    "df_from_delta = deltaTable.toDF()\n",
    "df_from_delta.display()"
   ]
  },
  {
   "cell_type": "code",
   "execution_count": 0,
   "metadata": {
    "application/vnd.databricks.v1+cell": {
     "cellMetadata": {
      "byteLimit": 2048000,
      "rowLimit": 10000
     },
     "inputWidgets": {},
     "nuid": "918a54db-ce67-45d5-81c7-9e5edf9b7a55",
     "showTitle": false,
     "title": ""
    }
   },
   "outputs": [],
   "source": [
    "fullHistoryDF = deltaTable.history()\n",
    "fullHistoryDF.display()"
   ]
  },
  {
   "cell_type": "markdown",
   "metadata": {
    "application/vnd.databricks.v1+cell": {
     "cellMetadata": {},
     "inputWidgets": {},
     "nuid": "aca14333-05e2-478b-8ca0-d7209d2b93e1",
     "showTitle": false,
     "title": ""
    }
   },
   "source": [
    "### Vaccum em Delta Tables <br>\n",
    "É possivel remover dados antigos de uma Delta Table utilizando o comando **Vacuum** . <br>\n",
    "Essa opção se torna interessante por uma Delta Table vai acumular diversas versão criando maior custo de armazenagem de dados <br>\n",
    "Após rodar o comando **vacuum** , os dados serão permanentemente removidos da Delta Table, o comando **vacuum** deve ser usado com cuidado <br>\n",
    "e combinado com uma estrátégia de retenção de dados. <br>\n",
    "No Exemplo abaixo o comando **vacuum** é disparado com o periodo default de retenção de dados. <br>\n",
    "No segundo exemplo, o comando **vacuum** é disparado removendo versão com mais de 10 horas.Como o periodo de retenção é pequeno,<br>\n",
    "o spark não vai executar o comando e vai informar que é necessário acrescentar a configuração\n",
    "**spark.databricks.delta.retentionDurationCheck.enabled = false** no Spark Session"
   ]
  },
  {
   "cell_type": "code",
   "execution_count": 0,
   "metadata": {
    "application/vnd.databricks.v1+cell": {
     "cellMetadata": {
      "byteLimit": 2048000,
      "rowLimit": 10000
     },
     "inputWidgets": {},
     "nuid": "980db0f9-2bee-43ba-89a0-69abe2e121c7",
     "showTitle": false,
     "title": ""
    }
   },
   "outputs": [
    {
     "output_type": "display_data",
     "data": {
      "text/html": [
       "<style scoped>\n",
       "  .table-result-container {\n",
       "    max-height: 300px;\n",
       "    overflow: auto;\n",
       "  }\n",
       "  table, th, td {\n",
       "    border: 1px solid black;\n",
       "    border-collapse: collapse;\n",
       "  }\n",
       "  th, td {\n",
       "    padding: 5px;\n",
       "  }\n",
       "  th {\n",
       "    text-align: left;\n",
       "  }\n",
       "</style><div class='table-result-container'><table class='table-result'><thead style='background-color: white'><tr><th>version</th><th>timestamp</th><th>userId</th><th>userName</th><th>operation</th><th>operationParameters</th><th>job</th><th>notebook</th><th>clusterId</th><th>readVersion</th><th>isolationLevel</th><th>isBlindAppend</th><th>operationMetrics</th><th>userMetadata</th><th>engineInfo</th></tr></thead><tbody><tr><td>3</td><td>2024-02-13T14:03:23.000+0000</td><td>523858428647384</td><td>jaderablima@gmail.com</td><td>RESTORE</td><td>Map(version -> 1, timestamp -> null)</td><td>null</td><td>List(1220161194661759)</td><td>0213-101706-n0ahm20b</td><td>2</td><td>Serializable</td><td>false</td><td>Map(numRestoredFiles -> 6, removedFilesSize -> 0, numRemovedFiles -> 0, restoredFilesSize -> 10949, numOfFilesAfterRestore -> 6, tableSizeAfterRestore -> 10949)</td><td>null</td><td>Databricks-Runtime/12.2.x-scala2.12</td></tr><tr><td>2</td><td>2024-02-13T14:02:22.000+0000</td><td>523858428647384</td><td>jaderablima@gmail.com</td><td>RESTORE</td><td>Map(version -> 0, timestamp -> null)</td><td>null</td><td>List(1220161194661759)</td><td>0213-101706-n0ahm20b</td><td>1</td><td>Serializable</td><td>false</td><td>Map(numRestoredFiles -> 0, removedFilesSize -> 10949, numRemovedFiles -> 6, restoredFilesSize -> 0, numOfFilesAfterRestore -> 0, tableSizeAfterRestore -> 0)</td><td>null</td><td>Databricks-Runtime/12.2.x-scala2.12</td></tr><tr><td>1</td><td>2024-02-13T13:53:44.000+0000</td><td>523858428647384</td><td>jaderablima@gmail.com</td><td>MERGE</td><td>Map(predicate -> [\"(product_id#26577 = product_id#26142)\"], matchedPredicates -> [{\"actionType\":\"update\"}], notMatchedPredicates -> [{\"actionType\":\"insert\"}], notMatchedBySourcePredicates -> [])</td><td>null</td><td>List(1220161194661759)</td><td>0213-101706-n0ahm20b</td><td>0</td><td>WriteSerializable</td><td>false</td><td>Map(numTargetRowsCopied -> 0, numTargetRowsDeleted -> 0, numTargetFilesAdded -> 6, numTargetBytesAdded -> 10949, numTargetBytesRemoved -> 0, numTargetDeletionVectorsAdded -> 0, numTargetRowsMatchedUpdated -> 0, executionTimeMs -> 2733, numTargetRowsInserted -> 6, numTargetRowsMatchedDeleted -> 0, scanTimeMs -> 893, numTargetRowsUpdated -> 0, numOutputRows -> 6, numTargetDeletionVectorsRemoved -> 0, numTargetRowsNotMatchedBySourceUpdated -> 0, numTargetChangeFilesAdded -> 0, numSourceRows -> 6, numTargetFilesRemoved -> 0, numTargetRowsNotMatchedBySourceDeleted -> 0, rewriteTimeMs -> 1152)</td><td>null</td><td>Databricks-Runtime/12.2.x-scala2.12</td></tr><tr><td>0</td><td>2024-02-13T13:53:38.000+0000</td><td>523858428647384</td><td>jaderablima@gmail.com</td><td>CREATE TABLE</td><td>Map(isManaged -> false, description -> null, partitionBy -> [], properties -> {})</td><td>null</td><td>List(1220161194661759)</td><td>0213-101706-n0ahm20b</td><td>null</td><td>WriteSerializable</td><td>true</td><td>Map()</td><td>null</td><td>Databricks-Runtime/12.2.x-scala2.12</td></tr></tbody></table></div>"
      ]
     },
     "metadata": {
      "application/vnd.databricks.v1+output": {
       "addedWidgets": {},
       "aggData": [],
       "aggError": "",
       "aggOverflow": false,
       "aggSchema": [],
       "aggSeriesLimitReached": false,
       "aggType": "",
       "arguments": {},
       "columnCustomDisplayInfos": {},
       "data": [
        [
         3,
         "2024-02-13T14:03:23.000+0000",
         "523858428647384",
         "jaderablima@gmail.com",
         "RESTORE",
         {
          "timestamp": null,
          "version": "1"
         },
         null,
         [
          "1220161194661759"
         ],
         "0213-101706-n0ahm20b",
         2,
         "Serializable",
         false,
         {
          "numOfFilesAfterRestore": "6",
          "numRemovedFiles": "0",
          "numRestoredFiles": "6",
          "removedFilesSize": "0",
          "restoredFilesSize": "10949",
          "tableSizeAfterRestore": "10949"
         },
         null,
         "Databricks-Runtime/12.2.x-scala2.12"
        ],
        [
         2,
         "2024-02-13T14:02:22.000+0000",
         "523858428647384",
         "jaderablima@gmail.com",
         "RESTORE",
         {
          "timestamp": null,
          "version": "0"
         },
         null,
         [
          "1220161194661759"
         ],
         "0213-101706-n0ahm20b",
         1,
         "Serializable",
         false,
         {
          "numOfFilesAfterRestore": "0",
          "numRemovedFiles": "6",
          "numRestoredFiles": "0",
          "removedFilesSize": "10949",
          "restoredFilesSize": "0",
          "tableSizeAfterRestore": "0"
         },
         null,
         "Databricks-Runtime/12.2.x-scala2.12"
        ],
        [
         1,
         "2024-02-13T13:53:44.000+0000",
         "523858428647384",
         "jaderablima@gmail.com",
         "MERGE",
         {
          "matchedPredicates": "[{\"actionType\":\"update\"}]",
          "notMatchedBySourcePredicates": "[]",
          "notMatchedPredicates": "[{\"actionType\":\"insert\"}]",
          "predicate": "[\"(product_id#26577 = product_id#26142)\"]"
         },
         null,
         [
          "1220161194661759"
         ],
         "0213-101706-n0ahm20b",
         0,
         "WriteSerializable",
         false,
         {
          "executionTimeMs": "2733",
          "numOutputRows": "6",
          "numSourceRows": "6",
          "numTargetBytesAdded": "10949",
          "numTargetBytesRemoved": "0",
          "numTargetChangeFilesAdded": "0",
          "numTargetDeletionVectorsAdded": "0",
          "numTargetDeletionVectorsRemoved": "0",
          "numTargetFilesAdded": "6",
          "numTargetFilesRemoved": "0",
          "numTargetRowsCopied": "0",
          "numTargetRowsDeleted": "0",
          "numTargetRowsInserted": "6",
          "numTargetRowsMatchedDeleted": "0",
          "numTargetRowsMatchedUpdated": "0",
          "numTargetRowsNotMatchedBySourceDeleted": "0",
          "numTargetRowsNotMatchedBySourceUpdated": "0",
          "numTargetRowsUpdated": "0",
          "rewriteTimeMs": "1152",
          "scanTimeMs": "893"
         },
         null,
         "Databricks-Runtime/12.2.x-scala2.12"
        ],
        [
         0,
         "2024-02-13T13:53:38.000+0000",
         "523858428647384",
         "jaderablima@gmail.com",
         "CREATE TABLE",
         {
          "description": null,
          "isManaged": "false",
          "partitionBy": "[]",
          "properties": "{}"
         },
         null,
         [
          "1220161194661759"
         ],
         "0213-101706-n0ahm20b",
         null,
         "WriteSerializable",
         true,
         {},
         null,
         "Databricks-Runtime/12.2.x-scala2.12"
        ]
       ],
       "datasetInfos": [],
       "dbfsResultPath": null,
       "isJsonSchema": true,
       "metadata": {},
       "overflow": false,
       "plotOptions": {
        "customPlotOptions": {},
        "displayType": "table",
        "pivotAggregation": null,
        "pivotColumns": null,
        "xColumns": null,
        "yColumns": null
       },
       "removedWidgets": [],
       "schema": [
        {
         "metadata": "{}",
         "name": "version",
         "type": "\"long\""
        },
        {
         "metadata": "{}",
         "name": "timestamp",
         "type": "\"timestamp\""
        },
        {
         "metadata": "{}",
         "name": "userId",
         "type": "\"string\""
        },
        {
         "metadata": "{}",
         "name": "userName",
         "type": "\"string\""
        },
        {
         "metadata": "{}",
         "name": "operation",
         "type": "\"string\""
        },
        {
         "metadata": "{}",
         "name": "operationParameters",
         "type": "{\"type\":\"map\",\"keyType\":\"string\",\"valueType\":\"string\",\"valueContainsNull\":true}"
        },
        {
         "metadata": "{}",
         "name": "job",
         "type": "{\"type\":\"struct\",\"fields\":[{\"name\":\"jobId\",\"type\":\"string\",\"nullable\":true,\"metadata\":{}},{\"name\":\"jobName\",\"type\":\"string\",\"nullable\":true,\"metadata\":{}},{\"name\":\"jobRunId\",\"type\":\"string\",\"nullable\":true,\"metadata\":{}},{\"name\":\"runId\",\"type\":\"string\",\"nullable\":true,\"metadata\":{}},{\"name\":\"jobOwnerId\",\"type\":\"string\",\"nullable\":true,\"metadata\":{}},{\"name\":\"triggerType\",\"type\":\"string\",\"nullable\":true,\"metadata\":{}}]}"
        },
        {
         "metadata": "{}",
         "name": "notebook",
         "type": "{\"type\":\"struct\",\"fields\":[{\"name\":\"notebookId\",\"type\":\"string\",\"nullable\":true,\"metadata\":{}}]}"
        },
        {
         "metadata": "{}",
         "name": "clusterId",
         "type": "\"string\""
        },
        {
         "metadata": "{}",
         "name": "readVersion",
         "type": "\"long\""
        },
        {
         "metadata": "{}",
         "name": "isolationLevel",
         "type": "\"string\""
        },
        {
         "metadata": "{}",
         "name": "isBlindAppend",
         "type": "\"boolean\""
        },
        {
         "metadata": "{}",
         "name": "operationMetrics",
         "type": "{\"type\":\"map\",\"keyType\":\"string\",\"valueType\":\"string\",\"valueContainsNull\":true}"
        },
        {
         "metadata": "{}",
         "name": "userMetadata",
         "type": "\"string\""
        },
        {
         "metadata": "{}",
         "name": "engineInfo",
         "type": "\"string\""
        }
       ],
       "type": "table"
      }
     },
     "output_type": "display_data"
    }
   ],
   "source": [
    "\n",
    "location_tb = '/FileStore/bronze/aula_delta/products'\n",
    "deltaTable = DeltaTable.forPath(spark, location_tb)\n",
    "fullHistoryDF = deltaTable.history()\n",
    "fullHistoryDF.display()"
   ]
  },
  {
   "cell_type": "code",
   "execution_count": 0,
   "metadata": {
    "application/vnd.databricks.v1+cell": {
     "cellMetadata": {
      "byteLimit": 2048000,
      "rowLimit": 10000
     },
     "inputWidgets": {},
     "nuid": "0a4ed436-0e38-428d-9297-839d23586696",
     "showTitle": false,
     "title": ""
    }
   },
   "outputs": [
    {
     "output_type": "stream",
     "name": "stdout",
     "output_type": "stream",
     "text": [
      "None\n"
     ]
    }
   ],
   "source": [
    "conf = spark.sparkContext.getConf().get('spark.databricks.delta.retentionDurationCheck.enabled')\n",
    "print(conf)"
   ]
  },
  {
   "cell_type": "code",
   "execution_count": 0,
   "metadata": {
    "application/vnd.databricks.v1+cell": {
     "cellMetadata": {
      "byteLimit": 2048000,
      "rowLimit": 10000
     },
     "inputWidgets": {},
     "nuid": "a49082ee-33db-4cc0-9464-7be88f495126",
     "showTitle": false,
     "title": ""
    }
   },
   "outputs": [],
   "source": [
    "deltaTable.vacuum()        # vacuum files not required by versions older than the default retention period\n",
    "\n"
   ]
  },
  {
   "cell_type": "code",
   "execution_count": 0,
   "metadata": {
    "application/vnd.databricks.v1+cell": {
     "cellMetadata": {
      "byteLimit": 2048000,
      "rowLimit": 10000
     },
     "inputWidgets": {},
     "nuid": "cd378cd9-cc10-4223-b2ce-f686ca21e8d4",
     "showTitle": false,
     "title": ""
    }
   },
   "outputs": [],
   "source": [
    "fullHistoryDF = deltaTable.history()\n",
    "fullHistoryDF.display()"
   ]
  },
  {
   "cell_type": "code",
   "execution_count": 0,
   "metadata": {
    "application/vnd.databricks.v1+cell": {
     "cellMetadata": {
      "byteLimit": 2048000,
      "rowLimit": 10000
     },
     "inputWidgets": {},
     "nuid": "fa7ca488-2b17-4479-8aa7-dd22a24f60b4",
     "showTitle": false,
     "title": ""
    }
   },
   "outputs": [],
   "source": [
    "deltaTable.vacuum(169) "
   ]
  },
  {
   "cell_type": "code",
   "execution_count": 0,
   "metadata": {
    "application/vnd.databricks.v1+cell": {
     "cellMetadata": {
      "byteLimit": 2048000,
      "rowLimit": 10000
     },
     "inputWidgets": {},
     "nuid": "223045b8-31c1-48f7-a10a-6786392056e4",
     "showTitle": false,
     "title": ""
    }
   },
   "outputs": [],
   "source": []
  },
  {
   "cell_type": "code",
   "execution_count": 0,
   "metadata": {
    "application/vnd.databricks.v1+cell": {
     "cellMetadata": {},
     "inputWidgets": {},
     "nuid": "784beba2-623f-4229-aff1-3d7aeaeeaf05",
     "showTitle": false,
     "title": ""
    }
   },
   "outputs": [],
   "source": []
  }
 ],
 "metadata": {
  "application/vnd.databricks.v1+notebook": {
   "dashboards": [],
   "language": "python",
   "notebookMetadata": {
    "pythonIndentUnit": 4
   },
   "notebookName": "DeltaTable_pyspark_history",
   "widgets": {}
  },
  "kernelspec": {
   "display_name": "Python 3 (ipykernel)",
   "language": "python",
   "name": "python3"
  },
  "language_info": {
   "codemirror_mode": {
    "name": "ipython",
    "version": 3
   },
   "file_extension": ".py",
   "mimetype": "text/x-python",
   "name": "python",
   "nbconvert_exporter": "python",
   "pygments_lexer": "ipython3",
   "version": "3.11.6"
  }
 },
 "nbformat": 4,
 "nbformat_minor": 0
}
