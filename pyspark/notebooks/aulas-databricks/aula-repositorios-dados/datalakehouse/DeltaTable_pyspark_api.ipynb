{
 "cells": [
  {
   "cell_type": "code",
   "execution_count": 1,
   "metadata": {
    "application/vnd.databricks.v1+cell": {
     "cellMetadata": {
      "byteLimit": 2048000,
      "rowLimit": 10000
     },
     "inputWidgets": {},
     "nuid": "50a644b0-1ebc-46fb-8e82-b945a4f7f90d",
     "showTitle": false,
     "title": ""
    }
   },
   "outputs": [],
   "source": [
    "from pyspark.sql import SparkSession\n",
    "from pyspark.sql.functions import from_json, col, expr\n",
    "from pyspark.sql.types import StructType, StructField, StringType, LongType, DoubleType, IntegerType, ArrayType, DateType\n",
    "import sys\n",
    "import os\n",
    "from delta import DeltaTable\n",
    "\n",
    "\n",
    "\n",
    "from pyspark.sql import DataFrame\n",
    "from pyspark.sql.utils import AnalysisException\n",
    "from delta.tables import *\n",
    "import io\n",
    "import json"
   ]
  },
  {
   "cell_type": "code",
   "execution_count": null,
   "metadata": {
    "application/vnd.databricks.v1+cell": {
     "cellMetadata": {
      "byteLimit": 2048000,
      "rowLimit": 10000
     },
     "inputWidgets": {},
     "nuid": "9d8a7ea1-0df5-4b63-a82f-9c7f8ffe86af",
     "showTitle": false,
     "title": ""
    }
   },
   "outputs": [],
   "source": [
    "def create_spark_session():\n",
    "    return SparkSession \\\n",
    "        .builder \\\n",
    "        .appName(\"File Streaming Demo\") \\\n",
    "        .master(\"local[3]\") \\\n",
    "        .config(\"spark.databricks.delta.schema.autoMerge.enabled\", \"true\")\\\n",
    "        .config(\"spark.sql.catalog.spark_catalog\", \"org.apache.spark.sql.delta.catalog.DeltaCatalog\") \\\n",
    "        .enableHiveSupport()\\\n",
    "        .getOrCreate()"
   ]
  },
  {
   "cell_type": "code",
   "execution_count": null,
   "metadata": {
    "application/vnd.databricks.v1+cell": {
     "cellMetadata": {
      "byteLimit": 2048000,
      "rowLimit": 10000
     },
     "inputWidgets": {},
     "nuid": "0ccadd38-d996-458b-a49e-ef1309148f66",
     "showTitle": false,
     "title": ""
    }
   },
   "outputs": [],
   "source": [
    "spark = create_spark_session()"
   ]
  },
  {
   "cell_type": "code",
   "execution_count": null,
   "metadata": {
    "application/vnd.databricks.v1+cell": {
     "cellMetadata": {
      "byteLimit": 2048000,
      "rowLimit": 10000
     },
     "inputWidgets": {},
     "nuid": "6e6db8fc-7ed7-4bcf-b676-3be4709f4451",
     "showTitle": false,
     "title": ""
    }
   },
   "outputs": [],
   "source": [
    "schema = StructType([ \n",
    "    StructField(\"product_id\",IntegerType(),True), \\\n",
    "    StructField(\"product_name\",StringType(),True),\n",
    "    StructField(\"product_category_name\",StringType(),True), \\\n",
    "    StructField(\"product_price\", DoubleType(), True) \n",
    "  ])\n",
    "\n",
    "data_product = [(1,'perfurme magico','perfumaria',100.5),\n",
    "                (2,'replica vaso ming','artes',55.75),\n",
    "               (3,'raquete de tenis','esporte_lazer',350.00),\n",
    "                (4,'mordedor','bebes',27.25),\n",
    "                (5,'televisor 46 polegadas 4k','utilidades_domesticas',2555.55)\n",
    "               ]\n",
    "\n",
    "\n",
    "df_products = spark.createDataFrame(data=data_product,schema=schema)\n",
    "\n"
   ]
  },
  {
   "cell_type": "code",
   "execution_count": null,
   "metadata": {
    "application/vnd.databricks.v1+cell": {
     "cellMetadata": {
      "byteLimit": 2048000,
      "rowLimit": 10000
     },
     "inputWidgets": {},
     "nuid": "c7aa011e-c216-4b6f-b06b-70cb510cc8c4",
     "showTitle": false,
     "title": ""
    }
   },
   "outputs": [
    {
     "data": {
      "text/html": [
       "<style scoped>\n",
       "  .table-result-container {\n",
       "    max-height: 300px;\n",
       "    overflow: auto;\n",
       "  }\n",
       "  table, th, td {\n",
       "    border: 1px solid black;\n",
       "    border-collapse: collapse;\n",
       "  }\n",
       "  th, td {\n",
       "    padding: 5px;\n",
       "  }\n",
       "  th {\n",
       "    text-align: left;\n",
       "  }\n",
       "</style><div class='table-result-container'><table class='table-result'><thead style='background-color: white'><tr><th>product_id</th><th>product_name</th><th>product_category_name</th><th>product_price</th></tr></thead><tbody><tr><td>1</td><td>perfurme magico</td><td>perfumaria</td><td>100.5</td></tr><tr><td>2</td><td>replica vaso ming</td><td>artes</td><td>55.75</td></tr><tr><td>3</td><td>raquete de tenis</td><td>esporte_lazer</td><td>350.0</td></tr><tr><td>4</td><td>mordedor</td><td>bebes</td><td>27.25</td></tr><tr><td>5</td><td>televisor 46 polegadas 4k</td><td>utilidades_domesticas</td><td>2555.55</td></tr></tbody></table></div>"
      ]
     },
     "metadata": {
      "application/vnd.databricks.v1+output": {
       "addedWidgets": {},
       "aggData": [],
       "aggError": "",
       "aggOverflow": false,
       "aggSchema": [],
       "aggSeriesLimitReached": false,
       "aggType": "",
       "arguments": {},
       "columnCustomDisplayInfos": {},
       "data": [
        [
         1,
         "perfurme magico",
         "perfumaria",
         100.5
        ],
        [
         2,
         "replica vaso ming",
         "artes",
         55.75
        ],
        [
         3,
         "raquete de tenis",
         "esporte_lazer",
         350
        ],
        [
         4,
         "mordedor",
         "bebes",
         27.25
        ],
        [
         5,
         "televisor 46 polegadas 4k",
         "utilidades_domesticas",
         2555.55
        ]
       ],
       "datasetInfos": [],
       "dbfsResultPath": null,
       "isJsonSchema": true,
       "metadata": {},
       "overflow": false,
       "plotOptions": {
        "customPlotOptions": {},
        "displayType": "table",
        "pivotAggregation": null,
        "pivotColumns": null,
        "xColumns": null,
        "yColumns": null
       },
       "removedWidgets": [],
       "schema": [
        {
         "metadata": "{}",
         "name": "product_id",
         "type": "\"integer\""
        },
        {
         "metadata": "{}",
         "name": "product_name",
         "type": "\"string\""
        },
        {
         "metadata": "{}",
         "name": "product_category_name",
         "type": "\"string\""
        },
        {
         "metadata": "{}",
         "name": "product_price",
         "type": "\"double\""
        }
       ],
       "type": "table"
      }
     },
     "output_type": "display_data"
    }
   ],
   "source": [
    "df_products.display()"
   ]
  },
  {
   "cell_type": "markdown",
   "metadata": {
    "application/vnd.databricks.v1+cell": {
     "cellMetadata": {},
     "inputWidgets": {},
     "nuid": "5d281d60-e0ab-4900-8d5d-c60730e089e8",
     "showTitle": false,
     "title": ""
    }
   },
   "source": [
    "### Criando delta table utilizando write\n",
    "A forma mais simples de criar uma Delta Table informando o format \"delta\", como abaixo. <br>\n",
    "Abaixo uma Delta Table é criada e os dados podem ser sobrescritos ou acrescentados, <br> \n",
    "utilizando respectivamente as opções\n",
    "mode **OVERWRITE** ou **APPEND** </br>\n",
    "É importante frisar que utilizando um spark dataframe, só temos acesso a acrescentar ou adicionar dados num repositório previamente escrito."
   ]
  },
  {
   "cell_type": "code",
   "execution_count": null,
   "metadata": {
    "application/vnd.databricks.v1+cell": {
     "cellMetadata": {
      "byteLimit": 2048000,
      "rowLimit": 10000
     },
     "inputWidgets": {},
     "nuid": "f53b86a8-abfb-4978-8dc4-2a40f88daa0a",
     "showTitle": false,
     "title": ""
    }
   },
   "outputs": [
    {
     "name": "stdout",
     "output_type": "stream",
     "text": [
      "Out[35]: False"
     ]
    }
   ],
   "source": [
    "dbutils.fs.rm('/FileStore/bronze/aula_delta/products',True)"
   ]
  },
  {
   "cell_type": "code",
   "execution_count": null,
   "metadata": {
    "application/vnd.databricks.v1+cell": {
     "cellMetadata": {
      "byteLimit": 2048000,
      "rowLimit": 10000
     },
     "inputWidgets": {},
     "nuid": "2a1e8e47-bad0-48d4-849f-0715015268ca",
     "showTitle": false,
     "title": ""
    }
   },
   "outputs": [],
   "source": [
    "path_products = '/FileStore/bronze/aula_delta/products'\n",
    "mode = 'OVERWRITE'\n",
    "df_products\\\n",
    ".write.format(\"delta\")\\\n",
    ".option(\"overwriteSchema\", \"true\") \\\n",
    ".save(path_products, mode=mode)"
   ]
  },
  {
   "cell_type": "markdown",
   "metadata": {
    "application/vnd.databricks.v1+cell": {
     "cellMetadata": {},
     "inputWidgets": {},
     "nuid": "e418bb7b-bb17-4409-8012-fc5b34ca5fa1",
     "showTitle": false,
     "title": ""
    }
   },
   "source": [
    "### Carregando os dados escritos como delta table \n",
    "Para a utilização dos metodos do Delta Table, os dados devem ser carregados como Delta Tables <br>\n",
    "atravez do método **DeltaTable.forPath(spark, caminho_Delta_table)**\n",
    "\n",
    "**Importante** Uma DeltaTable não é um spark dataframe, então caso seja necessário utilizar operações e ações de um <br> \n",
    "spark dataframe existem duas formas :\n",
    "* Carregar os dados gravados no formato delta para um dataframe pyspark,utilizar o spark.read.format('delta').load(caminho_Delta_table) \n",
    "\n",
    "* Carregar uma DeltaTable com **DeltaTable.forPath(spark, caminho_Delta_table)** e usar o metodo **toDf()** , que retorna um dataframe spark de uma tabela delta"
   ]
  },
  {
   "cell_type": "code",
   "execution_count": null,
   "metadata": {
    "application/vnd.databricks.v1+cell": {
     "cellMetadata": {
      "byteLimit": 2048000,
      "rowLimit": 10000
     },
     "inputWidgets": {},
     "nuid": "6e7022ee-6a9b-421e-87d0-5622fc39579d",
     "showTitle": false,
     "title": ""
    }
   },
   "outputs": [
    {
     "data": {
      "text/html": [
       "<style scoped>\n",
       "  .table-result-container {\n",
       "    max-height: 300px;\n",
       "    overflow: auto;\n",
       "  }\n",
       "  table, th, td {\n",
       "    border: 1px solid black;\n",
       "    border-collapse: collapse;\n",
       "  }\n",
       "  th, td {\n",
       "    padding: 5px;\n",
       "  }\n",
       "  th {\n",
       "    text-align: left;\n",
       "  }\n",
       "</style><div class='table-result-container'><table class='table-result'><thead style='background-color: white'><tr><th>product_id</th><th>product_name</th><th>product_category_name</th><th>product_price</th></tr></thead><tbody><tr><td>5</td><td>televisor 46 polegadas 4k</td><td>utilidades_domesticas</td><td>2555.55</td></tr><tr><td>3</td><td>raquete de tenis nacional</td><td>esporte_lazer</td><td>365.0</td></tr><tr><td>2</td><td>replica vaso ming importado</td><td>artes</td><td>70.75</td></tr><tr><td>6</td><td>PS</td><td>utilidades_domesticas</td><td>2555.55</td></tr><tr><td>4</td><td>mordedor</td><td>bebes</td><td>27.25</td></tr></tbody></table></div>"
      ]
     },
     "metadata": {
      "application/vnd.databricks.v1+output": {
       "addedWidgets": {},
       "aggData": [],
       "aggError": "",
       "aggOverflow": false,
       "aggSchema": [],
       "aggSeriesLimitReached": false,
       "aggType": "",
       "arguments": {},
       "columnCustomDisplayInfos": {},
       "data": [
        [
         5,
         "televisor 46 polegadas 4k",
         "utilidades_domesticas",
         2555.55
        ],
        [
         3,
         "raquete de tenis nacional",
         "esporte_lazer",
         365
        ],
        [
         2,
         "replica vaso ming importado",
         "artes",
         70.75
        ],
        [
         6,
         "PS",
         "utilidades_domesticas",
         2555.55
        ],
        [
         4,
         "mordedor",
         "bebes",
         27.25
        ]
       ],
       "datasetInfos": [],
       "dbfsResultPath": null,
       "isJsonSchema": true,
       "metadata": {},
       "overflow": false,
       "plotOptions": {
        "customPlotOptions": {},
        "displayType": "table",
        "pivotAggregation": null,
        "pivotColumns": null,
        "xColumns": null,
        "yColumns": null
       },
       "removedWidgets": [],
       "schema": [
        {
         "metadata": "{}",
         "name": "product_id",
         "type": "\"integer\""
        },
        {
         "metadata": "{}",
         "name": "product_name",
         "type": "\"string\""
        },
        {
         "metadata": "{}",
         "name": "product_category_name",
         "type": "\"string\""
        },
        {
         "metadata": "{}",
         "name": "product_price",
         "type": "\"double\""
        }
       ],
       "type": "table"
      }
     },
     "output_type": "display_data"
    }
   ],
   "source": [
    "path_products = '/FileStore/bronze/aula_delta/products'\n",
    "df_products_read = spark.read.format('delta').load(path_products)\n",
    "df_products_read.display()"
   ]
  },
  {
   "cell_type": "code",
   "execution_count": null,
   "metadata": {
    "application/vnd.databricks.v1+cell": {
     "cellMetadata": {
      "byteLimit": 2048000,
      "rowLimit": 10000
     },
     "inputWidgets": {},
     "nuid": "93c8bb85-6154-4990-bf0f-c6ba6696db53",
     "showTitle": false,
     "title": ""
    }
   },
   "outputs": [
    {
     "data": {
      "text/html": [
       "<style scoped>\n",
       "  .table-result-container {\n",
       "    max-height: 300px;\n",
       "    overflow: auto;\n",
       "  }\n",
       "  table, th, td {\n",
       "    border: 1px solid black;\n",
       "    border-collapse: collapse;\n",
       "  }\n",
       "  th, td {\n",
       "    padding: 5px;\n",
       "  }\n",
       "  th {\n",
       "    text-align: left;\n",
       "  }\n",
       "</style><div class='table-result-container'><table class='table-result'><thead style='background-color: white'><tr><th>product_id</th><th>product_name</th><th>product_category_name</th><th>product_price</th></tr></thead><tbody><tr><td>5</td><td>televisor 46 polegadas 4k</td><td>utilidades_domesticas</td><td>2555.55</td></tr><tr><td>3</td><td>raquete de tenis nacional</td><td>esporte_lazer</td><td>365.0</td></tr><tr><td>2</td><td>replica vaso ming importado</td><td>artes</td><td>70.75</td></tr><tr><td>6</td><td>PS</td><td>utilidades_domesticas</td><td>2555.55</td></tr><tr><td>4</td><td>mordedor</td><td>bebes</td><td>27.25</td></tr></tbody></table></div>"
      ]
     },
     "metadata": {
      "application/vnd.databricks.v1+output": {
       "addedWidgets": {},
       "aggData": [],
       "aggError": "",
       "aggOverflow": false,
       "aggSchema": [],
       "aggSeriesLimitReached": false,
       "aggType": "",
       "arguments": {},
       "columnCustomDisplayInfos": {},
       "data": [
        [
         5,
         "televisor 46 polegadas 4k",
         "utilidades_domesticas",
         2555.55
        ],
        [
         3,
         "raquete de tenis nacional",
         "esporte_lazer",
         365
        ],
        [
         2,
         "replica vaso ming importado",
         "artes",
         70.75
        ],
        [
         6,
         "PS",
         "utilidades_domesticas",
         2555.55
        ],
        [
         4,
         "mordedor",
         "bebes",
         27.25
        ]
       ],
       "datasetInfos": [],
       "dbfsResultPath": null,
       "isJsonSchema": true,
       "metadata": {},
       "overflow": false,
       "plotOptions": {
        "customPlotOptions": {},
        "displayType": "table",
        "pivotAggregation": null,
        "pivotColumns": null,
        "xColumns": null,
        "yColumns": null
       },
       "removedWidgets": [],
       "schema": [
        {
         "metadata": "{}",
         "name": "product_id",
         "type": "\"integer\""
        },
        {
         "metadata": "{}",
         "name": "product_name",
         "type": "\"string\""
        },
        {
         "metadata": "{}",
         "name": "product_category_name",
         "type": "\"string\""
        },
        {
         "metadata": "{}",
         "name": "product_price",
         "type": "\"double\""
        }
       ],
       "type": "table"
      }
     },
     "output_type": "display_data"
    }
   ],
   "source": [
    "path_products = '/FileStore/bronze/aula_delta/products'\n",
    "deltaTable = DeltaTable.forPath(spark, path_products)\n",
    "df_from_delta = deltaTable.toDF()\n",
    "df_from_delta.display()"
   ]
  },
  {
   "cell_type": "markdown",
   "metadata": {
    "application/vnd.databricks.v1+cell": {
     "cellMetadata": {},
     "inputWidgets": {},
     "nuid": "b7c44a5c-138d-428c-8c63-ae42d0519bb9",
     "showTitle": false,
     "title": ""
    }
   },
   "source": [
    "### Apagando dados delta table \n",
    "Com DeltaTables é possível remover dados a nivel de linha, sem ser necessário sobrescrever os dados . <br>\n",
    "Carregue uma DeltaTable com **DeltaTable.forPath(spark, location_tb)** e utilize o método delete para informar a <br> \n",
    "condição de remoção. <br>\n",
    "Uma String com uma condição SQL pode ser utilizada ou a notação spark.\n",
    "\n"
   ]
  },
  {
   "cell_type": "code",
   "execution_count": null,
   "metadata": {
    "application/vnd.databricks.v1+cell": {
     "cellMetadata": {
      "byteLimit": 2048000,
      "rowLimit": 10000
     },
     "inputWidgets": {},
     "nuid": "fb3aacd4-4f5f-4a35-8bd9-8bcb3e6598ae",
     "showTitle": false,
     "title": ""
    }
   },
   "outputs": [],
   "source": [
    "# condição no formato sql.\n",
    "deltaTable.delete(\"product_id = 5\")\n",
    "\n",
    "# condição no formato spark\n",
    "deltaTable.delete(col('product_id') == 4)"
   ]
  },
  {
   "cell_type": "code",
   "execution_count": null,
   "metadata": {
    "application/vnd.databricks.v1+cell": {
     "cellMetadata": {
      "byteLimit": 2048000,
      "rowLimit": 10000
     },
     "inputWidgets": {},
     "nuid": "fdda7cc0-37ad-4d18-b8f3-daeec6ae6fba",
     "showTitle": false,
     "title": ""
    }
   },
   "outputs": [
    {
     "data": {
      "text/html": [
       "<style scoped>\n",
       "  .table-result-container {\n",
       "    max-height: 300px;\n",
       "    overflow: auto;\n",
       "  }\n",
       "  table, th, td {\n",
       "    border: 1px solid black;\n",
       "    border-collapse: collapse;\n",
       "  }\n",
       "  th, td {\n",
       "    padding: 5px;\n",
       "  }\n",
       "  th {\n",
       "    text-align: left;\n",
       "  }\n",
       "</style><div class='table-result-container'><table class='table-result'><thead style='background-color: white'><tr><th>product_id</th><th>product_name</th><th>product_category_name</th><th>product_price</th></tr></thead><tbody><tr><td>3</td><td>raquete de tenis nacional</td><td>esporte_lazer</td><td>365.0</td></tr><tr><td>2</td><td>replica vaso ming importado</td><td>artes</td><td>70.75</td></tr><tr><td>6</td><td>PS</td><td>utilidades_domesticas</td><td>2555.55</td></tr></tbody></table></div>"
      ]
     },
     "metadata": {
      "application/vnd.databricks.v1+output": {
       "addedWidgets": {},
       "aggData": [],
       "aggError": "",
       "aggOverflow": false,
       "aggSchema": [],
       "aggSeriesLimitReached": false,
       "aggType": "",
       "arguments": {},
       "columnCustomDisplayInfos": {},
       "data": [
        [
         3,
         "raquete de tenis nacional",
         "esporte_lazer",
         365
        ],
        [
         2,
         "replica vaso ming importado",
         "artes",
         70.75
        ],
        [
         6,
         "PS",
         "utilidades_domesticas",
         2555.55
        ]
       ],
       "datasetInfos": [],
       "dbfsResultPath": null,
       "isJsonSchema": true,
       "metadata": {},
       "overflow": false,
       "plotOptions": {
        "customPlotOptions": {},
        "displayType": "table",
        "pivotAggregation": null,
        "pivotColumns": null,
        "xColumns": null,
        "yColumns": null
       },
       "removedWidgets": [],
       "schema": [
        {
         "metadata": "{}",
         "name": "product_id",
         "type": "\"integer\""
        },
        {
         "metadata": "{}",
         "name": "product_name",
         "type": "\"string\""
        },
        {
         "metadata": "{}",
         "name": "product_category_name",
         "type": "\"string\""
        },
        {
         "metadata": "{}",
         "name": "product_price",
         "type": "\"double\""
        }
       ],
       "type": "table"
      }
     },
     "output_type": "display_data"
    }
   ],
   "source": [
    "df_from_delta.display(truncate = False)"
   ]
  },
  {
   "cell_type": "markdown",
   "metadata": {
    "application/vnd.databricks.v1+cell": {
     "cellMetadata": {},
     "inputWidgets": {},
     "nuid": "a56e7ff9-49a6-4763-b5a9-547c0820547f",
     "showTitle": false,
     "title": ""
    }
   },
   "source": [
    "### Alterando dados delta table \n",
    "Com DeltaTables é possível alterar dados a nivel de linha, sem ser necessário sobrescrever os dados . <br>\n",
    "Carregue uma DeltaTable com **DeltaTable.forPath(spark, location_tb)** e utilize o update delete para informar a <br> \n",
    "condição de remoção. <br>\n",
    "Uma String com uma condição SQL pode ser utilizada ou a notação spark. <br>\n",
    "O método update utiliza dois parametros, um para a condição de update e outro para informar quais campos serão alterados <br> e como serão alterados.\n"
   ]
  },
  {
   "cell_type": "code",
   "execution_count": null,
   "metadata": {
    "application/vnd.databricks.v1+cell": {
     "cellMetadata": {
      "byteLimit": 2048000,
      "rowLimit": 10000
     },
     "inputWidgets": {},
     "nuid": "8a2e9fb7-01ff-4a43-8cc8-e3ab39e71b3b",
     "showTitle": false,
     "title": ""
    }
   },
   "outputs": [],
   "source": [
    "# condição no formato sql.\n",
    "deltaTable.update(\n",
    "  condition = \"product_id = 1\",\n",
    "  set = { \"product_name\": \"'perfurme magico cheiroso'\" }\n",
    ")\n",
    "\n"
   ]
  },
  {
   "cell_type": "code",
   "execution_count": null,
   "metadata": {
    "application/vnd.databricks.v1+cell": {
     "cellMetadata": {
      "byteLimit": 2048000,
      "rowLimit": 10000
     },
     "inputWidgets": {},
     "nuid": "20c61962-3656-43a4-a9e3-8ddf73e025b0",
     "showTitle": false,
     "title": ""
    }
   },
   "outputs": [],
   "source": [
    "# condição formato spark , utilizando uma função spark para informar o nome da coluna\n",
    "deltaTable.update(\n",
    "  condition = col('product_id') == 1,\n",
    "  set = { 'product_price': col('product_price') * 1.2 }\n",
    ")"
   ]
  },
  {
   "cell_type": "code",
   "execution_count": null,
   "metadata": {
    "application/vnd.databricks.v1+cell": {
     "cellMetadata": {
      "byteLimit": 2048000,
      "rowLimit": 10000
     },
     "inputWidgets": {},
     "nuid": "578f94a6-1531-4135-a6ff-fd941132821f",
     "showTitle": false,
     "title": ""
    }
   },
   "outputs": [
    {
     "data": {
      "text/html": [
       "<style scoped>\n",
       "  .table-result-container {\n",
       "    max-height: 300px;\n",
       "    overflow: auto;\n",
       "  }\n",
       "  table, th, td {\n",
       "    border: 1px solid black;\n",
       "    border-collapse: collapse;\n",
       "  }\n",
       "  th, td {\n",
       "    padding: 5px;\n",
       "  }\n",
       "  th {\n",
       "    text-align: left;\n",
       "  }\n",
       "</style><div class='table-result-container'><table class='table-result'><thead style='background-color: white'><tr><th>product_id</th><th>product_name</th><th>product_category_name</th><th>product_price</th></tr></thead><tbody><tr><td>3</td><td>raquete de tenis nacional</td><td>esporte_lazer</td><td>365.0</td></tr><tr><td>2</td><td>replica vaso ming importado</td><td>artes</td><td>70.75</td></tr><tr><td>6</td><td>PS</td><td>utilidades_domesticas</td><td>2555.55</td></tr></tbody></table></div>"
      ]
     },
     "metadata": {
      "application/vnd.databricks.v1+output": {
       "addedWidgets": {},
       "aggData": [],
       "aggError": "",
       "aggOverflow": false,
       "aggSchema": [],
       "aggSeriesLimitReached": false,
       "aggType": "",
       "arguments": {},
       "columnCustomDisplayInfos": {},
       "data": [
        [
         3,
         "raquete de tenis nacional",
         "esporte_lazer",
         365
        ],
        [
         2,
         "replica vaso ming importado",
         "artes",
         70.75
        ],
        [
         6,
         "PS",
         "utilidades_domesticas",
         2555.55
        ]
       ],
       "datasetInfos": [],
       "dbfsResultPath": null,
       "isJsonSchema": true,
       "metadata": {},
       "overflow": false,
       "plotOptions": {
        "customPlotOptions": {},
        "displayType": "table",
        "pivotAggregation": null,
        "pivotColumns": null,
        "xColumns": null,
        "yColumns": null
       },
       "removedWidgets": [],
       "schema": [
        {
         "metadata": "{}",
         "name": "product_id",
         "type": "\"integer\""
        },
        {
         "metadata": "{}",
         "name": "product_name",
         "type": "\"string\""
        },
        {
         "metadata": "{}",
         "name": "product_category_name",
         "type": "\"string\""
        },
        {
         "metadata": "{}",
         "name": "product_price",
         "type": "\"double\""
        }
       ],
       "type": "table"
      }
     },
     "output_type": "display_data"
    }
   ],
   "source": [
    "df_from_delta.display()"
   ]
  },
  {
   "cell_type": "markdown",
   "metadata": {
    "application/vnd.databricks.v1+cell": {
     "cellMetadata": {},
     "inputWidgets": {},
     "nuid": "d9f23f16-6318-46a9-90e0-2a3e1905ee3a",
     "showTitle": false,
     "title": ""
    }
   },
   "source": [
    "### Utilizando MERGE para inserir, alterar e remover dados de uma Delta Table\n",
    "Outra forma de atualizar, remover e inserir dados numa DeltaTable é com **MERGE** <br>\n",
    "Um metodo MERGE abaixo se assemelha ao exemplo abaixo <br>\n",
    "\n",
    "<br>\n",
    "deltaTable.alias('tgt') \\ <br>\n",
    ".merge( <br>\n",
    "    df_products.alias('src'), <br>\n",
    "    \"tgt.product_id = src.product_id\" <br>\n",
    ") \\ <br> \n",
    ".whenMatchedUpdateAll() \\ <br>\n",
    ".whenNotMatchedInsertAll() \\ <br>\n",
    ".execute() <br>\n",
    "<br>\n",
    "\n",
    "O metodo merge atualiza uma DeltaTable existente utilizando dados de um spark dataframe, onde \n",
    "o DeltaTable é comparado com o spark dataframe utilizando uma coluna que funciona como uma **Chave Unica (Sem repetição)** ,\n",
    "apartir do resultado da comparação eventos de inserção e atualização são disparados. Os eventos mais comuns são : <br>\n",
    "* **whenMatchedUpdateAll()** quando a chave for encontrada, todas os campos das linhas que atendam a condição da DeltaTable são atualizadas com o conteudo do dataframe spark <br>\n",
    "* **whenNotMatchedInsertAll()** quando a chave não for encontrada, todas as linhas que atendam a condição do dataframe spark são inseridas no DeltaTable <br> \n",
    "* **whenMatchedUpdate**  quando a chave for encontrada, os campos informados das linhas que atendam a condição da DeltaTable são atualizadas com o conteudo do dataframe spark<br>\n",
    "* **whenNotMatchedInsert** quando a chave não for encontrada, Os campos informados de todas as linhas que atendam a condição do dataframe spark são inseridas no DeltaTable <br> \n",
    "* **whenMatchedDelete** quando a condição for satisfeita, todas as linhas que atendam a condição são removidas do DeltaTable.\n"
   ]
  },
  {
   "cell_type": "code",
   "execution_count": null,
   "metadata": {
    "application/vnd.databricks.v1+cell": {
     "cellMetadata": {
      "byteLimit": 2048000,
      "rowLimit": 10000
     },
     "inputWidgets": {},
     "nuid": "d85bad00-2a15-428e-9cd4-d2b88c7cd44e",
     "showTitle": false,
     "title": ""
    }
   },
   "outputs": [],
   "source": [
    "schema = StructType([ \n",
    "    StructField(\"product_id\",IntegerType(),True), \\\n",
    "    StructField(\"product_name\",StringType(),True),\n",
    "    StructField(\"product_category_name\",StringType(),True), \\\n",
    "    StructField(\"product_price\", DoubleType(), True) \n",
    "  ])\n",
    "\n",
    "data_product = [(2,'replica vaso ming importado','artes',70.75),\n",
    "                (3,'raquete de tenis nacional','esporte_lazer',365.00),\n",
    "                (4,'mordedor','bebes',27.25),\n",
    "                (5,'televisor 46 polegadas 4k','utilidades_domesticas',2555.55),\n",
    "                (6,'PS','utilidades_domesticas',2555.55)\n",
    "               ]\n",
    "\n",
    "\n",
    "df_products = spark.createDataFrame(data=data_product,schema=schema)\n"
   ]
  },
  {
   "cell_type": "code",
   "execution_count": null,
   "metadata": {
    "application/vnd.databricks.v1+cell": {
     "cellMetadata": {
      "byteLimit": 2048000,
      "rowLimit": 10000
     },
     "inputWidgets": {},
     "nuid": "d4c36ae1-2330-42e4-843f-1d049e50db63",
     "showTitle": false,
     "title": ""
    }
   },
   "outputs": [
    {
     "data": {
      "text/html": [
       "<style scoped>\n",
       "  .table-result-container {\n",
       "    max-height: 300px;\n",
       "    overflow: auto;\n",
       "  }\n",
       "  table, th, td {\n",
       "    border: 1px solid black;\n",
       "    border-collapse: collapse;\n",
       "  }\n",
       "  th, td {\n",
       "    padding: 5px;\n",
       "  }\n",
       "  th {\n",
       "    text-align: left;\n",
       "  }\n",
       "</style><div class='table-result-container'><table class='table-result'><thead style='background-color: white'><tr><th>product_id</th><th>product_name</th><th>product_category_name</th><th>product_price</th></tr></thead><tbody><tr><td>2</td><td>replica vaso ming importado</td><td>artes</td><td>70.75</td></tr><tr><td>3</td><td>raquete de tenis nacional</td><td>esporte_lazer</td><td>365.0</td></tr><tr><td>4</td><td>mordedor</td><td>bebes</td><td>27.25</td></tr><tr><td>5</td><td>televisor 46 polegadas 4k</td><td>utilidades_domesticas</td><td>2555.55</td></tr><tr><td>6</td><td>PS</td><td>utilidades_domesticas</td><td>2555.55</td></tr></tbody></table></div>"
      ]
     },
     "metadata": {
      "application/vnd.databricks.v1+output": {
       "addedWidgets": {},
       "aggData": [],
       "aggError": "",
       "aggOverflow": false,
       "aggSchema": [],
       "aggSeriesLimitReached": false,
       "aggType": "",
       "arguments": {},
       "columnCustomDisplayInfos": {},
       "data": [
        [
         2,
         "replica vaso ming importado",
         "artes",
         70.75
        ],
        [
         3,
         "raquete de tenis nacional",
         "esporte_lazer",
         365
        ],
        [
         4,
         "mordedor",
         "bebes",
         27.25
        ],
        [
         5,
         "televisor 46 polegadas 4k",
         "utilidades_domesticas",
         2555.55
        ],
        [
         6,
         "PS",
         "utilidades_domesticas",
         2555.55
        ]
       ],
       "datasetInfos": [],
       "dbfsResultPath": null,
       "isJsonSchema": true,
       "metadata": {},
       "overflow": false,
       "plotOptions": {
        "customPlotOptions": {},
        "displayType": "table",
        "pivotAggregation": null,
        "pivotColumns": null,
        "xColumns": null,
        "yColumns": null
       },
       "removedWidgets": [],
       "schema": [
        {
         "metadata": "{}",
         "name": "product_id",
         "type": "\"integer\""
        },
        {
         "metadata": "{}",
         "name": "product_name",
         "type": "\"string\""
        },
        {
         "metadata": "{}",
         "name": "product_category_name",
         "type": "\"string\""
        },
        {
         "metadata": "{}",
         "name": "product_price",
         "type": "\"double\""
        }
       ],
       "type": "table"
      }
     },
     "output_type": "display_data"
    }
   ],
   "source": [
    "df_products.display()"
   ]
  },
  {
   "cell_type": "code",
   "execution_count": null,
   "metadata": {
    "application/vnd.databricks.v1+cell": {
     "cellMetadata": {
      "byteLimit": 2048000,
      "rowLimit": 10000
     },
     "inputWidgets": {},
     "nuid": "1ba4e9dd-993f-4119-a5b1-aa9739d9b339",
     "showTitle": false,
     "title": ""
    }
   },
   "outputs": [
    {
     "data": {
      "text/html": [
       "<style scoped>\n",
       "  .table-result-container {\n",
       "    max-height: 300px;\n",
       "    overflow: auto;\n",
       "  }\n",
       "  table, th, td {\n",
       "    border: 1px solid black;\n",
       "    border-collapse: collapse;\n",
       "  }\n",
       "  th, td {\n",
       "    padding: 5px;\n",
       "  }\n",
       "  th {\n",
       "    text-align: left;\n",
       "  }\n",
       "</style><div class='table-result-container'><table class='table-result'><thead style='background-color: white'><tr><th>product_id</th><th>product_name</th><th>product_category_name</th><th>product_price</th></tr></thead><tbody><tr><td>3</td><td>raquete de tenis nacional</td><td>esporte_lazer</td><td>365.0</td></tr><tr><td>2</td><td>replica vaso ming importado</td><td>artes</td><td>70.75</td></tr><tr><td>6</td><td>PS</td><td>utilidades_domesticas</td><td>2555.55</td></tr></tbody></table></div>"
      ]
     },
     "metadata": {
      "application/vnd.databricks.v1+output": {
       "addedWidgets": {},
       "aggData": [],
       "aggError": "",
       "aggOverflow": false,
       "aggSchema": [],
       "aggSeriesLimitReached": false,
       "aggType": "",
       "arguments": {},
       "columnCustomDisplayInfos": {},
       "data": [
        [
         3,
         "raquete de tenis nacional",
         "esporte_lazer",
         365
        ],
        [
         2,
         "replica vaso ming importado",
         "artes",
         70.75
        ],
        [
         6,
         "PS",
         "utilidades_domesticas",
         2555.55
        ]
       ],
       "datasetInfos": [],
       "dbfsResultPath": null,
       "isJsonSchema": true,
       "metadata": {},
       "overflow": false,
       "plotOptions": {
        "customPlotOptions": {},
        "displayType": "table",
        "pivotAggregation": null,
        "pivotColumns": null,
        "xColumns": null,
        "yColumns": null
       },
       "removedWidgets": [],
       "schema": [
        {
         "metadata": "{}",
         "name": "product_id",
         "type": "\"integer\""
        },
        {
         "metadata": "{}",
         "name": "product_name",
         "type": "\"string\""
        },
        {
         "metadata": "{}",
         "name": "product_category_name",
         "type": "\"string\""
        },
        {
         "metadata": "{}",
         "name": "product_price",
         "type": "\"double\""
        }
       ],
       "type": "table"
      }
     },
     "output_type": "display_data"
    }
   ],
   "source": [
    "df_from_delta.display()"
   ]
  },
  {
   "cell_type": "markdown",
   "metadata": {
    "application/vnd.databricks.v1+cell": {
     "cellMetadata": {},
     "inputWidgets": {},
     "nuid": "7daa7bc7-b56a-4f46-abca-e6bfbc8f3d89",
     "showTitle": false,
     "title": ""
    }
   },
   "source": [
    "Abaixo o método MERGE é utilizado numa DeltaTable, onde a inserção e atualização é realizada somente com os campos especificos </br>\n",
    "Uma operação de MERGE é realizada entre uma deltaTable e um dataframe spark, onde : </br>\n",
    "* **deltaTable()** É o dado já gravado no datalakehouse, onde serão inseridos ou atualizados os registros escritos anteriormente </br>\n",
    "* **dataframe spark()** É o novo dado, contendo os novos registros ou registros modificados</br> \n"
   ]
  },
  {
   "cell_type": "code",
   "execution_count": null,
   "metadata": {
    "application/vnd.databricks.v1+cell": {
     "cellMetadata": {
      "byteLimit": 2048000,
      "rowLimit": 10000
     },
     "inputWidgets": {},
     "nuid": "d177e21b-a920-4452-8d19-1b3d1dc7ed15",
     "showTitle": false,
     "title": ""
    }
   },
   "outputs": [],
   "source": [
    "deltaTable.alias(\"target\")\\\n",
    ".merge(\n",
    "    source = df_products.alias(\"source\"),\n",
    "    condition = \"source.product_id = target.product_id\"\n",
    ").whenMatchedUpdate(\n",
    "    set =\n",
    "        {\n",
    "          \"target.product_name\": \"source.product_name\",\n",
    "          \"target.product_category_name\": \"source.product_category_name\"\n",
    "        }\n",
    ").whenNotMatchedInsert(\n",
    "    values =\n",
    "        {          \n",
    "          \"target.product_name\": \"source.product_price\",\n",
    "          \"target.product_category_name\": \"source.product_category_name\",\n",
    "          \"target.product_name\": \"source.product_name\",\n",
    "          \"target.product_price\": \"source.product_price\"\n",
    "        }\n",
    ").execute()"
   ]
  },
  {
   "cell_type": "code",
   "execution_count": null,
   "metadata": {
    "application/vnd.databricks.v1+cell": {
     "cellMetadata": {
      "byteLimit": 2048000,
      "rowLimit": 10000
     },
     "inputWidgets": {},
     "nuid": "027eb306-b326-48a3-8a79-0020e212551f",
     "showTitle": false,
     "title": ""
    }
   },
   "outputs": [
    {
     "data": {
      "text/html": [
       "<style scoped>\n",
       "  .table-result-container {\n",
       "    max-height: 300px;\n",
       "    overflow: auto;\n",
       "  }\n",
       "  table, th, td {\n",
       "    border: 1px solid black;\n",
       "    border-collapse: collapse;\n",
       "  }\n",
       "  th, td {\n",
       "    padding: 5px;\n",
       "  }\n",
       "  th {\n",
       "    text-align: left;\n",
       "  }\n",
       "</style><div class='table-result-container'><table class='table-result'><thead style='background-color: white'><tr><th>product_id</th><th>product_name</th><th>product_category_name</th><th>product_price</th></tr></thead><tbody><tr><td>null</td><td>televisor 46 polegadas 4k</td><td>utilidades_domesticas</td><td>2555.55</td></tr><tr><td>3</td><td>raquete de tenis nacional</td><td>esporte_lazer</td><td>365.0</td></tr><tr><td>2</td><td>replica vaso ming importado</td><td>artes</td><td>70.75</td></tr><tr><td>6</td><td>PS</td><td>utilidades_domesticas</td><td>2555.55</td></tr><tr><td>null</td><td>mordedor</td><td>bebes</td><td>27.25</td></tr></tbody></table></div>"
      ]
     },
     "metadata": {
      "application/vnd.databricks.v1+output": {
       "addedWidgets": {},
       "aggData": [],
       "aggError": "",
       "aggOverflow": false,
       "aggSchema": [],
       "aggSeriesLimitReached": false,
       "aggType": "",
       "arguments": {},
       "columnCustomDisplayInfos": {},
       "data": [
        [
         null,
         "televisor 46 polegadas 4k",
         "utilidades_domesticas",
         2555.55
        ],
        [
         3,
         "raquete de tenis nacional",
         "esporte_lazer",
         365
        ],
        [
         2,
         "replica vaso ming importado",
         "artes",
         70.75
        ],
        [
         6,
         "PS",
         "utilidades_domesticas",
         2555.55
        ],
        [
         null,
         "mordedor",
         "bebes",
         27.25
        ]
       ],
       "datasetInfos": [],
       "dbfsResultPath": null,
       "isJsonSchema": true,
       "metadata": {},
       "overflow": false,
       "plotOptions": {
        "customPlotOptions": {},
        "displayType": "table",
        "pivotAggregation": null,
        "pivotColumns": null,
        "xColumns": null,
        "yColumns": null
       },
       "removedWidgets": [],
       "schema": [
        {
         "metadata": "{}",
         "name": "product_id",
         "type": "\"integer\""
        },
        {
         "metadata": "{}",
         "name": "product_name",
         "type": "\"string\""
        },
        {
         "metadata": "{}",
         "name": "product_category_name",
         "type": "\"string\""
        },
        {
         "metadata": "{}",
         "name": "product_price",
         "type": "\"double\""
        }
       ],
       "type": "table"
      }
     },
     "output_type": "display_data"
    }
   ],
   "source": [
    "df_from_delta.display()"
   ]
  },
  {
   "cell_type": "markdown",
   "metadata": {
    "application/vnd.databricks.v1+cell": {
     "cellMetadata": {},
     "inputWidgets": {},
     "nuid": "c06e3fcd-1c83-4ec1-a7d7-a3c3aa8aae61",
     "showTitle": false,
     "title": ""
    }
   },
   "source": [
    "No utiliza ção anterior, durante o metodo **whenNotMatchedInsert**, o campo product_id não foi informando, resultado <br>na inserção com o valor nullo na DeltaTable, como esse campo é utilizado como chave, erros podem ocorrer, o ideal é remover a linha. <br>\n",
    "Abaixo o método **MERGE** é utilizado numa DeltaTable em conjunto com **whenMatchedDelete**, para remover as linhas onde o campo product_id seja null"
   ]
  },
  {
   "cell_type": "code",
   "execution_count": null,
   "metadata": {
    "application/vnd.databricks.v1+cell": {
     "cellMetadata": {
      "byteLimit": 2048000,
      "rowLimit": 10000
     },
     "inputWidgets": {},
     "nuid": "4db94392-eafa-4575-a2bb-e06ad6d1dc1b",
     "showTitle": false,
     "title": ""
    }
   },
   "outputs": [],
   "source": [
    "### Usando merge com delete\n",
    "deltaTable.alias(\"target\")\\\n",
    ".merge(\n",
    "    source = df_products.alias(\"source\"),\n",
    "    condition = \"target.product_id is null\"\n",
    ").whenMatchedDelete()\\\n",
    ".execute()"
   ]
  },
  {
   "cell_type": "code",
   "execution_count": null,
   "metadata": {
    "application/vnd.databricks.v1+cell": {
     "cellMetadata": {
      "byteLimit": 2048000,
      "rowLimit": 10000
     },
     "inputWidgets": {},
     "nuid": "cf35cb71-cd21-4550-9bec-8d2356ebd128",
     "showTitle": false,
     "title": ""
    }
   },
   "outputs": [
    {
     "data": {
      "text/html": [
       "<style scoped>\n",
       "  .table-result-container {\n",
       "    max-height: 300px;\n",
       "    overflow: auto;\n",
       "  }\n",
       "  table, th, td {\n",
       "    border: 1px solid black;\n",
       "    border-collapse: collapse;\n",
       "  }\n",
       "  th, td {\n",
       "    padding: 5px;\n",
       "  }\n",
       "  th {\n",
       "    text-align: left;\n",
       "  }\n",
       "</style><div class='table-result-container'><table class='table-result'><thead style='background-color: white'><tr><th>product_id</th><th>product_name</th><th>product_category_name</th><th>product_price</th></tr></thead><tbody><tr><td>3</td><td>raquete de tenis nacional</td><td>esporte_lazer</td><td>365.0</td></tr><tr><td>2</td><td>replica vaso ming importado</td><td>artes</td><td>70.75</td></tr><tr><td>6</td><td>PS</td><td>utilidades_domesticas</td><td>2555.55</td></tr></tbody></table></div>"
      ]
     },
     "metadata": {
      "application/vnd.databricks.v1+output": {
       "addedWidgets": {},
       "aggData": [],
       "aggError": "",
       "aggOverflow": false,
       "aggSchema": [],
       "aggSeriesLimitReached": false,
       "aggType": "",
       "arguments": {},
       "columnCustomDisplayInfos": {},
       "data": [
        [
         3,
         "raquete de tenis nacional",
         "esporte_lazer",
         365
        ],
        [
         2,
         "replica vaso ming importado",
         "artes",
         70.75
        ],
        [
         6,
         "PS",
         "utilidades_domesticas",
         2555.55
        ]
       ],
       "datasetInfos": [],
       "dbfsResultPath": null,
       "isJsonSchema": true,
       "metadata": {},
       "overflow": false,
       "plotOptions": {
        "customPlotOptions": {},
        "displayType": "table",
        "pivotAggregation": null,
        "pivotColumns": null,
        "xColumns": null,
        "yColumns": null
       },
       "removedWidgets": [],
       "schema": [
        {
         "metadata": "{}",
         "name": "product_id",
         "type": "\"integer\""
        },
        {
         "metadata": "{}",
         "name": "product_name",
         "type": "\"string\""
        },
        {
         "metadata": "{}",
         "name": "product_category_name",
         "type": "\"string\""
        },
        {
         "metadata": "{}",
         "name": "product_price",
         "type": "\"double\""
        }
       ],
       "type": "table"
      }
     },
     "output_type": "display_data"
    }
   ],
   "source": [
    "df_from_delta.display()"
   ]
  },
  {
   "cell_type": "markdown",
   "metadata": {
    "application/vnd.databricks.v1+cell": {
     "cellMetadata": {},
     "inputWidgets": {},
     "nuid": "52790b57-04c0-44b1-9584-f1eaa03fa807",
     "showTitle": false,
     "title": ""
    }
   },
   "source": [
    "Abaixo o método **MERGE** é utilizado numa DeltaTable em conjunto com **whenMatchedUpdateAll** e **whenNotMatchedInsertAll**, para atualizar todas as linhas encontradas no dataframe e DeltaTable ou inserir todas as linhas não encontradas <br>\n",
    "Os dois metodos consideram que todos os campos são atualizados ou inseridos."
   ]
  },
  {
   "cell_type": "code",
   "execution_count": null,
   "metadata": {
    "application/vnd.databricks.v1+cell": {
     "cellMetadata": {
      "byteLimit": 2048000,
      "rowLimit": 10000
     },
     "inputWidgets": {},
     "nuid": "f80e1664-89f7-4fe8-9c2b-f82f3d974df0",
     "showTitle": false,
     "title": ""
    }
   },
   "outputs": [],
   "source": [
    "merge_condition = \"tgt.product_id = src.product_id\"\n",
    "deltaTable.alias('tgt') \\\n",
    ".merge(\n",
    "    df_products.alias('src'),\n",
    "    merge_condition\n",
    ") \\\n",
    ".whenMatchedUpdateAll() \\\n",
    ".whenNotMatchedInsertAll() \\\n",
    ".execute()"
   ]
  },
  {
   "cell_type": "code",
   "execution_count": null,
   "metadata": {
    "application/vnd.databricks.v1+cell": {
     "cellMetadata": {
      "byteLimit": 2048000,
      "rowLimit": 10000
     },
     "inputWidgets": {},
     "nuid": "388174d8-8d78-4c7e-aa33-853fb1ee3fcd",
     "showTitle": false,
     "title": ""
    }
   },
   "outputs": [
    {
     "data": {
      "text/html": [
       "<style scoped>\n",
       "  .table-result-container {\n",
       "    max-height: 300px;\n",
       "    overflow: auto;\n",
       "  }\n",
       "  table, th, td {\n",
       "    border: 1px solid black;\n",
       "    border-collapse: collapse;\n",
       "  }\n",
       "  th, td {\n",
       "    padding: 5px;\n",
       "  }\n",
       "  th {\n",
       "    text-align: left;\n",
       "  }\n",
       "</style><div class='table-result-container'><table class='table-result'><thead style='background-color: white'><tr><th>product_id</th><th>product_name</th><th>product_category_name</th><th>product_price</th><th>status</th></tr></thead><tbody><tr><td>5</td><td>televisor 46 polegadas 4k</td><td>utilidades_domesticas</td><td>2555.55</td><td>Active</td></tr><tr><td>3</td><td>raquete de tenis nacional</td><td>esporte_lazer</td><td>365.0</td><td>Active</td></tr><tr><td>2</td><td>replica vaso ming importado</td><td>artes</td><td>70.75</td><td>Active</td></tr><tr><td>6</td><td>PS</td><td>utilidades_domesticas</td><td>2555.55</td><td>Active</td></tr><tr><td>4</td><td>mordedor</td><td>bebes</td><td>27.25</td><td>Inative</td></tr></tbody></table></div>"
      ]
     },
     "metadata": {
      "application/vnd.databricks.v1+output": {
       "addedWidgets": {},
       "aggData": [],
       "aggError": "",
       "aggOverflow": false,
       "aggSchema": [],
       "aggSeriesLimitReached": false,
       "aggType": "",
       "arguments": {},
       "columnCustomDisplayInfos": {},
       "data": [
        [
         5,
         "televisor 46 polegadas 4k",
         "utilidades_domesticas",
         2555.55,
         "Active"
        ],
        [
         3,
         "raquete de tenis nacional",
         "esporte_lazer",
         365,
         "Active"
        ],
        [
         2,
         "replica vaso ming importado",
         "artes",
         70.75,
         "Active"
        ],
        [
         6,
         "PS",
         "utilidades_domesticas",
         2555.55,
         "Active"
        ],
        [
         4,
         "mordedor",
         "bebes",
         27.25,
         "Inative"
        ]
       ],
       "datasetInfos": [],
       "dbfsResultPath": null,
       "isJsonSchema": true,
       "metadata": {},
       "overflow": false,
       "plotOptions": {
        "customPlotOptions": {},
        "displayType": "table",
        "pivotAggregation": null,
        "pivotColumns": null,
        "xColumns": null,
        "yColumns": null
       },
       "removedWidgets": [],
       "schema": [
        {
         "metadata": "{}",
         "name": "product_id",
         "type": "\"integer\""
        },
        {
         "metadata": "{}",
         "name": "product_name",
         "type": "\"string\""
        },
        {
         "metadata": "{}",
         "name": "product_category_name",
         "type": "\"string\""
        },
        {
         "metadata": "{}",
         "name": "product_price",
         "type": "\"double\""
        },
        {
         "metadata": "{}",
         "name": "status",
         "type": "\"string\""
        }
       ],
       "type": "table"
      }
     },
     "output_type": "display_data"
    }
   ],
   "source": [
    "df_from_delta.display()"
   ]
  },
  {
   "cell_type": "markdown",
   "metadata": {
    "application/vnd.databricks.v1+cell": {
     "cellMetadata": {},
     "inputWidgets": {},
     "nuid": "b9dfa2d1-6fa7-4471-a6dd-40a79ca0e0da",
     "showTitle": false,
     "title": ""
    }
   },
   "source": [
    "### Modificando o Schema de uma DeltaTable existente\n",
    "É possivel modificar o schema de uma DeltaTable existente, adicionando a configuração <br> **config(\"spark.databricks.delta.schema.autoMerge.enabled\", \"true\")** na sparkSession. <br>\n",
    "No exemplo abaixo, a nova coluna **status** foi adicionado ao Dataframe, para os registros antigos, o valor do campo será null .\n"
   ]
  },
  {
   "cell_type": "code",
   "execution_count": null,
   "metadata": {
    "application/vnd.databricks.v1+cell": {
     "cellMetadata": {
      "byteLimit": 2048000,
      "rowLimit": 10000
     },
     "inputWidgets": {},
     "nuid": "9e38e15c-eea0-44d0-82a7-d710544fd913",
     "showTitle": false,
     "title": ""
    }
   },
   "outputs": [],
   "source": [
    "schema = StructType([ \n",
    "    StructField(\"product_id\",IntegerType(),True), \\\n",
    "    StructField(\"product_name\",StringType(),True),\n",
    "    StructField(\"product_category_name\",StringType(),True), \\\n",
    "    StructField(\"product_price\", DoubleType(), True),\n",
    "    StructField(\"status\",StringType(),True),\n",
    "  ])\n",
    "\n",
    "data_product = [(2,'replica vaso ming importado','artes',70.75,'Active'),\n",
    "                (3,'raquete de tenis nacional','esporte_lazer',365.00,'Active'),\n",
    "                (4,'mordedor','bebes',27.25,'Inative'),\n",
    "                (5,'televisor 46 polegadas 4k','utilidades_domesticas',2555.55,'Active'),\n",
    "                (6,'PS','utilidades_domesticas',2555.55,'Active')\n",
    "               ]\n",
    "\n",
    "\n",
    "df_products = spark.createDataFrame(data=data_product,schema=schema)\n"
   ]
  },
  {
   "cell_type": "code",
   "execution_count": null,
   "metadata": {
    "application/vnd.databricks.v1+cell": {
     "cellMetadata": {
      "byteLimit": 2048000,
      "rowLimit": 10000
     },
     "inputWidgets": {},
     "nuid": "7bd94c10-e10e-4a23-a0b5-91ff18b70710",
     "showTitle": false,
     "title": ""
    }
   },
   "outputs": [
    {
     "data": {
      "text/html": [
       "<style scoped>\n",
       "  .table-result-container {\n",
       "    max-height: 300px;\n",
       "    overflow: auto;\n",
       "  }\n",
       "  table, th, td {\n",
       "    border: 1px solid black;\n",
       "    border-collapse: collapse;\n",
       "  }\n",
       "  th, td {\n",
       "    padding: 5px;\n",
       "  }\n",
       "  th {\n",
       "    text-align: left;\n",
       "  }\n",
       "</style><div class='table-result-container'><table class='table-result'><thead style='background-color: white'><tr><th>product_id</th><th>product_name</th><th>product_category_name</th><th>product_price</th><th>status</th></tr></thead><tbody><tr><td>2</td><td>replica vaso ming importado</td><td>artes</td><td>70.75</td><td>Active</td></tr><tr><td>3</td><td>raquete de tenis nacional</td><td>esporte_lazer</td><td>365.0</td><td>Active</td></tr><tr><td>4</td><td>mordedor</td><td>bebes</td><td>27.25</td><td>Inative</td></tr><tr><td>5</td><td>televisor 46 polegadas 4k</td><td>utilidades_domesticas</td><td>2555.55</td><td>Active</td></tr><tr><td>6</td><td>PS</td><td>utilidades_domesticas</td><td>2555.55</td><td>Active</td></tr></tbody></table></div>"
      ]
     },
     "metadata": {
      "application/vnd.databricks.v1+output": {
       "addedWidgets": {},
       "aggData": [],
       "aggError": "",
       "aggOverflow": false,
       "aggSchema": [],
       "aggSeriesLimitReached": false,
       "aggType": "",
       "arguments": {},
       "columnCustomDisplayInfos": {},
       "data": [
        [
         2,
         "replica vaso ming importado",
         "artes",
         70.75,
         "Active"
        ],
        [
         3,
         "raquete de tenis nacional",
         "esporte_lazer",
         365,
         "Active"
        ],
        [
         4,
         "mordedor",
         "bebes",
         27.25,
         "Inative"
        ],
        [
         5,
         "televisor 46 polegadas 4k",
         "utilidades_domesticas",
         2555.55,
         "Active"
        ],
        [
         6,
         "PS",
         "utilidades_domesticas",
         2555.55,
         "Active"
        ]
       ],
       "datasetInfos": [],
       "dbfsResultPath": null,
       "isJsonSchema": true,
       "metadata": {},
       "overflow": false,
       "plotOptions": {
        "customPlotOptions": {},
        "displayType": "table",
        "pivotAggregation": null,
        "pivotColumns": null,
        "xColumns": null,
        "yColumns": null
       },
       "removedWidgets": [],
       "schema": [
        {
         "metadata": "{}",
         "name": "product_id",
         "type": "\"integer\""
        },
        {
         "metadata": "{}",
         "name": "product_name",
         "type": "\"string\""
        },
        {
         "metadata": "{}",
         "name": "product_category_name",
         "type": "\"string\""
        },
        {
         "metadata": "{}",
         "name": "product_price",
         "type": "\"double\""
        },
        {
         "metadata": "{}",
         "name": "status",
         "type": "\"string\""
        }
       ],
       "type": "table"
      }
     },
     "output_type": "display_data"
    }
   ],
   "source": [
    "df_products.display()"
   ]
  },
  {
   "cell_type": "code",
   "execution_count": null,
   "metadata": {
    "application/vnd.databricks.v1+cell": {
     "cellMetadata": {
      "byteLimit": 2048000,
      "rowLimit": 10000
     },
     "inputWidgets": {},
     "nuid": "47385ff6-641d-411a-a926-64666bdc19e8",
     "showTitle": false,
     "title": ""
    }
   },
   "outputs": [],
   "source": [
    "path_products = '/FileStore/bronze/aula_delta/products'\n",
    "deltaTable = DeltaTable.forPath(spark, path_products)\n",
    "merge_condition = \"tgt.product_id = src.product_id\"\n",
    "deltaTable.alias('tgt') \\\n",
    ".merge(\n",
    "    df_products.alias('src'),\n",
    "    merge_condition\n",
    ") \\\n",
    ".whenMatchedUpdateAll() \\\n",
    ".whenNotMatchedInsertAll() \\\n",
    ".execute()"
   ]
  },
  {
   "cell_type": "code",
   "execution_count": null,
   "metadata": {
    "application/vnd.databricks.v1+cell": {
     "cellMetadata": {
      "byteLimit": 2048000,
      "rowLimit": 10000
     },
     "inputWidgets": {},
     "nuid": "2efaafcf-5d79-42a5-9618-459fb7313733",
     "showTitle": false,
     "title": ""
    }
   },
   "outputs": [
    {
     "data": {
      "text/html": [
       "<style scoped>\n",
       "  .table-result-container {\n",
       "    max-height: 300px;\n",
       "    overflow: auto;\n",
       "  }\n",
       "  table, th, td {\n",
       "    border: 1px solid black;\n",
       "    border-collapse: collapse;\n",
       "  }\n",
       "  th, td {\n",
       "    padding: 5px;\n",
       "  }\n",
       "  th {\n",
       "    text-align: left;\n",
       "  }\n",
       "</style><div class='table-result-container'><table class='table-result'><thead style='background-color: white'><tr><th>product_id</th><th>product_name</th><th>product_category_name</th><th>product_price</th><th>status</th></tr></thead><tbody><tr><td>5</td><td>televisor 46 polegadas 4k</td><td>utilidades_domesticas</td><td>2555.55</td><td>Active</td></tr><tr><td>3</td><td>raquete de tenis nacional</td><td>esporte_lazer</td><td>365.0</td><td>Active</td></tr><tr><td>2</td><td>replica vaso ming importado</td><td>artes</td><td>70.75</td><td>Active</td></tr><tr><td>6</td><td>PS</td><td>utilidades_domesticas</td><td>2555.55</td><td>Active</td></tr><tr><td>4</td><td>mordedor</td><td>bebes</td><td>27.25</td><td>Inative</td></tr></tbody></table></div>"
      ]
     },
     "metadata": {
      "application/vnd.databricks.v1+output": {
       "addedWidgets": {},
       "aggData": [],
       "aggError": "",
       "aggOverflow": false,
       "aggSchema": [],
       "aggSeriesLimitReached": false,
       "aggType": "",
       "arguments": {},
       "columnCustomDisplayInfos": {},
       "data": [
        [
         5,
         "televisor 46 polegadas 4k",
         "utilidades_domesticas",
         2555.55,
         "Active"
        ],
        [
         3,
         "raquete de tenis nacional",
         "esporte_lazer",
         365,
         "Active"
        ],
        [
         2,
         "replica vaso ming importado",
         "artes",
         70.75,
         "Active"
        ],
        [
         6,
         "PS",
         "utilidades_domesticas",
         2555.55,
         "Active"
        ],
        [
         4,
         "mordedor",
         "bebes",
         27.25,
         "Inative"
        ]
       ],
       "datasetInfos": [],
       "dbfsResultPath": null,
       "isJsonSchema": true,
       "metadata": {},
       "overflow": false,
       "plotOptions": {
        "customPlotOptions": {},
        "displayType": "table",
        "pivotAggregation": null,
        "pivotColumns": null,
        "xColumns": null,
        "yColumns": null
       },
       "removedWidgets": [],
       "schema": [
        {
         "metadata": "{}",
         "name": "product_id",
         "type": "\"integer\""
        },
        {
         "metadata": "{}",
         "name": "product_name",
         "type": "\"string\""
        },
        {
         "metadata": "{}",
         "name": "product_category_name",
         "type": "\"string\""
        },
        {
         "metadata": "{}",
         "name": "product_price",
         "type": "\"double\""
        },
        {
         "metadata": "{}",
         "name": "status",
         "type": "\"string\""
        }
       ],
       "type": "table"
      }
     },
     "output_type": "display_data"
    }
   ],
   "source": [
    "path_products = '/FileStore/bronze/aula_delta/products'\n",
    "deltaTable = DeltaTable.forPath(spark, path_products)\n",
    "df_from_delta = deltaTable.toDF()\n",
    "df_from_delta.display()\n"
   ]
  },
  {
   "cell_type": "markdown",
   "metadata": {
    "application/vnd.databricks.v1+cell": {
     "cellMetadata": {},
     "inputWidgets": {},
     "nuid": "518bac39-67eb-4007-976a-ca94498c554a",
     "showTitle": false,
     "title": ""
    }
   },
   "source": [
    "### Criando uma DeltaTable utilizando create\n",
    "Outra forma de criar uma DeltaTable é utilizando o metodo **create** , onde os campos e local de escrita são informados.\n",
    "O método create cria a DeltaTable vazia, possibilitando a utilização de métodos como o **merge** , **update** e **delete** . <br>\n",
    "Essa é uma forma de criação bastante interessante para a criação de métodos inserção e atualização mais genéricos. <br>\n"
   ]
  },
  {
   "cell_type": "markdown",
   "metadata": {
    "application/vnd.databricks.v1+cell": {
     "cellMetadata": {},
     "inputWidgets": {},
     "nuid": "c4ae5d07-b833-459c-baaf-4472d40e6679",
     "showTitle": false,
     "title": ""
    }
   },
   "source": [
    "Abaixo o codigo realiza as tarefas\n",
    "* criando a lista das colunas utilizadas\n",
    "* verifica se existe uma DeltaTable no diretório informado, caso positivo, executa um MERGE para atualização/inserção\n",
    "* verifica se existe uma DeltaTable no diretório informado, caso negativo, cria uma DeltaTable com a estrutura informada e executa um MERGE para atualização/inserção"
   ]
  },
  {
   "cell_type": "code",
   "execution_count": null,
   "metadata": {
    "application/vnd.databricks.v1+cell": {
     "cellMetadata": {
      "byteLimit": 2048000,
      "rowLimit": 10000
     },
     "inputWidgets": {},
     "nuid": "b4478154-522e-498a-9e27-f8deed862424",
     "showTitle": false,
     "title": ""
    }
   },
   "outputs": [
    {
     "name": "stdout",
     "output_type": "stream",
     "text": [
      "Out[81]: True"
     ]
    }
   ],
   "source": [
    "location_tb = '/FileStore/bronze/aula_delta/products'\n",
    "dbutils.fs.rm(location_tb,True)"
   ]
  },
  {
   "cell_type": "code",
   "execution_count": null,
   "metadata": {
    "application/vnd.databricks.v1+cell": {
     "cellMetadata": {
      "byteLimit": 2048000,
      "rowLimit": 10000
     },
     "inputWidgets": {},
     "nuid": "3894a2cd-49a3-4959-9c05-6b1610b5908f",
     "showTitle": false,
     "title": ""
    }
   },
   "outputs": [
    {
     "name": "stdout",
     "output_type": "stream",
     "text": [
      "tabela delta inexistente\n"
     ]
    }
   ],
   "source": [
    "\n",
    "location_tb = '/FileStore/bronze/aula_delta/products'\n",
    "merge_condition = \"tgt.product_id = src.product_id\"\n",
    "\n",
    "columns = [\n",
    "    StructField('product_id', IntegerType(), True),\n",
    "    StructField('product_name', StringType(), True),\n",
    "    StructField('product_category_name', StringType(), True),\n",
    "    StructField('product_price', DoubleType(), True),\n",
    "    StructField('status', StringType(), True)\n",
    "]\n",
    "\n",
    "if (DeltaTable.isDeltaTable(spark, location_tb)):\n",
    "    print('tabela delta existente')\n",
    "    deltaTable = DeltaTable.forPath(spark, location_tb)\n",
    "    deltaTable.alias('tgt') \\\n",
    "        .merge(\n",
    "            df_products.alias('src'),\n",
    "            merge_condition\n",
    "        ) \\\n",
    "        .whenMatchedUpdateAll() \\\n",
    "        .whenNotMatchedInsertAll() \\\n",
    "        .execute()\n",
    "else:\n",
    "    print('tabela delta inexistente')    \n",
    "    DeltaTable \\\n",
    "            .create(spark) \\\n",
    "            .addColumns(columns) \\\n",
    "            .location(location_tb) \\\n",
    "            .execute()\n",
    "    deltaTable = DeltaTable.forPath(spark, location_tb)\n",
    "    deltaTable.alias('tgt') \\\n",
    "        .merge(\n",
    "            df_products.alias('src'),\n",
    "            merge_condition\n",
    "        ) \\\n",
    "        .whenMatchedUpdateAll() \\\n",
    "        .whenNotMatchedInsertAll() \\\n",
    "        .execute()\n"
   ]
  },
  {
   "cell_type": "code",
   "execution_count": null,
   "metadata": {
    "application/vnd.databricks.v1+cell": {
     "cellMetadata": {
      "byteLimit": 2048000,
      "rowLimit": 10000
     },
     "inputWidgets": {},
     "nuid": "72aeae2f-86c7-4e41-b61e-afced1aa0ba5",
     "showTitle": false,
     "title": ""
    }
   },
   "outputs": [
    {
     "data": {
      "text/html": [
       "<style scoped>\n",
       "  .table-result-container {\n",
       "    max-height: 300px;\n",
       "    overflow: auto;\n",
       "  }\n",
       "  table, th, td {\n",
       "    border: 1px solid black;\n",
       "    border-collapse: collapse;\n",
       "  }\n",
       "  th, td {\n",
       "    padding: 5px;\n",
       "  }\n",
       "  th {\n",
       "    text-align: left;\n",
       "  }\n",
       "</style><div class='table-result-container'><table class='table-result'><thead style='background-color: white'><tr><th>product_id</th><th>product_name</th><th>product_category_name</th><th>product_price</th><th>status</th></tr></thead><tbody><tr><td>5</td><td>televisor 46 polegadas 4k</td><td>utilidades_domesticas</td><td>2555.55</td><td>Active</td></tr><tr><td>3</td><td>raquete de tenis nacional</td><td>esporte_lazer</td><td>365.0</td><td>Active</td></tr><tr><td>2</td><td>replica vaso ming importado</td><td>artes</td><td>70.75</td><td>Active</td></tr><tr><td>6</td><td>PS</td><td>utilidades_domesticas</td><td>2555.55</td><td>Active</td></tr><tr><td>4</td><td>mordedor</td><td>bebes</td><td>27.25</td><td>Inative</td></tr></tbody></table></div>"
      ]
     },
     "metadata": {
      "application/vnd.databricks.v1+output": {
       "addedWidgets": {},
       "aggData": [],
       "aggError": "",
       "aggOverflow": false,
       "aggSchema": [],
       "aggSeriesLimitReached": false,
       "aggType": "",
       "arguments": {},
       "columnCustomDisplayInfos": {},
       "data": [
        [
         5,
         "televisor 46 polegadas 4k",
         "utilidades_domesticas",
         2555.55,
         "Active"
        ],
        [
         3,
         "raquete de tenis nacional",
         "esporte_lazer",
         365,
         "Active"
        ],
        [
         2,
         "replica vaso ming importado",
         "artes",
         70.75,
         "Active"
        ],
        [
         6,
         "PS",
         "utilidades_domesticas",
         2555.55,
         "Active"
        ],
        [
         4,
         "mordedor",
         "bebes",
         27.25,
         "Inative"
        ]
       ],
       "datasetInfos": [],
       "dbfsResultPath": null,
       "isJsonSchema": true,
       "metadata": {},
       "overflow": false,
       "plotOptions": {
        "customPlotOptions": {},
        "displayType": "table",
        "pivotAggregation": null,
        "pivotColumns": null,
        "xColumns": null,
        "yColumns": null
       },
       "removedWidgets": [],
       "schema": [
        {
         "metadata": "{}",
         "name": "product_id",
         "type": "\"integer\""
        },
        {
         "metadata": "{}",
         "name": "product_name",
         "type": "\"string\""
        },
        {
         "metadata": "{}",
         "name": "product_category_name",
         "type": "\"string\""
        },
        {
         "metadata": "{}",
         "name": "product_price",
         "type": "\"double\""
        },
        {
         "metadata": "{}",
         "name": "status",
         "type": "\"string\""
        }
       ],
       "type": "table"
      }
     },
     "output_type": "display_data"
    }
   ],
   "source": [
    "path_products = '/FileStore/bronze/aula_delta/products'\n",
    "deltaTable = DeltaTable.forPath(spark, path_products)\n",
    "df_from_delta = deltaTable.toDF()\n",
    "df_from_delta.display()"
   ]
  },
  {
   "cell_type": "code",
   "execution_count": null,
   "metadata": {
    "application/vnd.databricks.v1+cell": {
     "cellMetadata": {},
     "inputWidgets": {},
     "nuid": "4933c5f5-03dc-4348-92c1-db397a87248f",
     "showTitle": false,
     "title": ""
    }
   },
   "outputs": [],
   "source": []
  }
 ],
 "metadata": {
  "application/vnd.databricks.v1+notebook": {
   "dashboards": [],
   "language": "python",
   "notebookMetadata": {
    "pythonIndentUnit": 4
   },
   "notebookName": "DeltaTable_pyspark_api",
   "widgets": {}
  },
  "kernelspec": {
   "display_name": "Python 3",
   "language": "python",
   "name": "python3"
  },
  "language_info": {
   "codemirror_mode": {
    "name": "ipython",
    "version": 3
   },
   "file_extension": ".py",
   "mimetype": "text/x-python",
   "name": "python",
   "nbconvert_exporter": "python",
   "pygments_lexer": "ipython3",
   "version": "3.8.4"
  }
 },
 "nbformat": 4,
 "nbformat_minor": 4
}
