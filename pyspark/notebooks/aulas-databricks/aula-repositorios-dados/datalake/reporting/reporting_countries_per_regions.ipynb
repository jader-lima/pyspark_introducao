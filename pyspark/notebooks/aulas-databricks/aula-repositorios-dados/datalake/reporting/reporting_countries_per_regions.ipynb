{
 "cells": [
  {
   "cell_type": "code",
   "execution_count": 0,
   "metadata": {
    "application/vnd.databricks.v1+cell": {
     "cellMetadata": {
      "byteLimit": 2048000,
      "rowLimit": 10000
     },
     "inputWidgets": {},
     "nuid": "3c8db64d-c09b-4db8-acbd-5c2407b50169",
     "showTitle": false,
     "title": ""
    }
   },
   "outputs": [],
   "source": [
    "from pyspark.sql import SparkSession\n",
    "from pyspark.sql.functions import from_json, col, expr, count\n",
    "from pyspark.sql.types import StructType, StructField, StringType, LongType, DoubleType, IntegerType, ArrayType, DateType\n",
    "import sys\n",
    "import os\n",
    "from pyspark.sql import DataFrame\n"
   ]
  },
  {
   "cell_type": "code",
   "execution_count": 0,
   "metadata": {
    "application/vnd.databricks.v1+cell": {
     "cellMetadata": {
      "byteLimit": 2048000,
      "rowLimit": 10000
     },
     "inputWidgets": {},
     "nuid": "6600bbfe-4266-487a-893b-9523b25e3731",
     "showTitle": false,
     "title": ""
    }
   },
   "outputs": [],
   "source": [
    "path_countries_silver = '/FileStore/silver/departments/countries'\n",
    "df_countries = spark.read.format('parquet')\\\n",
    ".load(path_countries_silver)"
   ]
  },
  {
   "cell_type": "code",
   "execution_count": 0,
   "metadata": {
    "application/vnd.databricks.v1+cell": {
     "cellMetadata": {
      "byteLimit": 2048000,
      "rowLimit": 10000
     },
     "inputWidgets": {},
     "nuid": "77623e9b-3f58-4ae3-a228-536e726280c3",
     "showTitle": false,
     "title": ""
    }
   },
   "outputs": [],
   "source": [
    "path_regions_silver = '/FileStore/silver/departments/regions'\n",
    "df_regions = spark.read.format('parquet')\\\n",
    ".load(path_regions_silver)"
   ]
  },
  {
   "cell_type": "code",
   "execution_count": 0,
   "metadata": {
    "application/vnd.databricks.v1+cell": {
     "cellMetadata": {
      "byteLimit": 2048000,
      "rowLimit": 10000
     },
     "inputWidgets": {},
     "nuid": "f7b95997-bb10-4344-891c-f6ff8b739054",
     "showTitle": false,
     "title": ""
    }
   },
   "outputs": [],
   "source": [
    "df_join = df_regions.join(df_countries,'id_regiao','inner').drop(df_countries.id_regiao)"
   ]
  },
  {
   "cell_type": "code",
   "execution_count": 0,
   "metadata": {
    "application/vnd.databricks.v1+cell": {
     "cellMetadata": {
      "byteLimit": 2048000,
      "rowLimit": 10000
     },
     "inputWidgets": {},
     "nuid": "ad68bc0a-3b4d-4715-879a-4f60cdf1ca77",
     "showTitle": false,
     "title": ""
    }
   },
   "outputs": [
    {
     "output_type": "display_data",
     "data": {
      "text/html": [
       "<style scoped>\n",
       "  .table-result-container {\n",
       "    max-height: 300px;\n",
       "    overflow: auto;\n",
       "  }\n",
       "  table, th, td {\n",
       "    border: 1px solid black;\n",
       "    border-collapse: collapse;\n",
       "  }\n",
       "  th, td {\n",
       "    padding: 5px;\n",
       "  }\n",
       "  th {\n",
       "    text-align: left;\n",
       "  }\n",
       "</style><div class='table-result-container'><table class='table-result'><thead style='background-color: white'><tr><th>id_regiao</th><th>nome_regiao</th><th>id_pais</th><th>nome_pais</th></tr></thead><tbody><tr><td>2</td><td>Americas</td><td>AR</td><td>Argentina</td></tr><tr><td>3</td><td>Asia</td><td>AU</td><td>Australia</td></tr><tr><td>1</td><td>Europe</td><td>BE</td><td>Belgium</td></tr><tr><td>2</td><td>Americas</td><td>BR</td><td>Brazil</td></tr><tr><td>2</td><td>Americas</td><td>CA</td><td>Canada</td></tr><tr><td>1</td><td>Europe</td><td>CH</td><td>Switzerland</td></tr><tr><td>3</td><td>Asia</td><td>CN</td><td>China</td></tr><tr><td>1</td><td>Europe</td><td>DE</td><td>Germany</td></tr><tr><td>1</td><td>Europe</td><td>DK</td><td>Denmark</td></tr><tr><td>4</td><td>Middle East and Africa</td><td>EG</td><td>Egypt</td></tr><tr><td>1</td><td>Europe</td><td>FR</td><td>France</td></tr><tr><td>3</td><td>Asia</td><td>HK</td><td>HongKong</td></tr><tr><td>4</td><td>Middle East and Africa</td><td>IL</td><td>Israel</td></tr><tr><td>3</td><td>Asia</td><td>IN</td><td>India</td></tr><tr><td>1</td><td>Europe</td><td>IT</td><td>Italy</td></tr><tr><td>3</td><td>Asia</td><td>JP</td><td>Japan</td></tr><tr><td>4</td><td>Middle East and Africa</td><td>KW</td><td>Kuwait</td></tr><tr><td>2</td><td>Americas</td><td>MX</td><td>Mexico</td></tr><tr><td>4</td><td>Middle East and Africa</td><td>NG</td><td>Nigeria</td></tr><tr><td>1</td><td>Europe</td><td>NL</td><td>Netherlands</td></tr><tr><td>3</td><td>Asia</td><td>SG</td><td>Singapore</td></tr><tr><td>1</td><td>Europe</td><td>UK</td><td>United Kingdom</td></tr><tr><td>2</td><td>Americas</td><td>US</td><td>United States of America</td></tr><tr><td>4</td><td>Middle East and Africa</td><td>ZM</td><td>Zambia</td></tr><tr><td>4</td><td>Middle East and Africa</td><td>ZW</td><td>Zimbabwe</td></tr></tbody></table></div>"
      ]
     },
     "metadata": {
      "application/vnd.databricks.v1+output": {
       "addedWidgets": {},
       "aggData": [],
       "aggError": "",
       "aggOverflow": false,
       "aggSchema": [],
       "aggSeriesLimitReached": false,
       "aggType": "",
       "arguments": {},
       "columnCustomDisplayInfos": {},
       "data": [
        [
         2,
         "Americas",
         "AR",
         "Argentina"
        ],
        [
         3,
         "Asia",
         "AU",
         "Australia"
        ],
        [
         1,
         "Europe",
         "BE",
         "Belgium"
        ],
        [
         2,
         "Americas",
         "BR",
         "Brazil"
        ],
        [
         2,
         "Americas",
         "CA",
         "Canada"
        ],
        [
         1,
         "Europe",
         "CH",
         "Switzerland"
        ],
        [
         3,
         "Asia",
         "CN",
         "China"
        ],
        [
         1,
         "Europe",
         "DE",
         "Germany"
        ],
        [
         1,
         "Europe",
         "DK",
         "Denmark"
        ],
        [
         4,
         "Middle East and Africa",
         "EG",
         "Egypt"
        ],
        [
         1,
         "Europe",
         "FR",
         "France"
        ],
        [
         3,
         "Asia",
         "HK",
         "HongKong"
        ],
        [
         4,
         "Middle East and Africa",
         "IL",
         "Israel"
        ],
        [
         3,
         "Asia",
         "IN",
         "India"
        ],
        [
         1,
         "Europe",
         "IT",
         "Italy"
        ],
        [
         3,
         "Asia",
         "JP",
         "Japan"
        ],
        [
         4,
         "Middle East and Africa",
         "KW",
         "Kuwait"
        ],
        [
         2,
         "Americas",
         "MX",
         "Mexico"
        ],
        [
         4,
         "Middle East and Africa",
         "NG",
         "Nigeria"
        ],
        [
         1,
         "Europe",
         "NL",
         "Netherlands"
        ],
        [
         3,
         "Asia",
         "SG",
         "Singapore"
        ],
        [
         1,
         "Europe",
         "UK",
         "United Kingdom"
        ],
        [
         2,
         "Americas",
         "US",
         "United States of America"
        ],
        [
         4,
         "Middle East and Africa",
         "ZM",
         "Zambia"
        ],
        [
         4,
         "Middle East and Africa",
         "ZW",
         "Zimbabwe"
        ]
       ],
       "datasetInfos": [],
       "dbfsResultPath": null,
       "isJsonSchema": true,
       "metadata": {},
       "overflow": false,
       "plotOptions": {
        "customPlotOptions": {},
        "displayType": "table",
        "pivotAggregation": null,
        "pivotColumns": null,
        "xColumns": null,
        "yColumns": null
       },
       "removedWidgets": [],
       "schema": [
        {
         "metadata": "{}",
         "name": "id_regiao",
         "type": "\"integer\""
        },
        {
         "metadata": "{}",
         "name": "nome_regiao",
         "type": "\"string\""
        },
        {
         "metadata": "{}",
         "name": "id_pais",
         "type": "\"string\""
        },
        {
         "metadata": "{}",
         "name": "nome_pais",
         "type": "\"string\""
        }
       ],
       "type": "table"
      }
     },
     "output_type": "display_data"
    }
   ],
   "source": [
    "df_join.display()"
   ]
  },
  {
   "cell_type": "code",
   "execution_count": 0,
   "metadata": {
    "application/vnd.databricks.v1+cell": {
     "cellMetadata": {
      "byteLimit": 2048000,
      "rowLimit": 10000
     },
     "inputWidgets": {},
     "nuid": "4f45e37d-d57b-4321-b73d-b461f0f558ff",
     "showTitle": false,
     "title": ""
    }
   },
   "outputs": [],
   "source": [
    "df_report = df_join.groupBy('nome_regiao').agg(\n",
    "    count('id_pais').alias('qtd_paises_regiao')\n",
    ").select('nome_regiao','qtd_paises_regiao')"
   ]
  },
  {
   "cell_type": "code",
   "execution_count": 0,
   "metadata": {
    "application/vnd.databricks.v1+cell": {
     "cellMetadata": {
      "byteLimit": 2048000,
      "rowLimit": 10000
     },
     "inputWidgets": {},
     "nuid": "ace86eb5-e3de-4286-8493-c6f84ce7335f",
     "showTitle": false,
     "title": ""
    }
   },
   "outputs": [
    {
     "output_type": "stream",
     "name": "stdout",
     "output_type": "stream",
     "text": [
      "Out[38]: DataFrame[]"
     ]
    }
   ],
   "source": [
    "spark.sql(\"\"\"\n",
    "CREATE DATABASE IF NOT EXISTS department;\n",
    "\"\"\")"
   ]
  },
  {
   "cell_type": "code",
   "execution_count": 0,
   "metadata": {
    "application/vnd.databricks.v1+cell": {
     "cellMetadata": {
      "byteLimit": 2048000,
      "rowLimit": 10000
     },
     "inputWidgets": {},
     "nuid": "4db867cd-ca67-497c-bda0-33961a5c2522",
     "showTitle": false,
     "title": ""
    }
   },
   "outputs": [],
   "source": [
    "path_countries_gold = '/FileStore/gold/departments/countries'\n",
    "df_report.write.option('path', path_countries_gold).format('parquet').mode('overwrite').saveAsTable(\"department.countries_per_regions\")"
   ]
  },
  {
   "cell_type": "code",
   "execution_count": 0,
   "metadata": {
    "application/vnd.databricks.v1+cell": {
     "cellMetadata": {
      "byteLimit": 2048000,
      "rowLimit": 10000
     },
     "inputWidgets": {},
     "nuid": "f92a90dc-d967-493a-9df4-e7e4441924fb",
     "showTitle": false,
     "title": ""
    }
   },
   "outputs": [
    {
     "output_type": "display_data",
     "data": {
      "text/html": [
       "<style scoped>\n",
       "  .table-result-container {\n",
       "    max-height: 300px;\n",
       "    overflow: auto;\n",
       "  }\n",
       "  table, th, td {\n",
       "    border: 1px solid black;\n",
       "    border-collapse: collapse;\n",
       "  }\n",
       "  th, td {\n",
       "    padding: 5px;\n",
       "  }\n",
       "  th {\n",
       "    text-align: left;\n",
       "  }\n",
       "</style><div class='table-result-container'><table class='table-result'><thead style='background-color: white'><tr><th>nome_regiao</th><th>qtd_paises_regiao</th></tr></thead><tbody><tr><td>Europe</td><td>8</td></tr><tr><td>Middle East and Africa</td><td>6</td></tr><tr><td>Americas</td><td>5</td></tr><tr><td>Asia</td><td>6</td></tr></tbody></table></div>"
      ]
     },
     "metadata": {
      "application/vnd.databricks.v1+output": {
       "addedWidgets": {},
       "aggData": [],
       "aggError": "",
       "aggOverflow": false,
       "aggSchema": [],
       "aggSeriesLimitReached": false,
       "aggType": "",
       "arguments": {},
       "columnCustomDisplayInfos": {},
       "data": [
        [
         "Europe",
         8
        ],
        [
         "Middle East and Africa",
         6
        ],
        [
         "Americas",
         5
        ],
        [
         "Asia",
         6
        ]
       ],
       "datasetInfos": [],
       "dbfsResultPath": null,
       "isJsonSchema": true,
       "metadata": {},
       "overflow": false,
       "plotOptions": {
        "customPlotOptions": {},
        "displayType": "table",
        "pivotAggregation": null,
        "pivotColumns": null,
        "xColumns": null,
        "yColumns": null
       },
       "removedWidgets": [],
       "schema": [
        {
         "metadata": "{}",
         "name": "nome_regiao",
         "type": "\"string\""
        },
        {
         "metadata": "{}",
         "name": "qtd_paises_regiao",
         "type": "\"long\""
        }
       ],
       "type": "table"
      }
     },
     "output_type": "display_data"
    }
   ],
   "source": [
    "spark.sql(\"SELECT * FROM department.countries_per_regions\").display()"
   ]
  },
  {
   "cell_type": "code",
   "execution_count": 0,
   "metadata": {
    "application/vnd.databricks.v1+cell": {
     "cellMetadata": {},
     "inputWidgets": {},
     "nuid": "ba661730-4b81-4ad3-917c-a2f589adcaba",
     "showTitle": false,
     "title": ""
    }
   },
   "outputs": [],
   "source": []
  }
 ],
 "metadata": {
  "application/vnd.databricks.v1+notebook": {
   "dashboards": [],
   "language": "python",
   "notebookMetadata": {
    "pythonIndentUnit": 4
   },
   "notebookName": "reporting_countries_per_regions",
   "widgets": {}
  }
 },
 "nbformat": 4,
 "nbformat_minor": 0
}
