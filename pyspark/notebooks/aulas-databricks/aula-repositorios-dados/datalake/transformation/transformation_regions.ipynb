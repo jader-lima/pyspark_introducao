{
 "cells": [
  {
   "cell_type": "code",
   "execution_count": 0,
   "metadata": {
    "application/vnd.databricks.v1+cell": {
     "cellMetadata": {
      "byteLimit": 2048000,
      "rowLimit": 10000
     },
     "inputWidgets": {},
     "nuid": "3c8db64d-c09b-4db8-acbd-5c2407b50169",
     "showTitle": false,
     "title": ""
    }
   },
   "outputs": [],
   "source": [
    "from pyspark.sql import SparkSession\n",
    "from pyspark.sql.functions import from_json, col, expr\n",
    "from pyspark.sql.types import StructType, StructField, StringType, LongType, DoubleType, IntegerType, ArrayType, DateType\n",
    "import sys\n",
    "import os\n",
    "from pyspark.sql import DataFrame\n"
   ]
  },
  {
   "cell_type": "code",
   "execution_count": 0,
   "metadata": {
    "application/vnd.databricks.v1+cell": {
     "cellMetadata": {
      "byteLimit": 2048000,
      "rowLimit": 10000
     },
     "inputWidgets": {},
     "nuid": "6600bbfe-4266-487a-893b-9523b25e3731",
     "showTitle": false,
     "title": ""
    }
   },
   "outputs": [],
   "source": [
    "path_regions_bronze = '/FileStore/bronze/departments/regions'\n",
    "df_regions = spark.read.format('parquet')\\\n",
    ".load(path_regions_bronze)"
   ]
  },
  {
   "cell_type": "code",
   "execution_count": 0,
   "metadata": {
    "application/vnd.databricks.v1+cell": {
     "cellMetadata": {
      "byteLimit": 2048000,
      "rowLimit": 10000
     },
     "inputWidgets": {},
     "nuid": "5e9cae75-6ed3-4d56-b46c-b0913375bfa5",
     "showTitle": false,
     "title": ""
    }
   },
   "outputs": [],
   "source": [
    "df_regions_transformed = df_regions.withColumn('id_regiao',col('region_id')).withColumn('nome_regiao',col('region_name'))\n",
    "df_regions_transformed = df_regions_transformed.select('id_regiao','nome_regiao')"
   ]
  },
  {
   "cell_type": "code",
   "execution_count": 0,
   "metadata": {
    "application/vnd.databricks.v1+cell": {
     "cellMetadata": {
      "byteLimit": 2048000,
      "rowLimit": 10000
     },
     "inputWidgets": {},
     "nuid": "4db867cd-ca67-497c-bda0-33961a5c2522",
     "showTitle": false,
     "title": ""
    }
   },
   "outputs": [],
   "source": [
    "path_regions_silver = '/FileStore/silver/departments/regions'\n",
    "df_regions_transformed.write.format('parquet').mode('overwrite').save(path_regions_silver)"
   ]
  },
  {
   "cell_type": "code",
   "execution_count": 0,
   "metadata": {
    "application/vnd.databricks.v1+cell": {
     "cellMetadata": {},
     "inputWidgets": {},
     "nuid": "f92a90dc-d967-493a-9df4-e7e4441924fb",
     "showTitle": false,
     "title": ""
    }
   },
   "outputs": [],
   "source": []
  }
 ],
 "metadata": {
  "application/vnd.databricks.v1+notebook": {
   "dashboards": [],
   "language": "python",
   "notebookMetadata": {
    "pythonIndentUnit": 4
   },
   "notebookName": "transformation_regions",
   "widgets": {}
  }
 },
 "nbformat": 4,
 "nbformat_minor": 0
}
