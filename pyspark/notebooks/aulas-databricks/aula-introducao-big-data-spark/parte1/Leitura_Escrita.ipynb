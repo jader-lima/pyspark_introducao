{
 "cells": [
  {
   "cell_type": "code",
   "execution_count": 0,
   "metadata": {
    "application/vnd.databricks.v1+cell": {
     "cellMetadata": {
      "byteLimit": 2048000,
      "rowLimit": 10000
     },
     "inputWidgets": {},
     "nuid": "61118bcd-0616-43d5-8059-e10a2a9c6e58",
     "showTitle": false,
     "title": ""
    }
   },
   "outputs": [],
   "source": [
    "from pyspark.sql import SparkSession\n",
    "from pyspark.sql.functions import col\n",
    "from pyspark.sql.types import StructType,StructField, StringType, IntegerType, FloatType\n",
    "import pyspark.sql.functions as F"
   ]
  },
  {
   "cell_type": "code",
   "execution_count": 0,
   "metadata": {
    "application/vnd.databricks.v1+cell": {
     "cellMetadata": {
      "byteLimit": 2048000,
      "rowLimit": 10000
     },
     "inputWidgets": {},
     "nuid": "9a0cf7f7-dca2-4fe3-952c-9725ffa990fb",
     "showTitle": false,
     "title": ""
    }
   },
   "outputs": [],
   "source": [
    "\n",
    "spark = SparkSession.builder \\\n",
    "    .master('local[*]') \\\n",
    "    .appName(\"Iniciando com Spark\") \\\n",
    "    .getOrCreate()"
   ]
  },
  {
   "cell_type": "markdown",
   "metadata": {
    "application/vnd.databricks.v1+cell": {
     "cellMetadata": {},
     "inputWidgets": {},
     "nuid": "39140966-2875-47cc-a08c-b6ef98129a8b",
     "showTitle": false,
     "title": ""
    }
   },
   "source": [
    "### Lendo CSV"
   ]
  },
  {
   "cell_type": "markdown",
   "metadata": {
    "application/vnd.databricks.v1+cell": {
     "cellMetadata": {},
     "inputWidgets": {},
     "nuid": "106443e4-3473-4d33-b47e-4cc3bce23d3b",
     "showTitle": false,
     "title": ""
    }
   },
   "source": [
    "Opções mais comuns:\n",
    "* header\n",
    "* inferSchema\n",
    "* sep\n",
    "* encoding"
   ]
  },
  {
   "cell_type": "markdown",
   "metadata": {
    "application/vnd.databricks.v1+cell": {
     "cellMetadata": {},
     "inputWidgets": {},
     "nuid": "eab496e1-0a16-4777-9add-495a4da5d890",
     "showTitle": false,
     "title": ""
    }
   },
   "source": [
    "### DataFrameReader"
   ]
  },
  {
   "cell_type": "markdown",
   "metadata": {
    "application/vnd.databricks.v1+cell": {
     "cellMetadata": {},
     "inputWidgets": {},
     "nuid": "8f36efd0-afef-4533-a7cb-a5b1e15b241f",
     "showTitle": false,
     "title": ""
    }
   },
   "source": [
    "```\n",
    "spark.read.format(format).option(args).load(file/path)\n",
    "```"
   ]
  },
  {
   "cell_type": "markdown",
   "metadata": {
    "application/vnd.databricks.v1+cell": {
     "cellMetadata": {},
     "inputWidgets": {},
     "nuid": "2911c065-beba-473b-a392-b63bf1882967",
     "showTitle": false,
     "title": ""
    }
   },
   "source": [
    "### Opção de leitura 1"
   ]
  },
  {
   "cell_type": "code",
   "execution_count": 0,
   "metadata": {
    "application/vnd.databricks.v1+cell": {
     "cellMetadata": {
      "byteLimit": 2048000,
      "rowLimit": 10000
     },
     "inputWidgets": {},
     "nuid": "985af750-357b-467c-8ee9-5ca7f4d10186",
     "showTitle": false,
     "title": ""
    }
   },
   "outputs": [],
   "source": [
    "path_countries = '/FileStore/transient/departments/countries/'\n",
    "df_countries = spark.read.format('csv').load(path_countries,header='True',sep=\",\",quote=\"'\")"
   ]
  },
  {
   "cell_type": "code",
   "execution_count": 0,
   "metadata": {
    "application/vnd.databricks.v1+cell": {
     "cellMetadata": {
      "byteLimit": 2048000,
      "rowLimit": 10000
     },
     "inputWidgets": {},
     "nuid": "1e647145-5143-48fe-b7b6-86ac3a4d8806",
     "showTitle": false,
     "title": ""
    }
   },
   "outputs": [
    {
     "output_type": "stream",
     "name": "stdout",
     "output_type": "stream",
     "text": [
      "+----------+------------+---------+\n|country_id|country_name|region_id|\n+----------+------------+---------+\n|        AR|   Argentina|        2|\n|        AU|   Australia|        3|\n+----------+------------+---------+\nonly showing top 2 rows\n\n"
     ]
    }
   ],
   "source": [
    "df_countries.show(2)"
   ]
  },
  {
   "cell_type": "markdown",
   "metadata": {
    "application/vnd.databricks.v1+cell": {
     "cellMetadata": {},
     "inputWidgets": {},
     "nuid": "fb049e8f-ac53-410e-b23e-096fe564d52b",
     "showTitle": false,
     "title": ""
    }
   },
   "source": [
    "### Opção de leitura 2"
   ]
  },
  {
   "cell_type": "code",
   "execution_count": 0,
   "metadata": {
    "application/vnd.databricks.v1+cell": {
     "cellMetadata": {
      "byteLimit": 2048000,
      "rowLimit": 10000
     },
     "inputWidgets": {},
     "nuid": "8b91a45a-5378-44f1-bfc5-0872a0105944",
     "showTitle": false,
     "title": ""
    }
   },
   "outputs": [],
   "source": [
    "path_countries = '/FileStore/transient/departments/countries/'\n",
    "\n",
    "df_countries = spark.read.format(\"csv\")\\\n",
    "            .option(\"header\", True)\\\n",
    "            .option(\"sep\", \",\")\\\n",
    "            .option(\"quote\",\"'\")\\\n",
    "            .option(\"inferSchema\",True)\\\n",
    "            .load(path_countries)"
   ]
  },
  {
   "cell_type": "code",
   "execution_count": 0,
   "metadata": {
    "application/vnd.databricks.v1+cell": {
     "cellMetadata": {
      "byteLimit": 2048000,
      "rowLimit": 10000
     },
     "inputWidgets": {},
     "nuid": "c2846524-a2ab-4f2a-a05d-b064ed198d36",
     "showTitle": false,
     "title": ""
    }
   },
   "outputs": [
    {
     "output_type": "stream",
     "name": "stdout",
     "output_type": "stream",
     "text": [
      "+----------+------------+---------+\n|country_id|country_name|region_id|\n+----------+------------+---------+\n|AR        |Argentina   |2        |\n|AU        |Australia   |3        |\n+----------+------------+---------+\nonly showing top 2 rows\n\n"
     ]
    }
   ],
   "source": [
    "df_countries.show(2,truncate=False)"
   ]
  },
  {
   "cell_type": "markdown",
   "metadata": {
    "application/vnd.databricks.v1+cell": {
     "cellMetadata": {},
     "inputWidgets": {},
     "nuid": "2447987c-aacf-4b69-ae1e-22056008d02e",
     "showTitle": false,
     "title": ""
    }
   },
   "source": [
    "### Opção de leitura 3"
   ]
  },
  {
   "cell_type": "code",
   "execution_count": 0,
   "metadata": {
    "application/vnd.databricks.v1+cell": {
     "cellMetadata": {
      "byteLimit": 2048000,
      "rowLimit": 10000
     },
     "inputWidgets": {},
     "nuid": "6547b225-6bba-4cc9-8599-7863a08a365d",
     "showTitle": false,
     "title": ""
    }
   },
   "outputs": [
    {
     "output_type": "stream",
     "name": "stdout",
     "output_type": "stream",
     "text": [
      "+----------+------------+---------+\n|country_id|country_name|region_id|\n+----------+------------+---------+\n|        AR|   Argentina|        2|\n|        AU|   Australia|        3|\n+----------+------------+---------+\n\n"
     ]
    }
   ],
   "source": [
    "path_countries = '/FileStore/transient/departments/countries/'\n",
    "options_dict = {\n",
    "    'sep': ',',\n",
    "    'header': 'true',\n",
    "    'quote': '\\''\n",
    "}\n",
    "\n",
    "df = (\n",
    "    spark.read\n",
    "    .format('csv')\n",
    "    .options(**options_dict)\n",
    "    .schema('country_id string, country_name string, region_id string')\n",
    "    .load(path_countries)\n",
    ")\n",
    "df.limit(2).show()"
   ]
  },
  {
   "cell_type": "markdown",
   "metadata": {
    "application/vnd.databricks.v1+cell": {
     "cellMetadata": {},
     "inputWidgets": {},
     "nuid": "fc7f3dda-4c56-4065-b115-45d47fbb8b2e",
     "showTitle": false,
     "title": ""
    }
   },
   "source": [
    "### Escrevendo CSV"
   ]
  },
  {
   "cell_type": "markdown",
   "metadata": {
    "application/vnd.databricks.v1+cell": {
     "cellMetadata": {},
     "inputWidgets": {},
     "nuid": "0cfa52fe-36f1-408a-8b12-a1b21038c288",
     "showTitle": false,
     "title": ""
    }
   },
   "source": [
    "```\n",
    "df.write.format(format).option(args).save(file/path)\n",
    "```"
   ]
  },
  {
   "cell_type": "code",
   "execution_count": 0,
   "metadata": {
    "application/vnd.databricks.v1+cell": {
     "cellMetadata": {
      "byteLimit": 2048000,
      "rowLimit": 10000
     },
     "inputWidgets": {},
     "nuid": "0e44cd2c-bdbf-469d-b129-93318ba9ec5f",
     "showTitle": false,
     "title": ""
    }
   },
   "outputs": [],
   "source": [
    "path_countries = '/FileStore/bronze/departments/countries/'\n",
    "df.write.format('csv').save(path_countries + 'countries.csv', header=True,sep = ',',  quote = '\\'' )"
   ]
  },
  {
   "cell_type": "markdown",
   "metadata": {
    "application/vnd.databricks.v1+cell": {
     "cellMetadata": {},
     "inputWidgets": {},
     "nuid": "18fd7d48-676a-4279-9361-b9256b35d164",
     "showTitle": false,
     "title": ""
    }
   },
   "source": [
    "### Lendo Json"
   ]
  },
  {
   "cell_type": "code",
   "execution_count": 0,
   "metadata": {
    "application/vnd.databricks.v1+cell": {
     "cellMetadata": {
      "byteLimit": 2048000,
      "rowLimit": 10000
     },
     "inputWidgets": {},
     "nuid": "ffc4cfd0-df30-4a3c-9938-2f10c1bdca64",
     "showTitle": false,
     "title": ""
    }
   },
   "outputs": [],
   "source": [
    "path_json = '/FileStore/transient/json/invoices/'\n",
    "df_json = spark.read.format('json').load(path_json)"
   ]
  },
  {
   "cell_type": "code",
   "execution_count": 0,
   "metadata": {
    "application/vnd.databricks.v1+cell": {
     "cellMetadata": {
      "byteLimit": 2048000,
      "rowLimit": 10000
     },
     "inputWidgets": {},
     "nuid": "2a3b4193-343a-40b6-a5d0-844feb7f491a",
     "showTitle": false,
     "title": ""
    }
   },
   "outputs": [
    {
     "output_type": "stream",
     "name": "stdout",
     "output_type": "stream",
     "text": [
      "+------------------+------------------+---------+-------------+--------------+------------+---------------------------------------------------------------------------------------+-------------+--------------------------------------------------------------------------------------------------------------------------------------------------------------------------------+-------------+-------------+-------------+------+------------------+-------+-------------+-----------+\n|CESS              |CGST              |CashierID|CreatedTime  |CustomerCardNo|CustomerType|DeliveryAddress                                                                        |DeliveryType |InvoiceLineItems                                                                                                                                                                |InvoiceNumber|NumberOfItems|PaymentMethod|PosID |SGST              |StoreID|TaxableAmount|TotalAmount|\n+------------------+------------------+---------+-------------+--------------+------------+---------------------------------------------------------------------------------------+-------------+--------------------------------------------------------------------------------------------------------------------------------------------------------------------------------+-------------+-------------+-------------+------+------------------+-------+-------------+-----------+\n|11.25             |225.0             |OAS845   |1595689270697|8790333340    |PRIME       |{House No 383, 4427 Pellentesque Rd., Bokaro Steel City, 1442202063, 509723, Jharkhand}|HOME-DELIVERY|[{258, Closet, 1687.0, 2, 3374.0}, {538, Grandmother clock, 1301.0, 1, 1301.0}, {528, Projection clock, 2365.0, 1, 2365.0}, {673, Dough scraper, 980.0, 2, 1960.0}]             |94201418     |4            |CASH         |POS365|225.0             |STR7443|9000.0       |9000.0     |\n|9.557500000000001 |191.15            |OAS287   |1595689270697|7589671731    |PRIME       |{1852 Est St., Imphal, 6124913142, 120023, Manipur}                                    |HOME-DELIVERY|[{593, Hanging curtains, 1896.0, 2, 3792.0}, {308, Butterfly chair, 857.0, 2, 1714.0}, {383, Innerspring Mattress, 655.0, 1, 655.0}, {423, Quilt, 1485.0, 1, 1485.0}]           |8749479      |4            |CASH         |POS872|191.15            |STR5864|7646.0       |7646.0     |\n|9.31625           |186.32500000000002|OAS737   |1595689270798|2461788838    |NONPRIME    |{House No 740, 6689 Tempor Av., Bharatpur, 8563079826, 932264, Rajasthan}              |HOME-DELIVERY|[{528, Projection clock, 2365.0, 2, 4730.0}, {503, Chef's knife, 1973.0, 1, 1973.0}, {653, Browning tray, 375.0, 2, 750.0}]                                                     |91509413     |3            |CARD         |POS253|186.32500000000002|STR2629|7453.0       |7453.0     |\n|5.0075            |100.15            |OAS287   |1595689270798|7589671731    |PRIME       |{Flat No. #335-7984 Senectus Rd., Pali, 6125618251, 900530, Rajasthan}                 |HOME-DELIVERY|[{238, Dining table, 1582.0, 2, 3164.0}, {273, Bedroom set, 842.0, 1, 842.0}]                                                                                                   |54315437     |2            |CASH         |POS872|100.15            |STR5864|4006.0       |4006.0     |\n|4.11              |82.2              |OAS329   |1595689270798|3027514652    |PRIME       |null                                                                                   |TAKEAWAY     |[{458, Wine glass, 1644.0, 2, 3288.0}]                                                                                                                                          |84526449     |1            |CASH         |POS152|82.2              |STR2952|3288.0       |3288.0     |\n|2.3675            |47.35             |OAS969   |1595689270898|8189067868    |NONPRIME    |null                                                                                   |TAKEAWAY     |[{268, Floating shelf, 1894.0, 1, 1894.0}]                                                                                                                                      |4014389      |1            |CASH         |POS353|47.35             |STR5494|1894.0       |1894.0     |\n|2.44375           |48.875            |OAS311   |1595689270898|4692642935    |PRIME       |{8612 Non Rd., Guna, 8336980338, 210683, Madhya Pradesh}                               |HOME-DELIVERY|[{643, Blow torch, 1955.0, 1, 1955.0}]                                                                                                                                          |36524242     |1            |CASH         |POS129|48.875            |STR3781|1955.0       |1955.0     |\n|3.68              |73.60000000000001 |OAS285   |1595689270898|5582740626    |PRIME       |null                                                                                   |TAKEAWAY     |[{668, Crab cracker, 785.0, 1, 785.0}, {658, Chinois, 567.0, 1, 567.0}, {633, Cafe Curtains, 796.0, 2, 1592.0}]                                                                 |35058148     |3            |CARD         |POS135|73.60000000000001 |STR1534|2944.0       |2944.0     |\n|2.87125           |57.425000000000004|OAS622   |1595689270999|7829975914    |NONPRIME    |{7409 Laoreet Rd., Jammu, 8335722151, 697806, Jammu and Kashmir}                       |HOME-DELIVERY|[{233, Coffee table, 1055.0, 1, 1055.0}, {408, Confidante, 1242.0, 1, 1242.0}]                                                                                                  |95067626     |2            |CASH         |POS172|57.425000000000004|STR2629|2297.0       |2297.0     |\n|0.96625           |19.325000000000003|OAS183   |1595689270999|3916555911    |NONPRIME    |{529-4520 Libero. Ave, Raigarh, 3057906681, 183678, Chhattisgarh}                      |HOME-DELIVERY|[{398, Latex Mattress, 773.0, 1, 773.0}]                                                                                                                                        |17921881     |1            |CASH         |POS324|19.325000000000003|STR1955|773.0        |773.0      |\n|4.53              |90.60000000000001 |OAS689   |1595689270999|2220404140    |PRIME       |{Flat No. #335-7984 Senectus Rd., Pali, 6125618251, 900530, Rajasthan}                 |HOME-DELIVERY|[{288, Hutch, 1812.0, 2, 3624.0}]                                                                                                                                               |27927027     |1            |CASH         |POS968|90.60000000000001 |STR5646|3624.0       |3624.0     |\n|8.2075            |164.15            |OAS515   |1595689271099|1053863739    |PRIME       |null                                                                                   |TAKEAWAY     |[{483, Teacups and saucers, 1781.0, 1, 1781.0}, {608, Pleated Drapes, 1684.0, 2, 3368.0}, {403, Adjustable Air Mattress, 1417.0, 1, 1417.0}]                                    |27582761     |3            |CASH         |POS647|164.15            |STR2629|6566.0       |6566.0     |\n|7.4350000000000005|148.70000000000002|OAS287   |1595689271099|7589671731    |PRIME       |{773 Eu Ave, Sitapur, 9934440762, 431667, Uttar Pradesh}                               |HOME-DELIVERY|[{243, Folding table, 738.0, 2, 1476.0}, {283, Portable Lamps, 2236.0, 2, 4472.0}]                                                                                              |68779313     |2            |CASH         |POS872|148.70000000000002|STR5864|5948.0       |5948.0     |\n|8.33375           |166.675           |OAS634   |1595689271099|1682244797    |PRIME       |{6226 Mauris St., Ingraj Bazar, 8382307048, 592487, West Bengal}                       |HOME-DELIVERY|[{618, Pencil Pleat Drapes, 1140.0, 1, 1140.0}, {648, Bottle opener, 321.0, 2, 642.0}, {613, Goblet Pleat Drapes, 1583.0, 1, 1583.0}, {553, Banjo clock, 1651.0, 2, 3302.0}]    |69885603     |4            |CASH         |POS115|166.675           |STR7255|6667.0       |6667.0     |\n|1.78              |35.6              |OAS329   |1595689271199|7051101351    |PRIME       |{529-4520 Libero. Ave, Raigarh, 3057906681, 183678, Chhattisgarh}                      |HOME-DELIVERY|[{498, Carving knifes, 1424.0, 1, 1424.0}]                                                                                                                                      |80892932     |1            |CASH         |POS825|35.6              |STR7188|1424.0       |1424.0     |\n|3.395             |67.9              |OAS755   |1595689271199|5196911608    |NONPRIME    |null                                                                                   |TAKEAWAY     |[{473, Mason jars, 1358.0, 2, 2716.0}]                                                                                                                                          |42127776     |1            |CARD         |POS935|67.9              |STR8311|2716.0       |2716.0     |\n|13.2475           |264.95            |OAS812   |1595689271199|8891304816    |NONPRIME    |null                                                                                   |TAKEAWAY     |[{513, Flip clock, 1259.0, 1, 1259.0}, {533, Rolling ball clock, 1651.0, 1, 1651.0}, {433, Depression glass, 1950.0, 2, 3900.0}, {268, Floating shelf, 1894.0, 2, 3788.0}]      |70991756     |4            |CASH         |POS692|264.95            |STR7255|10598.0      |10598.0    |\n|15.44             |308.8             |OAS576   |1595689271299|9724245321    |PRIME       |{7711 Ac Avenue, Raigarh, 1952031107, 282126, Chhattisgarh}                            |HOME-DELIVERY|[{533, Rolling ball clock, 1651.0, 1, 1651.0}, {393, Hybrid Mattress, 2217.0, 2, 4434.0}, {443, Margarita glass, 2475.0, 1, 2475.0}, {593, Hanging curtains, 1896.0, 2, 3792.0}]|49721293     |4            |CASH         |POS722|308.8             |STR5494|12352.0      |12352.0    |\n|4.32875           |86.575            |OAS186   |1595689271299|3996109634    |NONPRIME    |{7418 Dolor St., Nagpur, 3018429913, 710782, Maharastra}                               |HOME-DELIVERY|[{353, Recliner, 1585.0, 1, 1585.0}, {383, Innerspring Mattress, 655.0, 1, 655.0}, {328, Dining chair, 1223.0, 1, 1223.0}]                                                      |8112141      |3            |CARD         |POS927|86.575            |STR6347|3463.0       |3463.0     |\n|8.905             |178.10000000000002|OAS354   |1595689271299|2599848717    |NONPRIME    |null                                                                                   |TAKEAWAY     |[{648, Bottle opener, 321.0, 1, 321.0}, {443, Margarita glass, 2475.0, 1, 2475.0}, {698, Meat grinder, 1250.0, 2, 2500.0}, {598, Grommet Curtains, 914.0, 2, 1828.0}]           |10041166     |4            |CARD         |POS881|178.10000000000002|STR8513|7124.0       |7124.0     |\n+------------------+------------------+---------+-------------+--------------+------------+---------------------------------------------------------------------------------------+-------------+--------------------------------------------------------------------------------------------------------------------------------------------------------------------------------+-------------+-------------+-------------+------+------------------+-------+-------------+-----------+\nonly showing top 20 rows\n\n"
     ]
    }
   ],
   "source": [
    "df_json.show(truncate=False)"
   ]
  },
  {
   "cell_type": "code",
   "execution_count": 0,
   "metadata": {
    "application/vnd.databricks.v1+cell": {
     "cellMetadata": {},
     "inputWidgets": {},
     "nuid": "95e69bd7-dc91-41a8-a69f-b9c61ed993bc",
     "showTitle": false,
     "title": ""
    }
   },
   "outputs": [],
   "source": [
    "path_json = '/FileStore/transient/json/zipcodes/'\n",
    "df_zip = spark.read.format('json').option(\"multiline\",\"true\").load(path_json)"
   ]
  },
  {
   "cell_type": "code",
   "execution_count": 0,
   "metadata": {
    "application/vnd.databricks.v1+cell": {
     "cellMetadata": {},
     "inputWidgets": {},
     "nuid": "388b6d6c-8f2f-4c9f-8be6-7d75a8ad2700",
     "showTitle": false,
     "title": ""
    }
   },
   "outputs": [
    {
     "output_type": "stream",
     "name": "stdout",
     "output_type": "stream",
     "text": [
      "+-------------------+------------+-----+-----------+-------+\n|               City|RecordNumber|State|ZipCodeType|Zipcode|\n+-------------------+------------+-----+-----------+-------+\n|PASEO COSTA DEL SUR|           2|   PR|   STANDARD|    704|\n|       BDA SAN LUIS|          10|   PR|   STANDARD|    709|\n+-------------------+------------+-----+-----------+-------+\n\n"
     ]
    }
   ],
   "source": [
    "df_zip.show()"
   ]
  },
  {
   "cell_type": "markdown",
   "metadata": {
    "application/vnd.databricks.v1+cell": {
     "cellMetadata": {},
     "inputWidgets": {},
     "nuid": "114e4f82-dffa-4985-a482-083702ddc940",
     "showTitle": false,
     "title": ""
    }
   },
   "source": [
    "### Escrevendo JSON"
   ]
  },
  {
   "cell_type": "code",
   "execution_count": 0,
   "metadata": {
    "application/vnd.databricks.v1+cell": {
     "cellMetadata": {},
     "inputWidgets": {},
     "nuid": "ff6818cb-62f7-4d09-a44b-6574e0afb593",
     "showTitle": false,
     "title": ""
    }
   },
   "outputs": [],
   "source": [
    "path_json = '/FileStore/transient/wrote/json/zipcodes/'\n",
    "df_zip.write.format('json').save(path_json )"
   ]
  },
  {
   "cell_type": "markdown",
   "metadata": {
    "application/vnd.databricks.v1+cell": {
     "cellMetadata": {},
     "inputWidgets": {},
     "nuid": "13093fd5-195a-44f6-a743-b1660cacce79",
     "showTitle": false,
     "title": ""
    }
   },
   "source": [
    "### Lendo e Escrevendo Parquet"
   ]
  },
  {
   "cell_type": "markdown",
   "metadata": {
    "application/vnd.databricks.v1+cell": {
     "cellMetadata": {},
     "inputWidgets": {},
     "nuid": "9bd4ba6d-8359-4554-a784-500769d0e40f",
     "showTitle": false,
     "title": ""
    }
   },
   "source": [
    "* Armazenamento colunar, operações bem mais eficientes ;\n",
    "* Salva os Metadados, como os tipos das colunas, não é necessário especificar schemas para arquivos parquet;\n",
    "* Suporta dados estruturados de forma aninhada ( listas)\n",
    "* Processamento de dados particionados com volume na casa dos gigabytes por arquivo arquivo;\n",
    "* Compressão de dados na escrita, de forma a ocupar menos espaço;\n",
    "* Integrado com AWS Athena, Amazon Redshift Spectrum, Google BigQuery , Google Dataproc, e outras"
   ]
  },
  {
   "cell_type": "markdown",
   "metadata": {
    "application/vnd.databricks.v1+cell": {
     "cellMetadata": {},
     "inputWidgets": {},
     "nuid": "23c1bd6e-a249-48dc-80fb-bb6e974412fd",
     "showTitle": false,
     "title": ""
    }
   },
   "source": [
    "### mode:\n",
    "\n",
    "* append: arquivos empilhados aos ja existentes\n",
    "* ignore: retorna um erro silencioso\n",
    "* overwrite: sobrescreve os dados já existente\n",
    "* error (default): retorne erro se já existem dados"
   ]
  },
  {
   "cell_type": "code",
   "execution_count": 0,
   "metadata": {
    "application/vnd.databricks.v1+cell": {
     "cellMetadata": {
      "byteLimit": 2048000,
      "rowLimit": 10000
     },
     "inputWidgets": {},
     "nuid": "8abb6003-d763-4a0e-8c60-d8857a2e5c47",
     "showTitle": false,
     "title": ""
    }
   },
   "outputs": [],
   "source": [
    "path_json = '/FileStore/transient/json/invoices/'\n",
    "df_json = spark.read.format('json').load(path_json)\n",
    "\n",
    "\n",
    "\n",
    "path_dest = '/FileStore/bronze/invoices/'\n",
    "df_json.write.format('parquet').mode('overwrite').save(path_dest )"
   ]
  },
  {
   "cell_type": "code",
   "execution_count": 0,
   "metadata": {
    "application/vnd.databricks.v1+cell": {
     "cellMetadata": {
      "byteLimit": 2048000,
      "rowLimit": 10000
     },
     "inputWidgets": {},
     "nuid": "1cfbbb8a-1d4e-4907-975c-327174aea2c2",
     "showTitle": false,
     "title": ""
    }
   },
   "outputs": [],
   "source": [
    "df_parquet = spark.read.format('parquet').load(path_dest)"
   ]
  },
  {
   "cell_type": "code",
   "execution_count": 0,
   "metadata": {
    "application/vnd.databricks.v1+cell": {
     "cellMetadata": {
      "byteLimit": 2048000,
      "rowLimit": 10000
     },
     "inputWidgets": {},
     "nuid": "533531f0-d232-4443-8ec0-fe6b6d20ded2",
     "showTitle": false,
     "title": ""
    }
   },
   "outputs": [
    {
     "output_type": "stream",
     "name": "stdout",
     "output_type": "stream",
     "text": [
      "root\n |-- CESS: double (nullable = true)\n |-- CGST: double (nullable = true)\n |-- CashierID: string (nullable = true)\n |-- CreatedTime: long (nullable = true)\n |-- CustomerCardNo: string (nullable = true)\n |-- CustomerType: string (nullable = true)\n |-- DeliveryAddress: struct (nullable = true)\n |    |-- AddressLine: string (nullable = true)\n |    |-- City: string (nullable = true)\n |    |-- ContactNumber: string (nullable = true)\n |    |-- PinCode: string (nullable = true)\n |    |-- State: string (nullable = true)\n |-- DeliveryType: string (nullable = true)\n |-- InvoiceLineItems: array (nullable = true)\n |    |-- element: struct (containsNull = true)\n |    |    |-- ItemCode: string (nullable = true)\n |    |    |-- ItemDescription: string (nullable = true)\n |    |    |-- ItemPrice: double (nullable = true)\n |    |    |-- ItemQty: long (nullable = true)\n |    |    |-- TotalValue: double (nullable = true)\n |-- InvoiceNumber: string (nullable = true)\n |-- NumberOfItems: long (nullable = true)\n |-- PaymentMethod: string (nullable = true)\n |-- PosID: string (nullable = true)\n |-- SGST: double (nullable = true)\n |-- StoreID: string (nullable = true)\n |-- TaxableAmount: double (nullable = true)\n |-- TotalAmount: double (nullable = true)\n\n"
     ]
    }
   ],
   "source": [
    "df_parquet.printSchema()"
   ]
  },
  {
   "cell_type": "code",
   "execution_count": 0,
   "metadata": {
    "application/vnd.databricks.v1+cell": {
     "cellMetadata": {},
     "inputWidgets": {},
     "nuid": "0edbacaa-ba6e-4f3e-96ec-20b973a19dec",
     "showTitle": false,
     "title": ""
    }
   },
   "outputs": [],
   "source": []
  }
 ],
 "metadata": {
  "application/vnd.databricks.v1+notebook": {
   "dashboards": [],
   "language": "python",
   "notebookMetadata": {
    "pythonIndentUnit": 4
   },
   "notebookName": "Leitura_Escrita",
   "widgets": {}
  },
  "kernelspec": {
   "display_name": "Python 3 (ipykernel)",
   "language": "python",
   "name": "python3"
  },
  "language_info": {
   "codemirror_mode": {
    "name": "ipython",
    "version": 3
   },
   "file_extension": ".py",
   "mimetype": "text/x-python",
   "name": "python",
   "nbconvert_exporter": "python",
   "pygments_lexer": "ipython3",
   "version": "3.11.6"
  }
 },
 "nbformat": 4,
 "nbformat_minor": 0
}
