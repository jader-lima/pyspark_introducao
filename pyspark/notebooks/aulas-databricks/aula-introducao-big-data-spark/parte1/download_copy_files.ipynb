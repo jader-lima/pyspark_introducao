{
 "cells": [
  {
   "cell_type": "code",
   "execution_count": null,
   "metadata": {
    "application/vnd.databricks.v1+cell": {
     "cellMetadata": {
      "byteLimit": 2048000,
      "rowLimit": 10000
     },
     "inputWidgets": {},
     "nuid": "3b636833-cf7b-4db1-8f46-06d5bb56e6b8",
     "showTitle": false,
     "title": ""
    }
   },
   "outputs": [],
   "source": [
    "\n",
    "import pyspark\n",
    "from pyspark.sql import SparkSession, Row\n",
    "from pyspark.sql.types import StructType,StructField, StringType\n",
    "\n",
    "spark = SparkSession.builder.appName('spark_copy_data').getOrCreate()"
   ]
  },
  {
   "cell_type": "code",
   "execution_count": null,
   "metadata": {
    "application/vnd.databricks.v1+cell": {
     "cellMetadata": {
      "byteLimit": 2048000,
      "rowLimit": 10000
     },
     "inputWidgets": {},
     "nuid": "aac9a93f-ffcf-4165-b920-3978c809cf05",
     "showTitle": false,
     "title": ""
    }
   },
   "outputs": [
    {
     "name": "stdout",
     "output_type": "stream",
     "text": [
      "Out[22]: True"
     ]
    }
   ],
   "source": [
    "# dbutils.fs.mkdirs('dbfs:/FileStore/transient/departments/countries')\n",
    "# dbutils.fs.mkdirs('dbfs:/FileStore/transient/departments/regions')\n",
    "# dbutils.fs.mkdirs('dbfs:/FileStore/transient/departments/jobs')\n",
    "# dbutils.fs.mkdirs('dbfs:/FileStore/transient/departments/employees')\n",
    "# dbutils.fs.mkdirs('dbfs:/FileStore/transient/departments/locations')\n",
    "# dbutils.fs.mkdirs('dbfs:/FileStore/transient/departments/departments')"
   ]
  },
  {
   "cell_type": "code",
   "execution_count": null,
   "metadata": {
    "application/vnd.databricks.v1+cell": {
     "cellMetadata": {
      "byteLimit": 2048000,
      "rowLimit": 10000
     },
     "inputWidgets": {},
     "nuid": "a8774742-a4d2-4e1f-956e-0b0cf476faed",
     "showTitle": false,
     "title": ""
    }
   },
   "outputs": [
    {
     "name": "stdout",
     "output_type": "stream",
     "text": [
      "Out[5]: []"
     ]
    }
   ],
   "source": [
    "dbutils.fs.ls('dbfs:/mnt/datalake/transient/departments/locations')"
   ]
  },
  {
   "cell_type": "code",
   "execution_count": null,
   "metadata": {
    "application/vnd.databricks.v1+cell": {
     "cellMetadata": {
      "byteLimit": 2048000,
      "rowLimit": 10000
     },
     "inputWidgets": {},
     "nuid": "5a2e7dd7-59d5-4c91-aa56-4c7eb8e95391",
     "showTitle": false,
     "title": ""
    }
   },
   "outputs": [
    {
     "name": "stdout",
     "output_type": "stream",
     "text": [
      "Out[21]: True"
     ]
    }
   ],
   "source": [
    "# old_name = r\"dbfs:/FileStore/landing_zone/\"\n",
    "# new_name = r\"dbfs:/FileStore/transient/\"\n",
    "\n",
    "# dbutils.fs.mv(old_name, new_name, True)"
   ]
  },
  {
   "cell_type": "code",
   "execution_count": null,
   "metadata": {
    "application/vnd.databricks.v1+cell": {
     "cellMetadata": {
      "byteLimit": 2048000,
      "rowLimit": 10000
     },
     "inputWidgets": {},
     "nuid": "d73797c6-3182-4ff0-b505-c5b5f1a005ca",
     "showTitle": false,
     "title": ""
    }
   },
   "outputs": [],
   "source": [
    "def download_Copy_File_departments(folder : str,file : str) :\n",
    "    url = ' https://raw.githubusercontent.com/jader-lima/pyspark_introducao/main/pyspark/datalake/transient/departments/{}/{} -P /tmp/'.format(folder,file)\n",
    "    ! wget $url\n",
    "    origin = \"file:/tmp/{}\".format(file)\n",
    "    sink = \"/FileStore/transient/departments/{}/{}\".format(folder,file)\n",
    "    dbutils.fs.cp(origin, sink)\n",
    "    !rm /tmp/$file"
   ]
  },
  {
   "cell_type": "code",
   "execution_count": null,
   "metadata": {
    "application/vnd.databricks.v1+cell": {
     "cellMetadata": {
      "byteLimit": 2048000,
      "rowLimit": 10000
     },
     "inputWidgets": {},
     "nuid": "75a913d0-59ee-4fad-9995-5468082fac8e",
     "showTitle": false,
     "title": ""
    }
   },
   "outputs": [],
   "source": [
    "def download_Copy_File_olist(folder : str,file : str) :\n",
    "    url = ' https://raw.githubusercontent.com/jader-lima/pyspark_introducao/main/pyspark/datalake/transient/olist/{}/{} -P /tmp/'.format(folder,file)\n",
    "    ! wget $url\n",
    "    origin = \"file:/tmp/{}\".format(file)\n",
    "    sink = \"/FileStore/transient/olist/{}/{}\".format(folder,file)\n",
    "    dbutils.fs.cp(origin, sink)\n",
    "    !rm /tmp/$file"
   ]
  },
  {
   "cell_type": "code",
   "execution_count": null,
   "metadata": {
    "application/vnd.databricks.v1+cell": {
     "cellMetadata": {
      "byteLimit": 2048000,
      "rowLimit": 10000
     },
     "inputWidgets": {},
     "nuid": "b43e1a45-c87a-4efc-bb93-7e0ed5336c9f",
     "showTitle": false,
     "title": ""
    }
   },
   "outputs": [],
   "source": [
    "def download_Copy_File_invoices(folder : str,file : str) :\n",
    "    url = ' https://raw.githubusercontent.com/jader-lima/pyspark_introducao/main/pyspark/datalake/transient/json/{}/{} -P /tmp/'.format(folder,file)\n",
    "    ! wget $url\n",
    "    origin = \"file:/tmp/{}\".format(file)\n",
    "    sink = \"/FileStore/transient/json/{}/{}\".format(folder,file)\n",
    "    dbutils.fs.cp(origin, sink)\n",
    "    !rm /tmp/$file"
   ]
  },
  {
   "cell_type": "code",
   "execution_count": null,
   "metadata": {
    "application/vnd.databricks.v1+cell": {
     "cellMetadata": {
      "byteLimit": 2048000,
      "rowLimit": 10000
     },
     "inputWidgets": {},
     "nuid": "7a749286-47dc-44ef-86db-eba869b23bba",
     "showTitle": false,
     "title": ""
    }
   },
   "outputs": [
    {
     "name": "stdout",
     "output_type": "stream",
     "text": [
      "--2024-01-19 10:59:11--  https://raw.githubusercontent.com/jader-lima/pyspark_introducao/main/datalake/transient/json/invoices/Invoice-set1.json\r\n",
      "Resolving raw.githubusercontent.com (raw.githubusercontent.com)... 185.199.108.133, 185.199.109.133, 185.199.110.133, ...\r\n",
      "Connecting to raw.githubusercontent.com (raw.githubusercontent.com)|185.199.108.133|:443... connected.\r\n",
      "HTTP request sent, awaiting response... 200 OK\r\n",
      "Length: 353235 (345K) [text/plain]\r\n",
      "Saving to: ‘/tmp/Invoice-set1.json’\r\n",
      "\r\n",
      "\rInvoice-set1.json     0%[                    ]       0  --.-KB/s               \rInvoice-set1.json   100%[===================>] 344.96K  --.-KB/s    in 0.03s   \r\n",
      "\r\n",
      "2024-01-19 10:59:12 (12.2 MB/s) - ‘/tmp/Invoice-set1.json’ saved [353235/353235]\r\n",
      "\r\n",
      "--2024-01-19 10:59:14--  https://raw.githubusercontent.com/jader-lima/pyspark_introducao/main/datalake/transient/json/invoices/Invoice-set2.json\r\n",
      "Resolving raw.githubusercontent.com (raw.githubusercontent.com)... 185.199.111.133, 185.199.108.133, 185.199.109.133, ...\r\n",
      "Connecting to raw.githubusercontent.com (raw.githubusercontent.com)|185.199.111.133|:443... connected.\r\n",
      "HTTP request sent, awaiting response... 200 OK\r\n",
      "Length: 344396 (336K) [text/plain]\r\n",
      "Saving to: ‘/tmp/Invoice-set2.json’\r\n",
      "\r\n",
      "\rInvoice-set2.json     0%[                    ]       0  --.-KB/s               \rInvoice-set2.json   100%[===================>] 336.32K  --.-KB/s    in 0.04s   \r\n",
      "\r\n",
      "2024-01-19 10:59:14 (7.85 MB/s) - ‘/tmp/Invoice-set2.json’ saved [344396/344396]\r\n",
      "\r\n",
      "--2024-01-19 10:59:16--  https://raw.githubusercontent.com/jader-lima/pyspark_introducao/main/datalake/transient/json/invoices/Invoice-set3.json\r\n",
      "Resolving raw.githubusercontent.com (raw.githubusercontent.com)... 185.199.110.133, 185.199.111.133, 185.199.108.133, ...\r\n",
      "Connecting to raw.githubusercontent.com (raw.githubusercontent.com)|185.199.110.133|:443... connected.\r\n",
      "HTTP request sent, awaiting response... 200 OK\r\n",
      "Length: 412765 (403K) [text/plain]\r\n",
      "Saving to: ‘/tmp/Invoice-set3.json’\r\n",
      "\r\n",
      "\rInvoice-set3.json     0%[                    ]       0  --.-KB/s               \rInvoice-set3.json   100%[===================>] 403.09K  --.-KB/s    in 0.03s   \r\n",
      "\r\n",
      "2024-01-19 10:59:16 (11.8 MB/s) - ‘/tmp/Invoice-set3.json’ saved [412765/412765]\r\n",
      "\r\n"
     ]
    }
   ],
   "source": [
    "download_Copy_File_invoices('invoices','Invoice-set1.json')\n",
    "download_Copy_File_invoices('invoices','Invoice-set2.json')\n",
    "download_Copy_File_invoices('invoices','Invoice-set3.json')"
   ]
  },
  {
   "cell_type": "code",
   "execution_count": null,
   "metadata": {
    "application/vnd.databricks.v1+cell": {
     "cellMetadata": {
      "byteLimit": 2048000,
      "rowLimit": 10000
     },
     "inputWidgets": {},
     "nuid": "bd826506-14e4-41e4-864f-674a3d8dfe4b",
     "showTitle": false,
     "title": ""
    }
   },
   "outputs": [
    {
     "name": "stdout",
     "output_type": "stream",
     "text": [
      "--2024-01-18 22:52:51--  https://raw.githubusercontent.com/jader-lima/pyspark_introducao/main/datalake/transient/departments/countries/countries.csv\r\n",
      "Resolving raw.githubusercontent.com (raw.githubusercontent.com)... 185.199.111.133, 185.199.108.133, 185.199.109.133, ...\r\n",
      "Connecting to raw.githubusercontent.com (raw.githubusercontent.com)|185.199.111.133|:443... connected.\r\n",
      "HTTP request sent, awaiting response... 200 OK\r\n",
      "Length: 506 [text/plain]\r\n",
      "Saving to: ‘/tmp/countries.csv’\r\n",
      "\r\n",
      "\rcountries.csv         0%[                    ]       0  --.-KB/s               \rcountries.csv       100%[===================>]     506  --.-KB/s    in 0s      \r\n",
      "\r\n",
      "2024-01-18 22:52:51 (18.0 MB/s) - ‘/tmp/countries.csv’ saved [506/506]\r\n",
      "\r\n"
     ]
    }
   ],
   "source": [
    "download_Copy_File_departments('countries','countries.csv')"
   ]
  },
  {
   "cell_type": "code",
   "execution_count": null,
   "metadata": {
    "application/vnd.databricks.v1+cell": {
     "cellMetadata": {
      "byteLimit": 2048000,
      "rowLimit": 10000
     },
     "inputWidgets": {},
     "nuid": "a4998f65-aa9b-4464-a2ce-a39ddbaf7854",
     "showTitle": false,
     "title": ""
    }
   },
   "outputs": [
    {
     "name": "stdout",
     "output_type": "stream",
     "text": [
      "--2024-01-18 23:01:45--  https://raw.githubusercontent.com/jader-lima/pyspark_introducao/main/datalake/transient/departments/departments/departments.csv\r\n",
      "Resolving raw.githubusercontent.com (raw.githubusercontent.com)... 185.199.110.133, 185.199.111.133, 185.199.108.133, ...\r\n",
      "Connecting to raw.githubusercontent.com (raw.githubusercontent.com)|185.199.110.133|:443... connected.\r\n",
      "HTTP request sent, awaiting response... 200 OK\r\n",
      "Length: 269 [text/plain]\r\n",
      "Saving to: ‘/tmp/departments.csv’\r\n",
      "\r\n",
      "\rdepartments.csv       0%[                    ]       0  --.-KB/s               \rdepartments.csv     100%[===================>]     269  --.-KB/s    in 0s      \r\n",
      "\r\n",
      "2024-01-18 23:01:45 (5.19 MB/s) - ‘/tmp/departments.csv’ saved [269/269]\r\n",
      "\r\n"
     ]
    }
   ],
   "source": [
    "download_Copy_File_departments('departments','departments.csv')"
   ]
  },
  {
   "cell_type": "code",
   "execution_count": null,
   "metadata": {
    "application/vnd.databricks.v1+cell": {
     "cellMetadata": {
      "byteLimit": 2048000,
      "rowLimit": 10000
     },
     "inputWidgets": {},
     "nuid": "adef24d2-79d4-46f3-a780-ee848df0cc25",
     "showTitle": false,
     "title": ""
    }
   },
   "outputs": [
    {
     "name": "stdout",
     "output_type": "stream",
     "text": [
      "--2024-01-18 23:01:54--  https://raw.githubusercontent.com/jader-lima/pyspark_introducao/main/datalake/transient/departments/dependents/dependents.csv\r\n",
      "Resolving raw.githubusercontent.com (raw.githubusercontent.com)... 185.199.109.133, 185.199.110.133, 185.199.111.133, ...\r\n",
      "Connecting to raw.githubusercontent.com (raw.githubusercontent.com)|185.199.109.133|:443... connected.\r\n",
      "HTTP request sent, awaiting response... 200 OK\r\n",
      "Length: 1048 (1.0K) [text/plain]\r\n",
      "Saving to: ‘/tmp/dependents.csv’\r\n",
      "\r\n",
      "\rdependents.csv        0%[                    ]       0  --.-KB/s               \rdependents.csv      100%[===================>]   1.02K  --.-KB/s    in 0s      \r\n",
      "\r\n",
      "2024-01-18 23:01:54 (39.7 MB/s) - ‘/tmp/dependents.csv’ saved [1048/1048]\r\n",
      "\r\n"
     ]
    }
   ],
   "source": [
    "download_Copy_File_departments('dependents','dependents.csv')"
   ]
  },
  {
   "cell_type": "code",
   "execution_count": null,
   "metadata": {
    "application/vnd.databricks.v1+cell": {
     "cellMetadata": {
      "byteLimit": 2048000,
      "rowLimit": 10000
     },
     "inputWidgets": {},
     "nuid": "1c9b77d9-4af5-4403-ba2f-9b7b68d91920",
     "showTitle": false,
     "title": ""
    }
   },
   "outputs": [
    {
     "name": "stdout",
     "output_type": "stream",
     "text": [
      "--2024-01-18 23:01:57--  https://raw.githubusercontent.com/jader-lima/pyspark_introducao/main/datalake/transient/departments/employees/employees.csv\r\n",
      "Resolving raw.githubusercontent.com (raw.githubusercontent.com)... 185.199.108.133, 185.199.109.133, 185.199.110.133, ...\r\n",
      "Connecting to raw.githubusercontent.com (raw.githubusercontent.com)|185.199.108.133|:443... connected.\r\n",
      "HTTP request sent, awaiting response... 200 OK\r\n",
      "Length: 4051 (4.0K) [text/plain]\r\n",
      "Saving to: ‘/tmp/employees.csv’\r\n",
      "\r\n",
      "\remployees.csv         0%[                    ]       0  --.-KB/s               \remployees.csv       100%[===================>]   3.96K  --.-KB/s    in 0s      \r\n",
      "\r\n",
      "2024-01-18 23:01:57 (22.1 MB/s) - ‘/tmp/employees.csv’ saved [4051/4051]\r\n",
      "\r\n"
     ]
    }
   ],
   "source": [
    "download_Copy_File_departments('employees','employees.csv')"
   ]
  },
  {
   "cell_type": "code",
   "execution_count": null,
   "metadata": {
    "application/vnd.databricks.v1+cell": {
     "cellMetadata": {
      "byteLimit": 2048000,
      "rowLimit": 10000
     },
     "inputWidgets": {},
     "nuid": "acc951a7-dbf6-4c11-b3d6-7b81c10b8917",
     "showTitle": false,
     "title": ""
    }
   },
   "outputs": [
    {
     "name": "stdout",
     "output_type": "stream",
     "text": [
      "--2024-01-18 23:01:59--  https://raw.githubusercontent.com/jader-lima/pyspark_introducao/main/datalake/transient/departments/jobs/jobs.csv\r\n",
      "Resolving raw.githubusercontent.com (raw.githubusercontent.com)... 185.199.111.133, 185.199.108.133, 185.199.109.133, ...\r\n",
      "Connecting to raw.githubusercontent.com (raw.githubusercontent.com)|185.199.111.133|:443... connected.\r\n",
      "HTTP request sent, awaiting response... 200 OK\r\n",
      "Length: 818 [text/plain]\r\n",
      "Saving to: ‘/tmp/jobs.csv’\r\n",
      "\r\n",
      "\rjobs.csv              0%[                    ]       0  --.-KB/s               \rjobs.csv            100%[===================>]     818  --.-KB/s    in 0s      \r\n",
      "\r\n",
      "2024-01-18 23:01:59 (32.3 MB/s) - ‘/tmp/jobs.csv’ saved [818/818]\r\n",
      "\r\n"
     ]
    }
   ],
   "source": [
    "download_Copy_File_departments('jobs','jobs.csv')"
   ]
  },
  {
   "cell_type": "code",
   "execution_count": null,
   "metadata": {
    "application/vnd.databricks.v1+cell": {
     "cellMetadata": {
      "byteLimit": 2048000,
      "rowLimit": 10000
     },
     "inputWidgets": {},
     "nuid": "ef554e87-18e8-4e24-ace7-d164c698627c",
     "showTitle": false,
     "title": ""
    }
   },
   "outputs": [
    {
     "name": "stdout",
     "output_type": "stream",
     "text": [
      "--2024-01-18 23:02:01--  https://raw.githubusercontent.com/jader-lima/pyspark_introducao/main/datalake/transient/departments/locations/locations.csv\r\n",
      "Resolving raw.githubusercontent.com (raw.githubusercontent.com)... 185.199.110.133, 185.199.111.133, 185.199.108.133, ...\r\n",
      "Connecting to raw.githubusercontent.com (raw.githubusercontent.com)|185.199.110.133|:443... connected.\r\n",
      "HTTP request sent, awaiting response... 200 OK\r\n",
      "Length: 516 [text/plain]\r\n",
      "Saving to: ‘/tmp/locations.csv’\r\n",
      "\r\n",
      "\rlocations.csv         0%[                    ]       0  --.-KB/s               \rlocations.csv       100%[===================>]     516  --.-KB/s    in 0s      \r\n",
      "\r\n",
      "2024-01-18 23:02:01 (19.1 MB/s) - ‘/tmp/locations.csv’ saved [516/516]\r\n",
      "\r\n"
     ]
    }
   ],
   "source": [
    "download_Copy_File_departments('locations','locations.csv')"
   ]
  },
  {
   "cell_type": "code",
   "execution_count": null,
   "metadata": {
    "application/vnd.databricks.v1+cell": {
     "cellMetadata": {
      "byteLimit": 2048000,
      "rowLimit": 10000
     },
     "inputWidgets": {},
     "nuid": "a072103b-5ab9-431a-b626-76048acdf779",
     "showTitle": false,
     "title": ""
    }
   },
   "outputs": [
    {
     "name": "stdout",
     "output_type": "stream",
     "text": [
      "--2024-01-18 23:02:03--  https://raw.githubusercontent.com/jader-lima/pyspark_introducao/main/datalake/transient/departments/regions/regions.csv\r\n",
      "Resolving raw.githubusercontent.com (raw.githubusercontent.com)... 185.199.109.133, 185.199.110.133, 185.199.111.133, ...\r\n",
      "Connecting to raw.githubusercontent.com (raw.githubusercontent.com)|185.199.109.133|:443... connected.\r\n",
      "HTTP request sent, awaiting response... 200 OK\r\n",
      "Length: 85 [text/plain]\r\n",
      "Saving to: ‘/tmp/regions.csv’\r\n",
      "\r\n",
      "\rregions.csv           0%[                    ]       0  --.-KB/s               \rregions.csv         100%[===================>]      85  --.-KB/s    in 0s      \r\n",
      "\r\n",
      "2024-01-18 23:02:03 (806 KB/s) - ‘/tmp/regions.csv’ saved [85/85]\r\n",
      "\r\n"
     ]
    }
   ],
   "source": [
    "download_Copy_File_departments('regions','regions.csv')"
   ]
  },
  {
   "cell_type": "code",
   "execution_count": null,
   "metadata": {
    "application/vnd.databricks.v1+cell": {
     "cellMetadata": {
      "byteLimit": 2048000,
      "rowLimit": 10000
     },
     "inputWidgets": {},
     "nuid": "9c9fa6ab-2f71-4461-bc25-fe193d34a780",
     "showTitle": false,
     "title": ""
    }
   },
   "outputs": [
    {
     "name": "stdout",
     "output_type": "stream",
     "text": [
      "--2024-01-19 10:44:42--  https://raw.githubusercontent.com/jader-lima/pyspark_introducao/main/datalake/transient/olist/customers/olist_customers_dataset.csv\r\n",
      "Resolving raw.githubusercontent.com (raw.githubusercontent.com)... 185.199.111.133, 185.199.108.133, 185.199.109.133, ...\r\n",
      "Connecting to raw.githubusercontent.com (raw.githubusercontent.com)|185.199.111.133|:443... connected.\r\n",
      "HTTP request sent, awaiting response... 200 OK\r\n",
      "Length: 9033957 (8.6M) [text/plain]\r\n",
      "Saving to: ‘/tmp/olist_customers_dataset.csv’\r\n",
      "\r\n",
      "\r          olist_cus   0%[                    ]       0  --.-KB/s               \rolist_customers_dat 100%[===================>]   8.62M  --.-KB/s    in 0.1s    \r\n",
      "\r\n",
      "2024-01-19 10:44:42 (67.8 MB/s) - ‘/tmp/olist_customers_dataset.csv’ saved [9033957/9033957]\r\n",
      "\r\n",
      "--2024-01-19 10:44:45--  https://raw.githubusercontent.com/jader-lima/pyspark_introducao/main/datalake/transient/olist/order_items/olist_order_items_dataset.csv\r\n",
      "Resolving raw.githubusercontent.com (raw.githubusercontent.com)... 185.199.110.133, 185.199.111.133, 185.199.108.133, ...\r\n",
      "Connecting to raw.githubusercontent.com (raw.githubusercontent.com)|185.199.110.133|:443... connected.\r\n",
      "HTTP request sent, awaiting response... 200 OK\r\n",
      "Length: 15438671 (15M) [text/plain]\r\n",
      "Saving to: ‘/tmp/olist_order_items_dataset.csv’\r\n",
      "\r\n",
      "\r          olist_ord   0%[                    ]       0  --.-KB/s               \rolist_order_items_d 100%[===================>]  14.72M  --.-KB/s    in 0.1s    \r\n",
      "\r\n",
      "2024-01-19 10:44:45 (118 MB/s) - ‘/tmp/olist_order_items_dataset.csv’ saved [15438671/15438671]\r\n",
      "\r\n",
      "--2024-01-19 10:44:49--  https://raw.githubusercontent.com/jader-lima/pyspark_introducao/main/datalake/transient/olist/orders/olist_orders_dataset.csv\r\n",
      "Resolving raw.githubusercontent.com (raw.githubusercontent.com)... 185.199.109.133, 185.199.110.133, 185.199.111.133, ...\r\n",
      "Connecting to raw.githubusercontent.com (raw.githubusercontent.com)|185.199.109.133|:443... connected.\r\n",
      "HTTP request sent, awaiting response... 200 OK\r\n",
      "Length: 17654914 (17M) [text/plain]\r\n",
      "Saving to: ‘/tmp/olist_orders_dataset.csv’\r\n",
      "\r\n",
      "\rolist_orders_datase   0%[                    ]       0  --.-KB/s               \rolist_orders_datase 100%[===================>]  16.84M  --.-KB/s    in 0.1s    \r\n",
      "\r\n",
      "2024-01-19 10:44:49 (139 MB/s) - ‘/tmp/olist_orders_dataset.csv’ saved [17654914/17654914]\r\n",
      "\r\n",
      "--2024-01-19 10:44:52--  https://raw.githubusercontent.com/jader-lima/pyspark_introducao/main/datalake/transient/olist/payments/olist_order_payments_dataset.csv\r\n",
      "Resolving raw.githubusercontent.com (raw.githubusercontent.com)... 185.199.108.133, 185.199.109.133, 185.199.110.133, ...\r\n",
      "Connecting to raw.githubusercontent.com (raw.githubusercontent.com)|185.199.108.133|:443... connected.\r\n",
      "HTTP request sent, awaiting response... 200 OK\r\n",
      "Length: 5777138 (5.5M) [text/plain]\r\n",
      "Saving to: ‘/tmp/olist_order_payments_dataset.csv’\r\n",
      "\r\n",
      "\r          olist_ord   0%[                    ]       0  --.-KB/s               \rolist_order_payment 100%[===================>]   5.51M  --.-KB/s    in 0.07s   \r\n",
      "\r\n",
      "2024-01-19 10:44:53 (78.0 MB/s) - ‘/tmp/olist_order_payments_dataset.csv’ saved [5777138/5777138]\r\n",
      "\r\n",
      "--2024-01-19 10:44:55--  https://raw.githubusercontent.com/jader-lima/pyspark_introducao/main/datalake/transient/olist/products/olist_products_dataset.csv\r\n",
      "Resolving raw.githubusercontent.com (raw.githubusercontent.com)... 185.199.111.133, 185.199.108.133, 185.199.109.133, ...\r\n",
      "Connecting to raw.githubusercontent.com (raw.githubusercontent.com)|185.199.111.133|:443... connected.\r\n",
      "HTTP request sent, awaiting response... 200 OK\r\n",
      "Length: 2379446 (2.3M) [text/plain]\r\n",
      "Saving to: ‘/tmp/olist_products_dataset.csv’\r\n",
      "\r\n",
      "\r          olist_pro   0%[                    ]       0  --.-KB/s               \rolist_products_data 100%[===================>]   2.27M  --.-KB/s    in 0.05s   \r\n",
      "\r\n",
      "2024-01-19 10:44:55 (41.5 MB/s) - ‘/tmp/olist_products_dataset.csv’ saved [2379446/2379446]\r\n",
      "\r\n",
      "--2024-01-19 10:44:57--  https://raw.githubusercontent.com/jader-lima/pyspark_introducao/main/datalake/transient/olist/reviews/olist_order_reviews_dataset.csv\r\n",
      "Resolving raw.githubusercontent.com (raw.githubusercontent.com)... 185.199.110.133, 185.199.111.133, 185.199.108.133, ...\r\n",
      "Connecting to raw.githubusercontent.com (raw.githubusercontent.com)|185.199.110.133|:443... connected.\r\n",
      "HTTP request sent, awaiting response... 200 OK\r\n",
      "Length: 14409007 (14M) [text/plain]\r\n",
      "Saving to: ‘/tmp/olist_order_reviews_dataset.csv’\r\n",
      "\r\n",
      "\r          olist_ord   0%[                    ]       0  --.-KB/s               \rolist_order_reviews 100%[===================>]  13.74M  --.-KB/s    in 0.1s    \r\n",
      "\r\n",
      "2024-01-19 10:44:58 (135 MB/s) - ‘/tmp/olist_order_reviews_dataset.csv’ saved [14409007/14409007]\r\n",
      "\r\n",
      "--2024-01-19 10:45:01--  https://raw.githubusercontent.com/jader-lima/pyspark_introducao/main/datalake/transient/olist/sellers/olist_sellers_dataset.csv\r\n",
      "Resolving raw.githubusercontent.com (raw.githubusercontent.com)... 185.199.109.133, 185.199.110.133, 185.199.111.133, ...\r\n",
      "Connecting to raw.githubusercontent.com (raw.githubusercontent.com)|185.199.109.133|:443... connected.\r\n",
      "HTTP request sent, awaiting response... 200 OK\r\n",
      "Length: 174703 (171K) [text/plain]\r\n",
      "Saving to: ‘/tmp/olist_sellers_dataset.csv’\r\n",
      "\r\n",
      "\r          olist_sel   0%[                    ]       0  --.-KB/s               \rolist_sellers_datas 100%[===================>] 170.61K  --.-KB/s    in 0.03s   \r\n",
      "\r\n",
      "2024-01-19 10:45:01 (6.55 MB/s) - ‘/tmp/olist_sellers_dataset.csv’ saved [174703/174703]\r\n",
      "\r\n"
     ]
    }
   ],
   "source": [
    "download_Copy_File_olist('customers','olist_customers_dataset.csv')\n",
    "download_Copy_File_olist('order_items','olist_order_items_dataset.csv')\n",
    "download_Copy_File_olist('orders','olist_orders_dataset.csv')\n",
    "download_Copy_File_olist('payments','olist_order_payments_dataset.csv')\n",
    "download_Copy_File_olist('products','olist_products_dataset.csv')\n",
    "download_Copy_File_olist('reviews','olist_order_reviews_dataset.csv')\n",
    "download_Copy_File_olist('sellers','olist_sellers_dataset.csv')\n",
    "\n",
    "\n"
   ]
  },
  {
   "cell_type": "code",
   "execution_count": null,
   "metadata": {
    "application/vnd.databricks.v1+cell": {
     "cellMetadata": {
      "byteLimit": 2048000,
      "rowLimit": 10000
     },
     "inputWidgets": {},
     "nuid": "93cefdcf-6b37-4fa3-a68f-b632e9dacd14",
     "showTitle": false,
     "title": ""
    }
   },
   "outputs": [
    {
     "name": "stdout",
     "output_type": "stream",
     "text": [
      "--2024-01-19 22:22:37--  https://raw.githubusercontent.com/jader-lima/pyspark_introducao/main/datalake/transient/olist/orders/olist_orders_dataset.csv\r\n",
      "Resolving raw.githubusercontent.com (raw.githubusercontent.com)... 185.199.110.133, 185.199.111.133, 185.199.108.133, ...\r\n",
      "Connecting to raw.githubusercontent.com (raw.githubusercontent.com)|185.199.110.133|:443... connected.\r\n",
      "HTTP request sent, awaiting response... 200 OK\r\n",
      "Length: 17654914 (17M) [text/plain]\r\n",
      "Saving to: ‘/tmp/olist_orders_dataset.csv’\r\n",
      "\r\n",
      "\rolist_orders_datase   0%[                    ]       0  --.-KB/s               \rolist_orders_datase 100%[===================>]  16.84M  --.-KB/s    in 0.1s    \r\n",
      "\r\n",
      "2024-01-19 22:22:38 (126 MB/s) - ‘/tmp/olist_orders_dataset.csv’ saved [17654914/17654914]\r\n",
      "\r\n"
     ]
    }
   ],
   "source": [
    "download_Copy_File_olist('orders','olist_orders_dataset.csv')\n"
   ]
  },
  {
   "cell_type": "code",
   "execution_count": null,
   "metadata": {
    "application/vnd.databricks.v1+cell": {
     "cellMetadata": {},
     "inputWidgets": {},
     "nuid": "ac112874-dd7a-4ff1-952b-dd2db4712ce2",
     "showTitle": false,
     "title": ""
    }
   },
   "outputs": [],
   "source": []
  }
 ],
 "metadata": {
  "application/vnd.databricks.v1+notebook": {
   "dashboards": [],
   "language": "python",
   "notebookMetadata": {
    "pythonIndentUnit": 4
   },
   "notebookName": "download_copy_files",
   "widgets": {}
  },
  "kernelspec": {
   "display_name": "Python 3.8.10 64-bit",
   "language": "python",
   "name": "python3"
  },
  "language_info": {
   "name": "python",
   "version": "3.8.10"
  },
  "vscode": {
   "interpreter": {
    "hash": "916dbcbb3f70747c44a77c7bcd40155683ae19c65e1c03b4aa3499c5328201f1"
   }
  }
 },
 "nbformat": 4,
 "nbformat_minor": 0
}
