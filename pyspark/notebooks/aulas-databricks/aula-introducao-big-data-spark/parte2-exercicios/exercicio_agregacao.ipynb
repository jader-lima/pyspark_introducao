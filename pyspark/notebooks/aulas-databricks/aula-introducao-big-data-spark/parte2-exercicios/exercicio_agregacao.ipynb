{
 "cells": [
  {
   "cell_type": "code",
   "execution_count": 0,
   "metadata": {
    "application/vnd.databricks.v1+cell": {
     "cellMetadata": {
      "byteLimit": 2048000,
      "rowLimit": 10000
     },
     "inputWidgets": {},
     "nuid": "3b636833-cf7b-4db1-8f46-06d5bb56e6b8",
     "showTitle": false,
     "title": ""
    }
   },
   "outputs": [],
   "source": [
    "\n",
    "import pyspark\n",
    "from pyspark.sql import SparkSession, Row\n",
    "from pyspark.sql.types import StructType,StructField, StringType\n",
    "from pyspark.sql.functions import sum,avg,max,count,mean\n",
    "import pyspark.sql.functions as f\n"
   ]
  },
  {
   "cell_type": "code",
   "execution_count": 0,
   "metadata": {
    "application/vnd.databricks.v1+cell": {
     "cellMetadata": {
      "byteLimit": 2048000,
      "rowLimit": 10000
     },
     "inputWidgets": {},
     "nuid": "25a2179a-ede1-463b-ac80-a3cec7876f4f",
     "showTitle": false,
     "title": ""
    }
   },
   "outputs": [],
   "source": [
    "spark = SparkSession.builder.appName('groupy_by').getOrCreate()"
   ]
  },
  {
   "cell_type": "markdown",
   "metadata": {
    "application/vnd.databricks.v1+cell": {
     "cellMetadata": {},
     "inputWidgets": {},
     "nuid": "c726fa85-6ff8-43e7-9b81-2e0ecf74cf4e",
     "showTitle": false,
     "title": ""
    }
   },
   "source": [
    "<h3>Criação de dataframes</h3> <br>\n",
    "Abaixo uma simples massa de dados foi criada para utilização nos exercicios.</br>\n",
    "O dataframe em questão consiste em dados de supostos games, informando <h6>nome, empresa, tipo, data de produção, sistema, custo de produção, receita e classificação</h6>\n",
    "\n"
   ]
  },
  {
   "cell_type": "code",
   "execution_count": 0,
   "metadata": {
    "application/vnd.databricks.v1+cell": {
     "cellMetadata": {
      "byteLimit": 2048000,
      "rowLimit": 10000
     },
     "inputWidgets": {},
     "nuid": "b98ccc96-95cb-4e47-ab12-231b0f41994b",
     "showTitle": false,
     "title": ""
    }
   },
   "outputs": [],
   "source": [
    "columns = ['title','company','type','production_year','system','production_cost','revenue','rating']\n",
    "\n",
    "data = [\n",
    "('Blasting Boxes','Simone Games','action adventure',1998,'PC',100000,200000,7),\n",
    "('Run Run Run!','13 Mad Bits','shooter',2011,'PS3',3500000,\t650000,\t3),\n",
    "('Duck n’Go','13 Mad Bits','shooter',2012,'Xbox',3000000,1500000,5),\n",
    "('SQL Wars!','Vertabelo','wargames',2017,'Xbox',5000000,25000000,10),\n",
    "('Tap Tap Hex!','PixelGaming Inc.','rhythm',2006,'PS2',2500000,3500000,7),\n",
    "('NoRisk','Simone Games','action adventure',2004,'PS2',1400000,3400000,8)\n",
    "  ]\n",
    "\n",
    "df_games = spark.createDataFrame(data,columns)\n"
   ]
  },
  {
   "cell_type": "code",
   "execution_count": 0,
   "metadata": {
    "application/vnd.databricks.v1+cell": {
     "cellMetadata": {
      "byteLimit": 2048000,
      "rowLimit": 10000
     },
     "inputWidgets": {},
     "nuid": "29c6379b-ab55-4214-8202-db934d84b166",
     "showTitle": false,
     "title": ""
    }
   },
   "outputs": [
    {
     "output_type": "display_data",
     "data": {
      "text/html": [
       "<style scoped>\n",
       "  .table-result-container {\n",
       "    max-height: 300px;\n",
       "    overflow: auto;\n",
       "  }\n",
       "  table, th, td {\n",
       "    border: 1px solid black;\n",
       "    border-collapse: collapse;\n",
       "  }\n",
       "  th, td {\n",
       "    padding: 5px;\n",
       "  }\n",
       "  th {\n",
       "    text-align: left;\n",
       "  }\n",
       "</style><div class='table-result-container'><table class='table-result'><thead style='background-color: white'><tr><th>title</th><th>company</th><th>type</th><th>production_year</th><th>system</th><th>production_cost</th><th>revenue</th><th>rating</th></tr></thead><tbody><tr><td>Blasting Boxes</td><td>Simone Games</td><td>action adventure</td><td>1998</td><td>PC</td><td>100000</td><td>200000</td><td>7</td></tr><tr><td>Run Run Run!</td><td>13 Mad Bits</td><td>shooter</td><td>2011</td><td>PS3</td><td>3500000</td><td>650000</td><td>3</td></tr><tr><td>Duck n’Go</td><td>13 Mad Bits</td><td>shooter</td><td>2012</td><td>Xbox</td><td>3000000</td><td>1500000</td><td>5</td></tr><tr><td>SQL Wars!</td><td>Vertabelo</td><td>wargames</td><td>2017</td><td>Xbox</td><td>5000000</td><td>25000000</td><td>10</td></tr><tr><td>Tap Tap Hex!</td><td>PixelGaming Inc.</td><td>rhythm</td><td>2006</td><td>PS2</td><td>2500000</td><td>3500000</td><td>7</td></tr><tr><td>NoRisk</td><td>Simone Games</td><td>action adventure</td><td>2004</td><td>PS2</td><td>1400000</td><td>3400000</td><td>8</td></tr></tbody></table></div>"
      ]
     },
     "metadata": {
      "application/vnd.databricks.v1+output": {
       "addedWidgets": {},
       "aggData": [],
       "aggError": "",
       "aggOverflow": false,
       "aggSchema": [],
       "aggSeriesLimitReached": false,
       "aggType": "",
       "arguments": {},
       "columnCustomDisplayInfos": {},
       "data": [
        [
         "Blasting Boxes",
         "Simone Games",
         "action adventure",
         1998,
         "PC",
         100000,
         200000,
         7
        ],
        [
         "Run Run Run!",
         "13 Mad Bits",
         "shooter",
         2011,
         "PS3",
         3500000,
         650000,
         3
        ],
        [
         "Duck n’Go",
         "13 Mad Bits",
         "shooter",
         2012,
         "Xbox",
         3000000,
         1500000,
         5
        ],
        [
         "SQL Wars!",
         "Vertabelo",
         "wargames",
         2017,
         "Xbox",
         5000000,
         25000000,
         10
        ],
        [
         "Tap Tap Hex!",
         "PixelGaming Inc.",
         "rhythm",
         2006,
         "PS2",
         2500000,
         3500000,
         7
        ],
        [
         "NoRisk",
         "Simone Games",
         "action adventure",
         2004,
         "PS2",
         1400000,
         3400000,
         8
        ]
       ],
       "datasetInfos": [],
       "dbfsResultPath": null,
       "isJsonSchema": true,
       "metadata": {},
       "overflow": false,
       "plotOptions": {
        "customPlotOptions": {},
        "displayType": "table",
        "pivotAggregation": null,
        "pivotColumns": null,
        "xColumns": null,
        "yColumns": null
       },
       "removedWidgets": [],
       "schema": [
        {
         "metadata": "{}",
         "name": "title",
         "type": "\"string\""
        },
        {
         "metadata": "{}",
         "name": "company",
         "type": "\"string\""
        },
        {
         "metadata": "{}",
         "name": "type",
         "type": "\"string\""
        },
        {
         "metadata": "{}",
         "name": "production_year",
         "type": "\"long\""
        },
        {
         "metadata": "{}",
         "name": "system",
         "type": "\"string\""
        },
        {
         "metadata": "{}",
         "name": "production_cost",
         "type": "\"long\""
        },
        {
         "metadata": "{}",
         "name": "revenue",
         "type": "\"long\""
        },
        {
         "metadata": "{}",
         "name": "rating",
         "type": "\"long\""
        }
       ],
       "type": "table"
      }
     },
     "output_type": "display_data"
    }
   ],
   "source": [
    "df_games.display()"
   ]
  },
  {
   "cell_type": "code",
   "execution_count": 0,
   "metadata": {
    "application/vnd.databricks.v1+cell": {
     "cellMetadata": {
      "byteLimit": 2048000,
      "rowLimit": 10000
     },
     "inputWidgets": {},
     "nuid": "84022b9c-831b-41b4-b157-e83dd3c40564",
     "showTitle": false,
     "title": ""
    }
   },
   "outputs": [
    {
     "output_type": "display_data",
     "data": {
      "text/html": [
       "<style scoped>\n",
       "  .table-result-container {\n",
       "    max-height: 300px;\n",
       "    overflow: auto;\n",
       "  }\n",
       "  table, th, td {\n",
       "    border: 1px solid black;\n",
       "    border-collapse: collapse;\n",
       "  }\n",
       "  th, td {\n",
       "    padding: 5px;\n",
       "  }\n",
       "  th {\n",
       "    text-align: left;\n",
       "  }\n",
       "</style><div class='table-result-container'><table class='table-result'><thead style='background-color: white'><tr><th>company</th><th>count</th></tr></thead><tbody><tr><td>Simone Games</td><td>2</td></tr><tr><td>13 Mad Bits</td><td>2</td></tr><tr><td>Vertabelo</td><td>1</td></tr><tr><td>PixelGaming Inc.</td><td>1</td></tr></tbody></table></div>"
      ]
     },
     "metadata": {
      "application/vnd.databricks.v1+output": {
       "addedWidgets": {},
       "aggData": [],
       "aggError": "",
       "aggOverflow": false,
       "aggSchema": [],
       "aggSeriesLimitReached": false,
       "aggType": "",
       "arguments": {},
       "columnCustomDisplayInfos": {},
       "data": [
        [
         "Simone Games",
         2
        ],
        [
         "13 Mad Bits",
         2
        ],
        [
         "Vertabelo",
         1
        ],
        [
         "PixelGaming Inc.",
         1
        ]
       ],
       "datasetInfos": [],
       "dbfsResultPath": null,
       "isJsonSchema": true,
       "metadata": {},
       "overflow": false,
       "plotOptions": {
        "customPlotOptions": {},
        "displayType": "table",
        "pivotAggregation": null,
        "pivotColumns": null,
        "xColumns": null,
        "yColumns": null
       },
       "removedWidgets": [],
       "schema": [
        {
         "metadata": "{}",
         "name": "company",
         "type": "\"string\""
        },
        {
         "metadata": "{}",
         "name": "count",
         "type": "\"long\""
        }
       ],
       "type": "table"
      }
     },
     "output_type": "display_data"
    }
   ],
   "source": [
    "\n",
    "df_games.groupBy('company').count().display()\n"
   ]
  },
  {
   "cell_type": "code",
   "execution_count": 0,
   "metadata": {
    "application/vnd.databricks.v1+cell": {
     "cellMetadata": {
      "byteLimit": 2048000,
      "rowLimit": 10000
     },
     "inputWidgets": {},
     "nuid": "b336ef16-2dd3-420e-aa4f-07535af2ac26",
     "showTitle": false,
     "title": ""
    }
   },
   "outputs": [
    {
     "output_type": "display_data",
     "data": {
      "text/html": [
       "<style scoped>\n",
       "  .table-result-container {\n",
       "    max-height: 300px;\n",
       "    overflow: auto;\n",
       "  }\n",
       "  table, th, td {\n",
       "    border: 1px solid black;\n",
       "    border-collapse: collapse;\n",
       "  }\n",
       "  th, td {\n",
       "    padding: 5px;\n",
       "  }\n",
       "  th {\n",
       "    text-align: left;\n",
       "  }\n",
       "</style><div class='table-result-container'><table class='table-result'><thead style='background-color: white'><tr><th>company</th><th>qtd</th></tr></thead><tbody><tr><td>Simone Games</td><td>2</td></tr><tr><td>13 Mad Bits</td><td>2</td></tr><tr><td>Vertabelo</td><td>1</td></tr><tr><td>PixelGaming Inc.</td><td>1</td></tr></tbody></table></div>"
      ]
     },
     "metadata": {
      "application/vnd.databricks.v1+output": {
       "addedWidgets": {},
       "aggData": [],
       "aggError": "",
       "aggOverflow": false,
       "aggSchema": [],
       "aggSeriesLimitReached": false,
       "aggType": "",
       "arguments": {},
       "columnCustomDisplayInfos": {},
       "data": [
        [
         "Simone Games",
         2
        ],
        [
         "13 Mad Bits",
         2
        ],
        [
         "Vertabelo",
         1
        ],
        [
         "PixelGaming Inc.",
         1
        ]
       ],
       "datasetInfos": [],
       "dbfsResultPath": null,
       "isJsonSchema": true,
       "metadata": {},
       "overflow": false,
       "plotOptions": {
        "customPlotOptions": {},
        "displayType": "table",
        "pivotAggregation": null,
        "pivotColumns": null,
        "xColumns": null,
        "yColumns": null
       },
       "removedWidgets": [],
       "schema": [
        {
         "metadata": "{}",
         "name": "company",
         "type": "\"string\""
        },
        {
         "metadata": "{}",
         "name": "qtd",
         "type": "\"long\""
        }
       ],
       "type": "table"
      }
     },
     "output_type": "display_data"
    }
   ],
   "source": [
    "\n",
    "df_games.groupBy('company').agg(\n",
    "    count('*').alias('qtd')\n",
    ").display()"
   ]
  },
  {
   "cell_type": "markdown",
   "metadata": {
    "application/vnd.databricks.v1+cell": {
     "cellMetadata": {
      "byteLimit": 2048000,
      "rowLimit": 10000
     },
     "inputWidgets": {},
     "nuid": "04e09c4f-abac-4785-b261-969e7e1d6097",
     "showTitle": false,
     "title": ""
    }
   },
   "source": [
    "<h4>Exercício 1: Receita total de cada empresa</h4>\n",
    "Exercício:\n",
    "\n",
    "Obtenha o nome e a receita total de cada empresa.\n",
    "\n",
    "Solução:\n",
    "\n",
    "SELECT\n",
    "  company,\n",
    "  SUM(revenue)\n",
    "FROM games\n",
    "GROUP BY company;"
   ]
  },
  {
   "cell_type": "code",
   "execution_count": 0,
   "metadata": {
    "application/vnd.databricks.v1+cell": {
     "cellMetadata": {
      "byteLimit": 2048000,
      "rowLimit": 10000
     },
     "inputWidgets": {},
     "nuid": "b5e9ab74-fa64-4ae3-a772-9fe94f0cb4cb",
     "showTitle": false,
     "title": ""
    }
   },
   "outputs": [
    {
     "output_type": "display_data",
     "data": {
      "text/html": [
       "<style scoped>\n",
       "  .table-result-container {\n",
       "    max-height: 300px;\n",
       "    overflow: auto;\n",
       "  }\n",
       "  table, th, td {\n",
       "    border: 1px solid black;\n",
       "    border-collapse: collapse;\n",
       "  }\n",
       "  th, td {\n",
       "    padding: 5px;\n",
       "  }\n",
       "  th {\n",
       "    text-align: left;\n",
       "  }\n",
       "</style><div class='table-result-container'><table class='table-result'><thead style='background-color: white'><tr><th>company</th><th>soma_receita</th></tr></thead><tbody><tr><td>Simone Games</td><td>3600000</td></tr><tr><td>13 Mad Bits</td><td>2150000</td></tr><tr><td>Vertabelo</td><td>25000000</td></tr><tr><td>PixelGaming Inc.</td><td>3500000</td></tr></tbody></table></div>"
      ]
     },
     "metadata": {
      "application/vnd.databricks.v1+output": {
       "addedWidgets": {},
       "aggData": [],
       "aggError": "",
       "aggOverflow": false,
       "aggSchema": [],
       "aggSeriesLimitReached": false,
       "aggType": "",
       "arguments": {},
       "columnCustomDisplayInfos": {},
       "data": [
        [
         "Simone Games",
         3600000
        ],
        [
         "13 Mad Bits",
         2150000
        ],
        [
         "Vertabelo",
         25000000
        ],
        [
         "PixelGaming Inc.",
         3500000
        ]
       ],
       "datasetInfos": [],
       "dbfsResultPath": null,
       "isJsonSchema": true,
       "metadata": {},
       "overflow": false,
       "plotOptions": {
        "customPlotOptions": {},
        "displayType": "table",
        "pivotAggregation": null,
        "pivotColumns": null,
        "xColumns": null,
        "yColumns": null
       },
       "removedWidgets": [],
       "schema": [
        {
         "metadata": "{}",
         "name": "company",
         "type": "\"string\""
        },
        {
         "metadata": "{}",
         "name": "soma_receita",
         "type": "\"long\""
        }
       ],
       "type": "table"
      }
     },
     "output_type": "display_data"
    }
   ],
   "source": []
  },
  {
   "cell_type": "markdown",
   "metadata": {
    "application/vnd.databricks.v1+cell": {
     "cellMetadata": {
      "byteLimit": 2048000,
      "rowLimit": 10000
     },
     "inputWidgets": {},
     "nuid": "36c7dbeb-bce5-452c-abae-63aa7301c09b",
     "showTitle": false,
     "title": ""
    }
   },
   "source": [
    "<h4>Exercício 2: Jogos produzidos por ano com receita e custo médios</h4>\n",
    "Exercício:\n",
    "\n",
    "Gere um relatório com o ano de produção e o número de jogos lançados nesse ano (denominado count), a média do custo de produção de todos os jogos produzidos nesse ano (denominado avg_cost) e a receita média desse ano (denominado avg_revenue).\n",
    "Solução:\n",
    "\n",
    "SELECT  \n",
    "  production_year,\n",
    "  COUNT(*) AS count,\n",
    "  AVG(production_cost) AS avg_cost,\n",
    "  AVG(revenue) AS avg_revenue\n",
    "FROM games\n",
    "GROUP BY production_year;"
   ]
  },
  {
   "cell_type": "code",
   "execution_count": 0,
   "metadata": {
    "application/vnd.databricks.v1+cell": {
     "cellMetadata": {
      "byteLimit": 2048000,
      "rowLimit": 10000
     },
     "inputWidgets": {},
     "nuid": "40652eef-9a6f-4f89-8435-857f248feb68",
     "showTitle": false,
     "title": ""
    }
   },
   "outputs": [
    {
     "output_type": "display_data",
     "data": {
      "text/html": [
       "<style scoped>\n",
       "  .table-result-container {\n",
       "    max-height: 300px;\n",
       "    overflow: auto;\n",
       "  }\n",
       "  table, th, td {\n",
       "    border: 1px solid black;\n",
       "    border-collapse: collapse;\n",
       "  }\n",
       "  th, td {\n",
       "    padding: 5px;\n",
       "  }\n",
       "  th {\n",
       "    text-align: left;\n",
       "  }\n",
       "</style><div class='table-result-container'><table class='table-result'><thead style='background-color: white'><tr><th>production_year</th><th>count</th><th>avg_cost</th><th>avg_revenue</th></tr></thead><tbody><tr><td>1998</td><td>1</td><td>100000.0</td><td>200000.0</td></tr><tr><td>2011</td><td>1</td><td>3500000.0</td><td>650000.0</td></tr><tr><td>2012</td><td>1</td><td>3000000.0</td><td>1500000.0</td></tr><tr><td>2017</td><td>1</td><td>5000000.0</td><td>2.5E7</td></tr><tr><td>2006</td><td>1</td><td>2500000.0</td><td>3500000.0</td></tr><tr><td>2004</td><td>1</td><td>1400000.0</td><td>3400000.0</td></tr></tbody></table></div>"
      ]
     },
     "metadata": {
      "application/vnd.databricks.v1+output": {
       "addedWidgets": {},
       "aggData": [],
       "aggError": "",
       "aggOverflow": false,
       "aggSchema": [],
       "aggSeriesLimitReached": false,
       "aggType": "",
       "arguments": {},
       "columnCustomDisplayInfos": {},
       "data": [
        [
         1998,
         1,
         100000.0,
         200000.0
        ],
        [
         2011,
         1,
         3500000.0,
         650000.0
        ],
        [
         2012,
         1,
         3000000.0,
         1500000.0
        ],
        [
         2017,
         1,
         5000000.0,
         2.5E7
        ],
        [
         2006,
         1,
         2500000.0,
         3500000.0
        ],
        [
         2004,
         1,
         1400000.0,
         3400000.0
        ]
       ],
       "datasetInfos": [],
       "dbfsResultPath": null,
       "isJsonSchema": true,
       "metadata": {},
       "overflow": false,
       "plotOptions": {
        "customPlotOptions": {},
        "displayType": "table",
        "pivotAggregation": null,
        "pivotColumns": null,
        "xColumns": null,
        "yColumns": null
       },
       "removedWidgets": [],
       "schema": [
        {
         "metadata": "{}",
         "name": "production_year",
         "type": "\"long\""
        },
        {
         "metadata": "{}",
         "name": "count",
         "type": "\"long\""
        },
        {
         "metadata": "{}",
         "name": "avg_cost",
         "type": "\"double\""
        },
        {
         "metadata": "{}",
         "name": "avg_revenue",
         "type": "\"double\""
        }
       ],
       "type": "table"
      }
     },
     "output_type": "display_data"
    }
   ],
   "source": []
  },
  {
   "cell_type": "code",
   "execution_count": 0,
   "metadata": {
    "application/vnd.databricks.v1+cell": {
     "cellMetadata": {
      "byteLimit": 2048000,
      "rowLimit": 10000
     },
     "inputWidgets": {},
     "nuid": "7c5824c7-7d4f-4535-a28d-21c82be98c0c",
     "showTitle": false,
     "title": ""
    }
   },
   "outputs": [
    {
     "output_type": "display_data",
     "data": {
      "text/html": [
       "<style scoped>\n",
       "  .table-result-container {\n",
       "    max-height: 300px;\n",
       "    overflow: auto;\n",
       "  }\n",
       "  table, th, td {\n",
       "    border: 1px solid black;\n",
       "    border-collapse: collapse;\n",
       "  }\n",
       "  th, td {\n",
       "    padding: 5px;\n",
       "  }\n",
       "  th {\n",
       "    text-align: left;\n",
       "  }\n",
       "</style><div class='table-result-container'><table class='table-result'><thead style='background-color: white'><tr><th>type</th><th>count</th><th>avg_cost</th><th>avg_revenue</th></tr></thead><tbody><tr><td>action adventure</td><td>2</td><td>750000.0</td><td>1800000.0</td></tr><tr><td>shooter</td><td>2</td><td>3250000.0</td><td>1075000.0</td></tr><tr><td>wargames</td><td>1</td><td>5000000.0</td><td>2.5E7</td></tr><tr><td>rhythm</td><td>1</td><td>2500000.0</td><td>3500000.0</td></tr></tbody></table></div>"
      ]
     },
     "metadata": {
      "application/vnd.databricks.v1+output": {
       "addedWidgets": {},
       "aggData": [],
       "aggError": "",
       "aggOverflow": false,
       "aggSchema": [],
       "aggSeriesLimitReached": false,
       "aggType": "",
       "arguments": {},
       "columnCustomDisplayInfos": {},
       "data": [
        [
         "action adventure",
         2,
         750000.0,
         1800000.0
        ],
        [
         "shooter",
         2,
         3250000.0,
         1075000.0
        ],
        [
         "wargames",
         1,
         5000000.0,
         2.5E7
        ],
        [
         "rhythm",
         1,
         2500000.0,
         3500000.0
        ]
       ],
       "datasetInfos": [],
       "dbfsResultPath": null,
       "isJsonSchema": true,
       "metadata": {},
       "overflow": false,
       "plotOptions": {
        "customPlotOptions": {},
        "displayType": "table",
        "pivotAggregation": null,
        "pivotColumns": null,
        "xColumns": null,
        "yColumns": null
       },
       "removedWidgets": [],
       "schema": [
        {
         "metadata": "{}",
         "name": "type",
         "type": "\"string\""
        },
        {
         "metadata": "{}",
         "name": "count",
         "type": "\"long\""
        },
        {
         "metadata": "{}",
         "name": "avg_cost",
         "type": "\"double\""
        },
        {
         "metadata": "{}",
         "name": "avg_revenue",
         "type": "\"double\""
        }
       ],
       "type": "table"
      }
     },
     "output_type": "display_data"
    }
   ],
   "source": []
  },
  {
   "cell_type": "markdown",
   "metadata": {
    "application/vnd.databricks.v1+cell": {
     "cellMetadata": {},
     "inputWidgets": {},
     "nuid": "4466253e-f51e-4145-b722-de6d5a184915",
     "showTitle": false,
     "title": ""
    }
   },
   "source": [
    "<h3>Exercício 3: Número de jogos lucrativos de cada tipo de jogo</h3>\n",
    "Exercício:\n",
    "\n",
    "Conte quantos jogos de um determinado tipo são lucrativos (ou seja, a receita foi maior que o custo de produção). Mostre o tipo de jogo e o número de jogos lucrativos (denominado number_of_games) para cada tipo.\n",
    "\n",
    "Solução:\n",
    "\n",
    "SELECT   \n",
    "  type,\n",
    "  COUNT(*) AS number_of_games\n",
    "FROM games\n",
    "WHERE revenue > production_cost\n",
    "GROUP BY type;"
   ]
  },
  {
   "cell_type": "code",
   "execution_count": 0,
   "metadata": {
    "application/vnd.databricks.v1+cell": {
     "cellMetadata": {
      "byteLimit": 2048000,
      "rowLimit": 10000
     },
     "inputWidgets": {},
     "nuid": "e49af2ce-edf0-49d1-9c39-7ad86fd244b2",
     "showTitle": false,
     "title": ""
    }
   },
   "outputs": [
    {
     "output_type": "display_data",
     "data": {
      "text/html": [
       "<style scoped>\n",
       "  .table-result-container {\n",
       "    max-height: 300px;\n",
       "    overflow: auto;\n",
       "  }\n",
       "  table, th, td {\n",
       "    border: 1px solid black;\n",
       "    border-collapse: collapse;\n",
       "  }\n",
       "  th, td {\n",
       "    padding: 5px;\n",
       "  }\n",
       "  th {\n",
       "    text-align: left;\n",
       "  }\n",
       "</style><div class='table-result-container'><table class='table-result'><thead style='background-color: white'><tr><th>type</th><th>count</th></tr></thead><tbody><tr><td>action adventure</td><td>2</td></tr><tr><td>wargames</td><td>1</td></tr><tr><td>rhythm</td><td>1</td></tr></tbody></table></div>"
      ]
     },
     "metadata": {
      "application/vnd.databricks.v1+output": {
       "addedWidgets": {},
       "aggData": [],
       "aggError": "",
       "aggOverflow": false,
       "aggSchema": [],
       "aggSeriesLimitReached": false,
       "aggType": "",
       "arguments": {},
       "columnCustomDisplayInfos": {},
       "data": [
        [
         "action adventure",
         2
        ],
        [
         "wargames",
         1
        ],
        [
         "rhythm",
         1
        ]
       ],
       "datasetInfos": [],
       "dbfsResultPath": null,
       "isJsonSchema": true,
       "metadata": {},
       "overflow": false,
       "plotOptions": {
        "customPlotOptions": {},
        "displayType": "table",
        "pivotAggregation": null,
        "pivotColumns": null,
        "xColumns": null,
        "yColumns": null
       },
       "removedWidgets": [],
       "schema": [
        {
         "metadata": "{}",
         "name": "type",
         "type": "\"string\""
        },
        {
         "metadata": "{}",
         "name": "count",
         "type": "\"long\""
        }
       ],
       "type": "table"
      }
     },
     "output_type": "display_data"
    }
   ],
   "source": [
    "\n"
   ]
  },
  {
   "cell_type": "markdown",
   "metadata": {
    "application/vnd.databricks.v1+cell": {
     "cellMetadata": {},
     "inputWidgets": {},
     "nuid": "3734928a-8de5-4596-9c37-ed450a59cc6a",
     "showTitle": false,
     "title": ""
    }
   },
   "source": [
    "<h4>Exercício 4: Receita total por tipo de jogo nos sistemas PS2 e PS3</h4>\n",
    "Exercício:\n",
    "\n",
    "Obtenha o tipo de jogo e a receita total gerada para jogos com um production_year após 2010 e com um PS2 ou PS3 system. Ordene o resultado de modo que os tipos com a maior receita venham primeiro.\n",
    "\n",
    "Solução:\n",
    "\n",
    "SELECT\n",
    "  type,\n",
    "  SUM(revenue) AS total_revenue\n",
    "FROM games\n",
    "WHERE production_year > 2010 AND systems IN ('PS2','PS3')\n",
    "GROUP BY type;"
   ]
  },
  {
   "cell_type": "code",
   "execution_count": 0,
   "metadata": {
    "application/vnd.databricks.v1+cell": {
     "cellMetadata": {
      "byteLimit": 2048000,
      "rowLimit": 10000
     },
     "inputWidgets": {},
     "nuid": "0d041916-4ed4-446a-ae97-72807d0e90cc",
     "showTitle": false,
     "title": ""
    }
   },
   "outputs": [
    {
     "output_type": "display_data",
     "data": {
      "text/html": [
       "<style scoped>\n",
       "  .table-result-container {\n",
       "    max-height: 300px;\n",
       "    overflow: auto;\n",
       "  }\n",
       "  table, th, td {\n",
       "    border: 1px solid black;\n",
       "    border-collapse: collapse;\n",
       "  }\n",
       "  th, td {\n",
       "    padding: 5px;\n",
       "  }\n",
       "  th {\n",
       "    text-align: left;\n",
       "  }\n",
       "</style><div class='table-result-container'><table class='table-result'><thead style='background-color: white'><tr><th>type</th><th>total_revenue</th></tr></thead><tbody><tr><td>shooter</td><td>650000</td></tr><tr><td>rhythm</td><td>3500000</td></tr></tbody></table></div>"
      ]
     },
     "metadata": {
      "application/vnd.databricks.v1+output": {
       "addedWidgets": {},
       "aggData": [],
       "aggError": "",
       "aggOverflow": false,
       "aggSchema": [],
       "aggSeriesLimitReached": false,
       "aggType": "",
       "arguments": {},
       "columnCustomDisplayInfos": {},
       "data": [
        [
         "shooter",
         650000
        ],
        [
         "rhythm",
         3500000
        ]
       ],
       "datasetInfos": [],
       "dbfsResultPath": null,
       "isJsonSchema": true,
       "metadata": {},
       "overflow": false,
       "plotOptions": {
        "customPlotOptions": {},
        "displayType": "table",
        "pivotAggregation": null,
        "pivotColumns": null,
        "xColumns": null,
        "yColumns": null
       },
       "removedWidgets": [],
       "schema": [
        {
         "metadata": "{}",
         "name": "type",
         "type": "\"string\""
        },
        {
         "metadata": "{}",
         "name": "total_revenue",
         "type": "\"long\""
        }
       ],
       "type": "table"
      }
     },
     "output_type": "display_data"
    }
   ],
   "source": [
    "\n"
   ]
  },
  {
   "cell_type": "markdown",
   "metadata": {
    "application/vnd.databricks.v1+cell": {
     "cellMetadata": {},
     "inputWidgets": {},
     "nuid": "dc3725e8-5c06-4b10-93a9-d2bd5df44de6",
     "showTitle": false,
     "title": ""
    }
   },
   "source": [
    "Exercício 5: Lucro bruto total por empresa\n",
    "Exercício:\n",
    "\n",
    "Para todas as empresas presentes na tabela, obtenha seus nomes e a soma do lucro bruto em todos os anos. (Suponha que o lucro bruto = receita - custo de produção). Nomeie essa coluna como gross_profit_sum. Ordene os resultados por lucro bruto, em ordem decrescente.\n",
    "\n",
    "Solução:\n",
    "\n",
    "SELECT\n",
    "  company,\n",
    "  SUM(revenue - production_cost) AS gross_profit_sum\n",
    "FROM games\n",
    "GROUP BY company\n",
    "ORDER BY gross_profit_sum DESC;"
   ]
  },
  {
   "cell_type": "code",
   "execution_count": 0,
   "metadata": {
    "application/vnd.databricks.v1+cell": {
     "cellMetadata": {
      "byteLimit": 2048000,
      "rowLimit": 10000
     },
     "inputWidgets": {},
     "nuid": "492f14ac-514e-4df7-b3ab-b29ef339b09b",
     "showTitle": false,
     "title": ""
    }
   },
   "outputs": [
    {
     "output_type": "display_data",
     "data": {
      "text/html": [
       "<style scoped>\n",
       "  .table-result-container {\n",
       "    max-height: 300px;\n",
       "    overflow: auto;\n",
       "  }\n",
       "  table, th, td {\n",
       "    border: 1px solid black;\n",
       "    border-collapse: collapse;\n",
       "  }\n",
       "  th, td {\n",
       "    padding: 5px;\n",
       "  }\n",
       "  th {\n",
       "    text-align: left;\n",
       "  }\n",
       "</style><div class='table-result-container'><table class='table-result'><thead style='background-color: white'><tr><th>company</th><th>gross_profit</th></tr></thead><tbody><tr><td>13 Mad Bits</td><td>4350000</td></tr><tr><td>PixelGaming Inc.</td><td>-1000000</td></tr><tr><td>Simone Games</td><td>-2100000</td></tr><tr><td>Vertabelo</td><td>-20000000</td></tr></tbody></table></div>"
      ]
     },
     "metadata": {
      "application/vnd.databricks.v1+output": {
       "addedWidgets": {},
       "aggData": [],
       "aggError": "",
       "aggOverflow": false,
       "aggSchema": [],
       "aggSeriesLimitReached": false,
       "aggType": "",
       "arguments": {},
       "columnCustomDisplayInfos": {},
       "data": [
        [
         "13 Mad Bits",
         4350000
        ],
        [
         "PixelGaming Inc.",
         -1000000
        ],
        [
         "Simone Games",
         -2100000
        ],
        [
         "Vertabelo",
         -20000000
        ]
       ],
       "datasetInfos": [],
       "dbfsResultPath": null,
       "isJsonSchema": true,
       "metadata": {},
       "overflow": false,
       "plotOptions": {
        "customPlotOptions": {},
        "displayType": "table",
        "pivotAggregation": null,
        "pivotColumns": null,
        "xColumns": null,
        "yColumns": null
       },
       "removedWidgets": [],
       "schema": [
        {
         "metadata": "{}",
         "name": "company",
         "type": "\"string\""
        },
        {
         "metadata": "{}",
         "name": "gross_profit",
         "type": "\"long\""
        }
       ],
       "type": "table"
      }
     },
     "output_type": "display_data"
    }
   ],
   "source": []
  },
  {
   "cell_type": "markdown",
   "metadata": {
    "application/vnd.databricks.v1+cell": {
     "cellMetadata": {
      "byteLimit": 2048000,
      "rowLimit": 10000
     },
     "inputWidgets": {},
     "nuid": "5ea3eacd-3210-4ee9-b702-e0aaf3678d18",
     "showTitle": false,
     "title": ""
    }
   },
   "source": [
    "<h4>Exercício 6: Lucro bruto anual por empresa</h4>\n",
    "Exercício:\n",
    "\n",
    "Obter o lucro bruto anual de cada empresa. Em outras palavras, queremos um relatório com o nome da empresa, o ano e o lucro bruto desse ano. Ordene o relatório por nome da empresa e ano.\n",
    "\n",
    "Solução:\n",
    "\n",
    "SELECT\n",
    "  company,\n",
    "  production_year,\n",
    "  SUM(revenue - production_cost) AS gross_profit_sum\n",
    "FROM  games\n",
    "GROUP BY company, production_year\n",
    "ORDER BY company, production_year;"
   ]
  },
  {
   "cell_type": "code",
   "execution_count": 0,
   "metadata": {
    "application/vnd.databricks.v1+cell": {
     "cellMetadata": {
      "byteLimit": 2048000,
      "rowLimit": 10000
     },
     "inputWidgets": {},
     "nuid": "a9a2ef47-0f49-4d3a-b807-85e035c3556e",
     "showTitle": false,
     "title": ""
    }
   },
   "outputs": [
    {
     "output_type": "display_data",
     "data": {
      "text/html": [
       "<style scoped>\n",
       "  .table-result-container {\n",
       "    max-height: 300px;\n",
       "    overflow: auto;\n",
       "  }\n",
       "  table, th, td {\n",
       "    border: 1px solid black;\n",
       "    border-collapse: collapse;\n",
       "  }\n",
       "  th, td {\n",
       "    padding: 5px;\n",
       "  }\n",
       "  th {\n",
       "    text-align: left;\n",
       "  }\n",
       "</style><div class='table-result-container'><table class='table-result'><thead style='background-color: white'><tr><th>company</th><th>production_year</th><th>gross_profit</th></tr></thead><tbody><tr><td>13 Mad Bits</td><td>2011</td><td>2850000</td></tr><tr><td>13 Mad Bits</td><td>2012</td><td>1500000</td></tr><tr><td>PixelGaming Inc.</td><td>2006</td><td>-1000000</td></tr><tr><td>Simone Games</td><td>1998</td><td>-100000</td></tr><tr><td>Simone Games</td><td>2004</td><td>-2000000</td></tr><tr><td>Vertabelo</td><td>2017</td><td>-20000000</td></tr></tbody></table></div>"
      ]
     },
     "metadata": {
      "application/vnd.databricks.v1+output": {
       "addedWidgets": {},
       "aggData": [],
       "aggError": "",
       "aggOverflow": false,
       "aggSchema": [],
       "aggSeriesLimitReached": false,
       "aggType": "",
       "arguments": {},
       "columnCustomDisplayInfos": {},
       "data": [
        [
         "13 Mad Bits",
         2011,
         2850000
        ],
        [
         "13 Mad Bits",
         2012,
         1500000
        ],
        [
         "PixelGaming Inc.",
         2006,
         -1000000
        ],
        [
         "Simone Games",
         1998,
         -100000
        ],
        [
         "Simone Games",
         2004,
         -2000000
        ],
        [
         "Vertabelo",
         2017,
         -20000000
        ]
       ],
       "datasetInfos": [],
       "dbfsResultPath": null,
       "isJsonSchema": true,
       "metadata": {},
       "overflow": false,
       "plotOptions": {
        "customPlotOptions": {},
        "displayType": "table",
        "pivotAggregation": null,
        "pivotColumns": null,
        "xColumns": null,
        "yColumns": null
       },
       "removedWidgets": [],
       "schema": [
        {
         "metadata": "{}",
         "name": "company",
         "type": "\"string\""
        },
        {
         "metadata": "{}",
         "name": "production_year",
         "type": "\"long\""
        },
        {
         "metadata": "{}",
         "name": "gross_profit",
         "type": "\"long\""
        }
       ],
       "type": "table"
      }
     },
     "output_type": "display_data"
    }
   ],
   "source": [
    "\n"
   ]
  },
  {
   "cell_type": "markdown",
   "metadata": {
    "application/vnd.databricks.v1+cell": {
     "cellMetadata": {},
     "inputWidgets": {},
     "nuid": "d027118c-6725-4b78-873a-cc19a8b490d7",
     "showTitle": false,
     "title": ""
    }
   },
   "source": [
    "<h4>Exercício 8: Empresas que produzem mais de um jogo</h4>\n",
    "Exercício:\n",
    "\n",
    "Para cada empresa, selecione seu nome, o número de jogos que produziu (como a coluna number_of_games ) e o custo médio de produção (como a coluna avg_cost ). Mostre apenas as empresas que produzem mais de um jogo.\n",
    "\n",
    "Solução:\n",
    "\n",
    "SELECT\n",
    "  company,\n",
    "  COUNT(company) AS number_of_games,\n",
    "  AVG(production_cost) AS avg_cost\n",
    "FROM games\n",
    "GROUP BY company\n",
    "HAVING COUNT(*) > 1;"
   ]
  },
  {
   "cell_type": "code",
   "execution_count": 0,
   "metadata": {
    "application/vnd.databricks.v1+cell": {
     "cellMetadata": {
      "byteLimit": 2048000,
      "rowLimit": 10000
     },
     "inputWidgets": {},
     "nuid": "0c06efef-66fd-4812-a871-6cd98363f2dc",
     "showTitle": false,
     "title": ""
    }
   },
   "outputs": [
    {
     "output_type": "display_data",
     "data": {
      "text/html": [
       "<style scoped>\n",
       "  .table-result-container {\n",
       "    max-height: 300px;\n",
       "    overflow: auto;\n",
       "  }\n",
       "  table, th, td {\n",
       "    border: 1px solid black;\n",
       "    border-collapse: collapse;\n",
       "  }\n",
       "  th, td {\n",
       "    padding: 5px;\n",
       "  }\n",
       "  th {\n",
       "    text-align: left;\n",
       "  }\n",
       "</style><div class='table-result-container'><table class='table-result'><thead style='background-color: white'><tr><th>company</th><th>number_of_games</th><th>avg_cost</th></tr></thead><tbody><tr><td>Simone Games</td><td>2</td><td>750000.0</td></tr><tr><td>13 Mad Bits</td><td>2</td><td>3250000.0</td></tr></tbody></table></div>"
      ]
     },
     "metadata": {
      "application/vnd.databricks.v1+output": {
       "addedWidgets": {},
       "aggData": [],
       "aggError": "",
       "aggOverflow": false,
       "aggSchema": [],
       "aggSeriesLimitReached": false,
       "aggType": "",
       "arguments": {},
       "columnCustomDisplayInfos": {},
       "data": [
        [
         "Simone Games",
         2,
         750000.0
        ],
        [
         "13 Mad Bits",
         2,
         3250000.0
        ]
       ],
       "datasetInfos": [],
       "dbfsResultPath": null,
       "isJsonSchema": true,
       "metadata": {},
       "overflow": false,
       "plotOptions": {
        "customPlotOptions": {},
        "displayType": "table",
        "pivotAggregation": null,
        "pivotColumns": null,
        "xColumns": null,
        "yColumns": null
       },
       "removedWidgets": [],
       "schema": [
        {
         "metadata": "{}",
         "name": "company",
         "type": "\"string\""
        },
        {
         "metadata": "{}",
         "name": "number_of_games",
         "type": "\"long\""
        },
        {
         "metadata": "{}",
         "name": "avg_cost",
         "type": "\"double\""
        }
       ],
       "type": "table"
      }
     },
     "output_type": "display_data"
    }
   ],
   "source": [
    "\n"
   ]
  },
  {
   "cell_type": "markdown",
   "metadata": {
    "application/vnd.databricks.v1+cell": {
     "cellMetadata": {},
     "inputWidgets": {},
     "nuid": "7171a71d-1eb2-49b2-97c6-148d9af63bc0",
     "showTitle": false,
     "title": ""
    }
   },
   "source": [
    "<h4>Exercício 9: Empresas que produzem jogos \"bons\" com receita superior a 4 milhões</h4>\n",
    "Exercício:\n",
    "\n",
    "Estamos interessados em bons jogos produzidos entre 2000 e 2009. Um bom jogo é um jogo lucrativo com uma classificação superior a 6. Para cada empresa, mostre o nome da empresa, sua receita total de jogos bons produzidos entre 2000 e 2009 (como a coluna revenue_sum ) e o número de jogos bons que ela produziu nesse período (como a coluna number_of_games ). Mostre apenas as empresas com receita de jogos de qualidade superior a 4.000.000.\n",
    "\n",
    "Solução:\n",
    "\n",
    "SELECT\n",
    "  company,\n",
    "  COUNT(company) AS number_of_games,\n",
    "  SUM(revenue) AS revenue_sum\n",
    "FROM games\n",
    "WHERE production_year BETWEEN 2000 AND 2009\n",
    "  AND rating > 6\n",
    "  AND revenue - production_cost > 0\n",
    "GROUP BY company\n",
    "HAVING SUM(revenue) > 4000000;"
   ]
  },
  {
   "cell_type": "code",
   "execution_count": 0,
   "metadata": {
    "application/vnd.databricks.v1+cell": {
     "cellMetadata": {
      "byteLimit": 2048000,
      "rowLimit": 10000
     },
     "inputWidgets": {},
     "nuid": "4ffaabc0-ff08-41a4-b11a-0628a85339f8",
     "showTitle": false,
     "title": ""
    }
   },
   "outputs": [
    {
     "output_type": "display_data",
     "data": {
      "text/html": [
       "<style scoped>\n",
       "  .table-result-container {\n",
       "    max-height: 300px;\n",
       "    overflow: auto;\n",
       "  }\n",
       "  table, th, td {\n",
       "    border: 1px solid black;\n",
       "    border-collapse: collapse;\n",
       "  }\n",
       "  th, td {\n",
       "    padding: 5px;\n",
       "  }\n",
       "  th {\n",
       "    text-align: left;\n",
       "  }\n",
       "</style><div class='table-result-container'><table class='table-result'><thead style='background-color: white'><tr><th>company</th><th>number_of_games</th><th>revenue_sum</th></tr></thead><tbody><tr><td>PixelGaming Inc.</td><td>1</td><td>3500000</td></tr><tr><td>Simone Games</td><td>1</td><td>3400000</td></tr></tbody></table></div>"
      ]
     },
     "metadata": {
      "application/vnd.databricks.v1+output": {
       "addedWidgets": {},
       "aggData": [],
       "aggError": "",
       "aggOverflow": false,
       "aggSchema": [],
       "aggSeriesLimitReached": false,
       "aggType": "",
       "arguments": {},
       "columnCustomDisplayInfos": {},
       "data": [
        [
         "PixelGaming Inc.",
         1,
         3500000
        ],
        [
         "Simone Games",
         1,
         3400000
        ]
       ],
       "datasetInfos": [],
       "dbfsResultPath": null,
       "isJsonSchema": true,
       "metadata": {},
       "overflow": false,
       "plotOptions": {
        "customPlotOptions": {},
        "displayType": "table",
        "pivotAggregation": null,
        "pivotColumns": null,
        "xColumns": null,
        "yColumns": null
       },
       "removedWidgets": [],
       "schema": [
        {
         "metadata": "{}",
         "name": "company",
         "type": "\"string\""
        },
        {
         "metadata": "{}",
         "name": "number_of_games",
         "type": "\"long\""
        },
        {
         "metadata": "{}",
         "name": "revenue_sum",
         "type": "\"long\""
        }
       ],
       "type": "table"
      }
     },
     "output_type": "display_data"
    }
   ],
   "source": [
    "\n"
   ]
  },
  {
   "cell_type": "code",
   "execution_count": 0,
   "metadata": {
    "application/vnd.databricks.v1+cell": {
     "cellMetadata": {},
     "inputWidgets": {},
     "nuid": "4777ec6d-902c-4ab6-8466-8d79b83da2f2",
     "showTitle": false,
     "title": ""
    }
   },
   "outputs": [],
   "source": []
  },
  {
   "cell_type": "code",
   "execution_count": 0,
   "metadata": {
    "application/vnd.databricks.v1+cell": {
     "cellMetadata": {},
     "inputWidgets": {},
     "nuid": "d844e22f-1b63-4861-a4ba-9f679552424c",
     "showTitle": false,
     "title": ""
    }
   },
   "outputs": [],
   "source": []
  },
  {
   "cell_type": "code",
   "execution_count": 0,
   "metadata": {
    "application/vnd.databricks.v1+cell": {
     "cellMetadata": {},
     "inputWidgets": {},
     "nuid": "ac112874-dd7a-4ff1-952b-dd2db4712ce2",
     "showTitle": false,
     "title": ""
    }
   },
   "outputs": [],
   "source": []
  }
 ],
 "metadata": {
  "application/vnd.databricks.v1+notebook": {
   "dashboards": [],
   "language": "python",
   "notebookMetadata": {
    "mostRecentlyExecutedCommandWithImplicitDF": {
     "commandId": 3026352784048582,
     "dataframes": [
      "_sqldf"
     ]
    },
    "pythonIndentUnit": 4
   },
   "notebookName": "exercicio_agregacao",
   "widgets": {}
  }
 },
 "nbformat": 4,
 "nbformat_minor": 0
}
