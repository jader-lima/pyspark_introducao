{
 "cells": [
  {
   "cell_type": "code",
   "execution_count": 0,
   "metadata": {
    "application/vnd.databricks.v1+cell": {
     "cellMetadata": {
      "byteLimit": 2048000,
      "rowLimit": 10000
     },
     "inputWidgets": {},
     "nuid": "c237d547-14c2-4b02-8bbd-b3e92627ef3a",
     "showTitle": false,
     "title": ""
    }
   },
   "outputs": [],
   "source": [
    "from pyspark.sql import SparkSession\n",
    "from pyspark.sql.functions import col\n",
    "from pyspark.sql.types import StructType,StructField, StringType, IntegerType, FloatType\n",
    "import pyspark.sql.functions as F"
   ]
  },
  {
   "cell_type": "code",
   "execution_count": 0,
   "metadata": {
    "application/vnd.databricks.v1+cell": {
     "cellMetadata": {
      "byteLimit": 2048000,
      "rowLimit": 10000
     },
     "inputWidgets": {},
     "nuid": "7525f103-1008-4729-aaf7-9ae2214081ec",
     "showTitle": false,
     "title": ""
    }
   },
   "outputs": [],
   "source": [
    "\n",
    "spark = SparkSession.builder \\\n",
    "    .master('local[*]') \\\n",
    "    .appName(\"Iniciando com Spark\") \\\n",
    "    .getOrCreate()"
   ]
  },
  {
   "cell_type": "markdown",
   "metadata": {
    "application/vnd.databricks.v1+cell": {
     "cellMetadata": {
      "byteLimit": 2048000,
      "rowLimit": 10000
     },
     "inputWidgets": {},
     "nuid": "322ae8a8-c915-47f4-97c5-3cb33a1ada2a",
     "showTitle": false,
     "title": ""
    }
   },
   "source": [
    "### Lendo Csv"
   ]
  },
  {
   "cell_type": "code",
   "execution_count": 0,
   "metadata": {
    "application/vnd.databricks.v1+cell": {
     "cellMetadata": {
      "byteLimit": 2048000,
      "rowLimit": 10000
     },
     "inputWidgets": {},
     "nuid": "31687668-251c-428e-84c8-6ee3d09fb139",
     "showTitle": false,
     "title": ""
    }
   },
   "outputs": [],
   "source": [
    "path_countries = '/FileStore/transient/departments/countries'\n",
    "df_countries = spark.read.format('csv')\\\n",
    ".option(\"header\", True)\\\n",
    ".option(\"sep\", \",\")\\\n",
    ".option(\"quote\",\"\\'\")\\\n",
    ".option(\"inferSchema\",True)\\\n",
    ".load(path_countries)\n",
    "#transient\\csv\\olist"
   ]
  },
  {
   "cell_type": "code",
   "execution_count": 0,
   "metadata": {
    "application/vnd.databricks.v1+cell": {
     "cellMetadata": {
      "byteLimit": 2048000,
      "rowLimit": 10000
     },
     "inputWidgets": {},
     "nuid": "49aa575d-8cd1-4f12-92c3-e7a3c3952dbf",
     "showTitle": false,
     "title": ""
    }
   },
   "outputs": [],
   "source": [
    "path_regions = '/FileStore/transient/departments/regions'\n",
    "df_regions = spark.read.format('csv')\\\n",
    ".option(\"header\", True)\\\n",
    ".option(\"sep\", \",\")\\\n",
    ".option(\"quote\",\"\\'\")\\\n",
    ".option(\"inferSchema\",True)\\\n",
    ".load(path_regions)"
   ]
  },
  {
   "cell_type": "code",
   "execution_count": 0,
   "metadata": {
    "application/vnd.databricks.v1+cell": {
     "cellMetadata": {
      "byteLimit": 2048000,
      "rowLimit": 10000
     },
     "inputWidgets": {},
     "nuid": "17f7a625-2ac3-4a3e-9a98-0986026682e7",
     "showTitle": false,
     "title": ""
    }
   },
   "outputs": [],
   "source": [
    "path_jobs = '/FileStore/transient/departments/jobs'\n",
    "df_jobs = spark.read.format('csv')\\\n",
    ".option(\"header\", True)\\\n",
    ".option(\"sep\", \",\")\\\n",
    ".option(\"quote\",\"\\'\")\\\n",
    ".option(\"inferSchema\",True)\\\n",
    ".load(path_jobs)"
   ]
  },
  {
   "cell_type": "code",
   "execution_count": 0,
   "metadata": {
    "application/vnd.databricks.v1+cell": {
     "cellMetadata": {
      "byteLimit": 2048000,
      "rowLimit": 10000
     },
     "inputWidgets": {},
     "nuid": "f6967776-0d77-4a3c-b20e-90090d5c8205",
     "showTitle": false,
     "title": ""
    }
   },
   "outputs": [],
   "source": [
    "path_employees = '/FileStore/transient/departments/employees'\n",
    "df_employees = spark.read.format('csv')\\\n",
    ".option(\"header\", True)\\\n",
    ".option(\"sep\", \",\")\\\n",
    ".option(\"quote\",\"\\'\")\\\n",
    ".option(\"inferSchema\",True)\\\n",
    ".load(path_employees)"
   ]
  },
  {
   "cell_type": "code",
   "execution_count": 0,
   "metadata": {
    "application/vnd.databricks.v1+cell": {
     "cellMetadata": {
      "byteLimit": 2048000,
      "rowLimit": 10000
     },
     "inputWidgets": {},
     "nuid": "c3d3d425-f0d2-4738-9411-ee8dab7a1393",
     "showTitle": false,
     "title": ""
    }
   },
   "outputs": [],
   "source": [
    "path_depto = '/FileStore/transient/departments/departments'\n",
    "df_depto = spark.read.format('csv')\\\n",
    ".option(\"header\", True)\\\n",
    ".option(\"sep\", \",\")\\\n",
    ".option(\"quote\",\"\\'\")\\\n",
    ".option(\"inferSchema\",True)\\\n",
    ".load(path_depto)"
   ]
  },
  {
   "cell_type": "code",
   "execution_count": 0,
   "metadata": {
    "application/vnd.databricks.v1+cell": {
     "cellMetadata": {
      "byteLimit": 2048000,
      "rowLimit": 10000
     },
     "inputWidgets": {},
     "nuid": "d9d1c09d-2380-4a73-9cc0-9adb3fee5f62",
     "showTitle": false,
     "title": ""
    }
   },
   "outputs": [],
   "source": [
    "df_job_employees = df_employees.join(df_jobs , df_employees.job_id == df_jobs.job_id, 'inner').drop(df_jobs.job_id)"
   ]
  },
  {
   "cell_type": "code",
   "execution_count": 0,
   "metadata": {
    "application/vnd.databricks.v1+cell": {
     "cellMetadata": {
      "byteLimit": 2048000,
      "rowLimit": 10000
     },
     "inputWidgets": {},
     "nuid": "1cc9f992-149c-4de6-b8f1-a0316d86a95f",
     "showTitle": false,
     "title": ""
    }
   },
   "outputs": [
    {
     "output_type": "display_data",
     "data": {
      "text/html": [
       "<style scoped>\n",
       "  .table-result-container {\n",
       "    max-height: 300px;\n",
       "    overflow: auto;\n",
       "  }\n",
       "  table, th, td {\n",
       "    border: 1px solid black;\n",
       "    border-collapse: collapse;\n",
       "  }\n",
       "  th, td {\n",
       "    padding: 5px;\n",
       "  }\n",
       "  th {\n",
       "    text-align: left;\n",
       "  }\n",
       "</style><div class='table-result-container'><table class='table-result'><thead style='background-color: white'><tr><th>employee_id</th><th>first_name</th><th>last_name</th><th>email</th><th>phone_number</th><th>hire_date</th><th>job_id</th><th>salary</th><th>manager_id</th><th>department_id</th><th>jod_title</th><th>min_salary</th><th>max_salary</th></tr></thead><tbody><tr><td>100</td><td>Steven</td><td>King</td><td>steven.king@sqltutorial.org</td><td>515.123.4567</td><td>1987-06-17</td><td>4</td><td>24000.0</td><td>NULL</td><td>9</td><td>President</td><td>20000.0</td><td>40000.0</td></tr><tr><td>101</td><td>Neena</td><td>Kochhar</td><td>neena.kochhar@sqltutorial.org</td><td>515.123.4568</td><td>1989-09-21</td><td>5</td><td>17000.0</td><td>100</td><td>9</td><td>Administration Vice President</td><td>15000.0</td><td>30000.0</td></tr><tr><td>102</td><td>Lex</td><td>De Haan</td><td>lex.de haan@sqltutorial.org</td><td>515.123.4569</td><td>1993-01-13</td><td>5</td><td>17000.0</td><td>100</td><td>9</td><td>Administration Vice President</td><td>15000.0</td><td>30000.0</td></tr><tr><td>103</td><td>Alexander</td><td>Hunold</td><td>alexander.hunold@sqltutorial.org</td><td>590.423.4567</td><td>1990-01-03</td><td>9</td><td>9000.0</td><td>102</td><td>6</td><td>Programmer</td><td>4000.0</td><td>10000.0</td></tr><tr><td>104</td><td>Bruce</td><td>Ernst</td><td>bruce.ernst@sqltutorial.org</td><td>590.423.4568</td><td>1991-05-21</td><td>9</td><td>6000.0</td><td>103</td><td>6</td><td>Programmer</td><td>4000.0</td><td>10000.0</td></tr><tr><td>105</td><td>David</td><td>Austin</td><td>david.austin@sqltutorial.org</td><td>590.423.4569</td><td>1997-06-25</td><td>9</td><td>4800.0</td><td>103</td><td>6</td><td>Programmer</td><td>4000.0</td><td>10000.0</td></tr><tr><td>106</td><td>Valli</td><td>Pataballa</td><td>valli.pataballa@sqltutorial.org</td><td>590.423.4560</td><td>1998-02-05</td><td>9</td><td>4800.0</td><td>103</td><td>6</td><td>Programmer</td><td>4000.0</td><td>10000.0</td></tr><tr><td>107</td><td>Diana</td><td>Lorentz</td><td>diana.lorentz@sqltutorial.org</td><td>590.423.5567</td><td>1999-02-07</td><td>9</td><td>4200.0</td><td>103</td><td>6</td><td>Programmer</td><td>4000.0</td><td>10000.0</td></tr><tr><td>108</td><td>Nancy</td><td>Greenberg</td><td>nancy.greenberg@sqltutorial.org</td><td>515.124.4569</td><td>1994-08-17</td><td>7</td><td>12000.0</td><td>101</td><td>10</td><td>Finance Manager</td><td>8200.0</td><td>16000.0</td></tr><tr><td>109</td><td>Daniel</td><td>Faviet</td><td>daniel.faviet@sqltutorial.org</td><td>515.124.4169</td><td>1994-08-16</td><td>6</td><td>9000.0</td><td>108</td><td>10</td><td>Accountant</td><td>4200.0</td><td>9000.0</td></tr><tr><td>110</td><td>John</td><td>Chen</td><td>john.chen@sqltutorial.org</td><td>515.124.4269</td><td>1997-09-28</td><td>6</td><td>8200.0</td><td>108</td><td>10</td><td>Accountant</td><td>4200.0</td><td>9000.0</td></tr><tr><td>111</td><td>Ismael</td><td>Sciarra</td><td>ismael.sciarra@sqltutorial.org</td><td>515.124.4369</td><td>1997-09-30</td><td>6</td><td>7700.0</td><td>108</td><td>10</td><td>Accountant</td><td>4200.0</td><td>9000.0</td></tr><tr><td>112</td><td>Jose Manuel</td><td>Urman</td><td>jose manuel.urman@sqltutorial.org</td><td>515.124.4469</td><td>1998-03-07</td><td>6</td><td>7800.0</td><td>108</td><td>10</td><td>Accountant</td><td>4200.0</td><td>9000.0</td></tr><tr><td>113</td><td>Luis</td><td>Popp</td><td>luis.popp@sqltutorial.org</td><td>515.124.4567</td><td>1999-12-07</td><td>6</td><td>6900.0</td><td>108</td><td>10</td><td>Accountant</td><td>4200.0</td><td>9000.0</td></tr><tr><td>114</td><td>Den</td><td>Raphaely</td><td>den.raphaely@sqltutorial.org</td><td>515.127.4561</td><td>1994-12-07</td><td>14</td><td>11000.0</td><td>100</td><td>3</td><td>Purchasing Manager</td><td>8000.0</td><td>15000.0</td></tr><tr><td>115</td><td>Alexander</td><td>Khoo</td><td>alexander.khoo@sqltutorial.org</td><td>515.127.4562</td><td>1995-05-18</td><td>13</td><td>3100.0</td><td>114</td><td>3</td><td>Purchasing Clerk</td><td>2500.0</td><td>5500.0</td></tr><tr><td>116</td><td>Shelli</td><td>Baida</td><td>shelli.baida@sqltutorial.org</td><td>515.127.4563</td><td>1997-12-24</td><td>13</td><td>2900.0</td><td>114</td><td>3</td><td>Purchasing Clerk</td><td>2500.0</td><td>5500.0</td></tr><tr><td>117</td><td>Sigal</td><td>Tobias</td><td>sigal.tobias@sqltutorial.org</td><td>515.127.4564</td><td>1997-07-24</td><td>13</td><td>2800.0</td><td>114</td><td>3</td><td>Purchasing Clerk</td><td>2500.0</td><td>5500.0</td></tr><tr><td>118</td><td>Guy</td><td>Himuro</td><td>guy.himuro@sqltutorial.org</td><td>515.127.4565</td><td>1998-11-15</td><td>13</td><td>2600.0</td><td>114</td><td>3</td><td>Purchasing Clerk</td><td>2500.0</td><td>5500.0</td></tr><tr><td>119</td><td>Karen</td><td>Colmenares</td><td>karen.colmenares@sqltutorial.org</td><td>515.127.4566</td><td>1999-08-10</td><td>13</td><td>2500.0</td><td>114</td><td>3</td><td>Purchasing Clerk</td><td>2500.0</td><td>5500.0</td></tr><tr><td>120</td><td>Matthew</td><td>Weiss</td><td>matthew.weiss@sqltutorial.org</td><td>650.123.1234</td><td>1996-07-18</td><td>19</td><td>8000.0</td><td>100</td><td>5</td><td>Stock Manager</td><td>5500.0</td><td>8500.0</td></tr><tr><td>121</td><td>Adam</td><td>Fripp</td><td>adam.fripp@sqltutorial.org</td><td>650.123.2234</td><td>1997-04-10</td><td>19</td><td>8200.0</td><td>100</td><td>5</td><td>Stock Manager</td><td>5500.0</td><td>8500.0</td></tr><tr><td>122</td><td>Payam</td><td>Kaufling</td><td>payam.kaufling@sqltutorial.org</td><td>650.123.3234</td><td>1995-05-01</td><td>19</td><td>7900.0</td><td>100</td><td>5</td><td>Stock Manager</td><td>5500.0</td><td>8500.0</td></tr><tr><td>123</td><td>Shanta</td><td>Vollman</td><td>shanta.vollman@sqltutorial.org</td><td>650.123.4234</td><td>1997-10-10</td><td>19</td><td>6500.0</td><td>100</td><td>5</td><td>Stock Manager</td><td>5500.0</td><td>8500.0</td></tr><tr><td>126</td><td>Irene</td><td>Mikkilineni</td><td>irene.mikkilineni@sqltutorial.org</td><td>650.124.1224</td><td>1998-09-28</td><td>18</td><td>2700.0</td><td>120</td><td>5</td><td>Stock Clerk</td><td>2000.0</td><td>5000.0</td></tr><tr><td>145</td><td>John</td><td>Russell</td><td>john.russell@sqltutorial.org</td><td>NULL</td><td>1996-10-01</td><td>15</td><td>14000.0</td><td>100</td><td>8</td><td>Sales Manager</td><td>10000.0</td><td>20000.0</td></tr><tr><td>146</td><td>Karen</td><td>Partners</td><td>karen.partners@sqltutorial.org</td><td>NULL</td><td>1997-01-05</td><td>15</td><td>13500.0</td><td>100</td><td>8</td><td>Sales Manager</td><td>10000.0</td><td>20000.0</td></tr><tr><td>176</td><td>Jonathon</td><td>Taylor</td><td>jonathon.taylor@sqltutorial.org</td><td>NULL</td><td>1998-03-24</td><td>16</td><td>8600.0</td><td>100</td><td>8</td><td>Sales Representative</td><td>6000.0</td><td>12000.0</td></tr><tr><td>177</td><td>Jack</td><td>Livingston</td><td>jack.livingston@sqltutorial.org</td><td>NULL</td><td>1998-04-23</td><td>16</td><td>8400.0</td><td>100</td><td>8</td><td>Sales Representative</td><td>6000.0</td><td>12000.0</td></tr><tr><td>178</td><td>Kimberely</td><td>Grant</td><td>kimberely.grant@sqltutorial.org</td><td>NULL</td><td>1999-05-24</td><td>16</td><td>7000.0</td><td>100</td><td>8</td><td>Sales Representative</td><td>6000.0</td><td>12000.0</td></tr><tr><td>179</td><td>Charles</td><td>Johnson</td><td>charles.johnson@sqltutorial.org</td><td>NULL</td><td>2000-01-04</td><td>16</td><td>6200.0</td><td>100</td><td>8</td><td>Sales Representative</td><td>6000.0</td><td>12000.0</td></tr><tr><td>192</td><td>Sarah</td><td>Bell</td><td>sarah.bell@sqltutorial.org</td><td>650.501.1876</td><td>1996-02-04</td><td>17</td><td>4000.0</td><td>123</td><td>5</td><td>Shipping Clerk</td><td>2500.0</td><td>5500.0</td></tr><tr><td>193</td><td>Britney</td><td>Everett</td><td>britney.everett@sqltutorial.org</td><td>650.501.2876</td><td>1997-03-03</td><td>17</td><td>3900.0</td><td>123</td><td>5</td><td>Shipping Clerk</td><td>2500.0</td><td>5500.0</td></tr><tr><td>200</td><td>Jennifer</td><td>Whalen</td><td>jennifer.whalen@sqltutorial.org</td><td>515.123.4444</td><td>1987-09-17</td><td>3</td><td>4400.0</td><td>101</td><td>1</td><td>Administration Assistant</td><td>3000.0</td><td>6000.0</td></tr><tr><td>201</td><td>Michael</td><td>Hartstein</td><td>michael.hartstein@sqltutorial.org</td><td>515.123.5555</td><td>1996-02-17</td><td>10</td><td>13000.0</td><td>100</td><td>2</td><td>Marketing Manager</td><td>9000.0</td><td>15000.0</td></tr><tr><td>202</td><td>Pat</td><td>Fay</td><td>pat.fay@sqltutorial.org</td><td>603.123.6666</td><td>1997-08-17</td><td>11</td><td>6000.0</td><td>201</td><td>2</td><td>Marketing Representative</td><td>4000.0</td><td>9000.0</td></tr><tr><td>203</td><td>Susan</td><td>Mavris</td><td>susan.mavris@sqltutorial.org</td><td>515.123.7777</td><td>1994-06-07</td><td>8</td><td>6500.0</td><td>101</td><td>4</td><td>Human Resources Representative</td><td>4000.0</td><td>9000.0</td></tr><tr><td>204</td><td>Hermann</td><td>Baer</td><td>hermann.baer@sqltutorial.org</td><td>515.123.8888</td><td>1994-06-07</td><td>12</td><td>10000.0</td><td>101</td><td>7</td><td>Public Relations Representative</td><td>4500.0</td><td>10500.0</td></tr><tr><td>205</td><td>Shelley</td><td>Higgins</td><td>shelley.higgins@sqltutorial.org</td><td>515.123.8080</td><td>1994-06-07</td><td>2</td><td>12000.0</td><td>101</td><td>11</td><td>Accounting Manager</td><td>8200.0</td><td>16000.0</td></tr><tr><td>206</td><td>William</td><td>Gietz</td><td>william.gietz@sqltutorial.org</td><td>515.123.8181</td><td>1994-06-07</td><td>1</td><td>8300.0</td><td>205</td><td>11</td><td>Public Accountant</td><td>4200.0</td><td>9000.0</td></tr></tbody></table></div>"
      ]
     },
     "metadata": {
      "application/vnd.databricks.v1+output": {
       "addedWidgets": {},
       "aggData": [],
       "aggError": "",
       "aggOverflow": false,
       "aggSchema": [],
       "aggSeriesLimitReached": false,
       "aggType": "",
       "arguments": {},
       "columnCustomDisplayInfos": {},
       "data": [
        [
         100,
         "Steven",
         "King",
         "steven.king@sqltutorial.org",
         "515.123.4567",
         "1987-06-17",
         4,
         24000.0,
         "NULL",
         9,
         "President",
         20000.0,
         40000.0
        ],
        [
         101,
         "Neena",
         "Kochhar",
         "neena.kochhar@sqltutorial.org",
         "515.123.4568",
         "1989-09-21",
         5,
         17000.0,
         "100",
         9,
         "Administration Vice President",
         15000.0,
         30000.0
        ],
        [
         102,
         "Lex",
         "De Haan",
         "lex.de haan@sqltutorial.org",
         "515.123.4569",
         "1993-01-13",
         5,
         17000.0,
         "100",
         9,
         "Administration Vice President",
         15000.0,
         30000.0
        ],
        [
         103,
         "Alexander",
         "Hunold",
         "alexander.hunold@sqltutorial.org",
         "590.423.4567",
         "1990-01-03",
         9,
         9000.0,
         "102",
         6,
         "Programmer",
         4000.0,
         10000.0
        ],
        [
         104,
         "Bruce",
         "Ernst",
         "bruce.ernst@sqltutorial.org",
         "590.423.4568",
         "1991-05-21",
         9,
         6000.0,
         "103",
         6,
         "Programmer",
         4000.0,
         10000.0
        ],
        [
         105,
         "David",
         "Austin",
         "david.austin@sqltutorial.org",
         "590.423.4569",
         "1997-06-25",
         9,
         4800.0,
         "103",
         6,
         "Programmer",
         4000.0,
         10000.0
        ],
        [
         106,
         "Valli",
         "Pataballa",
         "valli.pataballa@sqltutorial.org",
         "590.423.4560",
         "1998-02-05",
         9,
         4800.0,
         "103",
         6,
         "Programmer",
         4000.0,
         10000.0
        ],
        [
         107,
         "Diana",
         "Lorentz",
         "diana.lorentz@sqltutorial.org",
         "590.423.5567",
         "1999-02-07",
         9,
         4200.0,
         "103",
         6,
         "Programmer",
         4000.0,
         10000.0
        ],
        [
         108,
         "Nancy",
         "Greenberg",
         "nancy.greenberg@sqltutorial.org",
         "515.124.4569",
         "1994-08-17",
         7,
         12000.0,
         "101",
         10,
         "Finance Manager",
         8200.0,
         16000.0
        ],
        [
         109,
         "Daniel",
         "Faviet",
         "daniel.faviet@sqltutorial.org",
         "515.124.4169",
         "1994-08-16",
         6,
         9000.0,
         "108",
         10,
         "Accountant",
         4200.0,
         9000.0
        ],
        [
         110,
         "John",
         "Chen",
         "john.chen@sqltutorial.org",
         "515.124.4269",
         "1997-09-28",
         6,
         8200.0,
         "108",
         10,
         "Accountant",
         4200.0,
         9000.0
        ],
        [
         111,
         "Ismael",
         "Sciarra",
         "ismael.sciarra@sqltutorial.org",
         "515.124.4369",
         "1997-09-30",
         6,
         7700.0,
         "108",
         10,
         "Accountant",
         4200.0,
         9000.0
        ],
        [
         112,
         "Jose Manuel",
         "Urman",
         "jose manuel.urman@sqltutorial.org",
         "515.124.4469",
         "1998-03-07",
         6,
         7800.0,
         "108",
         10,
         "Accountant",
         4200.0,
         9000.0
        ],
        [
         113,
         "Luis",
         "Popp",
         "luis.popp@sqltutorial.org",
         "515.124.4567",
         "1999-12-07",
         6,
         6900.0,
         "108",
         10,
         "Accountant",
         4200.0,
         9000.0
        ],
        [
         114,
         "Den",
         "Raphaely",
         "den.raphaely@sqltutorial.org",
         "515.127.4561",
         "1994-12-07",
         14,
         11000.0,
         "100",
         3,
         "Purchasing Manager",
         8000.0,
         15000.0
        ],
        [
         115,
         "Alexander",
         "Khoo",
         "alexander.khoo@sqltutorial.org",
         "515.127.4562",
         "1995-05-18",
         13,
         3100.0,
         "114",
         3,
         "Purchasing Clerk",
         2500.0,
         5500.0
        ],
        [
         116,
         "Shelli",
         "Baida",
         "shelli.baida@sqltutorial.org",
         "515.127.4563",
         "1997-12-24",
         13,
         2900.0,
         "114",
         3,
         "Purchasing Clerk",
         2500.0,
         5500.0
        ],
        [
         117,
         "Sigal",
         "Tobias",
         "sigal.tobias@sqltutorial.org",
         "515.127.4564",
         "1997-07-24",
         13,
         2800.0,
         "114",
         3,
         "Purchasing Clerk",
         2500.0,
         5500.0
        ],
        [
         118,
         "Guy",
         "Himuro",
         "guy.himuro@sqltutorial.org",
         "515.127.4565",
         "1998-11-15",
         13,
         2600.0,
         "114",
         3,
         "Purchasing Clerk",
         2500.0,
         5500.0
        ],
        [
         119,
         "Karen",
         "Colmenares",
         "karen.colmenares@sqltutorial.org",
         "515.127.4566",
         "1999-08-10",
         13,
         2500.0,
         "114",
         3,
         "Purchasing Clerk",
         2500.0,
         5500.0
        ],
        [
         120,
         "Matthew",
         "Weiss",
         "matthew.weiss@sqltutorial.org",
         "650.123.1234",
         "1996-07-18",
         19,
         8000.0,
         "100",
         5,
         "Stock Manager",
         5500.0,
         8500.0
        ],
        [
         121,
         "Adam",
         "Fripp",
         "adam.fripp@sqltutorial.org",
         "650.123.2234",
         "1997-04-10",
         19,
         8200.0,
         "100",
         5,
         "Stock Manager",
         5500.0,
         8500.0
        ],
        [
         122,
         "Payam",
         "Kaufling",
         "payam.kaufling@sqltutorial.org",
         "650.123.3234",
         "1995-05-01",
         19,
         7900.0,
         "100",
         5,
         "Stock Manager",
         5500.0,
         8500.0
        ],
        [
         123,
         "Shanta",
         "Vollman",
         "shanta.vollman@sqltutorial.org",
         "650.123.4234",
         "1997-10-10",
         19,
         6500.0,
         "100",
         5,
         "Stock Manager",
         5500.0,
         8500.0
        ],
        [
         126,
         "Irene",
         "Mikkilineni",
         "irene.mikkilineni@sqltutorial.org",
         "650.124.1224",
         "1998-09-28",
         18,
         2700.0,
         "120",
         5,
         "Stock Clerk",
         2000.0,
         5000.0
        ],
        [
         145,
         "John",
         "Russell",
         "john.russell@sqltutorial.org",
         "NULL",
         "1996-10-01",
         15,
         14000.0,
         "100",
         8,
         "Sales Manager",
         10000.0,
         20000.0
        ],
        [
         146,
         "Karen",
         "Partners",
         "karen.partners@sqltutorial.org",
         "NULL",
         "1997-01-05",
         15,
         13500.0,
         "100",
         8,
         "Sales Manager",
         10000.0,
         20000.0
        ],
        [
         176,
         "Jonathon",
         "Taylor",
         "jonathon.taylor@sqltutorial.org",
         "NULL",
         "1998-03-24",
         16,
         8600.0,
         "100",
         8,
         "Sales Representative",
         6000.0,
         12000.0
        ],
        [
         177,
         "Jack",
         "Livingston",
         "jack.livingston@sqltutorial.org",
         "NULL",
         "1998-04-23",
         16,
         8400.0,
         "100",
         8,
         "Sales Representative",
         6000.0,
         12000.0
        ],
        [
         178,
         "Kimberely",
         "Grant",
         "kimberely.grant@sqltutorial.org",
         "NULL",
         "1999-05-24",
         16,
         7000.0,
         "100",
         8,
         "Sales Representative",
         6000.0,
         12000.0
        ],
        [
         179,
         "Charles",
         "Johnson",
         "charles.johnson@sqltutorial.org",
         "NULL",
         "2000-01-04",
         16,
         6200.0,
         "100",
         8,
         "Sales Representative",
         6000.0,
         12000.0
        ],
        [
         192,
         "Sarah",
         "Bell",
         "sarah.bell@sqltutorial.org",
         "650.501.1876",
         "1996-02-04",
         17,
         4000.0,
         "123",
         5,
         "Shipping Clerk",
         2500.0,
         5500.0
        ],
        [
         193,
         "Britney",
         "Everett",
         "britney.everett@sqltutorial.org",
         "650.501.2876",
         "1997-03-03",
         17,
         3900.0,
         "123",
         5,
         "Shipping Clerk",
         2500.0,
         5500.0
        ],
        [
         200,
         "Jennifer",
         "Whalen",
         "jennifer.whalen@sqltutorial.org",
         "515.123.4444",
         "1987-09-17",
         3,
         4400.0,
         "101",
         1,
         "Administration Assistant",
         3000.0,
         6000.0
        ],
        [
         201,
         "Michael",
         "Hartstein",
         "michael.hartstein@sqltutorial.org",
         "515.123.5555",
         "1996-02-17",
         10,
         13000.0,
         "100",
         2,
         "Marketing Manager",
         9000.0,
         15000.0
        ],
        [
         202,
         "Pat",
         "Fay",
         "pat.fay@sqltutorial.org",
         "603.123.6666",
         "1997-08-17",
         11,
         6000.0,
         "201",
         2,
         "Marketing Representative",
         4000.0,
         9000.0
        ],
        [
         203,
         "Susan",
         "Mavris",
         "susan.mavris@sqltutorial.org",
         "515.123.7777",
         "1994-06-07",
         8,
         6500.0,
         "101",
         4,
         "Human Resources Representative",
         4000.0,
         9000.0
        ],
        [
         204,
         "Hermann",
         "Baer",
         "hermann.baer@sqltutorial.org",
         "515.123.8888",
         "1994-06-07",
         12,
         10000.0,
         "101",
         7,
         "Public Relations Representative",
         4500.0,
         10500.0
        ],
        [
         205,
         "Shelley",
         "Higgins",
         "shelley.higgins@sqltutorial.org",
         "515.123.8080",
         "1994-06-07",
         2,
         12000.0,
         "101",
         11,
         "Accounting Manager",
         8200.0,
         16000.0
        ],
        [
         206,
         "William",
         "Gietz",
         "william.gietz@sqltutorial.org",
         "515.123.8181",
         "1994-06-07",
         1,
         8300.0,
         "205",
         11,
         "Public Accountant",
         4200.0,
         9000.0
        ]
       ],
       "datasetInfos": [],
       "dbfsResultPath": null,
       "isJsonSchema": true,
       "metadata": {},
       "overflow": false,
       "plotOptions": {
        "customPlotOptions": {},
        "displayType": "table",
        "pivotAggregation": null,
        "pivotColumns": null,
        "xColumns": null,
        "yColumns": null
       },
       "removedWidgets": [],
       "schema": [
        {
         "metadata": "{}",
         "name": "employee_id",
         "type": "\"integer\""
        },
        {
         "metadata": "{}",
         "name": "first_name",
         "type": "\"string\""
        },
        {
         "metadata": "{}",
         "name": "last_name",
         "type": "\"string\""
        },
        {
         "metadata": "{}",
         "name": "email",
         "type": "\"string\""
        },
        {
         "metadata": "{}",
         "name": "phone_number",
         "type": "\"string\""
        },
        {
         "metadata": "{\"__detected_date_formats\":\"yyyy-M-d\"}",
         "name": "hire_date",
         "type": "\"date\""
        },
        {
         "metadata": "{}",
         "name": "job_id",
         "type": "\"integer\""
        },
        {
         "metadata": "{}",
         "name": "salary",
         "type": "\"double\""
        },
        {
         "metadata": "{}",
         "name": "manager_id",
         "type": "\"string\""
        },
        {
         "metadata": "{}",
         "name": "department_id",
         "type": "\"integer\""
        },
        {
         "metadata": "{}",
         "name": "jod_title",
         "type": "\"string\""
        },
        {
         "metadata": "{}",
         "name": "min_salary",
         "type": "\"double\""
        },
        {
         "metadata": "{}",
         "name": "max_salary",
         "type": "\"double\""
        }
       ],
       "type": "table"
      }
     },
     "output_type": "display_data"
    }
   ],
   "source": [
    "df_job_employees.display()"
   ]
  },
  {
   "cell_type": "code",
   "execution_count": 0,
   "metadata": {
    "application/vnd.databricks.v1+cell": {
     "cellMetadata": {
      "byteLimit": 2048000,
      "rowLimit": 10000
     },
     "inputWidgets": {},
     "nuid": "e5fed184-eb02-4b2d-b918-7cbd212a188c",
     "showTitle": false,
     "title": ""
    }
   },
   "outputs": [
    {
     "output_type": "display_data",
     "data": {
      "text/html": [
       "<style scoped>\n",
       "  .table-result-container {\n",
       "    max-height: 300px;\n",
       "    overflow: auto;\n",
       "  }\n",
       "  table, th, td {\n",
       "    border: 1px solid black;\n",
       "    border-collapse: collapse;\n",
       "  }\n",
       "  th, td {\n",
       "    padding: 5px;\n",
       "  }\n",
       "  th {\n",
       "    text-align: left;\n",
       "  }\n",
       "</style><div class='table-result-container'><table class='table-result'><thead style='background-color: white'><tr><th>employee_id</th><th>first_name</th><th>last_name</th><th>email</th><th>phone_number</th><th>hire_date</th><th>job_id</th><th>salary</th><th>manager_id</th><th>department_id</th><th>jod_title</th><th>min_salary</th><th>max_salary</th></tr></thead><tbody><tr><td>100</td><td>Steven</td><td>King</td><td>steven.king@sqltutorial.org</td><td>515.123.4567</td><td>1987-06-17</td><td>4</td><td>24000.0</td><td>NULL</td><td>9</td><td>President</td><td>20000.0</td><td>40000.0</td></tr><tr><td>101</td><td>Neena</td><td>Kochhar</td><td>neena.kochhar@sqltutorial.org</td><td>515.123.4568</td><td>1989-09-21</td><td>5</td><td>17000.0</td><td>100</td><td>9</td><td>Administration Vice President</td><td>15000.0</td><td>30000.0</td></tr><tr><td>102</td><td>Lex</td><td>De Haan</td><td>lex.de haan@sqltutorial.org</td><td>515.123.4569</td><td>1993-01-13</td><td>5</td><td>17000.0</td><td>100</td><td>9</td><td>Administration Vice President</td><td>15000.0</td><td>30000.0</td></tr><tr><td>103</td><td>Alexander</td><td>Hunold</td><td>alexander.hunold@sqltutorial.org</td><td>590.423.4567</td><td>1990-01-03</td><td>9</td><td>9000.0</td><td>102</td><td>6</td><td>Programmer</td><td>4000.0</td><td>10000.0</td></tr><tr><td>104</td><td>Bruce</td><td>Ernst</td><td>bruce.ernst@sqltutorial.org</td><td>590.423.4568</td><td>1991-05-21</td><td>9</td><td>6000.0</td><td>103</td><td>6</td><td>Programmer</td><td>4000.0</td><td>10000.0</td></tr><tr><td>105</td><td>David</td><td>Austin</td><td>david.austin@sqltutorial.org</td><td>590.423.4569</td><td>1997-06-25</td><td>9</td><td>4800.0</td><td>103</td><td>6</td><td>Programmer</td><td>4000.0</td><td>10000.0</td></tr><tr><td>106</td><td>Valli</td><td>Pataballa</td><td>valli.pataballa@sqltutorial.org</td><td>590.423.4560</td><td>1998-02-05</td><td>9</td><td>4800.0</td><td>103</td><td>6</td><td>Programmer</td><td>4000.0</td><td>10000.0</td></tr><tr><td>107</td><td>Diana</td><td>Lorentz</td><td>diana.lorentz@sqltutorial.org</td><td>590.423.5567</td><td>1999-02-07</td><td>9</td><td>4200.0</td><td>103</td><td>6</td><td>Programmer</td><td>4000.0</td><td>10000.0</td></tr><tr><td>108</td><td>Nancy</td><td>Greenberg</td><td>nancy.greenberg@sqltutorial.org</td><td>515.124.4569</td><td>1994-08-17</td><td>7</td><td>12000.0</td><td>101</td><td>10</td><td>Finance Manager</td><td>8200.0</td><td>16000.0</td></tr><tr><td>109</td><td>Daniel</td><td>Faviet</td><td>daniel.faviet@sqltutorial.org</td><td>515.124.4169</td><td>1994-08-16</td><td>6</td><td>9000.0</td><td>108</td><td>10</td><td>Accountant</td><td>4200.0</td><td>9000.0</td></tr><tr><td>110</td><td>John</td><td>Chen</td><td>john.chen@sqltutorial.org</td><td>515.124.4269</td><td>1997-09-28</td><td>6</td><td>8200.0</td><td>108</td><td>10</td><td>Accountant</td><td>4200.0</td><td>9000.0</td></tr><tr><td>111</td><td>Ismael</td><td>Sciarra</td><td>ismael.sciarra@sqltutorial.org</td><td>515.124.4369</td><td>1997-09-30</td><td>6</td><td>7700.0</td><td>108</td><td>10</td><td>Accountant</td><td>4200.0</td><td>9000.0</td></tr><tr><td>112</td><td>Jose Manuel</td><td>Urman</td><td>jose manuel.urman@sqltutorial.org</td><td>515.124.4469</td><td>1998-03-07</td><td>6</td><td>7800.0</td><td>108</td><td>10</td><td>Accountant</td><td>4200.0</td><td>9000.0</td></tr><tr><td>113</td><td>Luis</td><td>Popp</td><td>luis.popp@sqltutorial.org</td><td>515.124.4567</td><td>1999-12-07</td><td>6</td><td>6900.0</td><td>108</td><td>10</td><td>Accountant</td><td>4200.0</td><td>9000.0</td></tr><tr><td>114</td><td>Den</td><td>Raphaely</td><td>den.raphaely@sqltutorial.org</td><td>515.127.4561</td><td>1994-12-07</td><td>14</td><td>11000.0</td><td>100</td><td>3</td><td>Purchasing Manager</td><td>8000.0</td><td>15000.0</td></tr><tr><td>115</td><td>Alexander</td><td>Khoo</td><td>alexander.khoo@sqltutorial.org</td><td>515.127.4562</td><td>1995-05-18</td><td>13</td><td>3100.0</td><td>114</td><td>3</td><td>Purchasing Clerk</td><td>2500.0</td><td>5500.0</td></tr><tr><td>116</td><td>Shelli</td><td>Baida</td><td>shelli.baida@sqltutorial.org</td><td>515.127.4563</td><td>1997-12-24</td><td>13</td><td>2900.0</td><td>114</td><td>3</td><td>Purchasing Clerk</td><td>2500.0</td><td>5500.0</td></tr><tr><td>117</td><td>Sigal</td><td>Tobias</td><td>sigal.tobias@sqltutorial.org</td><td>515.127.4564</td><td>1997-07-24</td><td>13</td><td>2800.0</td><td>114</td><td>3</td><td>Purchasing Clerk</td><td>2500.0</td><td>5500.0</td></tr><tr><td>118</td><td>Guy</td><td>Himuro</td><td>guy.himuro@sqltutorial.org</td><td>515.127.4565</td><td>1998-11-15</td><td>13</td><td>2600.0</td><td>114</td><td>3</td><td>Purchasing Clerk</td><td>2500.0</td><td>5500.0</td></tr><tr><td>119</td><td>Karen</td><td>Colmenares</td><td>karen.colmenares@sqltutorial.org</td><td>515.127.4566</td><td>1999-08-10</td><td>13</td><td>2500.0</td><td>114</td><td>3</td><td>Purchasing Clerk</td><td>2500.0</td><td>5500.0</td></tr><tr><td>120</td><td>Matthew</td><td>Weiss</td><td>matthew.weiss@sqltutorial.org</td><td>650.123.1234</td><td>1996-07-18</td><td>19</td><td>8000.0</td><td>100</td><td>5</td><td>Stock Manager</td><td>5500.0</td><td>8500.0</td></tr><tr><td>121</td><td>Adam</td><td>Fripp</td><td>adam.fripp@sqltutorial.org</td><td>650.123.2234</td><td>1997-04-10</td><td>19</td><td>8200.0</td><td>100</td><td>5</td><td>Stock Manager</td><td>5500.0</td><td>8500.0</td></tr><tr><td>122</td><td>Payam</td><td>Kaufling</td><td>payam.kaufling@sqltutorial.org</td><td>650.123.3234</td><td>1995-05-01</td><td>19</td><td>7900.0</td><td>100</td><td>5</td><td>Stock Manager</td><td>5500.0</td><td>8500.0</td></tr><tr><td>123</td><td>Shanta</td><td>Vollman</td><td>shanta.vollman@sqltutorial.org</td><td>650.123.4234</td><td>1997-10-10</td><td>19</td><td>6500.0</td><td>100</td><td>5</td><td>Stock Manager</td><td>5500.0</td><td>8500.0</td></tr><tr><td>126</td><td>Irene</td><td>Mikkilineni</td><td>irene.mikkilineni@sqltutorial.org</td><td>650.124.1224</td><td>1998-09-28</td><td>18</td><td>2700.0</td><td>120</td><td>5</td><td>Stock Clerk</td><td>2000.0</td><td>5000.0</td></tr><tr><td>145</td><td>John</td><td>Russell</td><td>john.russell@sqltutorial.org</td><td>NULL</td><td>1996-10-01</td><td>15</td><td>14000.0</td><td>100</td><td>8</td><td>Sales Manager</td><td>10000.0</td><td>20000.0</td></tr><tr><td>146</td><td>Karen</td><td>Partners</td><td>karen.partners@sqltutorial.org</td><td>NULL</td><td>1997-01-05</td><td>15</td><td>13500.0</td><td>100</td><td>8</td><td>Sales Manager</td><td>10000.0</td><td>20000.0</td></tr><tr><td>176</td><td>Jonathon</td><td>Taylor</td><td>jonathon.taylor@sqltutorial.org</td><td>NULL</td><td>1998-03-24</td><td>16</td><td>8600.0</td><td>100</td><td>8</td><td>Sales Representative</td><td>6000.0</td><td>12000.0</td></tr><tr><td>177</td><td>Jack</td><td>Livingston</td><td>jack.livingston@sqltutorial.org</td><td>NULL</td><td>1998-04-23</td><td>16</td><td>8400.0</td><td>100</td><td>8</td><td>Sales Representative</td><td>6000.0</td><td>12000.0</td></tr><tr><td>178</td><td>Kimberely</td><td>Grant</td><td>kimberely.grant@sqltutorial.org</td><td>NULL</td><td>1999-05-24</td><td>16</td><td>7000.0</td><td>100</td><td>8</td><td>Sales Representative</td><td>6000.0</td><td>12000.0</td></tr><tr><td>179</td><td>Charles</td><td>Johnson</td><td>charles.johnson@sqltutorial.org</td><td>NULL</td><td>2000-01-04</td><td>16</td><td>6200.0</td><td>100</td><td>8</td><td>Sales Representative</td><td>6000.0</td><td>12000.0</td></tr><tr><td>192</td><td>Sarah</td><td>Bell</td><td>sarah.bell@sqltutorial.org</td><td>650.501.1876</td><td>1996-02-04</td><td>17</td><td>4000.0</td><td>123</td><td>5</td><td>Shipping Clerk</td><td>2500.0</td><td>5500.0</td></tr><tr><td>193</td><td>Britney</td><td>Everett</td><td>britney.everett@sqltutorial.org</td><td>650.501.2876</td><td>1997-03-03</td><td>17</td><td>3900.0</td><td>123</td><td>5</td><td>Shipping Clerk</td><td>2500.0</td><td>5500.0</td></tr><tr><td>200</td><td>Jennifer</td><td>Whalen</td><td>jennifer.whalen@sqltutorial.org</td><td>515.123.4444</td><td>1987-09-17</td><td>3</td><td>4400.0</td><td>101</td><td>1</td><td>Administration Assistant</td><td>3000.0</td><td>6000.0</td></tr><tr><td>201</td><td>Michael</td><td>Hartstein</td><td>michael.hartstein@sqltutorial.org</td><td>515.123.5555</td><td>1996-02-17</td><td>10</td><td>13000.0</td><td>100</td><td>2</td><td>Marketing Manager</td><td>9000.0</td><td>15000.0</td></tr><tr><td>202</td><td>Pat</td><td>Fay</td><td>pat.fay@sqltutorial.org</td><td>603.123.6666</td><td>1997-08-17</td><td>11</td><td>6000.0</td><td>201</td><td>2</td><td>Marketing Representative</td><td>4000.0</td><td>9000.0</td></tr><tr><td>203</td><td>Susan</td><td>Mavris</td><td>susan.mavris@sqltutorial.org</td><td>515.123.7777</td><td>1994-06-07</td><td>8</td><td>6500.0</td><td>101</td><td>4</td><td>Human Resources Representative</td><td>4000.0</td><td>9000.0</td></tr><tr><td>204</td><td>Hermann</td><td>Baer</td><td>hermann.baer@sqltutorial.org</td><td>515.123.8888</td><td>1994-06-07</td><td>12</td><td>10000.0</td><td>101</td><td>7</td><td>Public Relations Representative</td><td>4500.0</td><td>10500.0</td></tr><tr><td>205</td><td>Shelley</td><td>Higgins</td><td>shelley.higgins@sqltutorial.org</td><td>515.123.8080</td><td>1994-06-07</td><td>2</td><td>12000.0</td><td>101</td><td>11</td><td>Accounting Manager</td><td>8200.0</td><td>16000.0</td></tr><tr><td>206</td><td>William</td><td>Gietz</td><td>william.gietz@sqltutorial.org</td><td>515.123.8181</td><td>1994-06-07</td><td>1</td><td>8300.0</td><td>205</td><td>11</td><td>Public Accountant</td><td>4200.0</td><td>9000.0</td></tr></tbody></table></div>"
      ]
     },
     "metadata": {
      "application/vnd.databricks.v1+output": {
       "addedWidgets": {},
       "aggData": [],
       "aggError": "",
       "aggOverflow": false,
       "aggSchema": [],
       "aggSeriesLimitReached": false,
       "aggType": "",
       "arguments": {},
       "columnCustomDisplayInfos": {},
       "data": [
        [
         100,
         "Steven",
         "King",
         "steven.king@sqltutorial.org",
         "515.123.4567",
         "1987-06-17",
         4,
         24000.0,
         "NULL",
         9,
         "President",
         20000.0,
         40000.0
        ],
        [
         101,
         "Neena",
         "Kochhar",
         "neena.kochhar@sqltutorial.org",
         "515.123.4568",
         "1989-09-21",
         5,
         17000.0,
         "100",
         9,
         "Administration Vice President",
         15000.0,
         30000.0
        ],
        [
         102,
         "Lex",
         "De Haan",
         "lex.de haan@sqltutorial.org",
         "515.123.4569",
         "1993-01-13",
         5,
         17000.0,
         "100",
         9,
         "Administration Vice President",
         15000.0,
         30000.0
        ],
        [
         103,
         "Alexander",
         "Hunold",
         "alexander.hunold@sqltutorial.org",
         "590.423.4567",
         "1990-01-03",
         9,
         9000.0,
         "102",
         6,
         "Programmer",
         4000.0,
         10000.0
        ],
        [
         104,
         "Bruce",
         "Ernst",
         "bruce.ernst@sqltutorial.org",
         "590.423.4568",
         "1991-05-21",
         9,
         6000.0,
         "103",
         6,
         "Programmer",
         4000.0,
         10000.0
        ],
        [
         105,
         "David",
         "Austin",
         "david.austin@sqltutorial.org",
         "590.423.4569",
         "1997-06-25",
         9,
         4800.0,
         "103",
         6,
         "Programmer",
         4000.0,
         10000.0
        ],
        [
         106,
         "Valli",
         "Pataballa",
         "valli.pataballa@sqltutorial.org",
         "590.423.4560",
         "1998-02-05",
         9,
         4800.0,
         "103",
         6,
         "Programmer",
         4000.0,
         10000.0
        ],
        [
         107,
         "Diana",
         "Lorentz",
         "diana.lorentz@sqltutorial.org",
         "590.423.5567",
         "1999-02-07",
         9,
         4200.0,
         "103",
         6,
         "Programmer",
         4000.0,
         10000.0
        ],
        [
         108,
         "Nancy",
         "Greenberg",
         "nancy.greenberg@sqltutorial.org",
         "515.124.4569",
         "1994-08-17",
         7,
         12000.0,
         "101",
         10,
         "Finance Manager",
         8200.0,
         16000.0
        ],
        [
         109,
         "Daniel",
         "Faviet",
         "daniel.faviet@sqltutorial.org",
         "515.124.4169",
         "1994-08-16",
         6,
         9000.0,
         "108",
         10,
         "Accountant",
         4200.0,
         9000.0
        ],
        [
         110,
         "John",
         "Chen",
         "john.chen@sqltutorial.org",
         "515.124.4269",
         "1997-09-28",
         6,
         8200.0,
         "108",
         10,
         "Accountant",
         4200.0,
         9000.0
        ],
        [
         111,
         "Ismael",
         "Sciarra",
         "ismael.sciarra@sqltutorial.org",
         "515.124.4369",
         "1997-09-30",
         6,
         7700.0,
         "108",
         10,
         "Accountant",
         4200.0,
         9000.0
        ],
        [
         112,
         "Jose Manuel",
         "Urman",
         "jose manuel.urman@sqltutorial.org",
         "515.124.4469",
         "1998-03-07",
         6,
         7800.0,
         "108",
         10,
         "Accountant",
         4200.0,
         9000.0
        ],
        [
         113,
         "Luis",
         "Popp",
         "luis.popp@sqltutorial.org",
         "515.124.4567",
         "1999-12-07",
         6,
         6900.0,
         "108",
         10,
         "Accountant",
         4200.0,
         9000.0
        ],
        [
         114,
         "Den",
         "Raphaely",
         "den.raphaely@sqltutorial.org",
         "515.127.4561",
         "1994-12-07",
         14,
         11000.0,
         "100",
         3,
         "Purchasing Manager",
         8000.0,
         15000.0
        ],
        [
         115,
         "Alexander",
         "Khoo",
         "alexander.khoo@sqltutorial.org",
         "515.127.4562",
         "1995-05-18",
         13,
         3100.0,
         "114",
         3,
         "Purchasing Clerk",
         2500.0,
         5500.0
        ],
        [
         116,
         "Shelli",
         "Baida",
         "shelli.baida@sqltutorial.org",
         "515.127.4563",
         "1997-12-24",
         13,
         2900.0,
         "114",
         3,
         "Purchasing Clerk",
         2500.0,
         5500.0
        ],
        [
         117,
         "Sigal",
         "Tobias",
         "sigal.tobias@sqltutorial.org",
         "515.127.4564",
         "1997-07-24",
         13,
         2800.0,
         "114",
         3,
         "Purchasing Clerk",
         2500.0,
         5500.0
        ],
        [
         118,
         "Guy",
         "Himuro",
         "guy.himuro@sqltutorial.org",
         "515.127.4565",
         "1998-11-15",
         13,
         2600.0,
         "114",
         3,
         "Purchasing Clerk",
         2500.0,
         5500.0
        ],
        [
         119,
         "Karen",
         "Colmenares",
         "karen.colmenares@sqltutorial.org",
         "515.127.4566",
         "1999-08-10",
         13,
         2500.0,
         "114",
         3,
         "Purchasing Clerk",
         2500.0,
         5500.0
        ],
        [
         120,
         "Matthew",
         "Weiss",
         "matthew.weiss@sqltutorial.org",
         "650.123.1234",
         "1996-07-18",
         19,
         8000.0,
         "100",
         5,
         "Stock Manager",
         5500.0,
         8500.0
        ],
        [
         121,
         "Adam",
         "Fripp",
         "adam.fripp@sqltutorial.org",
         "650.123.2234",
         "1997-04-10",
         19,
         8200.0,
         "100",
         5,
         "Stock Manager",
         5500.0,
         8500.0
        ],
        [
         122,
         "Payam",
         "Kaufling",
         "payam.kaufling@sqltutorial.org",
         "650.123.3234",
         "1995-05-01",
         19,
         7900.0,
         "100",
         5,
         "Stock Manager",
         5500.0,
         8500.0
        ],
        [
         123,
         "Shanta",
         "Vollman",
         "shanta.vollman@sqltutorial.org",
         "650.123.4234",
         "1997-10-10",
         19,
         6500.0,
         "100",
         5,
         "Stock Manager",
         5500.0,
         8500.0
        ],
        [
         126,
         "Irene",
         "Mikkilineni",
         "irene.mikkilineni@sqltutorial.org",
         "650.124.1224",
         "1998-09-28",
         18,
         2700.0,
         "120",
         5,
         "Stock Clerk",
         2000.0,
         5000.0
        ],
        [
         145,
         "John",
         "Russell",
         "john.russell@sqltutorial.org",
         "NULL",
         "1996-10-01",
         15,
         14000.0,
         "100",
         8,
         "Sales Manager",
         10000.0,
         20000.0
        ],
        [
         146,
         "Karen",
         "Partners",
         "karen.partners@sqltutorial.org",
         "NULL",
         "1997-01-05",
         15,
         13500.0,
         "100",
         8,
         "Sales Manager",
         10000.0,
         20000.0
        ],
        [
         176,
         "Jonathon",
         "Taylor",
         "jonathon.taylor@sqltutorial.org",
         "NULL",
         "1998-03-24",
         16,
         8600.0,
         "100",
         8,
         "Sales Representative",
         6000.0,
         12000.0
        ],
        [
         177,
         "Jack",
         "Livingston",
         "jack.livingston@sqltutorial.org",
         "NULL",
         "1998-04-23",
         16,
         8400.0,
         "100",
         8,
         "Sales Representative",
         6000.0,
         12000.0
        ],
        [
         178,
         "Kimberely",
         "Grant",
         "kimberely.grant@sqltutorial.org",
         "NULL",
         "1999-05-24",
         16,
         7000.0,
         "100",
         8,
         "Sales Representative",
         6000.0,
         12000.0
        ],
        [
         179,
         "Charles",
         "Johnson",
         "charles.johnson@sqltutorial.org",
         "NULL",
         "2000-01-04",
         16,
         6200.0,
         "100",
         8,
         "Sales Representative",
         6000.0,
         12000.0
        ],
        [
         192,
         "Sarah",
         "Bell",
         "sarah.bell@sqltutorial.org",
         "650.501.1876",
         "1996-02-04",
         17,
         4000.0,
         "123",
         5,
         "Shipping Clerk",
         2500.0,
         5500.0
        ],
        [
         193,
         "Britney",
         "Everett",
         "britney.everett@sqltutorial.org",
         "650.501.2876",
         "1997-03-03",
         17,
         3900.0,
         "123",
         5,
         "Shipping Clerk",
         2500.0,
         5500.0
        ],
        [
         200,
         "Jennifer",
         "Whalen",
         "jennifer.whalen@sqltutorial.org",
         "515.123.4444",
         "1987-09-17",
         3,
         4400.0,
         "101",
         1,
         "Administration Assistant",
         3000.0,
         6000.0
        ],
        [
         201,
         "Michael",
         "Hartstein",
         "michael.hartstein@sqltutorial.org",
         "515.123.5555",
         "1996-02-17",
         10,
         13000.0,
         "100",
         2,
         "Marketing Manager",
         9000.0,
         15000.0
        ],
        [
         202,
         "Pat",
         "Fay",
         "pat.fay@sqltutorial.org",
         "603.123.6666",
         "1997-08-17",
         11,
         6000.0,
         "201",
         2,
         "Marketing Representative",
         4000.0,
         9000.0
        ],
        [
         203,
         "Susan",
         "Mavris",
         "susan.mavris@sqltutorial.org",
         "515.123.7777",
         "1994-06-07",
         8,
         6500.0,
         "101",
         4,
         "Human Resources Representative",
         4000.0,
         9000.0
        ],
        [
         204,
         "Hermann",
         "Baer",
         "hermann.baer@sqltutorial.org",
         "515.123.8888",
         "1994-06-07",
         12,
         10000.0,
         "101",
         7,
         "Public Relations Representative",
         4500.0,
         10500.0
        ],
        [
         205,
         "Shelley",
         "Higgins",
         "shelley.higgins@sqltutorial.org",
         "515.123.8080",
         "1994-06-07",
         2,
         12000.0,
         "101",
         11,
         "Accounting Manager",
         8200.0,
         16000.0
        ],
        [
         206,
         "William",
         "Gietz",
         "william.gietz@sqltutorial.org",
         "515.123.8181",
         "1994-06-07",
         1,
         8300.0,
         "205",
         11,
         "Public Accountant",
         4200.0,
         9000.0
        ]
       ],
       "datasetInfos": [],
       "dbfsResultPath": null,
       "isJsonSchema": true,
       "metadata": {},
       "overflow": false,
       "plotOptions": {
        "customPlotOptions": {},
        "displayType": "table",
        "pivotAggregation": null,
        "pivotColumns": null,
        "xColumns": null,
        "yColumns": null
       },
       "removedWidgets": [],
       "schema": [
        {
         "metadata": "{}",
         "name": "employee_id",
         "type": "\"integer\""
        },
        {
         "metadata": "{}",
         "name": "first_name",
         "type": "\"string\""
        },
        {
         "metadata": "{}",
         "name": "last_name",
         "type": "\"string\""
        },
        {
         "metadata": "{}",
         "name": "email",
         "type": "\"string\""
        },
        {
         "metadata": "{}",
         "name": "phone_number",
         "type": "\"string\""
        },
        {
         "metadata": "{\"__detected_date_formats\":\"yyyy-M-d\"}",
         "name": "hire_date",
         "type": "\"date\""
        },
        {
         "metadata": "{}",
         "name": "job_id",
         "type": "\"integer\""
        },
        {
         "metadata": "{}",
         "name": "salary",
         "type": "\"double\""
        },
        {
         "metadata": "{}",
         "name": "manager_id",
         "type": "\"string\""
        },
        {
         "metadata": "{}",
         "name": "department_id",
         "type": "\"integer\""
        },
        {
         "metadata": "{}",
         "name": "jod_title",
         "type": "\"string\""
        },
        {
         "metadata": "{}",
         "name": "min_salary",
         "type": "\"double\""
        },
        {
         "metadata": "{}",
         "name": "max_salary",
         "type": "\"double\""
        }
       ],
       "type": "table"
      }
     },
     "output_type": "display_data"
    }
   ],
   "source": [
    "condicao = df_employees.job_id == df_jobs.job_id\n",
    "df_jobs_joined = df_jobs.join(df_employees, condicao , 'inner').select(df_employees['*'],\\\n",
    "                                                                       df_jobs['jod_title'],\\\n",
    "                                                                       df_jobs['min_salary'],\\\n",
    "                                                                       df_jobs['max_salary'])\n",
    "df_jobs_joined.display()"
   ]
  },
  {
   "cell_type": "code",
   "execution_count": 0,
   "metadata": {
    "application/vnd.databricks.v1+cell": {
     "cellMetadata": {
      "byteLimit": 2048000,
      "rowLimit": 10000
     },
     "inputWidgets": {},
     "nuid": "e1025def-5596-4201-b953-e484e7fe9396",
     "showTitle": false,
     "title": ""
    }
   },
   "outputs": [
    {
     "output_type": "display_data",
     "data": {
      "text/html": [
       "<style scoped>\n",
       "  .table-result-container {\n",
       "    max-height: 300px;\n",
       "    overflow: auto;\n",
       "  }\n",
       "  table, th, td {\n",
       "    border: 1px solid black;\n",
       "    border-collapse: collapse;\n",
       "  }\n",
       "  th, td {\n",
       "    padding: 5px;\n",
       "  }\n",
       "  th {\n",
       "    text-align: left;\n",
       "  }\n",
       "</style><div class='table-result-container'><table class='table-result'><thead style='background-color: white'><tr><th>department_id</th><th>department_name</th><th>location_id</th></tr></thead><tbody><tr><td>1</td><td>Administration</td><td>1700</td></tr><tr><td>2</td><td>Marketing</td><td>1800</td></tr><tr><td>3</td><td>Purchasing</td><td>1700</td></tr><tr><td>4</td><td>Human Resources</td><td>2400</td></tr><tr><td>5</td><td>Shipping</td><td>1500</td></tr><tr><td>6</td><td>IT</td><td>1400</td></tr><tr><td>7</td><td>Public Relations</td><td>2700</td></tr><tr><td>8</td><td>Sales</td><td>2500</td></tr><tr><td>9</td><td>Executive</td><td>1700</td></tr><tr><td>10</td><td>Finance</td><td>1700</td></tr><tr><td>11</td><td>Accounting</td><td>1700</td></tr></tbody></table></div>"
      ]
     },
     "metadata": {
      "application/vnd.databricks.v1+output": {
       "addedWidgets": {},
       "aggData": [],
       "aggError": "",
       "aggOverflow": false,
       "aggSchema": [],
       "aggSeriesLimitReached": false,
       "aggType": "",
       "arguments": {},
       "columnCustomDisplayInfos": {},
       "data": [
        [
         1,
         "Administration",
         1700
        ],
        [
         2,
         "Marketing",
         1800
        ],
        [
         3,
         "Purchasing",
         1700
        ],
        [
         4,
         "Human Resources",
         2400
        ],
        [
         5,
         "Shipping",
         1500
        ],
        [
         6,
         "IT",
         1400
        ],
        [
         7,
         "Public Relations",
         2700
        ],
        [
         8,
         "Sales",
         2500
        ],
        [
         9,
         "Executive",
         1700
        ],
        [
         10,
         "Finance",
         1700
        ],
        [
         11,
         "Accounting",
         1700
        ]
       ],
       "datasetInfos": [],
       "dbfsResultPath": null,
       "isJsonSchema": true,
       "metadata": {},
       "overflow": false,
       "plotOptions": {
        "customPlotOptions": {},
        "displayType": "table",
        "pivotAggregation": null,
        "pivotColumns": null,
        "xColumns": null,
        "yColumns": null
       },
       "removedWidgets": [],
       "schema": [
        {
         "metadata": "{}",
         "name": "department_id",
         "type": "\"integer\""
        },
        {
         "metadata": "{}",
         "name": "department_name",
         "type": "\"string\""
        },
        {
         "metadata": "{}",
         "name": "location_id",
         "type": "\"integer\""
        }
       ],
       "type": "table"
      }
     },
     "output_type": "display_data"
    }
   ],
   "source": [
    "df_depto.display()"
   ]
  },
  {
   "cell_type": "code",
   "execution_count": 0,
   "metadata": {
    "application/vnd.databricks.v1+cell": {
     "cellMetadata": {
      "byteLimit": 2048000,
      "rowLimit": 10000
     },
     "inputWidgets": {},
     "nuid": "811fb910-4b7c-41fd-89ad-a9c5c753f613",
     "showTitle": false,
     "title": ""
    }
   },
   "outputs": [],
   "source": [
    "df_job_employees_depto = df_employees.join(df_jobs , df_employees.job_id == df_jobs.job_id, 'inner').join(df_depto, df_employees.department_id == df_depto.department_id, 'inner')\\\n",
    ".drop(df_jobs.job_id)\\\n",
    ".drop(df_depto.department_id)"
   ]
  },
  {
   "cell_type": "markdown",
   "metadata": {
    "application/vnd.databricks.v1+cell": {
     "cellMetadata": {
      "byteLimit": 2048000,
      "rowLimit": 10000
     },
     "inputWidgets": {},
     "nuid": "7c8ea157-9782-4789-82bd-5d07ceffdf7c",
     "showTitle": false,
     "title": ""
    }
   },
   "source": [
    "### *Agregações* ###\n",
    "São calculos aplicador no agrupamento de um ou mais campos;<br>\n",
    "Para criar um agrupamento, utilize o método groupBy( ) , passando o campo ou lista de campos da agregação. </br>\n",
    "\n",
    "* count() Retorna o numero de linhas por cada grupo.\n",
    "* mean() Retorna a média por cada grupo.\n",
    "* max() Retorna o valor máximo de um valor por cada grupo.\n",
    "* min() Retorna o valor mínimo de um valor por cada grupo.\n",
    "* sum() Retorna o valor acumulado de um valor por cada grupo.\n",
    "* avg() Retorna a média de um valor por cada grupo.\n",
    "* agg() utilizando a função agg após um agrupamento, é possível utilizar mais de um tipo de função de agregação ao mesmo tempo.\n",
    "\n"
   ]
  },
  {
   "cell_type": "code",
   "execution_count": 0,
   "metadata": {
    "application/vnd.databricks.v1+cell": {
     "cellMetadata": {
      "byteLimit": 2048000,
      "rowLimit": 10000
     },
     "inputWidgets": {},
     "nuid": "71a437c7-3578-4f35-8245-46113e8b61d0",
     "showTitle": false,
     "title": ""
    }
   },
   "outputs": [
    {
     "output_type": "display_data",
     "data": {
      "text/html": [
       "<style scoped>\n",
       "  .table-result-container {\n",
       "    max-height: 300px;\n",
       "    overflow: auto;\n",
       "  }\n",
       "  table, th, td {\n",
       "    border: 1px solid black;\n",
       "    border-collapse: collapse;\n",
       "  }\n",
       "  th, td {\n",
       "    padding: 5px;\n",
       "  }\n",
       "  th {\n",
       "    text-align: left;\n",
       "  }\n",
       "</style><div class='table-result-container'><table class='table-result'><thead style='background-color: white'><tr><th>jod_title</th><th>avg(salary)</th></tr></thead><tbody><tr><td>Finance Manager</td><td>12000.0</td></tr><tr><td>President</td><td>24000.0</td></tr><tr><td>Shipping Clerk</td><td>3950.0</td></tr><tr><td>Marketing Manager</td><td>13000.0</td></tr><tr><td>Public Accountant</td><td>8300.0</td></tr><tr><td>Stock Clerk</td><td>2700.0</td></tr><tr><td>Programmer</td><td>5760.0</td></tr><tr><td>Sales Representative</td><td>7550.0</td></tr><tr><td>Administration Vice President</td><td>17000.0</td></tr><tr><td>Stock Manager</td><td>7650.0</td></tr><tr><td>Accounting Manager</td><td>12000.0</td></tr><tr><td>Purchasing Manager</td><td>11000.0</td></tr><tr><td>Marketing Representative</td><td>6000.0</td></tr><tr><td>Sales Manager</td><td>13750.0</td></tr><tr><td>Human Resources Representative</td><td>6500.0</td></tr><tr><td>Accountant</td><td>7920.0</td></tr><tr><td>Purchasing Clerk</td><td>2780.0</td></tr><tr><td>Administration Assistant</td><td>4400.0</td></tr><tr><td>Public Relations Representative</td><td>10000.0</td></tr></tbody></table></div>"
      ]
     },
     "metadata": {
      "application/vnd.databricks.v1+output": {
       "addedWidgets": {},
       "aggData": [],
       "aggError": "",
       "aggOverflow": false,
       "aggSchema": [],
       "aggSeriesLimitReached": false,
       "aggType": "",
       "arguments": {},
       "columnCustomDisplayInfos": {},
       "data": [
        [
         "Finance Manager",
         12000.0
        ],
        [
         "President",
         24000.0
        ],
        [
         "Shipping Clerk",
         3950.0
        ],
        [
         "Marketing Manager",
         13000.0
        ],
        [
         "Public Accountant",
         8300.0
        ],
        [
         "Stock Clerk",
         2700.0
        ],
        [
         "Programmer",
         5760.0
        ],
        [
         "Sales Representative",
         7550.0
        ],
        [
         "Administration Vice President",
         17000.0
        ],
        [
         "Stock Manager",
         7650.0
        ],
        [
         "Accounting Manager",
         12000.0
        ],
        [
         "Purchasing Manager",
         11000.0
        ],
        [
         "Marketing Representative",
         6000.0
        ],
        [
         "Sales Manager",
         13750.0
        ],
        [
         "Human Resources Representative",
         6500.0
        ],
        [
         "Accountant",
         7920.0
        ],
        [
         "Purchasing Clerk",
         2780.0
        ],
        [
         "Administration Assistant",
         4400.0
        ],
        [
         "Public Relations Representative",
         10000.0
        ]
       ],
       "datasetInfos": [],
       "dbfsResultPath": null,
       "isJsonSchema": true,
       "metadata": {},
       "overflow": false,
       "plotOptions": {
        "customPlotOptions": {},
        "displayType": "table",
        "pivotAggregation": null,
        "pivotColumns": null,
        "xColumns": null,
        "yColumns": null
       },
       "removedWidgets": [],
       "schema": [
        {
         "metadata": "{}",
         "name": "jod_title",
         "type": "\"string\""
        },
        {
         "metadata": "{}",
         "name": "avg(salary)",
         "type": "\"double\""
        }
       ],
       "type": "table"
      }
     },
     "output_type": "display_data"
    }
   ],
   "source": [
    "df_job_employees.groupBy('jod_title').mean('salary').display()"
   ]
  },
  {
   "cell_type": "code",
   "execution_count": 0,
   "metadata": {
    "application/vnd.databricks.v1+cell": {
     "cellMetadata": {
      "byteLimit": 2048000,
      "rowLimit": 10000
     },
     "inputWidgets": {},
     "nuid": "111ece41-af7b-4494-8ad1-00ee4d9f6f7d",
     "showTitle": false,
     "title": ""
    }
   },
   "outputs": [
    {
     "output_type": "display_data",
     "data": {
      "text/html": [
       "<style scoped>\n",
       "  .table-result-container {\n",
       "    max-height: 300px;\n",
       "    overflow: auto;\n",
       "  }\n",
       "  table, th, td {\n",
       "    border: 1px solid black;\n",
       "    border-collapse: collapse;\n",
       "  }\n",
       "  th, td {\n",
       "    padding: 5px;\n",
       "  }\n",
       "  th {\n",
       "    text-align: left;\n",
       "  }\n",
       "</style><div class='table-result-container'><table class='table-result'><thead style='background-color: white'><tr><th>jod_title</th><th>max(salary)</th></tr></thead><tbody><tr><td>Finance Manager</td><td>12000.0</td></tr><tr><td>President</td><td>24000.0</td></tr><tr><td>Shipping Clerk</td><td>4000.0</td></tr><tr><td>Marketing Manager</td><td>13000.0</td></tr><tr><td>Public Accountant</td><td>8300.0</td></tr><tr><td>Stock Clerk</td><td>2700.0</td></tr><tr><td>Programmer</td><td>9000.0</td></tr><tr><td>Sales Representative</td><td>8600.0</td></tr><tr><td>Administration Vice President</td><td>17000.0</td></tr><tr><td>Stock Manager</td><td>8200.0</td></tr><tr><td>Accounting Manager</td><td>12000.0</td></tr><tr><td>Purchasing Manager</td><td>11000.0</td></tr><tr><td>Marketing Representative</td><td>6000.0</td></tr><tr><td>Sales Manager</td><td>14000.0</td></tr><tr><td>Human Resources Representative</td><td>6500.0</td></tr><tr><td>Accountant</td><td>9000.0</td></tr><tr><td>Purchasing Clerk</td><td>3100.0</td></tr><tr><td>Administration Assistant</td><td>4400.0</td></tr><tr><td>Public Relations Representative</td><td>10000.0</td></tr></tbody></table></div>"
      ]
     },
     "metadata": {
      "application/vnd.databricks.v1+output": {
       "addedWidgets": {},
       "aggData": [],
       "aggError": "",
       "aggOverflow": false,
       "aggSchema": [],
       "aggSeriesLimitReached": false,
       "aggType": "",
       "arguments": {},
       "columnCustomDisplayInfos": {},
       "data": [
        [
         "Finance Manager",
         12000.0
        ],
        [
         "President",
         24000.0
        ],
        [
         "Shipping Clerk",
         4000.0
        ],
        [
         "Marketing Manager",
         13000.0
        ],
        [
         "Public Accountant",
         8300.0
        ],
        [
         "Stock Clerk",
         2700.0
        ],
        [
         "Programmer",
         9000.0
        ],
        [
         "Sales Representative",
         8600.0
        ],
        [
         "Administration Vice President",
         17000.0
        ],
        [
         "Stock Manager",
         8200.0
        ],
        [
         "Accounting Manager",
         12000.0
        ],
        [
         "Purchasing Manager",
         11000.0
        ],
        [
         "Marketing Representative",
         6000.0
        ],
        [
         "Sales Manager",
         14000.0
        ],
        [
         "Human Resources Representative",
         6500.0
        ],
        [
         "Accountant",
         9000.0
        ],
        [
         "Purchasing Clerk",
         3100.0
        ],
        [
         "Administration Assistant",
         4400.0
        ],
        [
         "Public Relations Representative",
         10000.0
        ]
       ],
       "datasetInfos": [],
       "dbfsResultPath": null,
       "isJsonSchema": true,
       "metadata": {},
       "overflow": false,
       "plotOptions": {
        "customPlotOptions": {},
        "displayType": "table",
        "pivotAggregation": null,
        "pivotColumns": null,
        "xColumns": null,
        "yColumns": null
       },
       "removedWidgets": [],
       "schema": [
        {
         "metadata": "{}",
         "name": "jod_title",
         "type": "\"string\""
        },
        {
         "metadata": "{}",
         "name": "max(salary)",
         "type": "\"double\""
        }
       ],
       "type": "table"
      }
     },
     "output_type": "display_data"
    }
   ],
   "source": [
    "df_job_employees.groupBy('jod_title').max('salary').display()"
   ]
  },
  {
   "cell_type": "code",
   "execution_count": 0,
   "metadata": {
    "application/vnd.databricks.v1+cell": {
     "cellMetadata": {
      "byteLimit": 2048000,
      "rowLimit": 10000
     },
     "inputWidgets": {},
     "nuid": "fc338efe-56b1-40c7-84fd-ea283db7b31c",
     "showTitle": false,
     "title": ""
    }
   },
   "outputs": [
    {
     "output_type": "display_data",
     "data": {
      "text/html": [
       "<style scoped>\n",
       "  .table-result-container {\n",
       "    max-height: 300px;\n",
       "    overflow: auto;\n",
       "  }\n",
       "  table, th, td {\n",
       "    border: 1px solid black;\n",
       "    border-collapse: collapse;\n",
       "  }\n",
       "  th, td {\n",
       "    padding: 5px;\n",
       "  }\n",
       "  th {\n",
       "    text-align: left;\n",
       "  }\n",
       "</style><div class='table-result-container'><table class='table-result'><thead style='background-color: white'><tr><th>jod_title</th><th>min(salary)</th></tr></thead><tbody><tr><td>Finance Manager</td><td>12000.0</td></tr><tr><td>President</td><td>24000.0</td></tr><tr><td>Shipping Clerk</td><td>3900.0</td></tr><tr><td>Marketing Manager</td><td>13000.0</td></tr><tr><td>Public Accountant</td><td>8300.0</td></tr><tr><td>Stock Clerk</td><td>2700.0</td></tr><tr><td>Programmer</td><td>4200.0</td></tr><tr><td>Sales Representative</td><td>6200.0</td></tr><tr><td>Administration Vice President</td><td>17000.0</td></tr><tr><td>Stock Manager</td><td>6500.0</td></tr><tr><td>Accounting Manager</td><td>12000.0</td></tr><tr><td>Purchasing Manager</td><td>11000.0</td></tr><tr><td>Marketing Representative</td><td>6000.0</td></tr><tr><td>Sales Manager</td><td>13500.0</td></tr><tr><td>Human Resources Representative</td><td>6500.0</td></tr><tr><td>Accountant</td><td>6900.0</td></tr><tr><td>Purchasing Clerk</td><td>2500.0</td></tr><tr><td>Administration Assistant</td><td>4400.0</td></tr><tr><td>Public Relations Representative</td><td>10000.0</td></tr></tbody></table></div>"
      ]
     },
     "metadata": {
      "application/vnd.databricks.v1+output": {
       "addedWidgets": {},
       "aggData": [],
       "aggError": "",
       "aggOverflow": false,
       "aggSchema": [],
       "aggSeriesLimitReached": false,
       "aggType": "",
       "arguments": {},
       "columnCustomDisplayInfos": {},
       "data": [
        [
         "Finance Manager",
         12000.0
        ],
        [
         "President",
         24000.0
        ],
        [
         "Shipping Clerk",
         3900.0
        ],
        [
         "Marketing Manager",
         13000.0
        ],
        [
         "Public Accountant",
         8300.0
        ],
        [
         "Stock Clerk",
         2700.0
        ],
        [
         "Programmer",
         4200.0
        ],
        [
         "Sales Representative",
         6200.0
        ],
        [
         "Administration Vice President",
         17000.0
        ],
        [
         "Stock Manager",
         6500.0
        ],
        [
         "Accounting Manager",
         12000.0
        ],
        [
         "Purchasing Manager",
         11000.0
        ],
        [
         "Marketing Representative",
         6000.0
        ],
        [
         "Sales Manager",
         13500.0
        ],
        [
         "Human Resources Representative",
         6500.0
        ],
        [
         "Accountant",
         6900.0
        ],
        [
         "Purchasing Clerk",
         2500.0
        ],
        [
         "Administration Assistant",
         4400.0
        ],
        [
         "Public Relations Representative",
         10000.0
        ]
       ],
       "datasetInfos": [],
       "dbfsResultPath": null,
       "isJsonSchema": true,
       "metadata": {},
       "overflow": false,
       "plotOptions": {
        "customPlotOptions": {},
        "displayType": "table",
        "pivotAggregation": null,
        "pivotColumns": null,
        "xColumns": null,
        "yColumns": null
       },
       "removedWidgets": [],
       "schema": [
        {
         "metadata": "{}",
         "name": "jod_title",
         "type": "\"string\""
        },
        {
         "metadata": "{}",
         "name": "min(salary)",
         "type": "\"double\""
        }
       ],
       "type": "table"
      }
     },
     "output_type": "display_data"
    }
   ],
   "source": [
    "df_job_employees.groupBy('jod_title').min('salary').display()"
   ]
  },
  {
   "cell_type": "code",
   "execution_count": 0,
   "metadata": {
    "application/vnd.databricks.v1+cell": {
     "cellMetadata": {
      "byteLimit": 2048000,
      "rowLimit": 10000
     },
     "inputWidgets": {},
     "nuid": "5c1570c8-d49b-40d3-90be-885f121f9155",
     "showTitle": false,
     "title": ""
    }
   },
   "outputs": [
    {
     "output_type": "display_data",
     "data": {
      "text/html": [
       "<style scoped>\n",
       "  .table-result-container {\n",
       "    max-height: 300px;\n",
       "    overflow: auto;\n",
       "  }\n",
       "  table, th, td {\n",
       "    border: 1px solid black;\n",
       "    border-collapse: collapse;\n",
       "  }\n",
       "  th, td {\n",
       "    padding: 5px;\n",
       "  }\n",
       "  th {\n",
       "    text-align: left;\n",
       "  }\n",
       "</style><div class='table-result-container'><table class='table-result'><thead style='background-color: white'><tr><th>jod_title</th><th>max_salary</th><th>mean_salary</th></tr></thead><tbody><tr><td>Finance Manager</td><td>12000.0</td><td>12000.0</td></tr><tr><td>President</td><td>24000.0</td><td>24000.0</td></tr><tr><td>Shipping Clerk</td><td>4000.0</td><td>3950.0</td></tr><tr><td>Marketing Manager</td><td>13000.0</td><td>13000.0</td></tr><tr><td>Public Accountant</td><td>8300.0</td><td>8300.0</td></tr><tr><td>Stock Clerk</td><td>2700.0</td><td>2700.0</td></tr><tr><td>Programmer</td><td>9000.0</td><td>5760.0</td></tr><tr><td>Sales Representative</td><td>8600.0</td><td>7550.0</td></tr><tr><td>Administration Vice President</td><td>17000.0</td><td>17000.0</td></tr><tr><td>Stock Manager</td><td>8200.0</td><td>7650.0</td></tr><tr><td>Accounting Manager</td><td>12000.0</td><td>12000.0</td></tr><tr><td>Purchasing Manager</td><td>11000.0</td><td>11000.0</td></tr><tr><td>Marketing Representative</td><td>6000.0</td><td>6000.0</td></tr><tr><td>Sales Manager</td><td>14000.0</td><td>13750.0</td></tr><tr><td>Human Resources Representative</td><td>6500.0</td><td>6500.0</td></tr><tr><td>Accountant</td><td>9000.0</td><td>7920.0</td></tr><tr><td>Purchasing Clerk</td><td>3100.0</td><td>2780.0</td></tr><tr><td>Administration Assistant</td><td>4400.0</td><td>4400.0</td></tr><tr><td>Public Relations Representative</td><td>10000.0</td><td>10000.0</td></tr></tbody></table></div>"
      ]
     },
     "metadata": {
      "application/vnd.databricks.v1+output": {
       "addedWidgets": {},
       "aggData": [],
       "aggError": "",
       "aggOverflow": false,
       "aggSchema": [],
       "aggSeriesLimitReached": false,
       "aggType": "",
       "arguments": {},
       "columnCustomDisplayInfos": {},
       "data": [
        [
         "Finance Manager",
         12000.0,
         12000.0
        ],
        [
         "President",
         24000.0,
         24000.0
        ],
        [
         "Shipping Clerk",
         4000.0,
         3950.0
        ],
        [
         "Marketing Manager",
         13000.0,
         13000.0
        ],
        [
         "Public Accountant",
         8300.0,
         8300.0
        ],
        [
         "Stock Clerk",
         2700.0,
         2700.0
        ],
        [
         "Programmer",
         9000.0,
         5760.0
        ],
        [
         "Sales Representative",
         8600.0,
         7550.0
        ],
        [
         "Administration Vice President",
         17000.0,
         17000.0
        ],
        [
         "Stock Manager",
         8200.0,
         7650.0
        ],
        [
         "Accounting Manager",
         12000.0,
         12000.0
        ],
        [
         "Purchasing Manager",
         11000.0,
         11000.0
        ],
        [
         "Marketing Representative",
         6000.0,
         6000.0
        ],
        [
         "Sales Manager",
         14000.0,
         13750.0
        ],
        [
         "Human Resources Representative",
         6500.0,
         6500.0
        ],
        [
         "Accountant",
         9000.0,
         7920.0
        ],
        [
         "Purchasing Clerk",
         3100.0,
         2780.0
        ],
        [
         "Administration Assistant",
         4400.0,
         4400.0
        ],
        [
         "Public Relations Representative",
         10000.0,
         10000.0
        ]
       ],
       "datasetInfos": [],
       "dbfsResultPath": null,
       "isJsonSchema": true,
       "metadata": {},
       "overflow": false,
       "plotOptions": {
        "customPlotOptions": {},
        "displayType": "table",
        "pivotAggregation": null,
        "pivotColumns": null,
        "xColumns": null,
        "yColumns": null
       },
       "removedWidgets": [],
       "schema": [
        {
         "metadata": "{}",
         "name": "jod_title",
         "type": "\"string\""
        },
        {
         "metadata": "{}",
         "name": "max_salary",
         "type": "\"double\""
        },
        {
         "metadata": "{}",
         "name": "mean_salary",
         "type": "\"double\""
        }
       ],
       "type": "table"
      }
     },
     "output_type": "display_data"
    }
   ],
   "source": [
    "from pyspark.sql.functions import sum,avg,max,count,mean\n",
    "\n",
    "df_job_employees.groupBy('jod_title').agg(\n",
    "    max('salary').alias('max_salary'),\n",
    "    mean('salary').alias('mean_salary')\n",
    ").display()"
   ]
  },
  {
   "cell_type": "code",
   "execution_count": 0,
   "metadata": {
    "application/vnd.databricks.v1+cell": {
     "cellMetadata": {
      "byteLimit": 2048000,
      "rowLimit": 10000
     },
     "inputWidgets": {},
     "nuid": "c69fbe1d-f678-49b8-88fe-22a0fc64dcf2",
     "showTitle": false,
     "title": ""
    }
   },
   "outputs": [
    {
     "output_type": "display_data",
     "data": {
      "text/html": [
       "<style scoped>\n",
       "  .table-result-container {\n",
       "    max-height: 300px;\n",
       "    overflow: auto;\n",
       "  }\n",
       "  table, th, td {\n",
       "    border: 1px solid black;\n",
       "    border-collapse: collapse;\n",
       "  }\n",
       "  th, td {\n",
       "    padding: 5px;\n",
       "  }\n",
       "  th {\n",
       "    text-align: left;\n",
       "  }\n",
       "</style><div class='table-result-container'><table class='table-result'><thead style='background-color: white'><tr><th>employee_id</th><th>first_name</th><th>last_name</th><th>email</th><th>phone_number</th><th>hire_date</th><th>job_id</th><th>salary</th><th>manager_id</th><th>department_id</th><th>jod_title</th><th>min_salary</th><th>max_salary</th><th>department_name</th><th>location_id</th></tr></thead><tbody><tr><td>100</td><td>Steven</td><td>King</td><td>steven.king@sqltutorial.org</td><td>515.123.4567</td><td>1987-06-17</td><td>4</td><td>24000.0</td><td>NULL</td><td>9</td><td>President</td><td>20000.0</td><td>40000.0</td><td>Executive</td><td>1700</td></tr><tr><td>101</td><td>Neena</td><td>Kochhar</td><td>neena.kochhar@sqltutorial.org</td><td>515.123.4568</td><td>1989-09-21</td><td>5</td><td>17000.0</td><td>100</td><td>9</td><td>Administration Vice President</td><td>15000.0</td><td>30000.0</td><td>Executive</td><td>1700</td></tr><tr><td>102</td><td>Lex</td><td>De Haan</td><td>lex.de haan@sqltutorial.org</td><td>515.123.4569</td><td>1993-01-13</td><td>5</td><td>17000.0</td><td>100</td><td>9</td><td>Administration Vice President</td><td>15000.0</td><td>30000.0</td><td>Executive</td><td>1700</td></tr><tr><td>103</td><td>Alexander</td><td>Hunold</td><td>alexander.hunold@sqltutorial.org</td><td>590.423.4567</td><td>1990-01-03</td><td>9</td><td>9000.0</td><td>102</td><td>6</td><td>Programmer</td><td>4000.0</td><td>10000.0</td><td>IT</td><td>1400</td></tr><tr><td>104</td><td>Bruce</td><td>Ernst</td><td>bruce.ernst@sqltutorial.org</td><td>590.423.4568</td><td>1991-05-21</td><td>9</td><td>6000.0</td><td>103</td><td>6</td><td>Programmer</td><td>4000.0</td><td>10000.0</td><td>IT</td><td>1400</td></tr><tr><td>105</td><td>David</td><td>Austin</td><td>david.austin@sqltutorial.org</td><td>590.423.4569</td><td>1997-06-25</td><td>9</td><td>4800.0</td><td>103</td><td>6</td><td>Programmer</td><td>4000.0</td><td>10000.0</td><td>IT</td><td>1400</td></tr><tr><td>106</td><td>Valli</td><td>Pataballa</td><td>valli.pataballa@sqltutorial.org</td><td>590.423.4560</td><td>1998-02-05</td><td>9</td><td>4800.0</td><td>103</td><td>6</td><td>Programmer</td><td>4000.0</td><td>10000.0</td><td>IT</td><td>1400</td></tr><tr><td>107</td><td>Diana</td><td>Lorentz</td><td>diana.lorentz@sqltutorial.org</td><td>590.423.5567</td><td>1999-02-07</td><td>9</td><td>4200.0</td><td>103</td><td>6</td><td>Programmer</td><td>4000.0</td><td>10000.0</td><td>IT</td><td>1400</td></tr><tr><td>108</td><td>Nancy</td><td>Greenberg</td><td>nancy.greenberg@sqltutorial.org</td><td>515.124.4569</td><td>1994-08-17</td><td>7</td><td>12000.0</td><td>101</td><td>10</td><td>Finance Manager</td><td>8200.0</td><td>16000.0</td><td>Finance</td><td>1700</td></tr><tr><td>109</td><td>Daniel</td><td>Faviet</td><td>daniel.faviet@sqltutorial.org</td><td>515.124.4169</td><td>1994-08-16</td><td>6</td><td>9000.0</td><td>108</td><td>10</td><td>Accountant</td><td>4200.0</td><td>9000.0</td><td>Finance</td><td>1700</td></tr><tr><td>110</td><td>John</td><td>Chen</td><td>john.chen@sqltutorial.org</td><td>515.124.4269</td><td>1997-09-28</td><td>6</td><td>8200.0</td><td>108</td><td>10</td><td>Accountant</td><td>4200.0</td><td>9000.0</td><td>Finance</td><td>1700</td></tr><tr><td>111</td><td>Ismael</td><td>Sciarra</td><td>ismael.sciarra@sqltutorial.org</td><td>515.124.4369</td><td>1997-09-30</td><td>6</td><td>7700.0</td><td>108</td><td>10</td><td>Accountant</td><td>4200.0</td><td>9000.0</td><td>Finance</td><td>1700</td></tr><tr><td>112</td><td>Jose Manuel</td><td>Urman</td><td>jose manuel.urman@sqltutorial.org</td><td>515.124.4469</td><td>1998-03-07</td><td>6</td><td>7800.0</td><td>108</td><td>10</td><td>Accountant</td><td>4200.0</td><td>9000.0</td><td>Finance</td><td>1700</td></tr><tr><td>113</td><td>Luis</td><td>Popp</td><td>luis.popp@sqltutorial.org</td><td>515.124.4567</td><td>1999-12-07</td><td>6</td><td>6900.0</td><td>108</td><td>10</td><td>Accountant</td><td>4200.0</td><td>9000.0</td><td>Finance</td><td>1700</td></tr><tr><td>114</td><td>Den</td><td>Raphaely</td><td>den.raphaely@sqltutorial.org</td><td>515.127.4561</td><td>1994-12-07</td><td>14</td><td>11000.0</td><td>100</td><td>3</td><td>Purchasing Manager</td><td>8000.0</td><td>15000.0</td><td>Purchasing</td><td>1700</td></tr><tr><td>115</td><td>Alexander</td><td>Khoo</td><td>alexander.khoo@sqltutorial.org</td><td>515.127.4562</td><td>1995-05-18</td><td>13</td><td>3100.0</td><td>114</td><td>3</td><td>Purchasing Clerk</td><td>2500.0</td><td>5500.0</td><td>Purchasing</td><td>1700</td></tr><tr><td>116</td><td>Shelli</td><td>Baida</td><td>shelli.baida@sqltutorial.org</td><td>515.127.4563</td><td>1997-12-24</td><td>13</td><td>2900.0</td><td>114</td><td>3</td><td>Purchasing Clerk</td><td>2500.0</td><td>5500.0</td><td>Purchasing</td><td>1700</td></tr><tr><td>117</td><td>Sigal</td><td>Tobias</td><td>sigal.tobias@sqltutorial.org</td><td>515.127.4564</td><td>1997-07-24</td><td>13</td><td>2800.0</td><td>114</td><td>3</td><td>Purchasing Clerk</td><td>2500.0</td><td>5500.0</td><td>Purchasing</td><td>1700</td></tr><tr><td>118</td><td>Guy</td><td>Himuro</td><td>guy.himuro@sqltutorial.org</td><td>515.127.4565</td><td>1998-11-15</td><td>13</td><td>2600.0</td><td>114</td><td>3</td><td>Purchasing Clerk</td><td>2500.0</td><td>5500.0</td><td>Purchasing</td><td>1700</td></tr><tr><td>119</td><td>Karen</td><td>Colmenares</td><td>karen.colmenares@sqltutorial.org</td><td>515.127.4566</td><td>1999-08-10</td><td>13</td><td>2500.0</td><td>114</td><td>3</td><td>Purchasing Clerk</td><td>2500.0</td><td>5500.0</td><td>Purchasing</td><td>1700</td></tr><tr><td>120</td><td>Matthew</td><td>Weiss</td><td>matthew.weiss@sqltutorial.org</td><td>650.123.1234</td><td>1996-07-18</td><td>19</td><td>8000.0</td><td>100</td><td>5</td><td>Stock Manager</td><td>5500.0</td><td>8500.0</td><td>Shipping</td><td>1500</td></tr><tr><td>121</td><td>Adam</td><td>Fripp</td><td>adam.fripp@sqltutorial.org</td><td>650.123.2234</td><td>1997-04-10</td><td>19</td><td>8200.0</td><td>100</td><td>5</td><td>Stock Manager</td><td>5500.0</td><td>8500.0</td><td>Shipping</td><td>1500</td></tr><tr><td>122</td><td>Payam</td><td>Kaufling</td><td>payam.kaufling@sqltutorial.org</td><td>650.123.3234</td><td>1995-05-01</td><td>19</td><td>7900.0</td><td>100</td><td>5</td><td>Stock Manager</td><td>5500.0</td><td>8500.0</td><td>Shipping</td><td>1500</td></tr><tr><td>123</td><td>Shanta</td><td>Vollman</td><td>shanta.vollman@sqltutorial.org</td><td>650.123.4234</td><td>1997-10-10</td><td>19</td><td>6500.0</td><td>100</td><td>5</td><td>Stock Manager</td><td>5500.0</td><td>8500.0</td><td>Shipping</td><td>1500</td></tr><tr><td>126</td><td>Irene</td><td>Mikkilineni</td><td>irene.mikkilineni@sqltutorial.org</td><td>650.124.1224</td><td>1998-09-28</td><td>18</td><td>2700.0</td><td>120</td><td>5</td><td>Stock Clerk</td><td>2000.0</td><td>5000.0</td><td>Shipping</td><td>1500</td></tr><tr><td>145</td><td>John</td><td>Russell</td><td>john.russell@sqltutorial.org</td><td>NULL</td><td>1996-10-01</td><td>15</td><td>14000.0</td><td>100</td><td>8</td><td>Sales Manager</td><td>10000.0</td><td>20000.0</td><td>Sales</td><td>2500</td></tr><tr><td>146</td><td>Karen</td><td>Partners</td><td>karen.partners@sqltutorial.org</td><td>NULL</td><td>1997-01-05</td><td>15</td><td>13500.0</td><td>100</td><td>8</td><td>Sales Manager</td><td>10000.0</td><td>20000.0</td><td>Sales</td><td>2500</td></tr><tr><td>176</td><td>Jonathon</td><td>Taylor</td><td>jonathon.taylor@sqltutorial.org</td><td>NULL</td><td>1998-03-24</td><td>16</td><td>8600.0</td><td>100</td><td>8</td><td>Sales Representative</td><td>6000.0</td><td>12000.0</td><td>Sales</td><td>2500</td></tr><tr><td>177</td><td>Jack</td><td>Livingston</td><td>jack.livingston@sqltutorial.org</td><td>NULL</td><td>1998-04-23</td><td>16</td><td>8400.0</td><td>100</td><td>8</td><td>Sales Representative</td><td>6000.0</td><td>12000.0</td><td>Sales</td><td>2500</td></tr><tr><td>178</td><td>Kimberely</td><td>Grant</td><td>kimberely.grant@sqltutorial.org</td><td>NULL</td><td>1999-05-24</td><td>16</td><td>7000.0</td><td>100</td><td>8</td><td>Sales Representative</td><td>6000.0</td><td>12000.0</td><td>Sales</td><td>2500</td></tr><tr><td>179</td><td>Charles</td><td>Johnson</td><td>charles.johnson@sqltutorial.org</td><td>NULL</td><td>2000-01-04</td><td>16</td><td>6200.0</td><td>100</td><td>8</td><td>Sales Representative</td><td>6000.0</td><td>12000.0</td><td>Sales</td><td>2500</td></tr><tr><td>192</td><td>Sarah</td><td>Bell</td><td>sarah.bell@sqltutorial.org</td><td>650.501.1876</td><td>1996-02-04</td><td>17</td><td>4000.0</td><td>123</td><td>5</td><td>Shipping Clerk</td><td>2500.0</td><td>5500.0</td><td>Shipping</td><td>1500</td></tr><tr><td>193</td><td>Britney</td><td>Everett</td><td>britney.everett@sqltutorial.org</td><td>650.501.2876</td><td>1997-03-03</td><td>17</td><td>3900.0</td><td>123</td><td>5</td><td>Shipping Clerk</td><td>2500.0</td><td>5500.0</td><td>Shipping</td><td>1500</td></tr><tr><td>200</td><td>Jennifer</td><td>Whalen</td><td>jennifer.whalen@sqltutorial.org</td><td>515.123.4444</td><td>1987-09-17</td><td>3</td><td>4400.0</td><td>101</td><td>1</td><td>Administration Assistant</td><td>3000.0</td><td>6000.0</td><td>Administration</td><td>1700</td></tr><tr><td>201</td><td>Michael</td><td>Hartstein</td><td>michael.hartstein@sqltutorial.org</td><td>515.123.5555</td><td>1996-02-17</td><td>10</td><td>13000.0</td><td>100</td><td>2</td><td>Marketing Manager</td><td>9000.0</td><td>15000.0</td><td>Marketing</td><td>1800</td></tr><tr><td>202</td><td>Pat</td><td>Fay</td><td>pat.fay@sqltutorial.org</td><td>603.123.6666</td><td>1997-08-17</td><td>11</td><td>6000.0</td><td>201</td><td>2</td><td>Marketing Representative</td><td>4000.0</td><td>9000.0</td><td>Marketing</td><td>1800</td></tr><tr><td>203</td><td>Susan</td><td>Mavris</td><td>susan.mavris@sqltutorial.org</td><td>515.123.7777</td><td>1994-06-07</td><td>8</td><td>6500.0</td><td>101</td><td>4</td><td>Human Resources Representative</td><td>4000.0</td><td>9000.0</td><td>Human Resources</td><td>2400</td></tr><tr><td>204</td><td>Hermann</td><td>Baer</td><td>hermann.baer@sqltutorial.org</td><td>515.123.8888</td><td>1994-06-07</td><td>12</td><td>10000.0</td><td>101</td><td>7</td><td>Public Relations Representative</td><td>4500.0</td><td>10500.0</td><td>Public Relations</td><td>2700</td></tr><tr><td>205</td><td>Shelley</td><td>Higgins</td><td>shelley.higgins@sqltutorial.org</td><td>515.123.8080</td><td>1994-06-07</td><td>2</td><td>12000.0</td><td>101</td><td>11</td><td>Accounting Manager</td><td>8200.0</td><td>16000.0</td><td>Accounting</td><td>1700</td></tr><tr><td>206</td><td>William</td><td>Gietz</td><td>william.gietz@sqltutorial.org</td><td>515.123.8181</td><td>1994-06-07</td><td>1</td><td>8300.0</td><td>205</td><td>11</td><td>Public Accountant</td><td>4200.0</td><td>9000.0</td><td>Accounting</td><td>1700</td></tr></tbody></table></div>"
      ]
     },
     "metadata": {
      "application/vnd.databricks.v1+output": {
       "addedWidgets": {},
       "aggData": [],
       "aggError": "",
       "aggOverflow": false,
       "aggSchema": [],
       "aggSeriesLimitReached": false,
       "aggType": "",
       "arguments": {},
       "columnCustomDisplayInfos": {},
       "data": [
        [
         100,
         "Steven",
         "King",
         "steven.king@sqltutorial.org",
         "515.123.4567",
         "1987-06-17",
         4,
         24000.0,
         "NULL",
         9,
         "President",
         20000.0,
         40000.0,
         "Executive",
         1700
        ],
        [
         101,
         "Neena",
         "Kochhar",
         "neena.kochhar@sqltutorial.org",
         "515.123.4568",
         "1989-09-21",
         5,
         17000.0,
         "100",
         9,
         "Administration Vice President",
         15000.0,
         30000.0,
         "Executive",
         1700
        ],
        [
         102,
         "Lex",
         "De Haan",
         "lex.de haan@sqltutorial.org",
         "515.123.4569",
         "1993-01-13",
         5,
         17000.0,
         "100",
         9,
         "Administration Vice President",
         15000.0,
         30000.0,
         "Executive",
         1700
        ],
        [
         103,
         "Alexander",
         "Hunold",
         "alexander.hunold@sqltutorial.org",
         "590.423.4567",
         "1990-01-03",
         9,
         9000.0,
         "102",
         6,
         "Programmer",
         4000.0,
         10000.0,
         "IT",
         1400
        ],
        [
         104,
         "Bruce",
         "Ernst",
         "bruce.ernst@sqltutorial.org",
         "590.423.4568",
         "1991-05-21",
         9,
         6000.0,
         "103",
         6,
         "Programmer",
         4000.0,
         10000.0,
         "IT",
         1400
        ],
        [
         105,
         "David",
         "Austin",
         "david.austin@sqltutorial.org",
         "590.423.4569",
         "1997-06-25",
         9,
         4800.0,
         "103",
         6,
         "Programmer",
         4000.0,
         10000.0,
         "IT",
         1400
        ],
        [
         106,
         "Valli",
         "Pataballa",
         "valli.pataballa@sqltutorial.org",
         "590.423.4560",
         "1998-02-05",
         9,
         4800.0,
         "103",
         6,
         "Programmer",
         4000.0,
         10000.0,
         "IT",
         1400
        ],
        [
         107,
         "Diana",
         "Lorentz",
         "diana.lorentz@sqltutorial.org",
         "590.423.5567",
         "1999-02-07",
         9,
         4200.0,
         "103",
         6,
         "Programmer",
         4000.0,
         10000.0,
         "IT",
         1400
        ],
        [
         108,
         "Nancy",
         "Greenberg",
         "nancy.greenberg@sqltutorial.org",
         "515.124.4569",
         "1994-08-17",
         7,
         12000.0,
         "101",
         10,
         "Finance Manager",
         8200.0,
         16000.0,
         "Finance",
         1700
        ],
        [
         109,
         "Daniel",
         "Faviet",
         "daniel.faviet@sqltutorial.org",
         "515.124.4169",
         "1994-08-16",
         6,
         9000.0,
         "108",
         10,
         "Accountant",
         4200.0,
         9000.0,
         "Finance",
         1700
        ],
        [
         110,
         "John",
         "Chen",
         "john.chen@sqltutorial.org",
         "515.124.4269",
         "1997-09-28",
         6,
         8200.0,
         "108",
         10,
         "Accountant",
         4200.0,
         9000.0,
         "Finance",
         1700
        ],
        [
         111,
         "Ismael",
         "Sciarra",
         "ismael.sciarra@sqltutorial.org",
         "515.124.4369",
         "1997-09-30",
         6,
         7700.0,
         "108",
         10,
         "Accountant",
         4200.0,
         9000.0,
         "Finance",
         1700
        ],
        [
         112,
         "Jose Manuel",
         "Urman",
         "jose manuel.urman@sqltutorial.org",
         "515.124.4469",
         "1998-03-07",
         6,
         7800.0,
         "108",
         10,
         "Accountant",
         4200.0,
         9000.0,
         "Finance",
         1700
        ],
        [
         113,
         "Luis",
         "Popp",
         "luis.popp@sqltutorial.org",
         "515.124.4567",
         "1999-12-07",
         6,
         6900.0,
         "108",
         10,
         "Accountant",
         4200.0,
         9000.0,
         "Finance",
         1700
        ],
        [
         114,
         "Den",
         "Raphaely",
         "den.raphaely@sqltutorial.org",
         "515.127.4561",
         "1994-12-07",
         14,
         11000.0,
         "100",
         3,
         "Purchasing Manager",
         8000.0,
         15000.0,
         "Purchasing",
         1700
        ],
        [
         115,
         "Alexander",
         "Khoo",
         "alexander.khoo@sqltutorial.org",
         "515.127.4562",
         "1995-05-18",
         13,
         3100.0,
         "114",
         3,
         "Purchasing Clerk",
         2500.0,
         5500.0,
         "Purchasing",
         1700
        ],
        [
         116,
         "Shelli",
         "Baida",
         "shelli.baida@sqltutorial.org",
         "515.127.4563",
         "1997-12-24",
         13,
         2900.0,
         "114",
         3,
         "Purchasing Clerk",
         2500.0,
         5500.0,
         "Purchasing",
         1700
        ],
        [
         117,
         "Sigal",
         "Tobias",
         "sigal.tobias@sqltutorial.org",
         "515.127.4564",
         "1997-07-24",
         13,
         2800.0,
         "114",
         3,
         "Purchasing Clerk",
         2500.0,
         5500.0,
         "Purchasing",
         1700
        ],
        [
         118,
         "Guy",
         "Himuro",
         "guy.himuro@sqltutorial.org",
         "515.127.4565",
         "1998-11-15",
         13,
         2600.0,
         "114",
         3,
         "Purchasing Clerk",
         2500.0,
         5500.0,
         "Purchasing",
         1700
        ],
        [
         119,
         "Karen",
         "Colmenares",
         "karen.colmenares@sqltutorial.org",
         "515.127.4566",
         "1999-08-10",
         13,
         2500.0,
         "114",
         3,
         "Purchasing Clerk",
         2500.0,
         5500.0,
         "Purchasing",
         1700
        ],
        [
         120,
         "Matthew",
         "Weiss",
         "matthew.weiss@sqltutorial.org",
         "650.123.1234",
         "1996-07-18",
         19,
         8000.0,
         "100",
         5,
         "Stock Manager",
         5500.0,
         8500.0,
         "Shipping",
         1500
        ],
        [
         121,
         "Adam",
         "Fripp",
         "adam.fripp@sqltutorial.org",
         "650.123.2234",
         "1997-04-10",
         19,
         8200.0,
         "100",
         5,
         "Stock Manager",
         5500.0,
         8500.0,
         "Shipping",
         1500
        ],
        [
         122,
         "Payam",
         "Kaufling",
         "payam.kaufling@sqltutorial.org",
         "650.123.3234",
         "1995-05-01",
         19,
         7900.0,
         "100",
         5,
         "Stock Manager",
         5500.0,
         8500.0,
         "Shipping",
         1500
        ],
        [
         123,
         "Shanta",
         "Vollman",
         "shanta.vollman@sqltutorial.org",
         "650.123.4234",
         "1997-10-10",
         19,
         6500.0,
         "100",
         5,
         "Stock Manager",
         5500.0,
         8500.0,
         "Shipping",
         1500
        ],
        [
         126,
         "Irene",
         "Mikkilineni",
         "irene.mikkilineni@sqltutorial.org",
         "650.124.1224",
         "1998-09-28",
         18,
         2700.0,
         "120",
         5,
         "Stock Clerk",
         2000.0,
         5000.0,
         "Shipping",
         1500
        ],
        [
         145,
         "John",
         "Russell",
         "john.russell@sqltutorial.org",
         "NULL",
         "1996-10-01",
         15,
         14000.0,
         "100",
         8,
         "Sales Manager",
         10000.0,
         20000.0,
         "Sales",
         2500
        ],
        [
         146,
         "Karen",
         "Partners",
         "karen.partners@sqltutorial.org",
         "NULL",
         "1997-01-05",
         15,
         13500.0,
         "100",
         8,
         "Sales Manager",
         10000.0,
         20000.0,
         "Sales",
         2500
        ],
        [
         176,
         "Jonathon",
         "Taylor",
         "jonathon.taylor@sqltutorial.org",
         "NULL",
         "1998-03-24",
         16,
         8600.0,
         "100",
         8,
         "Sales Representative",
         6000.0,
         12000.0,
         "Sales",
         2500
        ],
        [
         177,
         "Jack",
         "Livingston",
         "jack.livingston@sqltutorial.org",
         "NULL",
         "1998-04-23",
         16,
         8400.0,
         "100",
         8,
         "Sales Representative",
         6000.0,
         12000.0,
         "Sales",
         2500
        ],
        [
         178,
         "Kimberely",
         "Grant",
         "kimberely.grant@sqltutorial.org",
         "NULL",
         "1999-05-24",
         16,
         7000.0,
         "100",
         8,
         "Sales Representative",
         6000.0,
         12000.0,
         "Sales",
         2500
        ],
        [
         179,
         "Charles",
         "Johnson",
         "charles.johnson@sqltutorial.org",
         "NULL",
         "2000-01-04",
         16,
         6200.0,
         "100",
         8,
         "Sales Representative",
         6000.0,
         12000.0,
         "Sales",
         2500
        ],
        [
         192,
         "Sarah",
         "Bell",
         "sarah.bell@sqltutorial.org",
         "650.501.1876",
         "1996-02-04",
         17,
         4000.0,
         "123",
         5,
         "Shipping Clerk",
         2500.0,
         5500.0,
         "Shipping",
         1500
        ],
        [
         193,
         "Britney",
         "Everett",
         "britney.everett@sqltutorial.org",
         "650.501.2876",
         "1997-03-03",
         17,
         3900.0,
         "123",
         5,
         "Shipping Clerk",
         2500.0,
         5500.0,
         "Shipping",
         1500
        ],
        [
         200,
         "Jennifer",
         "Whalen",
         "jennifer.whalen@sqltutorial.org",
         "515.123.4444",
         "1987-09-17",
         3,
         4400.0,
         "101",
         1,
         "Administration Assistant",
         3000.0,
         6000.0,
         "Administration",
         1700
        ],
        [
         201,
         "Michael",
         "Hartstein",
         "michael.hartstein@sqltutorial.org",
         "515.123.5555",
         "1996-02-17",
         10,
         13000.0,
         "100",
         2,
         "Marketing Manager",
         9000.0,
         15000.0,
         "Marketing",
         1800
        ],
        [
         202,
         "Pat",
         "Fay",
         "pat.fay@sqltutorial.org",
         "603.123.6666",
         "1997-08-17",
         11,
         6000.0,
         "201",
         2,
         "Marketing Representative",
         4000.0,
         9000.0,
         "Marketing",
         1800
        ],
        [
         203,
         "Susan",
         "Mavris",
         "susan.mavris@sqltutorial.org",
         "515.123.7777",
         "1994-06-07",
         8,
         6500.0,
         "101",
         4,
         "Human Resources Representative",
         4000.0,
         9000.0,
         "Human Resources",
         2400
        ],
        [
         204,
         "Hermann",
         "Baer",
         "hermann.baer@sqltutorial.org",
         "515.123.8888",
         "1994-06-07",
         12,
         10000.0,
         "101",
         7,
         "Public Relations Representative",
         4500.0,
         10500.0,
         "Public Relations",
         2700
        ],
        [
         205,
         "Shelley",
         "Higgins",
         "shelley.higgins@sqltutorial.org",
         "515.123.8080",
         "1994-06-07",
         2,
         12000.0,
         "101",
         11,
         "Accounting Manager",
         8200.0,
         16000.0,
         "Accounting",
         1700
        ],
        [
         206,
         "William",
         "Gietz",
         "william.gietz@sqltutorial.org",
         "515.123.8181",
         "1994-06-07",
         1,
         8300.0,
         "205",
         11,
         "Public Accountant",
         4200.0,
         9000.0,
         "Accounting",
         1700
        ]
       ],
       "datasetInfos": [],
       "dbfsResultPath": null,
       "isJsonSchema": true,
       "metadata": {},
       "overflow": false,
       "plotOptions": {
        "customPlotOptions": {},
        "displayType": "table",
        "pivotAggregation": null,
        "pivotColumns": null,
        "xColumns": null,
        "yColumns": null
       },
       "removedWidgets": [],
       "schema": [
        {
         "metadata": "{}",
         "name": "employee_id",
         "type": "\"integer\""
        },
        {
         "metadata": "{}",
         "name": "first_name",
         "type": "\"string\""
        },
        {
         "metadata": "{}",
         "name": "last_name",
         "type": "\"string\""
        },
        {
         "metadata": "{}",
         "name": "email",
         "type": "\"string\""
        },
        {
         "metadata": "{}",
         "name": "phone_number",
         "type": "\"string\""
        },
        {
         "metadata": "{\"__detected_date_formats\":\"yyyy-M-d\"}",
         "name": "hire_date",
         "type": "\"date\""
        },
        {
         "metadata": "{}",
         "name": "job_id",
         "type": "\"integer\""
        },
        {
         "metadata": "{}",
         "name": "salary",
         "type": "\"double\""
        },
        {
         "metadata": "{}",
         "name": "manager_id",
         "type": "\"string\""
        },
        {
         "metadata": "{}",
         "name": "department_id",
         "type": "\"integer\""
        },
        {
         "metadata": "{}",
         "name": "jod_title",
         "type": "\"string\""
        },
        {
         "metadata": "{}",
         "name": "min_salary",
         "type": "\"double\""
        },
        {
         "metadata": "{}",
         "name": "max_salary",
         "type": "\"double\""
        },
        {
         "metadata": "{}",
         "name": "department_name",
         "type": "\"string\""
        },
        {
         "metadata": "{}",
         "name": "location_id",
         "type": "\"integer\""
        }
       ],
       "type": "table"
      }
     },
     "output_type": "display_data"
    }
   ],
   "source": [
    "df_job_employees_depto.display()"
   ]
  },
  {
   "cell_type": "code",
   "execution_count": 0,
   "metadata": {
    "application/vnd.databricks.v1+cell": {
     "cellMetadata": {
      "byteLimit": 2048000,
      "rowLimit": 10000
     },
     "inputWidgets": {},
     "nuid": "762cc395-420d-4648-8279-dc37bde0e131",
     "showTitle": false,
     "title": ""
    }
   },
   "outputs": [
    {
     "output_type": "display_data",
     "data": {
      "text/html": [
       "<style scoped>\n",
       "  .table-result-container {\n",
       "    max-height: 300px;\n",
       "    overflow: auto;\n",
       "  }\n",
       "  table, th, td {\n",
       "    border: 1px solid black;\n",
       "    border-collapse: collapse;\n",
       "  }\n",
       "  th, td {\n",
       "    padding: 5px;\n",
       "  }\n",
       "  th {\n",
       "    text-align: left;\n",
       "  }\n",
       "</style><div class='table-result-container'><table class='table-result'><thead style='background-color: white'><tr><th>department_name</th><th>jod_title</th><th>max_salary</th><th>mean_salary</th></tr></thead><tbody><tr><td>Shipping</td><td>Stock Manager</td><td>8200.0</td><td>7650.0</td></tr><tr><td>Sales</td><td>Sales Representative</td><td>8600.0</td><td>7550.0</td></tr><tr><td>IT</td><td>Programmer</td><td>9000.0</td><td>5760.0</td></tr><tr><td>Accounting</td><td>Public Accountant</td><td>8300.0</td><td>8300.0</td></tr><tr><td>Administration</td><td>Administration Assistant</td><td>4400.0</td><td>4400.0</td></tr><tr><td>Executive</td><td>Administration Vice President</td><td>17000.0</td><td>17000.0</td></tr><tr><td>Purchasing</td><td>Purchasing Manager</td><td>11000.0</td><td>11000.0</td></tr><tr><td>Accounting</td><td>Accounting Manager</td><td>12000.0</td><td>12000.0</td></tr><tr><td>Human Resources</td><td>Human Resources Representative</td><td>6500.0</td><td>6500.0</td></tr><tr><td>Finance</td><td>Finance Manager</td><td>12000.0</td><td>12000.0</td></tr><tr><td>Finance</td><td>Accountant</td><td>9000.0</td><td>7920.0</td></tr><tr><td>Executive</td><td>President</td><td>24000.0</td><td>24000.0</td></tr><tr><td>Purchasing</td><td>Purchasing Clerk</td><td>3100.0</td><td>2780.0</td></tr><tr><td>Shipping</td><td>Stock Clerk</td><td>2700.0</td><td>2700.0</td></tr><tr><td>Public Relations</td><td>Public Relations Representative</td><td>10000.0</td><td>10000.0</td></tr><tr><td>Sales</td><td>Sales Manager</td><td>14000.0</td><td>13750.0</td></tr><tr><td>Shipping</td><td>Shipping Clerk</td><td>4000.0</td><td>3950.0</td></tr><tr><td>Marketing</td><td>Marketing Manager</td><td>13000.0</td><td>13000.0</td></tr><tr><td>Marketing</td><td>Marketing Representative</td><td>6000.0</td><td>6000.0</td></tr></tbody></table></div>"
      ]
     },
     "metadata": {
      "application/vnd.databricks.v1+output": {
       "addedWidgets": {},
       "aggData": [],
       "aggError": "",
       "aggOverflow": false,
       "aggSchema": [],
       "aggSeriesLimitReached": false,
       "aggType": "",
       "arguments": {},
       "columnCustomDisplayInfos": {},
       "data": [
        [
         "Shipping",
         "Stock Manager",
         8200.0,
         7650.0
        ],
        [
         "Sales",
         "Sales Representative",
         8600.0,
         7550.0
        ],
        [
         "IT",
         "Programmer",
         9000.0,
         5760.0
        ],
        [
         "Accounting",
         "Public Accountant",
         8300.0,
         8300.0
        ],
        [
         "Administration",
         "Administration Assistant",
         4400.0,
         4400.0
        ],
        [
         "Executive",
         "Administration Vice President",
         17000.0,
         17000.0
        ],
        [
         "Purchasing",
         "Purchasing Manager",
         11000.0,
         11000.0
        ],
        [
         "Accounting",
         "Accounting Manager",
         12000.0,
         12000.0
        ],
        [
         "Human Resources",
         "Human Resources Representative",
         6500.0,
         6500.0
        ],
        [
         "Finance",
         "Finance Manager",
         12000.0,
         12000.0
        ],
        [
         "Finance",
         "Accountant",
         9000.0,
         7920.0
        ],
        [
         "Executive",
         "President",
         24000.0,
         24000.0
        ],
        [
         "Purchasing",
         "Purchasing Clerk",
         3100.0,
         2780.0
        ],
        [
         "Shipping",
         "Stock Clerk",
         2700.0,
         2700.0
        ],
        [
         "Public Relations",
         "Public Relations Representative",
         10000.0,
         10000.0
        ],
        [
         "Sales",
         "Sales Manager",
         14000.0,
         13750.0
        ],
        [
         "Shipping",
         "Shipping Clerk",
         4000.0,
         3950.0
        ],
        [
         "Marketing",
         "Marketing Manager",
         13000.0,
         13000.0
        ],
        [
         "Marketing",
         "Marketing Representative",
         6000.0,
         6000.0
        ]
       ],
       "datasetInfos": [],
       "dbfsResultPath": null,
       "isJsonSchema": true,
       "metadata": {},
       "overflow": false,
       "plotOptions": {
        "customPlotOptions": {},
        "displayType": "table",
        "pivotAggregation": null,
        "pivotColumns": null,
        "xColumns": null,
        "yColumns": null
       },
       "removedWidgets": [],
       "schema": [
        {
         "metadata": "{}",
         "name": "department_name",
         "type": "\"string\""
        },
        {
         "metadata": "{}",
         "name": "jod_title",
         "type": "\"string\""
        },
        {
         "metadata": "{}",
         "name": "max_salary",
         "type": "\"double\""
        },
        {
         "metadata": "{}",
         "name": "mean_salary",
         "type": "\"double\""
        }
       ],
       "type": "table"
      }
     },
     "output_type": "display_data"
    }
   ],
   "source": [
    "df_job_employees_depto.groupBy('department_name','jod_title').agg(\n",
    "    max('salary').alias('max_salary'),\n",
    "    mean('salary').alias('mean_salary')\n",
    ").display()"
   ]
  },
  {
   "cell_type": "code",
   "execution_count": 0,
   "metadata": {
    "application/vnd.databricks.v1+cell": {
     "cellMetadata": {
      "byteLimit": 2048000,
      "rowLimit": 10000
     },
     "inputWidgets": {},
     "nuid": "bee8b255-7be7-47ea-88c7-66b09431429c",
     "showTitle": false,
     "title": ""
    }
   },
   "outputs": [
    {
     "output_type": "display_data",
     "data": {
      "text/html": [
       "<style scoped>\n",
       "  .table-result-container {\n",
       "    max-height: 300px;\n",
       "    overflow: auto;\n",
       "  }\n",
       "  table, th, td {\n",
       "    border: 1px solid black;\n",
       "    border-collapse: collapse;\n",
       "  }\n",
       "  th, td {\n",
       "    padding: 5px;\n",
       "  }\n",
       "  th {\n",
       "    text-align: left;\n",
       "  }\n",
       "</style><div class='table-result-container'><table class='table-result'><thead style='background-color: white'><tr><th>jod_title</th><th>collect_list(email)</th></tr></thead><tbody><tr><td>Finance Manager</td><td>List(nancy.greenberg@sqltutorial.org)</td></tr><tr><td>President</td><td>List(steven.king@sqltutorial.org)</td></tr><tr><td>Shipping Clerk</td><td>List(sarah.bell@sqltutorial.org, britney.everett@sqltutorial.org)</td></tr><tr><td>Marketing Manager</td><td>List(michael.hartstein@sqltutorial.org)</td></tr><tr><td>Public Accountant</td><td>List(william.gietz@sqltutorial.org)</td></tr><tr><td>Stock Clerk</td><td>List(irene.mikkilineni@sqltutorial.org)</td></tr><tr><td>Programmer</td><td>List(alexander.hunold@sqltutorial.org, bruce.ernst@sqltutorial.org, david.austin@sqltutorial.org, valli.pataballa@sqltutorial.org, diana.lorentz@sqltutorial.org)</td></tr><tr><td>Sales Representative</td><td>List(jonathon.taylor@sqltutorial.org, jack.livingston@sqltutorial.org, kimberely.grant@sqltutorial.org, charles.johnson@sqltutorial.org)</td></tr><tr><td>Administration Vice President</td><td>List(neena.kochhar@sqltutorial.org, lex.de haan@sqltutorial.org)</td></tr><tr><td>Stock Manager</td><td>List(matthew.weiss@sqltutorial.org, adam.fripp@sqltutorial.org, payam.kaufling@sqltutorial.org, shanta.vollman@sqltutorial.org)</td></tr><tr><td>Accounting Manager</td><td>List(shelley.higgins@sqltutorial.org)</td></tr><tr><td>Purchasing Manager</td><td>List(den.raphaely@sqltutorial.org)</td></tr><tr><td>Marketing Representative</td><td>List(pat.fay@sqltutorial.org)</td></tr><tr><td>Sales Manager</td><td>List(john.russell@sqltutorial.org, karen.partners@sqltutorial.org)</td></tr><tr><td>Human Resources Representative</td><td>List(susan.mavris@sqltutorial.org)</td></tr><tr><td>Accountant</td><td>List(daniel.faviet@sqltutorial.org, john.chen@sqltutorial.org, ismael.sciarra@sqltutorial.org, jose manuel.urman@sqltutorial.org, luis.popp@sqltutorial.org)</td></tr><tr><td>Purchasing Clerk</td><td>List(alexander.khoo@sqltutorial.org, shelli.baida@sqltutorial.org, sigal.tobias@sqltutorial.org, guy.himuro@sqltutorial.org, karen.colmenares@sqltutorial.org)</td></tr><tr><td>Administration Assistant</td><td>List(jennifer.whalen@sqltutorial.org)</td></tr><tr><td>Public Relations Representative</td><td>List(hermann.baer@sqltutorial.org)</td></tr></tbody></table></div>"
      ]
     },
     "metadata": {
      "application/vnd.databricks.v1+output": {
       "addedWidgets": {},
       "aggData": [],
       "aggError": "",
       "aggOverflow": false,
       "aggSchema": [],
       "aggSeriesLimitReached": false,
       "aggType": "",
       "arguments": {},
       "columnCustomDisplayInfos": {},
       "data": [
        [
         "Finance Manager",
         [
          "nancy.greenberg@sqltutorial.org"
         ]
        ],
        [
         "President",
         [
          "steven.king@sqltutorial.org"
         ]
        ],
        [
         "Shipping Clerk",
         [
          "sarah.bell@sqltutorial.org",
          "britney.everett@sqltutorial.org"
         ]
        ],
        [
         "Marketing Manager",
         [
          "michael.hartstein@sqltutorial.org"
         ]
        ],
        [
         "Public Accountant",
         [
          "william.gietz@sqltutorial.org"
         ]
        ],
        [
         "Stock Clerk",
         [
          "irene.mikkilineni@sqltutorial.org"
         ]
        ],
        [
         "Programmer",
         [
          "alexander.hunold@sqltutorial.org",
          "bruce.ernst@sqltutorial.org",
          "david.austin@sqltutorial.org",
          "valli.pataballa@sqltutorial.org",
          "diana.lorentz@sqltutorial.org"
         ]
        ],
        [
         "Sales Representative",
         [
          "jonathon.taylor@sqltutorial.org",
          "jack.livingston@sqltutorial.org",
          "kimberely.grant@sqltutorial.org",
          "charles.johnson@sqltutorial.org"
         ]
        ],
        [
         "Administration Vice President",
         [
          "neena.kochhar@sqltutorial.org",
          "lex.de haan@sqltutorial.org"
         ]
        ],
        [
         "Stock Manager",
         [
          "matthew.weiss@sqltutorial.org",
          "adam.fripp@sqltutorial.org",
          "payam.kaufling@sqltutorial.org",
          "shanta.vollman@sqltutorial.org"
         ]
        ],
        [
         "Accounting Manager",
         [
          "shelley.higgins@sqltutorial.org"
         ]
        ],
        [
         "Purchasing Manager",
         [
          "den.raphaely@sqltutorial.org"
         ]
        ],
        [
         "Marketing Representative",
         [
          "pat.fay@sqltutorial.org"
         ]
        ],
        [
         "Sales Manager",
         [
          "john.russell@sqltutorial.org",
          "karen.partners@sqltutorial.org"
         ]
        ],
        [
         "Human Resources Representative",
         [
          "susan.mavris@sqltutorial.org"
         ]
        ],
        [
         "Accountant",
         [
          "daniel.faviet@sqltutorial.org",
          "john.chen@sqltutorial.org",
          "ismael.sciarra@sqltutorial.org",
          "jose manuel.urman@sqltutorial.org",
          "luis.popp@sqltutorial.org"
         ]
        ],
        [
         "Purchasing Clerk",
         [
          "alexander.khoo@sqltutorial.org",
          "shelli.baida@sqltutorial.org",
          "sigal.tobias@sqltutorial.org",
          "guy.himuro@sqltutorial.org",
          "karen.colmenares@sqltutorial.org"
         ]
        ],
        [
         "Administration Assistant",
         [
          "jennifer.whalen@sqltutorial.org"
         ]
        ],
        [
         "Public Relations Representative",
         [
          "hermann.baer@sqltutorial.org"
         ]
        ]
       ],
       "datasetInfos": [],
       "dbfsResultPath": null,
       "isJsonSchema": true,
       "metadata": {},
       "overflow": false,
       "plotOptions": {
        "customPlotOptions": {},
        "displayType": "table",
        "pivotAggregation": null,
        "pivotColumns": null,
        "xColumns": null,
        "yColumns": null
       },
       "removedWidgets": [],
       "schema": [
        {
         "metadata": "{}",
         "name": "jod_title",
         "type": "\"string\""
        },
        {
         "metadata": "{}",
         "name": "collect_list(email)",
         "type": "{\"type\":\"array\",\"elementType\":\"string\",\"containsNull\":false}"
        }
       ],
       "type": "table"
      }
     },
     "output_type": "display_data"
    }
   ],
   "source": [
    "from pyspark.sql import types as T, functions as F\n",
    "df_grouped = df_job_employees.groupBy('jod_title')\n",
    "\n",
    "df_grouped.agg(F.collect_list(F.col('email'))\n",
    "              ).display(truncate = False)"
   ]
  },
  {
   "cell_type": "code",
   "execution_count": 0,
   "metadata": {
    "application/vnd.databricks.v1+cell": {
     "cellMetadata": {
      "byteLimit": 2048000,
      "rowLimit": 10000
     },
     "inputWidgets": {},
     "nuid": "af3a18dd-1c94-48de-96e4-dddd8b616bc0",
     "showTitle": false,
     "title": ""
    }
   },
   "outputs": [],
   "source": []
  },
  {
   "cell_type": "code",
   "execution_count": 0,
   "metadata": {
    "application/vnd.databricks.v1+cell": {
     "cellMetadata": {
      "byteLimit": 2048000,
      "rowLimit": 10000
     },
     "inputWidgets": {},
     "nuid": "41738ddc-c78d-4210-8468-d28fa11df660",
     "showTitle": false,
     "title": ""
    }
   },
   "outputs": [],
   "source": []
  },
  {
   "cell_type": "code",
   "execution_count": 0,
   "metadata": {
    "application/vnd.databricks.v1+cell": {
     "cellMetadata": {
      "byteLimit": 2048000,
      "rowLimit": 10000
     },
     "inputWidgets": {},
     "nuid": "58c90ea6-ed66-4f74-b894-9b367c9ac2d5",
     "showTitle": false,
     "title": ""
    }
   },
   "outputs": [],
   "source": []
  },
  {
   "cell_type": "code",
   "execution_count": 0,
   "metadata": {
    "application/vnd.databricks.v1+cell": {
     "cellMetadata": {
      "byteLimit": 2048000,
      "rowLimit": 10000
     },
     "inputWidgets": {},
     "nuid": "ff1ea384-47f5-4d5e-892d-dc245641f528",
     "showTitle": false,
     "title": ""
    }
   },
   "outputs": [],
   "source": []
  },
  {
   "cell_type": "code",
   "execution_count": 0,
   "metadata": {
    "application/vnd.databricks.v1+cell": {
     "cellMetadata": {
      "byteLimit": 2048000,
      "rowLimit": 10000
     },
     "inputWidgets": {},
     "nuid": "73cd16b0-ccbb-447b-906e-0d600513a28e",
     "showTitle": false,
     "title": ""
    }
   },
   "outputs": [],
   "source": []
  },
  {
   "cell_type": "code",
   "execution_count": 0,
   "metadata": {
    "application/vnd.databricks.v1+cell": {
     "cellMetadata": {
      "byteLimit": 2048000,
      "rowLimit": 10000
     },
     "inputWidgets": {},
     "nuid": "99be22fe-7fb9-46cd-80e4-a5031205667e",
     "showTitle": false,
     "title": ""
    }
   },
   "outputs": [],
   "source": []
  }
 ],
 "metadata": {
  "application/vnd.databricks.v1+notebook": {
   "dashboards": [],
   "language": "python",
   "notebookMetadata": {
    "pythonIndentUnit": 4
   },
   "notebookName": "Agrupamento",
   "widgets": {}
  },
  "kernelspec": {
   "display_name": "Python 3 (ipykernel)",
   "language": "python",
   "name": "python3"
  },
  "language_info": {
   "codemirror_mode": {
    "name": "ipython",
    "version": 3
   },
   "file_extension": ".py",
   "mimetype": "text/x-python",
   "name": "python",
   "nbconvert_exporter": "python",
   "pygments_lexer": "ipython3",
   "version": "3.11.6"
  }
 },
 "nbformat": 4,
 "nbformat_minor": 0
}
